{
 "cells": [
  {
   "cell_type": "code",
   "execution_count": 1,
   "metadata": {},
   "outputs": [],
   "source": [
    "import os\n",
    "from glob import glob\n",
    "from datetime import datetime\n",
    "\n",
    "import numpy as np\n",
    "\n",
    "import tensorflow as tf\n",
    "from tensorflow.keras import layers\n",
    "\n",
    "from tensorflow.keras import datasets\n",
    "import matplotlib.pyplot as plt\n",
    "%matplotlib inline"
   ]
  },
  {
   "cell_type": "markdown",
   "metadata": {},
   "source": [
    "### hyperparameter tunning"
   ]
  },
  {
   "cell_type": "code",
   "execution_count": 2,
   "metadata": {},
   "outputs": [],
   "source": [
    "num_epochs = 20\n",
    "batch_size = 32\n",
    "\n",
    "learning_rate = 0.001\n",
    "\n",
    "dropout_rate = 0.5\n",
    "\n",
    "input_shape = (32,32,3)\n",
    "num_classes = 10"
   ]
  },
  {
   "cell_type": "code",
   "execution_count": 3,
   "metadata": {},
   "outputs": [],
   "source": [
    "inputs = layers.Input(input_shape)\n",
    "\n",
    "net = layers.Conv2D(32,(3,3), padding = 'SAME')(inputs)\n",
    "net = layers.Activation('relu')(net)\n",
    "net = layers.Conv2D(32,(3,3), padding = 'SAME')(net)\n",
    "net = layers.Activation('relu')(net)\n",
    "net = layers.MaxPooling2D(pool_size=(2,2))(net)\n",
    "net = layers.Dropout(dropout_rate)(net)\n",
    "\n",
    "net = layers.Conv2D(64,(3,3), padding = 'SAME')(net)\n",
    "net = layers.Activation('relu')(net)\n",
    "net = layers.Conv2D(64,(3,3), padding = 'SAME')(net)\n",
    "net = layers.Activation('relu')(net)\n",
    "net = layers.MaxPooling2D(pool_size=(2,2))(net)\n",
    "net = layers.Dropout(dropout_rate)(net)\n",
    "\n",
    "net = layers.Flatten()(net)\n",
    "net = layers.Dense(512)(net)\n",
    "net = layers.Activation('relu')(net)\n",
    "net = layers.Dropout(dropout_rate)(net)\n",
    "net = layers.Dense(num_classes)(net)\n",
    "net = layers.Activation('softmax')(net)\n",
    "\n",
    "model = tf.keras.Model(inputs= inputs, outputs=net, name = 'Basic_CNN')"
   ]
  },
  {
   "cell_type": "code",
   "execution_count": 4,
   "metadata": {},
   "outputs": [],
   "source": [
    "model.compile(optimizer = tf.keras.optimizers.Adam(learning_rate),\n",
    "            loss = 'sparse_categorical_crossentropy',\n",
    "            metrics = ['accuracy'])"
   ]
  },
  {
   "cell_type": "markdown",
   "metadata": {},
   "source": [
    "### data preprocess"
   ]
  },
  {
   "cell_type": "code",
   "execution_count": 5,
   "metadata": {},
   "outputs": [],
   "source": [
    "train_paths = glob('cifar/train/*.png')[:1000]\n",
    "test_paths = glob('cifar/test/*.png')[:1000]"
   ]
  },
  {
   "cell_type": "code",
   "execution_count": 6,
   "metadata": {},
   "outputs": [],
   "source": [
    "def get_class_name(path):\n",
    "    return path.split('_')[-1].replace('.png','')"
   ]
  },
  {
   "cell_type": "code",
   "execution_count": 7,
   "metadata": {},
   "outputs": [],
   "source": [
    "train_labels = [get_class_name(path) for path in train_paths]\n",
    "class_names = np.unique(train_labels)"
   ]
  },
  {
   "cell_type": "code",
   "execution_count": 8,
   "metadata": {},
   "outputs": [],
   "source": [
    "def get_label(path):\n",
    "    fname = tf.strings.split(path, '_')[-1]\n",
    "    lbl_name = tf.strings.regex_replace(fname, '.png','')\n",
    "    onehot = tf.cast(lbl_name == class_names, tf.uint8)\n",
    "    return tf.argmax(onehot) # label번호를 반환"
   ]
  },
  {
   "cell_type": "code",
   "execution_count": 9,
   "metadata": {},
   "outputs": [],
   "source": [
    "def load_image_label(path):\n",
    "    gfile = tf.io.read_file(path)\n",
    "    image = tf.io.decode_image(gfile)\n",
    "    image = tf.cast(image, tf.float32) / 255.\n",
    "    \n",
    "    label = get_label(path)\n",
    "    return image, label"
   ]
  },
  {
   "cell_type": "code",
   "execution_count": 10,
   "metadata": {},
   "outputs": [],
   "source": [
    "def image_preprocess(image, label):\n",
    "    image = tf.image.random_flip_up_down(image)\n",
    "    image = tf.image.random_flip_left_right(image)\n",
    "    return image, label"
   ]
  },
  {
   "cell_type": "code",
   "execution_count": 11,
   "metadata": {},
   "outputs": [],
   "source": [
    "AUTOTUNE = tf.data.experimental.AUTOTUNE"
   ]
  },
  {
   "cell_type": "code",
   "execution_count": 12,
   "metadata": {},
   "outputs": [],
   "source": [
    "train_dataset = tf.data.Dataset.from_tensor_slices(train_paths)\n",
    "train_dataset = train_dataset.map(load_image_label, num_parallel_calls = AUTOTUNE)\n",
    "train_dataset = train_dataset.map(image_preprocess, num_parallel_calls = AUTOTUNE)\n",
    "train_dataset = train_dataset.batch(batch_size)\n",
    "train_dataset = train_dataset.shuffle(buffer_size = len(train_paths))\n",
    "train_dataset = train_dataset.repeat()"
   ]
  },
  {
   "cell_type": "code",
   "execution_count": 13,
   "metadata": {},
   "outputs": [],
   "source": [
    "test_dataset = tf.data.Dataset.from_tensor_slices(test_paths)\n",
    "test_dataset = test_dataset.map(load_image_label, num_parallel_calls = AUTOTUNE)\n",
    "test_dataset = test_dataset.batch(batch_size)\n",
    "test_dataset = test_dataset.repeat()"
   ]
  },
  {
   "cell_type": "markdown",
   "metadata": {},
   "source": [
    "### check point"
   ]
  },
  {
   "cell_type": "code",
   "execution_count": 14,
   "metadata": {},
   "outputs": [],
   "source": [
    "save_path = 'checkpoints'"
   ]
  },
  {
   "cell_type": "code",
   "execution_count": 15,
   "metadata": {},
   "outputs": [],
   "source": [
    "check_point = tf.keras.callbacks.ModelCheckpoint(save_path, monitor='val_acc', verbose = 1)"
   ]
  },
  {
   "cell_type": "code",
   "execution_count": 16,
   "metadata": {
    "scrolled": false
   },
   "outputs": [
    {
     "name": "stdout",
     "output_type": "stream",
     "text": [
      "WARNING:tensorflow:From <ipython-input-16-afa2fc86f3b3>:10: Model.fit_generator (from tensorflow.python.keras.engine.training) is deprecated and will be removed in a future version.\n",
      "Instructions for updating:\n",
      "Please use Model.fit, which supports generators.\n",
      "Epoch 1/20\n",
      "31/31 [==============================] - ETA: 0s - loss: 2.3070 - accuracy: 0.1229\n",
      "Epoch 00001: saving model to checkpoints\n",
      "WARNING:tensorflow:From C:\\Users\\hapet\\anaconda3\\envs\\tensorflow\\lib\\site-packages\\tensorflow\\python\\training\\tracking\\tracking.py:111: Model.state_updates (from tensorflow.python.keras.engine.training) is deprecated and will be removed in a future version.\n",
      "Instructions for updating:\n",
      "This property should not be used in TensorFlow 2.0, as updates are applied automatically.\n",
      "WARNING:tensorflow:From C:\\Users\\hapet\\anaconda3\\envs\\tensorflow\\lib\\site-packages\\tensorflow\\python\\training\\tracking\\tracking.py:111: Layer.updates (from tensorflow.python.keras.engine.base_layer) is deprecated and will be removed in a future version.\n",
      "Instructions for updating:\n",
      "This property should not be used in TensorFlow 2.0, as updates are applied automatically.\n",
      "INFO:tensorflow:Assets written to: checkpoints\\assets\n",
      "31/31 [==============================] - 6s 182ms/step - loss: 2.3070 - accuracy: 0.1229 - val_loss: 2.2930 - val_accuracy: 0.1462\n",
      "Epoch 2/20\n",
      "31/31 [==============================] - ETA: 0s - loss: 2.2910 - accuracy: 0.1209\n",
      "Epoch 00002: saving model to checkpoints\n",
      "INFO:tensorflow:Assets written to: checkpoints\\assets\n",
      "31/31 [==============================] - 6s 184ms/step - loss: 2.2910 - accuracy: 0.1209 - val_loss: 2.2997 - val_accuracy: 0.0897\n",
      "Epoch 3/20\n",
      "31/31 [==============================] - ETA: 0s - loss: 2.2475 - accuracy: 0.1498\n",
      "Epoch 00003: saving model to checkpoints\n",
      "INFO:tensorflow:Assets written to: checkpoints\\assets\n",
      "31/31 [==============================] - 6s 186ms/step - loss: 2.2475 - accuracy: 0.1498 - val_loss: 2.1716 - val_accuracy: 0.2137\n",
      "Epoch 4/20\n",
      "31/31 [==============================] - ETA: 0s - loss: 2.1653 - accuracy: 0.2128\n",
      "Epoch 00004: saving model to checkpoints\n",
      "INFO:tensorflow:Assets written to: checkpoints\\assets\n",
      "31/31 [==============================] - 5s 176ms/step - loss: 2.1653 - accuracy: 0.2128 - val_loss: 2.1883 - val_accuracy: 0.1542\n",
      "Epoch 5/20\n",
      "31/31 [==============================] - ETA: 0s - loss: 2.1452 - accuracy: 0.2056\n",
      "Epoch 00005: saving model to checkpoints\n",
      "INFO:tensorflow:Assets written to: checkpoints\\assets\n",
      "31/31 [==============================] - 5s 170ms/step - loss: 2.1452 - accuracy: 0.2056 - val_loss: 2.1284 - val_accuracy: 0.2450\n",
      "Epoch 6/20\n",
      "31/31 [==============================] - ETA: 0s - loss: 2.1232 - accuracy: 0.2180\n",
      "Epoch 00006: saving model to checkpoints\n",
      "INFO:tensorflow:Assets written to: checkpoints\\assets\n",
      "31/31 [==============================] - 5s 167ms/step - loss: 2.1232 - accuracy: 0.2180 - val_loss: 2.1498 - val_accuracy: 0.1744\n",
      "Epoch 7/20\n",
      "31/31 [==============================] - ETA: 0s - loss: 2.1027 - accuracy: 0.2283\n",
      "Epoch 00007: saving model to checkpoints\n",
      "INFO:tensorflow:Assets written to: checkpoints\\assets\n",
      "31/31 [==============================] - 5s 176ms/step - loss: 2.1027 - accuracy: 0.2283 - val_loss: 2.0182 - val_accuracy: 0.2369\n",
      "Epoch 8/20\n",
      "31/31 [==============================] - ETA: 0s - loss: 2.0594 - accuracy: 0.2314\n",
      "Epoch 00008: saving model to checkpoints\n",
      "INFO:tensorflow:Assets written to: checkpoints\\assets\n",
      "31/31 [==============================] - 6s 184ms/step - loss: 2.0594 - accuracy: 0.2314 - val_loss: 2.0032 - val_accuracy: 0.2510\n",
      "Epoch 9/20\n",
      "31/31 [==============================] - ETA: 0s - loss: 1.9748 - accuracy: 0.2562\n",
      "Epoch 00009: saving model to checkpoints\n",
      "INFO:tensorflow:Assets written to: checkpoints\\assets\n",
      "31/31 [==============================] - 6s 183ms/step - loss: 1.9748 - accuracy: 0.2562 - val_loss: 1.9729 - val_accuracy: 0.2571\n",
      "Epoch 10/20\n",
      "31/31 [==============================] - ETA: 0s - loss: 1.9867 - accuracy: 0.2692\n",
      "Epoch 00010: saving model to checkpoints\n",
      "INFO:tensorflow:Assets written to: checkpoints\\assets\n",
      "31/31 [==============================] - 6s 182ms/step - loss: 1.9867 - accuracy: 0.2692 - val_loss: 1.9349 - val_accuracy: 0.2621\n",
      "Epoch 11/20\n",
      "31/31 [==============================] - ETA: 0s - loss: 1.9218 - accuracy: 0.2624\n",
      "Epoch 00011: saving model to checkpoints\n",
      "INFO:tensorflow:Assets written to: checkpoints\\assets\n",
      "31/31 [==============================] - 5s 173ms/step - loss: 1.9218 - accuracy: 0.2624 - val_loss: 1.9437 - val_accuracy: 0.2802\n",
      "Epoch 12/20\n",
      "31/31 [==============================] - ETA: 0s - loss: 1.9073 - accuracy: 0.2913\n",
      "Epoch 00012: saving model to checkpoints\n",
      "INFO:tensorflow:Assets written to: checkpoints\\assets\n",
      "31/31 [==============================] - 6s 184ms/step - loss: 1.9073 - accuracy: 0.2913 - val_loss: 1.9519 - val_accuracy: 0.2681\n",
      "Epoch 13/20\n",
      "31/31 [==============================] - ETA: 0s - loss: 1.8459 - accuracy: 0.3151\n",
      "Epoch 00013: saving model to checkpoints\n",
      "INFO:tensorflow:Assets written to: checkpoints\\assets\n",
      "31/31 [==============================] - 6s 187ms/step - loss: 1.8459 - accuracy: 0.3151 - val_loss: 1.8388 - val_accuracy: 0.2903\n",
      "Epoch 14/20\n",
      "31/31 [==============================] - ETA: 0s - loss: 1.8411 - accuracy: 0.3068\n",
      "Epoch 00014: saving model to checkpoints\n",
      "INFO:tensorflow:Assets written to: checkpoints\\assets\n",
      "31/31 [==============================] - 6s 186ms/step - loss: 1.8411 - accuracy: 0.3068 - val_loss: 1.9045 - val_accuracy: 0.2944\n",
      "Epoch 15/20\n",
      "31/31 [==============================] - ETA: 0s - loss: 1.7930 - accuracy: 0.3286\n",
      "Epoch 00015: saving model to checkpoints\n",
      "INFO:tensorflow:Assets written to: checkpoints\\assets\n",
      "31/31 [==============================] - 5s 176ms/step - loss: 1.7930 - accuracy: 0.3286 - val_loss: 1.8122 - val_accuracy: 0.3498\n",
      "Epoch 16/20\n",
      "31/31 [==============================] - ETA: 0s - loss: 1.7875 - accuracy: 0.3244\n",
      "Epoch 00016: saving model to checkpoints\n",
      "INFO:tensorflow:Assets written to: checkpoints\\assets\n",
      "31/31 [==============================] - 6s 180ms/step - loss: 1.7875 - accuracy: 0.3244 - val_loss: 1.8399 - val_accuracy: 0.2974\n",
      "Epoch 17/20\n",
      "31/31 [==============================] - ETA: 0s - loss: 1.7676 - accuracy: 0.3543\n",
      "Epoch 00017: saving model to checkpoints\n",
      "INFO:tensorflow:Assets written to: checkpoints\\assets\n",
      "31/31 [==============================] - 6s 182ms/step - loss: 1.7676 - accuracy: 0.3543 - val_loss: 1.8250 - val_accuracy: 0.3417\n",
      "Epoch 18/20\n",
      "31/31 [==============================] - ETA: 0s - loss: 1.7322 - accuracy: 0.3485\n",
      "Epoch 00018: saving model to checkpoints\n",
      "INFO:tensorflow:Assets written to: checkpoints\\assets\n",
      "31/31 [==============================] - 6s 181ms/step - loss: 1.7322 - accuracy: 0.3485 - val_loss: 1.7717 - val_accuracy: 0.3196\n",
      "Epoch 19/20\n",
      "31/31 [==============================] - ETA: 0s - loss: 1.7237 - accuracy: 0.3498\n",
      "Epoch 00019: saving model to checkpoints\n",
      "INFO:tensorflow:Assets written to: checkpoints\\assets\n",
      "31/31 [==============================] - 6s 190ms/step - loss: 1.7237 - accuracy: 0.3498 - val_loss: 1.7857 - val_accuracy: 0.3438\n",
      "Epoch 20/20\n",
      "31/31 [==============================] - ETA: 0s - loss: 1.6590 - accuracy: 0.3853\n",
      "Epoch 00020: saving model to checkpoints\n",
      "INFO:tensorflow:Assets written to: checkpoints\\assets\n",
      "31/31 [==============================] - 6s 185ms/step - loss: 1.6590 - accuracy: 0.3853 - val_loss: 1.6995 - val_accuracy: 0.3649\n"
     ]
    },
    {
     "data": {
      "text/plain": [
       "<tensorflow.python.keras.callbacks.History at 0x1e9820ce388>"
      ]
     },
     "execution_count": 16,
     "metadata": {},
     "output_type": "execute_result"
    }
   ],
   "source": [
    "steps_per_epoch = len(train_paths) //batch_size\n",
    "validation_steps = len(test_paths) // batch_size\n",
    "\n",
    "model.fit_generator(\n",
    "    train_dataset,\n",
    "    steps_per_epoch = steps_per_epoch,\n",
    "    validation_data = test_dataset,\n",
    "    validation_steps = validation_steps,\n",
    "    epochs = num_epochs,\n",
    "callbacks = [check_point])"
   ]
  },
  {
   "cell_type": "code",
   "execution_count": null,
   "metadata": {},
   "outputs": [],
   "source": []
  }
 ],
 "metadata": {
  "kernelspec": {
   "display_name": "Python 3",
   "language": "python",
   "name": "python3"
  },
  "language_info": {
   "codemirror_mode": {
    "name": "ipython",
    "version": 3
   },
   "file_extension": ".py",
   "mimetype": "text/x-python",
   "name": "python",
   "nbconvert_exporter": "python",
   "pygments_lexer": "ipython3",
   "version": "3.7.7"
  }
 },
 "nbformat": 4,
 "nbformat_minor": 4
}
