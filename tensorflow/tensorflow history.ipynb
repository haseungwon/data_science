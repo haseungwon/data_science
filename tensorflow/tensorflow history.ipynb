{
 "cells": [
  {
   "cell_type": "code",
   "execution_count": 1,
   "metadata": {},
   "outputs": [],
   "source": [
    "import os\n",
    "from glob import glob\n",
    "from datetime import datetime\n",
    "\n",
    "import numpy as np\n",
    "\n",
    "import tensorflow as tf\n",
    "from tensorflow.keras import layers\n",
    "\n",
    "from tensorflow.keras import datasets\n",
    "import matplotlib.pyplot as plt\n",
    "%matplotlib inline"
   ]
  },
  {
   "cell_type": "markdown",
   "metadata": {},
   "source": [
    "### hyperparameter tunning"
   ]
  },
  {
   "cell_type": "code",
   "execution_count": 2,
   "metadata": {},
   "outputs": [],
   "source": [
    "num_epochs = 50\n",
    "batch_size = 32\n",
    "\n",
    "learning_rate = 0.001\n",
    "\n",
    "dropout_rate = 0.5\n",
    "\n",
    "input_shape = (32,32,3)\n",
    "num_classes = 10"
   ]
  },
  {
   "cell_type": "code",
   "execution_count": 3,
   "metadata": {},
   "outputs": [],
   "source": [
    "inputs = layers.Input(input_shape)\n",
    "\n",
    "net = layers.Conv2D(32,(3,3), padding = 'SAME')(inputs)\n",
    "net = layers.Activation('relu')(net)\n",
    "net = layers.Conv2D(32,(3,3), padding = 'SAME')(net)\n",
    "net = layers.Activation('relu')(net)\n",
    "net = layers.MaxPooling2D(pool_size=(2,2))(net)\n",
    "net = layers.Dropout(dropout_rate)(net)\n",
    "\n",
    "net = layers.Conv2D(64,(3,3), padding = 'SAME')(net)\n",
    "net = layers.Activation('relu')(net)\n",
    "net = layers.Conv2D(64,(3,3), padding = 'SAME')(net)\n",
    "net = layers.Activation('relu')(net)\n",
    "net = layers.MaxPooling2D(pool_size=(2,2))(net)\n",
    "net = layers.Dropout(dropout_rate)(net)\n",
    "\n",
    "net = layers.Flatten()(net)\n",
    "net = layers.Dense(512)(net)\n",
    "net = layers.Activation('relu')(net)\n",
    "net = layers.Dropout(dropout_rate)(net)\n",
    "net = layers.Dense(num_classes)(net)\n",
    "net = layers.Activation('softmax')(net)\n",
    "\n",
    "model = tf.keras.Model(inputs= inputs, outputs=net, name = 'Basic_CNN')"
   ]
  },
  {
   "cell_type": "code",
   "execution_count": 4,
   "metadata": {},
   "outputs": [],
   "source": [
    "model.compile(optimizer = tf.keras.optimizers.Adam(learning_rate),\n",
    "            loss = 'sparse_categorical_crossentropy',\n",
    "            metrics = ['accuracy'])"
   ]
  },
  {
   "cell_type": "markdown",
   "metadata": {},
   "source": [
    "### data preprocess"
   ]
  },
  {
   "cell_type": "code",
   "execution_count": 5,
   "metadata": {},
   "outputs": [],
   "source": [
    "train_paths = glob('cifar/train/*.png')[:1000]\n",
    "test_paths = glob('cifar/test/*.png')[:1000]"
   ]
  },
  {
   "cell_type": "code",
   "execution_count": 6,
   "metadata": {},
   "outputs": [],
   "source": [
    "def get_class_name(path):\n",
    "    return path.split('_')[-1].replace('.png','')"
   ]
  },
  {
   "cell_type": "code",
   "execution_count": 7,
   "metadata": {},
   "outputs": [],
   "source": [
    "train_labels = [get_class_name(path) for path in train_paths]\n",
    "class_names = np.unique(train_labels)"
   ]
  },
  {
   "cell_type": "code",
   "execution_count": 8,
   "metadata": {},
   "outputs": [],
   "source": [
    "def get_label(path):\n",
    "    fname = tf.strings.split(path, '_')[-1]\n",
    "    lbl_name = tf.strings.regex_replace(fname, '.png','')\n",
    "    onehot = tf.cast(lbl_name == class_names, tf.uint8)\n",
    "    return tf.argmax(onehot) # label번호를 반환"
   ]
  },
  {
   "cell_type": "code",
   "execution_count": 9,
   "metadata": {},
   "outputs": [],
   "source": [
    "def load_image_label(path):\n",
    "    gfile = tf.io.read_file(path)\n",
    "    image = tf.io.decode_image(gfile)\n",
    "    image = tf.cast(image, tf.float32) / 255.\n",
    "    \n",
    "    label = get_label(path)\n",
    "    return image, label"
   ]
  },
  {
   "cell_type": "code",
   "execution_count": 10,
   "metadata": {},
   "outputs": [],
   "source": [
    "def image_preprocess(image, label):\n",
    "    image = tf.image.random_flip_up_down(image)\n",
    "    image = tf.image.random_flip_left_right(image)\n",
    "    return image, label"
   ]
  },
  {
   "cell_type": "code",
   "execution_count": 11,
   "metadata": {},
   "outputs": [],
   "source": [
    "AUTOTUNE = tf.data.experimental.AUTOTUNE"
   ]
  },
  {
   "cell_type": "code",
   "execution_count": 12,
   "metadata": {},
   "outputs": [],
   "source": [
    "train_dataset = tf.data.Dataset.from_tensor_slices(train_paths)\n",
    "train_dataset = train_dataset.map(load_image_label, num_parallel_calls = AUTOTUNE)\n",
    "train_dataset = train_dataset.map(image_preprocess, num_parallel_calls = AUTOTUNE)\n",
    "train_dataset = train_dataset.batch(batch_size)\n",
    "train_dataset = train_dataset.shuffle(buffer_size = len(train_paths))\n",
    "train_dataset = train_dataset.repeat()"
   ]
  },
  {
   "cell_type": "code",
   "execution_count": 13,
   "metadata": {},
   "outputs": [],
   "source": [
    "test_dataset = tf.data.Dataset.from_tensor_slices(test_paths)\n",
    "test_dataset = test_dataset.map(load_image_label, num_parallel_calls = AUTOTUNE)\n",
    "test_dataset = test_dataset.batch(batch_size)\n",
    "test_dataset = test_dataset.repeat()"
   ]
  },
  {
   "cell_type": "markdown",
   "metadata": {},
   "source": [
    "### history 들여다보기"
   ]
  },
  {
   "cell_type": "code",
   "execution_count": 14,
   "metadata": {
    "scrolled": true
   },
   "outputs": [
    {
     "name": "stdout",
     "output_type": "stream",
     "text": [
      "WARNING:tensorflow:From <ipython-input-14-399e137e5680>:9: Model.fit_generator (from tensorflow.python.keras.engine.training) is deprecated and will be removed in a future version.\n",
      "Instructions for updating:\n",
      "Please use Model.fit, which supports generators.\n",
      "Epoch 1/50\n",
      "31/31 [==============================] - 4s 125ms/step - loss: 2.3135 - accuracy: 0.1074 - val_loss: 2.3008 - val_accuracy: 0.0897\n",
      "Epoch 2/50\n",
      "31/31 [==============================] - 4s 117ms/step - loss: 2.2846 - accuracy: 0.1364 - val_loss: 2.2040 - val_accuracy: 0.1673\n",
      "Epoch 3/50\n",
      "31/31 [==============================] - 4s 123ms/step - loss: 2.1927 - accuracy: 0.1798 - val_loss: 2.1826 - val_accuracy: 0.1976\n",
      "Epoch 4/50\n",
      "31/31 [==============================] - 4s 120ms/step - loss: 2.1503 - accuracy: 0.1932 - val_loss: 2.0861 - val_accuracy: 0.2167\n",
      "Epoch 5/50\n",
      "31/31 [==============================] - 4s 124ms/step - loss: 2.0946 - accuracy: 0.2045 - val_loss: 2.0928 - val_accuracy: 0.2157\n",
      "Epoch 6/50\n",
      "31/31 [==============================] - 4s 116ms/step - loss: 2.0710 - accuracy: 0.2180 - val_loss: 1.9320 - val_accuracy: 0.2732\n",
      "Epoch 7/50\n",
      "31/31 [==============================] - 4s 117ms/step - loss: 1.9798 - accuracy: 0.2541 - val_loss: 1.9664 - val_accuracy: 0.2681\n",
      "Epoch 8/50\n",
      "31/31 [==============================] - 4s 116ms/step - loss: 1.9361 - accuracy: 0.2634 - val_loss: 1.8908 - val_accuracy: 0.3206\n",
      "Epoch 9/50\n",
      "31/31 [==============================] - 4s 120ms/step - loss: 1.9078 - accuracy: 0.3027 - val_loss: 1.9892 - val_accuracy: 0.2702\n",
      "Epoch 10/50\n",
      "31/31 [==============================] - 3s 108ms/step - loss: 1.9093 - accuracy: 0.2965 - val_loss: 1.9293 - val_accuracy: 0.3135\n",
      "Epoch 11/50\n",
      "31/31 [==============================] - 3s 106ms/step - loss: 1.8390 - accuracy: 0.3155 - val_loss: 1.9097 - val_accuracy: 0.2913\n",
      "Epoch 12/50\n",
      "31/31 [==============================] - 3s 103ms/step - loss: 1.8135 - accuracy: 0.3326 - val_loss: 1.8042 - val_accuracy: 0.3165\n",
      "Epoch 13/50\n",
      "31/31 [==============================] - 3s 105ms/step - loss: 1.7740 - accuracy: 0.3213 - val_loss: 1.7472 - val_accuracy: 0.3528\n",
      "Epoch 14/50\n",
      "31/31 [==============================] - 3s 109ms/step - loss: 1.7593 - accuracy: 0.3440 - val_loss: 1.7522 - val_accuracy: 0.3609\n",
      "Epoch 15/50\n",
      "31/31 [==============================] - 3s 111ms/step - loss: 1.8006 - accuracy: 0.3518 - val_loss: 1.7126 - val_accuracy: 0.3740\n",
      "Epoch 16/50\n",
      "31/31 [==============================] - 3s 109ms/step - loss: 1.6973 - accuracy: 0.3719 - val_loss: 1.6916 - val_accuracy: 0.3659\n",
      "Epoch 17/50\n",
      "31/31 [==============================] - 3s 109ms/step - loss: 1.7336 - accuracy: 0.3718 - val_loss: 1.7351 - val_accuracy: 0.3478\n",
      "Epoch 18/50\n",
      "31/31 [==============================] - 3s 108ms/step - loss: 1.6856 - accuracy: 0.3915 - val_loss: 1.8056 - val_accuracy: 0.3427\n",
      "Epoch 19/50\n",
      "31/31 [==============================] - 3s 107ms/step - loss: 1.6822 - accuracy: 0.3884 - val_loss: 1.6931 - val_accuracy: 0.3780\n",
      "Epoch 20/50\n",
      "31/31 [==============================] - 4s 113ms/step - loss: 1.6041 - accuracy: 0.4294 - val_loss: 1.6494 - val_accuracy: 0.4083\n",
      "Epoch 21/50\n",
      "31/31 [==============================] - 3s 108ms/step - loss: 1.6080 - accuracy: 0.3946 - val_loss: 1.6066 - val_accuracy: 0.4325\n",
      "Epoch 22/50\n",
      "31/31 [==============================] - 3s 108ms/step - loss: 1.5816 - accuracy: 0.4258 - val_loss: 1.7295 - val_accuracy: 0.3790\n",
      "Epoch 23/50\n",
      "31/31 [==============================] - 3s 109ms/step - loss: 1.5642 - accuracy: 0.4355 - val_loss: 1.5846 - val_accuracy: 0.4345\n",
      "Epoch 24/50\n",
      "31/31 [==============================] - 3s 108ms/step - loss: 1.5119 - accuracy: 0.4349 - val_loss: 1.6842 - val_accuracy: 0.3911\n",
      "Epoch 25/50\n",
      "31/31 [==============================] - 3s 110ms/step - loss: 1.4871 - accuracy: 0.4649 - val_loss: 1.5924 - val_accuracy: 0.4214\n",
      "Epoch 26/50\n",
      "31/31 [==============================] - 3s 109ms/step - loss: 1.4673 - accuracy: 0.4711 - val_loss: 1.6363 - val_accuracy: 0.4042\n",
      "Epoch 27/50\n",
      "31/31 [==============================] - 3s 110ms/step - loss: 1.4479 - accuracy: 0.4721 - val_loss: 1.6217 - val_accuracy: 0.4173\n",
      "Epoch 28/50\n",
      "31/31 [==============================] - 3s 110ms/step - loss: 1.4189 - accuracy: 0.4814 - val_loss: 1.6256 - val_accuracy: 0.4224\n",
      "Epoch 29/50\n",
      "31/31 [==============================] - 3s 110ms/step - loss: 1.3777 - accuracy: 0.4835 - val_loss: 1.5736 - val_accuracy: 0.4516\n",
      "Epoch 30/50\n",
      "31/31 [==============================] - 3s 105ms/step - loss: 1.4026 - accuracy: 0.5041 - val_loss: 1.5992 - val_accuracy: 0.4244\n",
      "Epoch 31/50\n",
      "31/31 [==============================] - 3s 104ms/step - loss: 1.3976 - accuracy: 0.4948 - val_loss: 1.5612 - val_accuracy: 0.4466\n",
      "Epoch 32/50\n",
      "31/31 [==============================] - 3s 103ms/step - loss: 1.3580 - accuracy: 0.4990 - val_loss: 1.5464 - val_accuracy: 0.4335\n",
      "Epoch 33/50\n",
      "31/31 [==============================] - 3s 104ms/step - loss: 1.2980 - accuracy: 0.5279 - val_loss: 1.5700 - val_accuracy: 0.4405\n",
      "Epoch 34/50\n",
      "31/31 [==============================] - 3s 105ms/step - loss: 1.3215 - accuracy: 0.5258 - val_loss: 1.5867 - val_accuracy: 0.4385\n",
      "Epoch 35/50\n",
      "31/31 [==============================] - 3s 104ms/step - loss: 1.2492 - accuracy: 0.5444 - val_loss: 1.5870 - val_accuracy: 0.4395\n",
      "Epoch 36/50\n",
      "31/31 [==============================] - 3s 103ms/step - loss: 1.2269 - accuracy: 0.5527 - val_loss: 1.6375 - val_accuracy: 0.4456\n",
      "Epoch 37/50\n",
      "31/31 [==============================] - 3s 105ms/step - loss: 1.2252 - accuracy: 0.5484 - val_loss: 1.5516 - val_accuracy: 0.4738\n",
      "Epoch 38/50\n",
      "31/31 [==============================] - 3s 102ms/step - loss: 1.2322 - accuracy: 0.5699 - val_loss: 1.5634 - val_accuracy: 0.4627\n",
      "Epoch 39/50\n",
      "31/31 [==============================] - 3s 105ms/step - loss: 1.2005 - accuracy: 0.5744 - val_loss: 1.5416 - val_accuracy: 0.4516\n",
      "Epoch 40/50\n",
      "31/31 [==============================] - 3s 104ms/step - loss: 1.1617 - accuracy: 0.5847 - val_loss: 1.5841 - val_accuracy: 0.4476\n",
      "Epoch 41/50\n",
      "31/31 [==============================] - 3s 103ms/step - loss: 1.1826 - accuracy: 0.5837 - val_loss: 1.6427 - val_accuracy: 0.4355\n",
      "Epoch 42/50\n",
      "31/31 [==============================] - 3s 104ms/step - loss: 1.1906 - accuracy: 0.5733 - val_loss: 1.6276 - val_accuracy: 0.4456\n",
      "Epoch 43/50\n",
      "31/31 [==============================] - 3s 106ms/step - loss: 1.1212 - accuracy: 0.5948 - val_loss: 1.6251 - val_accuracy: 0.4627\n",
      "Epoch 44/50\n",
      "31/31 [==============================] - 3s 102ms/step - loss: 1.1494 - accuracy: 0.5837 - val_loss: 1.6321 - val_accuracy: 0.4516\n",
      "Epoch 45/50\n",
      "31/31 [==============================] - 3s 104ms/step - loss: 1.0524 - accuracy: 0.6136 - val_loss: 1.6793 - val_accuracy: 0.4597\n",
      "Epoch 46/50\n",
      "31/31 [==============================] - 3s 104ms/step - loss: 1.0919 - accuracy: 0.5961 - val_loss: 1.6537 - val_accuracy: 0.4698\n",
      "Epoch 47/50\n",
      "31/31 [==============================] - 3s 105ms/step - loss: 1.0837 - accuracy: 0.6149 - val_loss: 1.5858 - val_accuracy: 0.4728\n",
      "Epoch 48/50\n",
      "31/31 [==============================] - 3s 102ms/step - loss: 1.0263 - accuracy: 0.6292 - val_loss: 1.5781 - val_accuracy: 0.4839\n",
      "Epoch 49/50\n",
      "31/31 [==============================] - 3s 109ms/step - loss: 1.0346 - accuracy: 0.6290 - val_loss: 1.6500 - val_accuracy: 0.4365\n",
      "Epoch 50/50\n",
      "31/31 [==============================] - 3s 110ms/step - loss: 1.0017 - accuracy: 0.6446 - val_loss: 1.6327 - val_accuracy: 0.4728\n"
     ]
    }
   ],
   "source": [
    "steps_per_epoch = len(train_paths) //batch_size\n",
    "validation_steps = len(test_paths) // batch_size\n",
    "\n",
    "history = model.fit_generator(\n",
    "    train_dataset,\n",
    "    steps_per_epoch = steps_per_epoch,\n",
    "    validation_data = test_dataset,\n",
    "    validation_steps = validation_steps,\n",
    "    epochs = num_epochs,)"
   ]
  },
  {
   "cell_type": "code",
   "execution_count": 16,
   "metadata": {},
   "outputs": [
    {
     "data": {
      "text/plain": [
       "dict_keys(['loss', 'accuracy', 'val_loss', 'val_accuracy'])"
      ]
     },
     "execution_count": 16,
     "metadata": {},
     "output_type": "execute_result"
    }
   ],
   "source": [
    "history.history.keys()"
   ]
  },
  {
   "cell_type": "code",
   "execution_count": 17,
   "metadata": {},
   "outputs": [
    {
     "data": {
      "text/plain": [
       "{'verbose': 1, 'epochs': 50, 'steps': 31}"
      ]
     },
     "execution_count": 17,
     "metadata": {},
     "output_type": "execute_result"
    }
   ],
   "source": [
    "history.params"
   ]
  },
  {
   "cell_type": "code",
   "execution_count": 18,
   "metadata": {},
   "outputs": [],
   "source": [
    "new_model = history.model"
   ]
  },
  {
   "cell_type": "code",
   "execution_count": 22,
   "metadata": {
    "scrolled": true
   },
   "outputs": [
    {
     "data": {
      "image/png": "[encoded data removed]",
      "text/plain": [
       "<Figure size 432x288 with 1 Axes>"
      ]
     },
     "metadata": {
      "needs_background": "light"
     },
     "output_type": "display_data"
    }
   ],
   "source": [
    "plt.plot(history.history['accuracy'])\n",
    "plt.plot(history.history['val_accuracy'])\n",
    "plt.title('Model accuracy')\n",
    "plt.xlabel('epoch')\n",
    "plt.ylabel('accuracy')\n",
    "plt.legend(['train', 'validation'])\n",
    "plt.show()"
   ]
  },
  {
   "cell_type": "code",
   "execution_count": 23,
   "metadata": {},
   "outputs": [
    {
     "data": {
      "image/png": "[encoded data removed]",
      "text/plain": [
       "<Figure size 432x288 with 1 Axes>"
      ]
     },
     "metadata": {
      "needs_background": "light"
     },
     "output_type": "display_data"
    }
   ],
   "source": [
    "plt.plot(history.history['loss'])\n",
    "plt.plot(history.history['val_loss'])\n",
    "plt.title('Model loss')\n",
    "plt.xlabel('epoch')\n",
    "plt.ylabel('loss')\n",
    "plt.legend(['train', 'validation'])\n",
    "plt.show()"
   ]
  },
  {
   "cell_type": "code",
   "execution_count": null,
   "metadata": {},
   "outputs": [],
   "source": []
  }
 ],
 "metadata": {
  "kernelspec": {
   "display_name": "Python 3",
   "language": "python",
   "name": "python3"
  },
  "language_info": {
   "codemirror_mode": {
    "name": "ipython",
    "version": 3
   },
   "file_extension": ".py",
   "mimetype": "text/x-python",
   "name": "python",
   "nbconvert_exporter": "python",
   "pygments_lexer": "ipython3",
   "version": "3.7.7"
  }
 },
 "nbformat": 4,
 "nbformat_minor": 4
}
