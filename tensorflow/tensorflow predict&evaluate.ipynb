{
 "cells": [
  {
   "cell_type": "code",
   "execution_count": 1,
   "metadata": {},
   "outputs": [],
   "source": [
    "import os\n",
    "from glob import glob\n",
    "from datetime import datetime\n",
    "\n",
    "import numpy as np\n",
    "\n",
    "import tensorflow as tf\n",
    "from tensorflow.keras import layers\n",
    "\n",
    "from tensorflow.keras import datasets\n",
    "import matplotlib.pyplot as plt\n",
    "%matplotlib inline"
   ]
  },
  {
   "cell_type": "markdown",
   "metadata": {},
   "source": [
    "### hyperparameter tunning"
   ]
  },
  {
   "cell_type": "code",
   "execution_count": 2,
   "metadata": {},
   "outputs": [],
   "source": [
    "num_epochs = 50\n",
    "batch_size = 32\n",
    "\n",
    "learning_rate = 0.001\n",
    "\n",
    "dropout_rate = 0.5\n",
    "\n",
    "input_shape = (32,32,3)\n",
    "num_classes = 10"
   ]
  },
  {
   "cell_type": "code",
   "execution_count": 3,
   "metadata": {},
   "outputs": [],
   "source": [
    "inputs = layers.Input(input_shape)\n",
    "\n",
    "net = layers.Conv2D(32,(3,3), padding = 'SAME')(inputs)\n",
    "net = layers.Activation('relu')(net)\n",
    "net = layers.Conv2D(32,(3,3), padding = 'SAME')(net)\n",
    "net = layers.Activation('relu')(net)\n",
    "net = layers.MaxPooling2D(pool_size=(2,2))(net)\n",
    "net = layers.Dropout(dropout_rate)(net)\n",
    "\n",
    "net = layers.Conv2D(64,(3,3), padding = 'SAME')(net)\n",
    "net = layers.Activation('relu')(net)\n",
    "net = layers.Conv2D(64,(3,3), padding = 'SAME')(net)\n",
    "net = layers.Activation('relu')(net)\n",
    "net = layers.MaxPooling2D(pool_size=(2,2))(net)\n",
    "net = layers.Dropout(dropout_rate)(net)\n",
    "\n",
    "net = layers.Flatten()(net)\n",
    "net = layers.Dense(512)(net)\n",
    "net = layers.Activation('relu')(net)\n",
    "net = layers.Dropout(dropout_rate)(net)\n",
    "net = layers.Dense(num_classes)(net)\n",
    "net = layers.Activation('softmax')(net)\n",
    "\n",
    "model = tf.keras.Model(inputs= inputs, outputs=net, name = 'Basic_CNN')"
   ]
  },
  {
   "cell_type": "code",
   "execution_count": 4,
   "metadata": {},
   "outputs": [],
   "source": [
    "model.compile(optimizer = tf.keras.optimizers.Adam(learning_rate),\n",
    "            loss = 'sparse_categorical_crossentropy',\n",
    "            metrics = ['accuracy'])"
   ]
  },
  {
   "cell_type": "markdown",
   "metadata": {},
   "source": [
    "### data preprocess"
   ]
  },
  {
   "cell_type": "code",
   "execution_count": 5,
   "metadata": {},
   "outputs": [],
   "source": [
    "train_paths = glob('cifar/train/*.png')[:1000]\n",
    "test_paths = glob('cifar/test/*.png')[:1000]"
   ]
  },
  {
   "cell_type": "code",
   "execution_count": 6,
   "metadata": {},
   "outputs": [],
   "source": [
    "def get_class_name(path):\n",
    "    return path.split('_')[-1].replace('.png','')"
   ]
  },
  {
   "cell_type": "code",
   "execution_count": 7,
   "metadata": {},
   "outputs": [],
   "source": [
    "train_labels = [get_class_name(path) for path in train_paths]\n",
    "class_names = np.unique(train_labels)"
   ]
  },
  {
   "cell_type": "code",
   "execution_count": 8,
   "metadata": {},
   "outputs": [],
   "source": [
    "def get_label(path):\n",
    "    fname = tf.strings.split(path, '_')[-1]\n",
    "    lbl_name = tf.strings.regex_replace(fname, '.png','')\n",
    "    onehot = tf.cast(lbl_name == class_names, tf.uint8)\n",
    "    return tf.argmax(onehot) # label번호를 반환"
   ]
  },
  {
   "cell_type": "code",
   "execution_count": 9,
   "metadata": {},
   "outputs": [],
   "source": [
    "def load_image_label(path):\n",
    "    gfile = tf.io.read_file(path)\n",
    "    image = tf.io.decode_image(gfile)\n",
    "    image = tf.cast(image, tf.float32) / 255.\n",
    "    \n",
    "    label = get_label(path)\n",
    "    return image, label"
   ]
  },
  {
   "cell_type": "code",
   "execution_count": 10,
   "metadata": {},
   "outputs": [],
   "source": [
    "def image_preprocess(image, label):\n",
    "    image = tf.image.random_flip_up_down(image)\n",
    "    image = tf.image.random_flip_left_right(image)\n",
    "    return image, label"
   ]
  },
  {
   "cell_type": "code",
   "execution_count": 11,
   "metadata": {},
   "outputs": [],
   "source": [
    "AUTOTUNE = tf.data.experimental.AUTOTUNE"
   ]
  },
  {
   "cell_type": "code",
   "execution_count": 12,
   "metadata": {},
   "outputs": [],
   "source": [
    "train_dataset = tf.data.Dataset.from_tensor_slices(train_paths)\n",
    "train_dataset = train_dataset.map(load_image_label, num_parallel_calls = AUTOTUNE)\n",
    "train_dataset = train_dataset.map(image_preprocess, num_parallel_calls = AUTOTUNE)\n",
    "train_dataset = train_dataset.batch(batch_size)\n",
    "train_dataset = train_dataset.shuffle(buffer_size = len(train_paths))\n",
    "train_dataset = train_dataset.repeat()"
   ]
  },
  {
   "cell_type": "code",
   "execution_count": 13,
   "metadata": {},
   "outputs": [],
   "source": [
    "test_dataset = tf.data.Dataset.from_tensor_slices(test_paths)\n",
    "test_dataset = test_dataset.map(load_image_label, num_parallel_calls = AUTOTUNE)\n",
    "test_dataset = test_dataset.batch(batch_size)\n",
    "test_dataset = test_dataset.repeat()"
   ]
  },
  {
   "cell_type": "markdown",
   "metadata": {},
   "source": [
    "### history 들여다보기"
   ]
  },
  {
   "cell_type": "code",
   "execution_count": 14,
   "metadata": {
    "scrolled": true
   },
   "outputs": [
    {
     "name": "stdout",
     "output_type": "stream",
     "text": [
      "WARNING:tensorflow:From <ipython-input-14-1139268ebccc>:9: Model.fit_generator (from tensorflow.python.keras.engine.training) is deprecated and will be removed in a future version.\n",
      "Instructions for updating:\n",
      "Please use Model.fit, which supports generators.\n",
      "Epoch 1/50\n",
      "31/31 [==============================] - 4s 124ms/step - loss: 2.2981 - accuracy: 0.1074 - val_loss: 2.2477 - val_accuracy: 0.1149\n",
      "Epoch 2/50\n",
      "31/31 [==============================] - 4s 120ms/step - loss: 2.2410 - accuracy: 0.1601 - val_loss: 2.2296 - val_accuracy: 0.2379\n",
      "Epoch 3/50\n",
      "31/31 [==============================] - 4s 120ms/step - loss: 2.1788 - accuracy: 0.2025 - val_loss: 2.1251 - val_accuracy: 0.2208\n",
      "Epoch 4/50\n",
      "31/31 [==============================] - 4s 119ms/step - loss: 2.1531 - accuracy: 0.1994 - val_loss: 2.0899 - val_accuracy: 0.2359\n",
      "Epoch 5/50\n",
      "31/31 [==============================] - 4s 116ms/step - loss: 2.0611 - accuracy: 0.2417 - val_loss: 2.0227 - val_accuracy: 0.2621\n",
      "Epoch 6/50\n",
      "31/31 [==============================] - 4s 120ms/step - loss: 2.0211 - accuracy: 0.2440 - val_loss: 2.0714 - val_accuracy: 0.2581\n",
      "Epoch 7/50\n",
      "31/31 [==============================] - 4s 122ms/step - loss: 2.0004 - accuracy: 0.2624 - val_loss: 1.9482 - val_accuracy: 0.3014\n",
      "Epoch 8/50\n",
      "31/31 [==============================] - 4s 115ms/step - loss: 1.9390 - accuracy: 0.2617 - val_loss: 1.9193 - val_accuracy: 0.3085\n",
      "Epoch 9/50\n",
      "31/31 [==============================] - 4s 121ms/step - loss: 1.9011 - accuracy: 0.2872 - val_loss: 1.9221 - val_accuracy: 0.3034\n",
      "Epoch 10/50\n",
      "31/31 [==============================] - 4s 119ms/step - loss: 1.8822 - accuracy: 0.2661 - val_loss: 1.9209 - val_accuracy: 0.2833\n",
      "Epoch 11/50\n",
      "31/31 [==============================] - 4s 120ms/step - loss: 1.8385 - accuracy: 0.3275 - val_loss: 1.9781 - val_accuracy: 0.2974\n",
      "Epoch 12/50\n",
      "31/31 [==============================] - 4s 115ms/step - loss: 1.8393 - accuracy: 0.2945 - val_loss: 1.8287 - val_accuracy: 0.3185\n",
      "Epoch 13/50\n",
      "31/31 [==============================] - 4s 120ms/step - loss: 1.8193 - accuracy: 0.2944 - val_loss: 1.7475 - val_accuracy: 0.3679\n",
      "Epoch 14/50\n",
      "31/31 [==============================] - 4s 119ms/step - loss: 1.7716 - accuracy: 0.3378 - val_loss: 1.7365 - val_accuracy: 0.3831\n",
      "Epoch 15/50\n",
      "31/31 [==============================] - 4s 121ms/step - loss: 1.7351 - accuracy: 0.3528 - val_loss: 1.6913 - val_accuracy: 0.3881\n",
      "Epoch 16/50\n",
      "31/31 [==============================] - 4s 120ms/step - loss: 1.6628 - accuracy: 0.3812 - val_loss: 1.6742 - val_accuracy: 0.3871\n",
      "Epoch 17/50\n",
      "31/31 [==============================] - 4s 122ms/step - loss: 1.7043 - accuracy: 0.3760 - val_loss: 1.6783 - val_accuracy: 0.3861\n",
      "Epoch 18/50\n",
      "31/31 [==============================] - 4s 122ms/step - loss: 1.6584 - accuracy: 0.3688 - val_loss: 1.6645 - val_accuracy: 0.3982\n",
      "Epoch 19/50\n",
      "31/31 [==============================] - 4s 126ms/step - loss: 1.6389 - accuracy: 0.4089 - val_loss: 1.6753 - val_accuracy: 0.3891\n",
      "Epoch 20/50\n",
      "31/31 [==============================] - 4s 124ms/step - loss: 1.5581 - accuracy: 0.3977 - val_loss: 1.7214 - val_accuracy: 0.3982\n",
      "Epoch 21/50\n",
      "31/31 [==============================] - 4s 125ms/step - loss: 1.6094 - accuracy: 0.4032 - val_loss: 1.6697 - val_accuracy: 0.4123\n",
      "Epoch 22/50\n",
      "31/31 [==============================] - 4s 125ms/step - loss: 1.5531 - accuracy: 0.4132 - val_loss: 1.6563 - val_accuracy: 0.4012\n",
      "Epoch 23/50\n",
      "31/31 [==============================] - 4s 125ms/step - loss: 1.5238 - accuracy: 0.4411 - val_loss: 1.6338 - val_accuracy: 0.3992\n",
      "Epoch 24/50\n",
      "31/31 [==============================] - 4s 120ms/step - loss: 1.5672 - accuracy: 0.4174 - val_loss: 1.6380 - val_accuracy: 0.4012\n",
      "Epoch 25/50\n",
      "31/31 [==============================] - 4s 126ms/step - loss: 1.4861 - accuracy: 0.4819 - val_loss: 1.5992 - val_accuracy: 0.4214\n",
      "Epoch 26/50\n",
      "31/31 [==============================] - 4s 120ms/step - loss: 1.5116 - accuracy: 0.4597 - val_loss: 1.6929 - val_accuracy: 0.3931\n",
      "Epoch 27/50\n",
      "31/31 [==============================] - 4s 126ms/step - loss: 1.4506 - accuracy: 0.4804 - val_loss: 1.6662 - val_accuracy: 0.3851\n",
      "Epoch 28/50\n",
      "31/31 [==============================] - 4s 124ms/step - loss: 1.4215 - accuracy: 0.4849 - val_loss: 1.5993 - val_accuracy: 0.4395\n",
      "Epoch 29/50\n",
      "31/31 [==============================] - 4s 124ms/step - loss: 1.4466 - accuracy: 0.4680 - val_loss: 1.6091 - val_accuracy: 0.4446\n",
      "Epoch 30/50\n",
      "31/31 [==============================] - 4s 128ms/step - loss: 1.3624 - accuracy: 0.4804 - val_loss: 1.5803 - val_accuracy: 0.4304\n",
      "Epoch 31/50\n",
      "31/31 [==============================] - 4s 129ms/step - loss: 1.3581 - accuracy: 0.5062 - val_loss: 1.6056 - val_accuracy: 0.4516\n",
      "Epoch 32/50\n",
      "31/31 [==============================] - 4s 127ms/step - loss: 1.3676 - accuracy: 0.4959 - val_loss: 1.5649 - val_accuracy: 0.4446\n",
      "Epoch 33/50\n",
      "31/31 [==============================] - 4s 122ms/step - loss: 1.3259 - accuracy: 0.5269 - val_loss: 1.6834 - val_accuracy: 0.4315\n",
      "Epoch 34/50\n",
      "31/31 [==============================] - 4s 126ms/step - loss: 1.3997 - accuracy: 0.5134 - val_loss: 1.6936 - val_accuracy: 0.4032\n",
      "Epoch 35/50\n",
      "31/31 [==============================] - 4s 126ms/step - loss: 1.3197 - accuracy: 0.5181 - val_loss: 1.5527 - val_accuracy: 0.4536\n",
      "Epoch 36/50\n",
      "31/31 [==============================] - 4s 121ms/step - loss: 1.2192 - accuracy: 0.5498 - val_loss: 1.5758 - val_accuracy: 0.4798\n",
      "Epoch 37/50\n",
      "31/31 [==============================] - 4s 127ms/step - loss: 1.2812 - accuracy: 0.5155 - val_loss: 1.5482 - val_accuracy: 0.4748\n",
      "Epoch 38/50\n",
      "31/31 [==============================] - 4s 125ms/step - loss: 1.2398 - accuracy: 0.5300 - val_loss: 1.5387 - val_accuracy: 0.4778\n",
      "Epoch 39/50\n",
      "31/31 [==============================] - 4s 125ms/step - loss: 1.2067 - accuracy: 0.5455 - val_loss: 1.5723 - val_accuracy: 0.4556\n",
      "Epoch 40/50\n",
      "31/31 [==============================] - 4s 124ms/step - loss: 1.2229 - accuracy: 0.5486 - val_loss: 1.6565 - val_accuracy: 0.4304\n",
      "Epoch 41/50\n",
      "31/31 [==============================] - 4s 126ms/step - loss: 1.2511 - accuracy: 0.5300 - val_loss: 1.5248 - val_accuracy: 0.4577\n",
      "Epoch 42/50\n",
      "31/31 [==============================] - 4s 125ms/step - loss: 1.1447 - accuracy: 0.5888 - val_loss: 1.5637 - val_accuracy: 0.4788\n",
      "Epoch 43/50\n",
      "31/31 [==============================] - 4s 126ms/step - loss: 1.2117 - accuracy: 0.5579 - val_loss: 1.5532 - val_accuracy: 0.4536\n",
      "Epoch 44/50\n",
      "31/31 [==============================] - 4s 126ms/step - loss: 1.1228 - accuracy: 0.5826 - val_loss: 1.4945 - val_accuracy: 0.4879\n",
      "Epoch 45/50\n",
      "31/31 [==============================] - 4s 125ms/step - loss: 1.0671 - accuracy: 0.6169 - val_loss: 1.5893 - val_accuracy: 0.4516\n",
      "Epoch 46/50\n",
      "31/31 [==============================] - 4s 123ms/step - loss: 1.1388 - accuracy: 0.6070 - val_loss: 1.6316 - val_accuracy: 0.4587\n",
      "Epoch 47/50\n",
      "31/31 [==============================] - 4s 129ms/step - loss: 1.0971 - accuracy: 0.6038 - val_loss: 1.5058 - val_accuracy: 0.4869\n",
      "Epoch 48/50\n",
      "31/31 [==============================] - 4s 122ms/step - loss: 1.0207 - accuracy: 0.6260 - val_loss: 1.6032 - val_accuracy: 0.4798\n",
      "Epoch 49/50\n",
      "31/31 [==============================] - 4s 120ms/step - loss: 1.0431 - accuracy: 0.6102 - val_loss: 1.5547 - val_accuracy: 0.4788\n",
      "Epoch 50/50\n",
      "31/31 [==============================] - 4s 124ms/step - loss: 1.0570 - accuracy: 0.6136 - val_loss: 1.5372 - val_accuracy: 0.4778\n"
     ]
    },
    {
     "data": {
      "text/plain": [
       "<tensorflow.python.keras.callbacks.History at 0x16d79b14dc8>"
      ]
     },
     "execution_count": 14,
     "metadata": {},
     "output_type": "execute_result"
    }
   ],
   "source": [
    "steps_per_epoch = len(train_paths) //batch_size\n",
    "validation_steps = len(test_paths) // batch_size\n",
    "\n",
    "model.fit_generator(\n",
    "    train_dataset,\n",
    "    steps_per_epoch = steps_per_epoch,\n",
    "    validation_data = test_dataset,\n",
    "    validation_steps = validation_steps,\n",
    "    epochs = num_epochs,)"
   ]
  },
  {
   "cell_type": "code",
   "execution_count": 16,
   "metadata": {},
   "outputs": [
    {
     "data": {
      "text/plain": [
       "'cifar/test\\\\0_cat.png'"
      ]
     },
     "execution_count": 16,
     "metadata": {},
     "output_type": "execute_result"
    }
   ],
   "source": [
    "path = test_paths[0]\n",
    "path"
   ]
  },
  {
   "cell_type": "code",
   "execution_count": 19,
   "metadata": {},
   "outputs": [
    {
     "data": {
      "text/plain": [
       "TensorShape([32, 32, 3])"
      ]
     },
     "execution_count": 19,
     "metadata": {},
     "output_type": "execute_result"
    }
   ],
   "source": [
    "gfile = tf.io.read_file(path)\n",
    "image = tf.io.decode_image(gfile, dtype=tf.float32)\n",
    "image.shape"
   ]
  },
  {
   "cell_type": "code",
   "execution_count": 20,
   "metadata": {},
   "outputs": [],
   "source": [
    "image = image[tf.newaxis,...]"
   ]
  },
  {
   "cell_type": "code",
   "execution_count": 21,
   "metadata": {},
   "outputs": [
    {
     "data": {
      "text/plain": [
       "TensorShape([1, 32, 32, 3])"
      ]
     },
     "execution_count": 21,
     "metadata": {},
     "output_type": "execute_result"
    }
   ],
   "source": [
    "image.shape"
   ]
  },
  {
   "cell_type": "code",
   "execution_count": 22,
   "metadata": {},
   "outputs": [],
   "source": [
    "pred = model.predict(image)"
   ]
  },
  {
   "cell_type": "code",
   "execution_count": 23,
   "metadata": {},
   "outputs": [
    {
     "data": {
      "text/plain": [
       "(1, 10)"
      ]
     },
     "execution_count": 23,
     "metadata": {},
     "output_type": "execute_result"
    }
   ],
   "source": [
    "pred.shape"
   ]
  },
  {
   "cell_type": "code",
   "execution_count": 24,
   "metadata": {},
   "outputs": [
    {
     "data": {
      "text/plain": [
       "7"
      ]
     },
     "execution_count": 24,
     "metadata": {},
     "output_type": "execute_result"
    }
   ],
   "source": [
    "np.argmax(pred)"
   ]
  },
  {
   "cell_type": "markdown",
   "metadata": {},
   "source": [
    "### generator에서 데이터를 가져오는 방법"
   ]
  },
  {
   "cell_type": "code",
   "execution_count": 25,
   "metadata": {},
   "outputs": [],
   "source": [
    "test_image, test_label = next(iter(test_dataset))"
   ]
  },
  {
   "cell_type": "code",
   "execution_count": 26,
   "metadata": {},
   "outputs": [
    {
     "data": {
      "text/plain": [
       "TensorShape([32, 32, 32, 3])"
      ]
     },
     "execution_count": 26,
     "metadata": {},
     "output_type": "execute_result"
    }
   ],
   "source": [
    "test_image.shape"
   ]
  },
  {
   "cell_type": "code",
   "execution_count": 27,
   "metadata": {},
   "outputs": [],
   "source": [
    "pred = model.predict(test_image)"
   ]
  },
  {
   "cell_type": "code",
   "execution_count": 28,
   "metadata": {},
   "outputs": [
    {
     "data": {
      "text/plain": [
       "(32, 10)"
      ]
     },
     "execution_count": 28,
     "metadata": {},
     "output_type": "execute_result"
    }
   ],
   "source": [
    "pred.shape"
   ]
  },
  {
   "cell_type": "code",
   "execution_count": 29,
   "metadata": {},
   "outputs": [
    {
     "data": {
      "text/plain": [
       "array([0.0044678 , 0.00158701, 0.01123246, 0.1049071 , 0.16934122,\n",
       "       0.1176418 , 0.0218003 , 0.51319873, 0.00291123, 0.05291233],\n",
       "      dtype=float32)"
      ]
     },
     "execution_count": 29,
     "metadata": {},
     "output_type": "execute_result"
    }
   ],
   "source": [
    "pred[0]"
   ]
  },
  {
   "cell_type": "code",
   "execution_count": 30,
   "metadata": {},
   "outputs": [
    {
     "data": {
      "text/plain": [
       "7"
      ]
     },
     "execution_count": 30,
     "metadata": {},
     "output_type": "execute_result"
    }
   ],
   "source": [
    "np.argmax(pred[0])"
   ]
  },
  {
   "cell_type": "markdown",
   "metadata": {},
   "source": [
    "### generator에 넣는 방법"
   ]
  },
  {
   "cell_type": "code",
   "execution_count": 38,
   "metadata": {},
   "outputs": [
    {
     "name": "stdout",
     "output_type": "stream",
     "text": [
      "(32, 32, 32, 3)\n"
     ]
    },
    {
     "data": {
      "image/png": "[encoded data removed]",
      "text/plain": [
       "<Figure size 432x288 with 1 Axes>"
      ]
     },
     "metadata": {
      "needs_background": "light"
     },
     "output_type": "display_data"
    }
   ],
   "source": [
    "for image, label in test_dataset.take(1): # 배치 갯수 정하기\n",
    "    print(image.shape)\n",
    "    plt.imshow(image[31])\n",
    "    plt.show()"
   ]
  },
  {
   "cell_type": "code",
   "execution_count": 40,
   "metadata": {},
   "outputs": [],
   "source": [
    "pred = model.predict(test_dataset.take(1))"
   ]
  },
  {
   "cell_type": "code",
   "execution_count": 41,
   "metadata": {},
   "outputs": [
    {
     "data": {
      "text/plain": [
       "(32, 10)"
      ]
     },
     "execution_count": 41,
     "metadata": {},
     "output_type": "execute_result"
    }
   ],
   "source": [
    "pred.shape"
   ]
  },
  {
   "cell_type": "code",
   "execution_count": 43,
   "metadata": {
    "scrolled": true
   },
   "outputs": [
    {
     "data": {
      "text/plain": [
       "7"
      ]
     },
     "execution_count": 43,
     "metadata": {},
     "output_type": "execute_result"
    }
   ],
   "source": [
    "np.argmax(pred[0])"
   ]
  },
  {
   "cell_type": "code",
   "execution_count": 44,
   "metadata": {},
   "outputs": [
    {
     "ename": "ValueError",
     "evalue": "not enough values to unpack (expected 2, got 1)",
     "output_type": "error",
     "traceback": [
      "\u001b[1;31m---------------------------------------------------------------------------\u001b[0m",
      "\u001b[1;31mValueError\u001b[0m                                Traceback (most recent call last)",
      "\u001b[1;32m<ipython-input-44-52a493015e41>\u001b[0m in \u001b[0;36m<module>\u001b[1;34m\u001b[0m\n\u001b[1;32m----> 1\u001b[1;33m \u001b[0mimage\u001b[0m\u001b[1;33m,\u001b[0m \u001b[0mlabel\u001b[0m \u001b[1;33m=\u001b[0m \u001b[0mtest_dataset\u001b[0m\u001b[1;33m.\u001b[0m\u001b[0mtake\u001b[0m\u001b[1;33m(\u001b[0m\u001b[1;36m1\u001b[0m\u001b[1;33m)\u001b[0m\u001b[1;33m\u001b[0m\u001b[1;33m\u001b[0m\u001b[0m\n\u001b[0m",
      "\u001b[1;31mValueError\u001b[0m: not enough values to unpack (expected 2, got 1)"
     ]
    }
   ],
   "source": [
    "image, label = test_dataset.take(1)"
   ]
  },
  {
   "cell_type": "code",
   "execution_count": 45,
   "metadata": {},
   "outputs": [
    {
     "name": "stdout",
     "output_type": "stream",
     "text": [
      "1/1 [==============================] - 0s 997us/step - loss: 1.6492 - accuracy: 0.5000\n"
     ]
    },
    {
     "data": {
      "text/plain": [
       "[1.6491848230361938, 0.5]"
      ]
     },
     "execution_count": 45,
     "metadata": {},
     "output_type": "execute_result"
    }
   ],
   "source": [
    "model.evaluate(image,label)"
   ]
  }
 ],
 "metadata": {
  "kernelspec": {
   "display_name": "Python 3",
   "language": "python",
   "name": "python3"
  },
  "language_info": {
   "codemirror_mode": {
    "name": "ipython",
    "version": 3
   },
   "file_extension": ".py",
   "mimetype": "text/x-python",
   "name": "python",
   "nbconvert_exporter": "python",
   "pygments_lexer": "ipython3",
   "version": "3.7.7"
  }
 },
 "nbformat": 4,
 "nbformat_minor": 4
}
