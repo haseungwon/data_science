{
 "cells": [
  {
   "cell_type": "code",
   "execution_count": 1,
   "metadata": {},
   "outputs": [],
   "source": [
    "import os\n",
    "from glob import glob\n",
    "\n",
    "import tensorflow as tf\n",
    "from tensorflow.keras import layers\n",
    "\n",
    "from tensorflow.keras import datasets\n",
    "from tensorflow.keras.preprocessing.image import ImageDataGenerator"
   ]
  },
  {
   "cell_type": "code",
   "execution_count": 3,
   "metadata": {},
   "outputs": [
    {
     "data": {
      "text/plain": [
       "['0', '1', '2', '3', '4', '5', '6', '7', '8', '9']"
      ]
     },
     "execution_count": 3,
     "metadata": {},
     "output_type": "execute_result"
    }
   ],
   "source": [
    "os.listdir('mnist_png/training')"
   ]
  },
  {
   "cell_type": "code",
   "execution_count": 5,
   "metadata": {},
   "outputs": [],
   "source": [
    "train_dir = 'mnist_png/training'\n",
    "test_dir = 'mnist_png/testing'"
   ]
  },
  {
   "cell_type": "markdown",
   "metadata": {},
   "source": [
    "### Hyperparameter Tunning"
   ]
  },
  {
   "cell_type": "code",
   "execution_count": 20,
   "metadata": {},
   "outputs": [],
   "source": [
    "num_epochs = 10\n",
    "batch_size = 32\n",
    "learning_rate = 0.001\n",
    "dropout_rate = 0.7\n",
    "input_shape = (28,28,1)\n",
    "num_classes = 10"
   ]
  },
  {
   "cell_type": "markdown",
   "metadata": {},
   "source": [
    "### Preprocess"
   ]
  },
  {
   "cell_type": "code",
   "execution_count": 14,
   "metadata": {},
   "outputs": [],
   "source": [
    "train_datagen = ImageDataGenerator(\n",
    "    rescale = 1./255.,\n",
    "    width_shift_range = 0.4,\n",
    "    zoom_range = 0.2,\n",
    "    horizontal_flip = True\n",
    ")\n",
    "\n",
    "test_datagen = ImageDataGenerator(\n",
    "    rescale = 1./255.\n",
    ")"
   ]
  },
  {
   "cell_type": "markdown",
   "metadata": {},
   "source": [
    "스스로 label, batch까지 만들어 준다"
   ]
  },
  {
   "cell_type": "code",
   "execution_count": 15,
   "metadata": {},
   "outputs": [
    {
     "name": "stdout",
     "output_type": "stream",
     "text": [
      "Found 60000 images belonging to 10 classes.\n"
     ]
    }
   ],
   "source": [
    "train_generator = train_datagen.flow_from_directory(\n",
    "    train_dir,\n",
    "    target_size = input_shape[:2],\n",
    "    batch_size = batch_size,\n",
    "    color_mode = 'grayscale',\n",
    "    class_mode = 'categorical'\n",
    ")"
   ]
  },
  {
   "cell_type": "code",
   "execution_count": 16,
   "metadata": {},
   "outputs": [
    {
     "name": "stdout",
     "output_type": "stream",
     "text": [
      "Found 60000 images belonging to 10 classes.\n"
     ]
    }
   ],
   "source": [
    "validation_generator = test_datagen.flow_from_directory(\n",
    "    train_dir,\n",
    "    target_size = input_shape[:2],\n",
    "    batch_size = batch_size,\n",
    "    color_mode = 'grayscale',\n",
    "    class_mode = 'categorical'\n",
    ")"
   ]
  },
  {
   "cell_type": "markdown",
   "metadata": {},
   "source": [
    "### build model"
   ]
  },
  {
   "cell_type": "code",
   "execution_count": 21,
   "metadata": {},
   "outputs": [],
   "source": [
    "inputs = layers.Input(input_shape)\n",
    "net = layers.Conv2D(32,(3,3),padding='SAME')(inputs)\n",
    "net = layers.Activation('relu')(net)\n",
    "net = layers.Conv2D(32,(3,3),padding='SAME')(net)\n",
    "net = layers.Activation('relu')(net)\n",
    "net = layers.MaxPooling2D(pool_size = (2,2))(net)\n",
    "net = layers.Dropout(dropout_rate)(net)\n",
    "\n",
    "net = layers.Conv2D(64,(3,3),padding='SAME')(net)\n",
    "net = layers.Activation('relu')(net)\n",
    "net = layers.Conv2D(64,(3,3),padding='SAME')(net)\n",
    "net = layers.Activation('relu')(net)\n",
    "net = layers.MaxPooling2D(pool_size = (2,2))(net)\n",
    "net = layers.Dropout(dropout_rate)(net)\n",
    "\n",
    "net = layers.Flatten()(net)\n",
    "net = layers.Dense(512)(net)\n",
    "net = layers.Activation('relu')(net)\n",
    "net = layers.Dropout(dropout_rate)(net)\n",
    "net = layers.Dense(num_classes)(net)\n",
    "net = layers.Activation('softmax')(net)\n",
    "\n",
    "model = tf.keras.Model(inputs= inputs, outputs=net, name = 'Basic_CNN')"
   ]
  },
  {
   "cell_type": "code",
   "execution_count": 22,
   "metadata": {},
   "outputs": [],
   "source": [
    "model.compile(optimizer = tf.keras.optimizers.Adam(learning_rate),\n",
    "             loss = 'categorical_crossentropy',\n",
    "             metrics = ['accuracy'])"
   ]
  },
  {
   "cell_type": "markdown",
   "metadata": {},
   "source": [
    "### training"
   ]
  },
  {
   "cell_type": "code",
   "execution_count": 26,
   "metadata": {},
   "outputs": [
    {
     "name": "stdout",
     "output_type": "stream",
     "text": [
      "Epoch 1/10\n",
      "1875/1875 [==============================] - 205s 109ms/step - loss: 0.9301 - accuracy: 0.6817 - val_loss: 0.8358 - val_accuracy: 0.7192\n",
      "Epoch 2/10\n",
      "1875/1875 [==============================] - 153s 82ms/step - loss: 0.6459 - accuracy: 0.7813 - val_loss: 0.6700 - val_accuracy: 0.7788\n",
      "Epoch 3/10\n",
      "1875/1875 [==============================] - 153s 81ms/step - loss: 0.5617 - accuracy: 0.8134 - val_loss: 0.3546 - val_accuracy: 0.9069\n",
      "Epoch 4/10\n",
      "1875/1875 [==============================] - 165s 88ms/step - loss: 0.4865 - accuracy: 0.8396 - val_loss: 0.2563 - val_accuracy: 0.9322\n",
      "Epoch 5/10\n",
      "1875/1875 [==============================] - 167s 89ms/step - loss: 0.4350 - accuracy: 0.8604 - val_loss: 0.1677 - val_accuracy: 0.9538\n",
      "Epoch 6/10\n",
      "1875/1875 [==============================] - 168s 90ms/step - loss: 0.4006 - accuracy: 0.8715 - val_loss: 0.1368 - val_accuracy: 0.9617\n",
      "Epoch 7/10\n",
      "1875/1875 [==============================] - 169s 90ms/step - loss: 0.3752 - accuracy: 0.8819 - val_loss: 0.1305 - val_accuracy: 0.9632\n",
      "Epoch 8/10\n",
      "1875/1875 [==============================] - 170s 91ms/step - loss: 0.3523 - accuracy: 0.8889 - val_loss: 0.1015 - val_accuracy: 0.9695\n",
      "Epoch 9/10\n",
      "1875/1875 [==============================] - 167s 89ms/step - loss: 0.3414 - accuracy: 0.8937 - val_loss: 0.0996 - val_accuracy: 0.9707\n",
      "Epoch 10/10\n",
      "1875/1875 [==============================] - 172s 92ms/step - loss: 0.3312 - accuracy: 0.8969 - val_loss: 0.0924 - val_accuracy: 0.9720\n"
     ]
    },
    {
     "data": {
      "text/plain": [
       "<tensorflow.python.keras.callbacks.History at 0x1b11581fbc8>"
      ]
     },
     "execution_count": 26,
     "metadata": {},
     "output_type": "execute_result"
    }
   ],
   "source": [
    "model.fit_generator(train_generator,\n",
    "                   steps_per_epoch = len(train_generator),\n",
    "                    epochs = num_epochs,\n",
    "                    validation_data = validation_generator,\n",
    "                    validation_steps = len(validation_generator)\n",
    ")"
   ]
  },
  {
   "cell_type": "code",
   "execution_count": null,
   "metadata": {},
   "outputs": [],
   "source": []
  }
 ],
 "metadata": {
  "kernelspec": {
   "display_name": "Python 3",
   "language": "python",
   "name": "python3"
  },
  "language_info": {
   "codemirror_mode": {
    "name": "ipython",
    "version": 3
   },
   "file_extension": ".py",
   "mimetype": "text/x-python",
   "name": "python",
   "nbconvert_exporter": "python",
   "pygments_lexer": "ipython3",
   "version": "3.7.7"
  }
 },
 "nbformat": 4,
 "nbformat_minor": 4
}
