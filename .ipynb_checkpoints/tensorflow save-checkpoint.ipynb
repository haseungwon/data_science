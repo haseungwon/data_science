{
 "cells": [
  {
   "cell_type": "code",
   "execution_count": 1,
   "metadata": {},
   "outputs": [],
   "source": [
    "import os\n",
    "from glob import glob\n",
    "from datetime import datetime\n",
    "\n",
    "import numpy as np\n",
    "\n",
    "import tensorflow as tf\n",
    "from tensorflow.keras import layers\n",
    "\n",
    "from tensorflow.keras import datasets\n",
    "import matplotlib.pyplot as plt\n",
    "%matplotlib inline"
   ]
  },
  {
   "cell_type": "markdown",
   "metadata": {},
   "source": [
    "### hyperparameter tunning"
   ]
  },
  {
   "cell_type": "code",
   "execution_count": 2,
   "metadata": {},
   "outputs": [],
   "source": [
    "num_epochs = 50\n",
    "batch_size = 32\n",
    "\n",
    "learning_rate = 0.001\n",
    "\n",
    "dropout_rate = 0.5\n",
    "\n",
    "input_shape = (32,32,3)\n",
    "num_classes = 10"
   ]
  },
  {
   "cell_type": "code",
   "execution_count": 3,
   "metadata": {},
   "outputs": [],
   "source": [
    "inputs = layers.Input(input_shape)\n",
    "\n",
    "net = layers.Conv2D(32,(3,3), padding = 'SAME')(inputs)\n",
    "net = layers.Activation('relu')(net)\n",
    "net = layers.Conv2D(32,(3,3), padding = 'SAME')(net)\n",
    "net = layers.Activation('relu')(net)\n",
    "net = layers.MaxPooling2D(pool_size=(2,2))(net)\n",
    "net = layers.Dropout(dropout_rate)(net)\n",
    "\n",
    "net = layers.Conv2D(64,(3,3), padding = 'SAME')(net)\n",
    "net = layers.Activation('relu')(net)\n",
    "net = layers.Conv2D(64,(3,3), padding = 'SAME')(net)\n",
    "net = layers.Activation('relu')(net)\n",
    "net = layers.MaxPooling2D(pool_size=(2,2))(net)\n",
    "net = layers.Dropout(dropout_rate)(net)\n",
    "\n",
    "net = layers.Flatten()(net)\n",
    "net = layers.Dense(512)(net)\n",
    "net = layers.Activation('relu')(net)\n",
    "net = layers.Dropout(dropout_rate)(net)\n",
    "net = layers.Dense(num_classes)(net)\n",
    "net = layers.Activation('softmax')(net)\n",
    "\n",
    "model = tf.keras.Model(inputs= inputs, outputs=net, name = 'Basic_CNN')"
   ]
  },
  {
   "cell_type": "code",
   "execution_count": 4,
   "metadata": {},
   "outputs": [],
   "source": [
    "model.compile(optimizer = tf.keras.optimizers.Adam(learning_rate),\n",
    "            loss = 'sparse_categorical_crossentropy',\n",
    "            metrics = ['accuracy'])"
   ]
  },
  {
   "cell_type": "markdown",
   "metadata": {},
   "source": [
    "### data preprocess"
   ]
  },
  {
   "cell_type": "code",
   "execution_count": 5,
   "metadata": {},
   "outputs": [],
   "source": [
    "train_paths = glob('cifar/train/*.png')[:1000]\n",
    "test_paths = glob('cifar/test/*.png')[:1000]"
   ]
  },
  {
   "cell_type": "code",
   "execution_count": 6,
   "metadata": {},
   "outputs": [],
   "source": [
    "def get_class_name(path):\n",
    "    return path.split('_')[-1].replace('.png','')"
   ]
  },
  {
   "cell_type": "code",
   "execution_count": 7,
   "metadata": {},
   "outputs": [],
   "source": [
    "train_labels = [get_class_name(path) for path in train_paths]\n",
    "class_names = np.unique(train_labels)"
   ]
  },
  {
   "cell_type": "code",
   "execution_count": 8,
   "metadata": {},
   "outputs": [],
   "source": [
    "def get_label(path):\n",
    "    fname = tf.strings.split(path, '_')[-1]\n",
    "    lbl_name = tf.strings.regex_replace(fname, '.png','')\n",
    "    onehot = tf.cast(lbl_name == class_names, tf.uint8)\n",
    "    return tf.argmax(onehot) # label번호를 반환"
   ]
  },
  {
   "cell_type": "code",
   "execution_count": 9,
   "metadata": {},
   "outputs": [],
   "source": [
    "def load_image_label(path):\n",
    "    gfile = tf.io.read_file(path)\n",
    "    image = tf.io.decode_image(gfile)\n",
    "    image = tf.cast(image, tf.float32) / 255.\n",
    "    \n",
    "    label = get_label(path)\n",
    "    return image, label"
   ]
  },
  {
   "cell_type": "code",
   "execution_count": 10,
   "metadata": {},
   "outputs": [],
   "source": [
    "def image_preprocess(image, label):\n",
    "    image = tf.image.random_flip_up_down(image)\n",
    "    image = tf.image.random_flip_left_right(image)\n",
    "    return image, label"
   ]
  },
  {
   "cell_type": "code",
   "execution_count": 11,
   "metadata": {},
   "outputs": [],
   "source": [
    "AUTOTUNE = tf.data.experimental.AUTOTUNE"
   ]
  },
  {
   "cell_type": "code",
   "execution_count": 12,
   "metadata": {},
   "outputs": [],
   "source": [
    "train_dataset = tf.data.Dataset.from_tensor_slices(train_paths)\n",
    "train_dataset = train_dataset.map(load_image_label, num_parallel_calls = AUTOTUNE)\n",
    "train_dataset = train_dataset.map(image_preprocess, num_parallel_calls = AUTOTUNE)\n",
    "train_dataset = train_dataset.batch(batch_size)\n",
    "train_dataset = train_dataset.shuffle(buffer_size = len(train_paths))\n",
    "train_dataset = train_dataset.repeat()"
   ]
  },
  {
   "cell_type": "code",
   "execution_count": 13,
   "metadata": {},
   "outputs": [],
   "source": [
    "test_dataset = tf.data.Dataset.from_tensor_slices(test_paths)\n",
    "test_dataset = test_dataset.map(load_image_label, num_parallel_calls = AUTOTUNE)\n",
    "test_dataset = test_dataset.batch(batch_size)\n",
    "test_dataset = test_dataset.repeat()"
   ]
  },
  {
   "cell_type": "markdown",
   "metadata": {},
   "source": [
    "### train"
   ]
  },
  {
   "cell_type": "code",
   "execution_count": 14,
   "metadata": {
    "scrolled": false
   },
   "outputs": [
    {
     "name": "stdout",
     "output_type": "stream",
     "text": [
      "WARNING:tensorflow:From <ipython-input-14-399e137e5680>:9: Model.fit_generator (from tensorflow.python.keras.engine.training) is deprecated and will be removed in a future version.\n",
      "Instructions for updating:\n",
      "Please use Model.fit, which supports generators.\n",
      "Epoch 1/50\n",
      "31/31 [==============================] - 4s 123ms/step - loss: 2.3117 - accuracy: 0.1157 - val_loss: 2.2880 - val_accuracy: 0.0958\n",
      "Epoch 2/50\n",
      "31/31 [==============================] - 4s 121ms/step - loss: 2.2710 - accuracy: 0.1322 - val_loss: 2.2906 - val_accuracy: 0.1159\n",
      "Epoch 3/50\n",
      "31/31 [==============================] - 4s 120ms/step - loss: 2.2240 - accuracy: 0.1591 - val_loss: 2.1703 - val_accuracy: 0.1885\n",
      "Epoch 4/50\n",
      "31/31 [==============================] - 4s 118ms/step - loss: 2.1911 - accuracy: 0.1715 - val_loss: 2.1566 - val_accuracy: 0.1744\n",
      "Epoch 5/50\n",
      "31/31 [==============================] - 4s 121ms/step - loss: 2.1202 - accuracy: 0.2389 - val_loss: 2.0738 - val_accuracy: 0.2339\n",
      "Epoch 6/50\n",
      "31/31 [==============================] - 4s 116ms/step - loss: 2.1121 - accuracy: 0.2108 - val_loss: 2.0850 - val_accuracy: 0.2288\n",
      "Epoch 7/50\n",
      "31/31 [==============================] - 4s 117ms/step - loss: 2.0022 - accuracy: 0.2490 - val_loss: 1.9570 - val_accuracy: 0.2883\n",
      "Epoch 8/50\n",
      "31/31 [==============================] - 4s 118ms/step - loss: 1.9558 - accuracy: 0.2593 - val_loss: 1.9739 - val_accuracy: 0.2490\n",
      "Epoch 9/50\n",
      "31/31 [==============================] - 4s 120ms/step - loss: 1.8908 - accuracy: 0.2944 - val_loss: 1.8742 - val_accuracy: 0.3054\n",
      "Epoch 10/50\n",
      "31/31 [==============================] - 4s 121ms/step - loss: 1.8763 - accuracy: 0.3130 - val_loss: 1.8408 - val_accuracy: 0.3317\n",
      "Epoch 11/50\n",
      "31/31 [==============================] - 4s 118ms/step - loss: 1.8746 - accuracy: 0.3072 - val_loss: 1.8513 - val_accuracy: 0.3085\n",
      "Epoch 12/50\n",
      "31/31 [==============================] - 4s 121ms/step - loss: 1.8276 - accuracy: 0.3145 - val_loss: 1.8265 - val_accuracy: 0.3387\n",
      "Epoch 13/50\n",
      "31/31 [==============================] - 4s 120ms/step - loss: 1.7989 - accuracy: 0.3347 - val_loss: 1.7891 - val_accuracy: 0.3407\n",
      "Epoch 14/50\n",
      "31/31 [==============================] - 4s 124ms/step - loss: 1.7539 - accuracy: 0.3266 - val_loss: 1.7633 - val_accuracy: 0.3377\n",
      "Epoch 15/50\n",
      "31/31 [==============================] - 4s 123ms/step - loss: 1.7311 - accuracy: 0.3399 - val_loss: 1.7754 - val_accuracy: 0.3639\n",
      "Epoch 16/50\n",
      "31/31 [==============================] - 4s 119ms/step - loss: 1.6890 - accuracy: 0.3697 - val_loss: 1.7454 - val_accuracy: 0.3780\n",
      "Epoch 17/50\n",
      "31/31 [==============================] - 4s 125ms/step - loss: 1.7021 - accuracy: 0.3800 - val_loss: 1.7496 - val_accuracy: 0.3468\n",
      "Epoch 18/50\n",
      "31/31 [==============================] - 4s 120ms/step - loss: 1.6475 - accuracy: 0.4153 - val_loss: 1.7072 - val_accuracy: 0.3760\n",
      "Epoch 19/50\n",
      "31/31 [==============================] - 4s 125ms/step - loss: 1.6297 - accuracy: 0.4032 - val_loss: 1.7045 - val_accuracy: 0.3760\n",
      "Epoch 20/50\n",
      "31/31 [==============================] - 4s 128ms/step - loss: 1.5799 - accuracy: 0.4060 - val_loss: 1.7079 - val_accuracy: 0.3730\n",
      "Epoch 21/50\n",
      "31/31 [==============================] - 4s 126ms/step - loss: 1.6456 - accuracy: 0.3957 - val_loss: 1.7323 - val_accuracy: 0.3700\n",
      "Epoch 22/50\n",
      "31/31 [==============================] - 4s 127ms/step - loss: 1.6104 - accuracy: 0.4025 - val_loss: 1.6653 - val_accuracy: 0.3952\n",
      "Epoch 23/50\n",
      "31/31 [==============================] - 4s 127ms/step - loss: 1.5367 - accuracy: 0.4452 - val_loss: 1.6157 - val_accuracy: 0.4153\n",
      "Epoch 24/50\n",
      "31/31 [==============================] - 4s 126ms/step - loss: 1.5303 - accuracy: 0.4345 - val_loss: 1.6624 - val_accuracy: 0.4123\n",
      "Epoch 25/50\n",
      "31/31 [==============================] - 4s 128ms/step - loss: 1.4742 - accuracy: 0.4483 - val_loss: 1.5909 - val_accuracy: 0.4204\n",
      "Epoch 26/50\n",
      "31/31 [==============================] - 4s 123ms/step - loss: 1.4223 - accuracy: 0.4752 - val_loss: 1.6810 - val_accuracy: 0.4103\n",
      "Epoch 27/50\n",
      "31/31 [==============================] - 4s 125ms/step - loss: 1.4635 - accuracy: 0.4700 - val_loss: 1.5536 - val_accuracy: 0.4345\n",
      "Epoch 28/50\n",
      "31/31 [==============================] - 4s 124ms/step - loss: 1.4114 - accuracy: 0.4659 - val_loss: 1.6102 - val_accuracy: 0.4143\n",
      "Epoch 29/50\n",
      "31/31 [==============================] - 4s 123ms/step - loss: 1.4324 - accuracy: 0.4845 - val_loss: 1.5761 - val_accuracy: 0.4355\n",
      "Epoch 30/50\n",
      "31/31 [==============================] - 4s 122ms/step - loss: 1.3929 - accuracy: 0.4866 - val_loss: 1.5880 - val_accuracy: 0.4204\n",
      "Epoch 31/50\n",
      "31/31 [==============================] - 4s 123ms/step - loss: 1.3826 - accuracy: 0.4959 - val_loss: 1.5627 - val_accuracy: 0.4294\n",
      "Epoch 32/50\n",
      "31/31 [==============================] - 4s 119ms/step - loss: 1.3356 - accuracy: 0.5000 - val_loss: 1.5760 - val_accuracy: 0.4355\n",
      "Epoch 33/50\n",
      "31/31 [==============================] - 4s 119ms/step - loss: 1.2863 - accuracy: 0.5279 - val_loss: 1.6562 - val_accuracy: 0.3992\n",
      "Epoch 34/50\n",
      "31/31 [==============================] - 4s 122ms/step - loss: 1.2914 - accuracy: 0.5279 - val_loss: 1.5105 - val_accuracy: 0.4536\n",
      "Epoch 35/50\n",
      "31/31 [==============================] - 4s 122ms/step - loss: 1.2998 - accuracy: 0.5131 - val_loss: 1.6004 - val_accuracy: 0.4435\n",
      "Epoch 36/50\n",
      "31/31 [==============================] - 4s 120ms/step - loss: 1.2629 - accuracy: 0.5498 - val_loss: 1.7071 - val_accuracy: 0.4123\n",
      "Epoch 37/50\n",
      "31/31 [==============================] - 4s 121ms/step - loss: 1.3287 - accuracy: 0.5289 - val_loss: 1.5887 - val_accuracy: 0.4385\n",
      "Epoch 38/50\n",
      "31/31 [==============================] - 4s 125ms/step - loss: 1.2349 - accuracy: 0.5382 - val_loss: 1.5576 - val_accuracy: 0.4456\n",
      "Epoch 39/50\n",
      "31/31 [==============================] - 4s 121ms/step - loss: 1.2033 - accuracy: 0.5475 - val_loss: 1.6041 - val_accuracy: 0.4244\n",
      "Epoch 40/50\n",
      "31/31 [==============================] - 4s 119ms/step - loss: 1.2123 - accuracy: 0.5816 - val_loss: 1.5336 - val_accuracy: 0.4577\n",
      "Epoch 41/50\n",
      "31/31 [==============================] - 4s 120ms/step - loss: 1.2177 - accuracy: 0.5640 - val_loss: 1.5715 - val_accuracy: 0.4567\n",
      "Epoch 42/50\n",
      "31/31 [==============================] - 4s 119ms/step - loss: 1.2142 - accuracy: 0.5630 - val_loss: 1.5729 - val_accuracy: 0.4486\n",
      "Epoch 43/50\n",
      "31/31 [==============================] - 4s 126ms/step - loss: 1.1121 - accuracy: 0.6179 - val_loss: 1.5853 - val_accuracy: 0.4677\n",
      "Epoch 44/50\n",
      "31/31 [==============================] - 4s 125ms/step - loss: 1.1474 - accuracy: 0.5953 - val_loss: 1.5740 - val_accuracy: 0.4597\n",
      "Epoch 45/50\n",
      "31/31 [==============================] - 4s 123ms/step - loss: 1.0659 - accuracy: 0.6116 - val_loss: 1.6309 - val_accuracy: 0.4617\n",
      "Epoch 46/50\n",
      "31/31 [==============================] - 4s 123ms/step - loss: 1.0981 - accuracy: 0.6085 - val_loss: 1.5511 - val_accuracy: 0.4405\n",
      "Epoch 47/50\n",
      "31/31 [==============================] - 4s 125ms/step - loss: 1.1031 - accuracy: 0.6260 - val_loss: 1.6189 - val_accuracy: 0.4657\n",
      "Epoch 48/50\n",
      "31/31 [==============================] - 4s 124ms/step - loss: 1.0493 - accuracy: 0.6095 - val_loss: 1.5561 - val_accuracy: 0.4738\n",
      "Epoch 49/50\n",
      "31/31 [==============================] - 4s 124ms/step - loss: 1.0468 - accuracy: 0.6198 - val_loss: 1.5200 - val_accuracy: 0.4808\n",
      "Epoch 50/50\n",
      "31/31 [==============================] - 4s 125ms/step - loss: 1.0304 - accuracy: 0.6333 - val_loss: 1.5909 - val_accuracy: 0.4758\n"
     ]
    }
   ],
   "source": [
    "steps_per_epoch = len(train_paths) //batch_size\n",
    "validation_steps = len(test_paths) // batch_size\n",
    "\n",
    "history = model.fit_generator(\n",
    "    train_dataset,\n",
    "    steps_per_epoch = steps_per_epoch,\n",
    "    validation_data = test_dataset,\n",
    "    validation_steps = validation_steps,\n",
    "    epochs = num_epochs,)"
   ]
  },
  {
   "cell_type": "markdown",
   "metadata": {},
   "source": [
    "### save model"
   ]
  },
  {
   "cell_type": "code",
   "execution_count": 19,
   "metadata": {},
   "outputs": [],
   "source": [
    "save_path = 'mymodel.h5'"
   ]
  },
  {
   "cell_type": "code",
   "execution_count": 20,
   "metadata": {},
   "outputs": [],
   "source": [
    "model.save(save_path, include_optimizer = True)"
   ]
  },
  {
   "cell_type": "code",
   "execution_count": 21,
   "metadata": {},
   "outputs": [],
   "source": [
    "model = tf.keras.models.load_model('mymodel.h5')"
   ]
  },
  {
   "cell_type": "markdown",
   "metadata": {},
   "source": [
    "### save model 2"
   ]
  },
  {
   "cell_type": "code",
   "execution_count": 22,
   "metadata": {},
   "outputs": [],
   "source": [
    "model.save_weights('model_weights.h5')"
   ]
  },
  {
   "cell_type": "code",
   "execution_count": 23,
   "metadata": {},
   "outputs": [],
   "source": [
    "with open('model_architecture.json','w') as f:\n",
    "    f.write(model.to_json())"
   ]
  },
  {
   "cell_type": "code",
   "execution_count": 24,
   "metadata": {},
   "outputs": [],
   "source": [
    "from tensorflow.keras.models import model_from_json"
   ]
  },
  {
   "cell_type": "code",
   "execution_count": 28,
   "metadata": {},
   "outputs": [],
   "source": [
    "with open('model_architecture.json','r') as f:\n",
    "    model = model_from_json(f.read())"
   ]
  },
  {
   "cell_type": "code",
   "execution_count": 29,
   "metadata": {},
   "outputs": [],
   "source": [
    "model.load_weights('model_weights.h5')"
   ]
  },
  {
   "cell_type": "markdown",
   "metadata": {},
   "source": [
    "### h5모델 들여다보기"
   ]
  },
  {
   "cell_type": "code",
   "execution_count": 30,
   "metadata": {},
   "outputs": [],
   "source": [
    "import h5py"
   ]
  },
  {
   "cell_type": "code",
   "execution_count": 35,
   "metadata": {},
   "outputs": [],
   "source": [
    "model_file = h5py.File('mymodel.h5','r+')"
   ]
  },
  {
   "cell_type": "code",
   "execution_count": 46,
   "metadata": {},
   "outputs": [
    {
     "ename": "AttributeError",
     "evalue": "'File' object has no attribute 'shape'",
     "output_type": "error",
     "traceback": [
      "\u001b[1;31m---------------------------------------------------------------------------\u001b[0m",
      "\u001b[1;31mAttributeError\u001b[0m                            Traceback (most recent call last)",
      "\u001b[1;32m<ipython-input-46-e358422eca06>\u001b[0m in \u001b[0;36m<module>\u001b[1;34m\u001b[0m\n\u001b[1;32m----> 1\u001b[1;33m \u001b[0mmodel_file\u001b[0m\u001b[1;33m.\u001b[0m\u001b[0mshape\u001b[0m\u001b[1;33m\u001b[0m\u001b[1;33m\u001b[0m\u001b[0m\n\u001b[0m",
      "\u001b[1;31mAttributeError\u001b[0m: 'File' object has no attribute 'shape'"
     ]
    }
   ],
   "source": [
    "model_file.shape"
   ]
  },
  {
   "cell_type": "code",
   "execution_count": 36,
   "metadata": {},
   "outputs": [
    {
     "data": {
      "text/plain": [
       "<KeysViewHDF5 ['model_weights', 'optimizer_weights']>"
      ]
     },
     "execution_count": 36,
     "metadata": {},
     "output_type": "execute_result"
    }
   ],
   "source": [
    "model_file.keys()"
   ]
  },
  {
   "cell_type": "code",
   "execution_count": 38,
   "metadata": {},
   "outputs": [
    {
     "data": {
      "text/plain": [
       "<KeysViewHDF5 ['bias:0', 'kernel:0']>"
      ]
     },
     "execution_count": 38,
     "metadata": {},
     "output_type": "execute_result"
    }
   ],
   "source": [
    "model_file['model_weights']['conv2d']['conv2d'].keys()"
   ]
  },
  {
   "cell_type": "code",
   "execution_count": 42,
   "metadata": {},
   "outputs": [
    {
     "data": {
      "text/plain": [
       "<HDF5 dataset \"kernel:0\": shape (3, 3, 3, 32), type \"<f4\">"
      ]
     },
     "execution_count": 42,
     "metadata": {},
     "output_type": "execute_result"
    }
   ],
   "source": [
    "model_file['model_weights']['conv2d']['conv2d']['kernel:0']"
   ]
  },
  {
   "cell_type": "code",
   "execution_count": 43,
   "metadata": {},
   "outputs": [],
   "source": [
    "weight = np.array(model_file['model_weights']['conv2d']['conv2d']['kernel:0'])"
   ]
  },
  {
   "cell_type": "code",
   "execution_count": 44,
   "metadata": {},
   "outputs": [
    {
     "data": {
      "text/plain": [
       "(3, 3, 3, 32)"
      ]
     },
     "execution_count": 44,
     "metadata": {},
     "output_type": "execute_result"
    }
   ],
   "source": [
    "weight.shape"
   ]
  },
  {
   "cell_type": "code",
   "execution_count": null,
   "metadata": {},
   "outputs": [],
   "source": []
  }
 ],
 "metadata": {
  "kernelspec": {
   "display_name": "Python 3",
   "language": "python",
   "name": "python3"
  },
  "language_info": {
   "codemirror_mode": {
    "name": "ipython",
    "version": 3
   },
   "file_extension": ".py",
   "mimetype": "text/x-python",
   "name": "python",
   "nbconvert_exporter": "python",
   "pygments_lexer": "ipython3",
   "version": "3.7.7"
  }
 },
 "nbformat": 4,
 "nbformat_minor": 4
}
