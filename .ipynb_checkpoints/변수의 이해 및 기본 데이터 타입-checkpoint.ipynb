{
 "cells": [
  {
   "cell_type": "markdown",
   "metadata": {},
   "source": [
    "## 파이썬 언어 기초 지식"
   ]
  },
  {
   "cell_type": "markdown",
   "metadata": {},
   "source": [
    "#### 대입연산자 (=), 비교연산자(==)\n",
    "  - 대입 연산자의 오른쪽 수식 혹은 값이고, 왼쪽은 변수이다.\n",
    "  - 오른쪽의 수식을 계산하고 왼쪽의 변수에 대입한다.\n",
    "  - 비교연산자는 좌우의 값이 동일한지 여부를 확인한다."
   ]
  },
  {
   "cell_type": "code",
   "execution_count": 6,
   "metadata": {},
   "outputs": [
    {
     "data": {
      "text/plain": [
       "False"
      ]
     },
     "execution_count": 6,
     "metadata": {},
     "output_type": "execute_result"
    }
   ],
   "source": [
    "a = 10 # 10을 a에 대입하다\n",
    "b = 5  # 5를 b에 대입하다\n",
    "a == b # a와 b가 같은지 비교하다) 결과는 True/False으로 나타난다"
   ]
  },
  {
   "cell_type": "markdown",
   "metadata": {},
   "source": [
    "### comment(주석)\n",
    "   - 같은 줄에서 #뒤로는 실행이 되지 않는다"
   ]
  },
  {
   "cell_type": "code",
   "execution_count": 12,
   "metadata": {},
   "outputs": [
    {
     "data": {
      "text/plain": [
       "False"
      ]
     },
     "execution_count": 12,
     "metadata": {},
     "output_type": "execute_result"
    }
   ],
   "source": [
    "a = 10 # 여기는 실행이 되지 않는다\n",
    "b = 5  # 여기는 실행이 되지 않는다\n",
    "a == b"
   ]
  },
  {
   "cell_type": "markdown",
   "metadata": {},
   "source": [
    "### print() 함수\n",
    "   - print 함수는 변수의 값을 출력한다\n",
    "   - ,로 변수를 나눠서 출력한다\n",
    "   - print(value, ..., sep=' ', end='\\n', file=sys.stdout, flush=False)으로 이루어져 있다\n",
    "   - sep : 구분자이며, 각 출력할 변수 사이에서 구별하는 역할을 함. 기본적으로 띄어쓰기로 default 된다.\n",
    "   - end : 마지막에 출력할 문자열을 가리킨다"
   ]
  },
  {
   "cell_type": "code",
   "execution_count": 13,
   "metadata": {
    "scrolled": true
   },
   "outputs": [
    {
     "name": "stdout",
     "output_type": "stream",
     "text": [
      "10 11.4\n",
      "10*10*200*11.4!!"
     ]
    }
   ],
   "source": [
    "a = 10 # int\n",
    "b = 11.4 #float\n",
    "print(a,b)\n",
    "print(a,10,200,b, sep=\"*\", end=\"!!\",flush=False)"
   ]
  },
  {
   "cell_type": "markdown",
   "metadata": {},
   "source": [
    "### reserved keywords (예약어)\n",
    "   - 파이썬이 미리 선정해둔 단어.\n",
    "   - 예) print, class, int 등등.\n",
    "   - 예약어를 변수로 사용할 수 없다."
   ]
  },
  {
   "cell_type": "markdown",
   "metadata": {},
   "source": [
    "### 기본 데이터 타입 \n",
    "  - 정수 (int)\n",
    "  - 실수 (float)\n",
    "  - 문자열 (str)\n",
    "  - 불리언 (boolean)\n",
    "  변수의 기본 테이터 타입을 알고 싶으면 type() 함수를 사용하면 된다."
   ]
  },
  {
   "cell_type": "code",
   "execution_count": 14,
   "metadata": {
    "scrolled": true
   },
   "outputs": [
    {
     "name": "stdout",
     "output_type": "stream",
     "text": [
      "<class 'int'>\n",
      "<class 'float'>\n",
      "<class 'str'>\n",
      "<class 'bool'>\n"
     ]
    }
   ],
   "source": [
    "a = 10\n",
    "b = 11.2\n",
    "c ='stop it man'\n",
    "d = True\n",
    "print(type(a))\n",
    "print(type(b))\n",
    "print(type(c))\n",
    "print(type(d))"
   ]
  },
  {
   "cell_type": "markdown",
   "metadata": {},
   "source": [
    "### None\n",
    "   - 변수가 아무런 값을 갖지 않는다의 의미이다\n",
    "   - 일반적으로 변수에 None로 초기화해서 사용한다\n",
    "   - 기타 언어의 NULL, nil등과 같은 의미로 사용"
   ]
  },
  {
   "cell_type": "markdown",
   "metadata": {},
   "source": [
    "### comparison operator(비교 연산자)\n",
    "   - 같다 (==)\n",
    "   - 같지 않다 (!=)\n",
    "   - 크다, 작다 (>, <)\n",
    "   - 작거나 같다, 크거나 같다 (>=, <=)\n",
    "   - 결과값은 True/False인 boolean 형태이다"
   ]
  },
  {
   "cell_type": "code",
   "execution_count": 16,
   "metadata": {},
   "outputs": [
    {
     "name": "stdout",
     "output_type": "stream",
     "text": [
      "5 4\n",
      "True\n",
      "False\n",
      "True\n",
      "False\n",
      "False\n",
      "True\n",
      "<class 'bool'>\n",
      "True\n",
      "9\n",
      "20\n",
      "1\n",
      "1.25\n",
      "1\n",
      "625\n",
      "36\n"
     ]
    }
   ],
   "source": [
    "a = 5\n",
    "b = 4\n",
    "print(a,b)\n",
    "print(a>b)\n",
    "print(a<b)\n",
    "print(a>=b)\n",
    "print(a<=b)\n",
    "print(a==b)\n",
    "print(a!=b)\n",
    "\n",
    "c = a > b\n",
    "print(type(c))\n",
    "print(c)\n",
    "\n",
    "print(a+b)\n",
    "print(a*b)\n",
    "print(a-b)\n",
    "print(a/b)\n",
    "print(a%b)\n",
    "print(a**b)\n",
    "print((a+b)*4) #연산자 우선순위는 스킵~~~"
   ]
  }
 ],
 "metadata": {
  "kernelspec": {
   "display_name": "Python 3",
   "language": "python",
   "name": "python3"
  },
  "language_info": {
   "codemirror_mode": {
    "name": "ipython",
    "version": 3
   },
   "file_extension": ".py",
   "mimetype": "text/x-python",
   "name": "python",
   "nbconvert_exporter": "python",
   "pygments_lexer": "ipython3",
   "version": "3.7.4"
  }
 },
 "nbformat": 4,
 "nbformat_minor": 2
}
