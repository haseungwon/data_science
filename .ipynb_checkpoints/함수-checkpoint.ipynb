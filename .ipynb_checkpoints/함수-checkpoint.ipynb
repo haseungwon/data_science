{
 "cells": [
  {
   "cell_type": "markdown",
   "metadata": {},
   "source": [
    "### 파이썬 함수\n",
    "   - 내장함수 : len, range, sum\n",
    "        - len() :  리스트, 튜플, 문자열의 길이를 반환한다\n",
    "        - range() : 0부터 k-1까지 이루어진 리스트를 반환\n",
    "        - sum() : 리스트의 합을 구한다"
   ]
  },
  {
   "cell_type": "code",
   "execution_count": 6,
   "metadata": {},
   "outputs": [
    {
     "name": "stdout",
     "output_type": "stream",
     "text": [
      "5 10\n"
     ]
    }
   ],
   "source": [
    "a = range(0,5)\n",
    "length = len(a)\n",
    "total = sum(a)\n",
    "print(length, total)"
   ]
  },
  {
   "cell_type": "markdown",
   "metadata": {},
   "source": [
    "### 사용자 정의 함수\n",
    "   - **def 함수이름 :**의 형식으로 사용한다\n",
    "   - 함수 기본인자(parameter) -> 명시하지 않으면 지정된 값으로 대체된다\n",
    "       - 디폴트 파라미터의 예시) "
   ]
  },
  {
   "cell_type": "code",
   "execution_count": 2,
   "metadata": {
    "scrolled": true
   },
   "outputs": [
    {
     "name": "stdout",
     "output_type": "stream",
     "text": [
      "apple\n",
      "banana\n",
      "grape\n",
      "mango\n",
      "3\n"
     ]
    }
   ],
   "source": [
    "def print_fruit(x, i = 3):\n",
    "    for fruit in x:\n",
    "        print(fruit)\n",
    "    print(i)\n",
    "f = ['apple', 'banana', 'grape','mango']\n",
    "print_fruit(f) # i를 명시하지 않았다"
   ]
  },
  {
   "cell_type": "markdown",
   "metadata": {},
   "source": [
    "### default parameter 사용시 주의 점\n",
    "\n",
    "   - 디폴트 파라미터 뒤에 일반 파라미터가 위치할 수 없음\n",
    "   - e.g)올바른 예\n",
    "        - def test(a,b,c=1)\n",
    "        - def test(a,b=1,c=2)\n",
    "        - def test(a=1, b=1, c=1)\n",
    "   - e.g)올바르지 않은 예\n",
    "        - def test(a,b=1,c)\n",
    "        - def test(a=1, b,c)"
   ]
  },
  {
   "cell_type": "markdown",
   "metadata": {},
   "source": [
    "### keyword parameter (키워드 파라미터)\n",
    "   - 파라미터에 값을 전달할 떄, 파라미터의 이름을 명시하여 전달 가능\n",
    "   - 파라미터 이름을 사용하지 않을 경우, 기본적으로 순서에 맞게 전달"
   ]
  },
  {
   "cell_type": "code",
   "execution_count": 5,
   "metadata": {},
   "outputs": [
    {
     "name": "stdout",
     "output_type": "stream",
     "text": [
      "1 2 3\n",
      "1 2 3\n",
      "1 2 3\n"
     ]
    }
   ],
   "source": [
    " def print_at_once(x,y,z):\n",
    "    print(x,y,z)\n",
    "\n",
    "print_at_once(x=1,y=2,z=3)\n",
    "print_at_once(x=1,z=3,y=2)\n",
    "print_at_once(1,2,z=3) # 이거는 가능\n",
    "# print_at_once(x=1,2,3) 이거는 에러"
   ]
  }
 ],
 "metadata": {
  "kernelspec": {
   "display_name": "Python 3",
   "language": "python",
   "name": "python3"
  },
  "language_info": {
   "codemirror_mode": {
    "name": "ipython",
    "version": 3
   },
   "file_extension": ".py",
   "mimetype": "text/x-python",
   "name": "python",
   "nbconvert_exporter": "python",
   "pygments_lexer": "ipython3",
   "version": "3.7.4"
  }
 },
 "nbformat": 4,
 "nbformat_minor": 2
}
