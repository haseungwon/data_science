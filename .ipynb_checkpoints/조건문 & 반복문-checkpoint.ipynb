{
 "cells": [
  {
   "cell_type": "markdown",
   "metadata": {},
   "source": [
    "### 조건문 (condition)\n",
    "   - if, elif, else로 이루어진다 \n",
    "       - indentation(들여쓰기)가 아주 중요하다\n",
    "   - **if 조건 :**의 형식을 사용한다\n",
    "   - 조건이 한가지 일수도 not, is, and, or, ()를 통해 복합적인 조건을 만들 수 있다"
   ]
  },
  {
   "cell_type": "code",
   "execution_count": 2,
   "metadata": {
    "scrolled": true
   },
   "outputs": [
    {
     "name": "stdout",
     "output_type": "stream",
     "text": [
      "조건이 참이면 이 문장이 나타난다\n"
     ]
    }
   ],
   "source": [
    "if 5 > 4 :\n",
    "    print('조건이 참이면 이 문장이 나타난다')"
   ]
  },
  {
   "cell_type": "code",
   "execution_count": 3,
   "metadata": {
    "scrolled": true
   },
   "outputs": [
    {
     "name": "stdout",
     "output_type": "stream",
     "text": [
      "위의 조건이 거짓이고 현재의 조건이 참이면 이 문장이 나타난다\n"
     ]
    }
   ],
   "source": [
    "if 5 < 4 :\n",
    "    print('조건이 참이면 이 문장이 나타난다')\n",
    "elif 7 > 6 :\n",
    "    print('위의 조건이 거짓이고 현재의 조건이 참이면 이 문장이 나타난다')"
   ]
  },
  {
   "cell_type": "code",
   "execution_count": 4,
   "metadata": {
    "scrolled": true
   },
   "outputs": [
    {
     "name": "stdout",
     "output_type": "stream",
     "text": [
      "위의 모든 조건이 거짓이면 이 문장이 나타난다\n"
     ]
    }
   ],
   "source": [
    "if 5 < 4 :\n",
    "    print('조건이 참이면 이 문장이 나타난다')\n",
    "elif 7 < 6 :\n",
    "    print('위의 조건이 거짓이고 현재의 조건이 참이면 이 문장이 나타난다')\n",
    "else :\n",
    "    print('위의 모든 조건이 거짓이면 이 문장이 나타난다')"
   ]
  },
  {
   "cell_type": "code",
   "execution_count": 6,
   "metadata": {},
   "outputs": [
    {
     "name": "stdout",
     "output_type": "stream",
     "text": [
      "참이다\n"
     ]
    }
   ],
   "source": [
    "a = 100\n",
    "b = 20\n",
    "if (a % 5 == 0) and b is 20 :\n",
    "    print('참이다')"
   ]
  },
  {
   "cell_type": "code",
   "execution_count": 7,
   "metadata": {},
   "outputs": [
    {
     "name": "stdout",
     "output_type": "stream",
     "text": [
      "a가 1 또는 b가 9이면 참이다\n",
      "a가 1이면서 b가 2이거나 c가 4일 경우 참이다 \n"
     ]
    }
   ],
   "source": [
    "a = 10\n",
    "b = 9\n",
    "c = 4\n",
    "\n",
    "if a==1 or b==9:\n",
    "    print('a가 1 또는 b가 9이면 참이다')\n",
    "if(a==1 and b==2) or c==4:\n",
    "    print('a가 1이면서 b가 2이거나 c가 4일 경우 참이다 ')"
   ]
  },
  {
   "cell_type": "markdown",
   "metadata": {},
   "source": [
    "### 반복문 (for, while)\n",
    "   - while문은 while 문의 조건이 참일때 반복한다\n",
    "       - 즉 조건이 거짓이 될때 반복에서 빠져나온다\n",
    "   - for문은 매우 직관적인데 예를 들어 for x in a x가 a에 있는 동안으로 x가 a를 순회하면서 반복문이 진행된다"
   ]
  },
  {
   "cell_type": "code",
   "execution_count": 10,
   "metadata": {},
   "outputs": [
    {
     "name": "stdout",
     "output_type": "stream",
     "text": [
      "6\n",
      "7\n",
      "8\n",
      "while문 사용 예시\n"
     ]
    }
   ],
   "source": [
    "a = [1,2,3,4,5,6,7,8,1,1,1,1,2,2]\n",
    "i = 0\n",
    "while i<len(a):\n",
    "    if a[i]>=6:\n",
    "        print(a[i])\n",
    "    i+=1\n",
    "print('while문 사용 예시')"
   ]
  },
  {
   "cell_type": "code",
   "execution_count": 11,
   "metadata": {
    "scrolled": true
   },
   "outputs": [
    {
     "name": "stdout",
     "output_type": "stream",
     "text": [
      "2\n",
      "6\n",
      "while문 사용 예시\n"
     ]
    }
   ],
   "source": [
    "a = [1,2,3,5,1,3,6,3,7]\n",
    "i=0\n",
    "while i<len(a):\n",
    "    if(a[i]%2==0):\n",
    "        print(a[i])\n",
    "    i+=1\n",
    "print('while문 사용 예시')"
   ]
  },
  {
   "cell_type": "markdown",
   "metadata": {},
   "source": [
    "- break문 : 반복문에서 강제적으로 빠져나옴"
   ]
  },
  {
   "cell_type": "code",
   "execution_count": 12,
   "metadata": {
    "scrolled": true
   },
   "outputs": [
    {
     "name": "stdout",
     "output_type": "stream",
     "text": [
      "인터페이스 화이팅\n",
      "인터페이스 화이팅\n",
      "인터페이스 화이팅\n",
      "인터페이스 화이팅\n",
      "인터페이스 화이팅\n",
      "인터페이스 화이팅\n",
      "인터페이스 화이팅\n",
      "인터페이스 화이팅\n"
     ]
    }
   ],
   "source": [
    "i=0;\n",
    "while(True):\n",
    "    if(i==8):\n",
    "        break\n",
    "    print('인터페이스 화이팅')\n",
    "    i+=1"
   ]
  },
  {
   "cell_type": "markdown",
   "metadata": {},
   "source": [
    "- 1 부터 10까지의 제곱의 합구하기"
   ]
  },
  {
   "cell_type": "code",
   "execution_count": 15,
   "metadata": {},
   "outputs": [
    {
     "name": "stdout",
     "output_type": "stream",
     "text": [
      "385\n"
     ]
    }
   ],
   "source": [
    "i = 1\n",
    "num=0\n",
    "while i<=10:\n",
    "    num +=i**2\n",
    "    i+=1\n",
    "print(num)"
   ]
  },
  {
   "cell_type": "code",
   "execution_count": 16,
   "metadata": {},
   "outputs": [
    {
     "name": "stdout",
     "output_type": "stream",
     "text": [
      "385\n"
     ]
    }
   ],
   "source": [
    "a = [1,2,3,4,5,6,7,8,9,10]\n",
    "num = 0\n",
    "for x in a:\n",
    "    num += x**2\n",
    "print(num)"
   ]
  },
  {
   "cell_type": "code",
   "execution_count": 17,
   "metadata": {
    "scrolled": true
   },
   "outputs": [
    {
     "name": "stdout",
     "output_type": "stream",
     "text": [
      "인\n",
      "터\n",
      "페\n",
      "이\n",
      "스\n",
      " \n",
      "화\n",
      "이\n",
      "팅\n"
     ]
    }
   ],
   "source": [
    "a ='인터페이스 화이팅'\n",
    "for x in a:\n",
    "    print(x)"
   ]
  },
  {
   "cell_type": "markdown",
   "metadata": {},
   "source": [
    "### 딕셔너리의 아이템 출력하기\n",
    "   - 딕셔너리를 for문을 이용해서 순회가 가능하다\n",
    "   - default으로 키를 순회한다 -> for key in a\n",
    "   - 따라서 value를 순회하고자 한다면 values() 함수를 사용해야한다\n",
    "       - for value in a.values()\n",
    "   - 키와 값 모두를 순회하고자 한다면, items() 함수를 사용해야한다.\n",
    "       - 이때 items는 튜플 형태로 (키,값)을 반환하기 떄문에 유의해야한다\n",
    "           - for key, value in a.items()"
   ]
  },
  {
   "cell_type": "code",
   "execution_count": 21,
   "metadata": {},
   "outputs": [
    {
     "name": "stdout",
     "output_type": "stream",
     "text": [
      "korea\n",
      "japan\n",
      "america\n",
      "\n",
      "seoul\n",
      "tokyo\n",
      "washington dc\n",
      "\n",
      "korea의 수도는 seoul이다\n",
      "japan의 수도는 tokyo이다\n",
      "america의 수도는 washington dc이다\n"
     ]
    }
   ],
   "source": [
    "a = {'korea':'seoul', 'japan':'tokyo', 'america':'washington dc'}\n",
    "# 일반적으로는 key 만 순회한다\n",
    "for key in a:\n",
    "    print(key)\n",
    "print()\n",
    "for value in a.values():\n",
    "    print(value)\n",
    "print()\n",
    "# tuple인 경우 , 로 접근 가능\n",
    "for a,b in a.items():\n",
    "    print('{}의 수도는 {}이다'.format(a,b))"
   ]
  },
  {
   "cell_type": "markdown",
   "metadata": {},
   "source": [
    "### for문에서 index를 사용하고 싶다면???\n",
    "   - 위에서와 같이 for x in a에서 a가 리스트, 문자열임에도 불구하고 인덱스를 사용하지 않았다.\n",
    "   - enumerate()함수를 사용하면 (인덱스, 값)의 튜플 형태로 반환한다."
   ]
  },
  {
   "cell_type": "markdown",
   "metadata": {},
   "source": [
    "#### range 함수\n",
    "   - range() 함수는 시작점, 끝점, 증가율로 이루어져있다\n",
    "       - 증갸울은 1로 default 되어있다\n",
    "   - for x in range(1,10)은 1부터 9까지 x가 반복문이 끝날때 1씩 증가함을 의미한다\n",
    "   "
   ]
  },
  {
   "cell_type": "code",
   "execution_count": 27,
   "metadata": {},
   "outputs": [
    {
     "name": "stdout",
     "output_type": "stream",
     "text": [
      "1\n",
      "3\n",
      "5\n",
      "7\n",
      "9\n"
     ]
    }
   ],
   "source": [
    "for x in range(1,10,2):\n",
    "    print(x)"
   ]
  },
  {
   "cell_type": "code",
   "execution_count": 22,
   "metadata": {},
   "outputs": [
    {
     "name": "stdout",
     "output_type": "stream",
     "text": [
      "0 1\n",
      "1 2\n",
      "2 3\n",
      "3 4\n",
      "4 5\n",
      "5 6\n"
     ]
    }
   ],
   "source": [
    "a = [1,2,3,4,5,6]\n",
    "for i, val in enumerate(a):\n",
    "    print(i,val)"
   ]
  },
  {
   "cell_type": "markdown",
   "metadata": {},
   "source": [
    "#### 연습문제 구구단 출력해보기"
   ]
  },
  {
   "cell_type": "code",
   "execution_count": 30,
   "metadata": {
    "scrolled": true
   },
   "outputs": [
    {
     "name": "stdout",
     "output_type": "stream",
     "text": [
      "1 * 1 = 1\n",
      "1 * 2 = 2\n",
      "1 * 3 = 3\n",
      "1 * 4 = 4\n",
      "1 * 5 = 5\n",
      "1 * 6 = 6\n",
      "1 * 7 = 7\n",
      "1 * 8 = 8\n",
      "1 * 9 = 9\n",
      "  *****  \n",
      "2 * 1 = 2\n",
      "2 * 2 = 4\n",
      "2 * 3 = 6\n",
      "2 * 4 = 8\n",
      "2 * 5 = 10\n",
      "2 * 6 = 12\n",
      "2 * 7 = 14\n",
      "2 * 8 = 16\n",
      "2 * 9 = 18\n",
      "  *****  \n",
      "3 * 1 = 3\n",
      "3 * 2 = 6\n",
      "3 * 3 = 9\n",
      "3 * 4 = 12\n",
      "3 * 5 = 15\n",
      "3 * 6 = 18\n",
      "3 * 7 = 21\n",
      "3 * 8 = 24\n",
      "3 * 9 = 27\n",
      "  *****  \n",
      "4 * 1 = 4\n",
      "4 * 2 = 8\n",
      "4 * 3 = 12\n",
      "4 * 4 = 16\n",
      "4 * 5 = 20\n",
      "4 * 6 = 24\n",
      "4 * 7 = 28\n",
      "4 * 8 = 32\n",
      "4 * 9 = 36\n",
      "  *****  \n",
      "5 * 1 = 5\n",
      "5 * 2 = 10\n",
      "5 * 3 = 15\n",
      "5 * 4 = 20\n",
      "5 * 5 = 25\n",
      "5 * 6 = 30\n",
      "5 * 7 = 35\n",
      "5 * 8 = 40\n",
      "5 * 9 = 45\n",
      "  *****  \n",
      "6 * 1 = 6\n",
      "6 * 2 = 12\n",
      "6 * 3 = 18\n",
      "6 * 4 = 24\n",
      "6 * 5 = 30\n",
      "6 * 6 = 36\n",
      "6 * 7 = 42\n",
      "6 * 8 = 48\n",
      "6 * 9 = 54\n",
      "  *****  \n",
      "7 * 1 = 7\n",
      "7 * 2 = 14\n",
      "7 * 3 = 21\n",
      "7 * 4 = 28\n",
      "7 * 5 = 35\n",
      "7 * 6 = 42\n",
      "7 * 7 = 49\n",
      "7 * 8 = 56\n",
      "7 * 9 = 63\n",
      "  *****  \n",
      "8 * 1 = 8\n",
      "8 * 2 = 16\n",
      "8 * 3 = 24\n",
      "8 * 4 = 32\n",
      "8 * 5 = 40\n",
      "8 * 6 = 48\n",
      "8 * 7 = 56\n",
      "8 * 8 = 64\n",
      "8 * 9 = 72\n",
      "  *****  \n",
      "9 * 1 = 9\n",
      "9 * 2 = 18\n",
      "9 * 3 = 27\n",
      "9 * 4 = 36\n",
      "9 * 5 = 45\n",
      "9 * 6 = 54\n",
      "9 * 7 = 63\n",
      "9 * 8 = 72\n",
      "9 * 9 = 81\n",
      "  *****  \n"
     ]
    }
   ],
   "source": [
    "a = [1, 2, 3, 4, 5, 6, 7, 8, 9]\n",
    "for x in a:\n",
    "    for i in a:\n",
    "        print('{} * {} = {}'.format(x, i, x*i))\n",
    "    print('  *****  ')"
   ]
  },
  {
   "cell_type": "code",
   "execution_count": 31,
   "metadata": {
    "scrolled": true
   },
   "outputs": [
    {
     "name": "stdout",
     "output_type": "stream",
     "text": [
      "1 * 1 = 1\n",
      "1 * 2 = 2\n",
      "1 * 3 = 3\n",
      "1 * 4 = 4\n",
      "1 * 5 = 5\n",
      "1 * 6 = 6\n",
      "1 * 7 = 7\n",
      "1 * 8 = 8\n",
      "1 * 9 = 9\n",
      "  *****  \n",
      "2 * 1 = 2\n",
      "2 * 2 = 4\n",
      "2 * 3 = 6\n",
      "2 * 4 = 8\n",
      "2 * 5 = 10\n",
      "2 * 6 = 12\n",
      "2 * 7 = 14\n",
      "2 * 8 = 16\n",
      "2 * 9 = 18\n",
      "  *****  \n",
      "3 * 1 = 3\n",
      "3 * 2 = 6\n",
      "3 * 3 = 9\n",
      "3 * 4 = 12\n",
      "3 * 5 = 15\n",
      "3 * 6 = 18\n",
      "3 * 7 = 21\n",
      "3 * 8 = 24\n",
      "3 * 9 = 27\n",
      "  *****  \n",
      "4 * 1 = 4\n",
      "4 * 2 = 8\n",
      "4 * 3 = 12\n",
      "4 * 4 = 16\n",
      "4 * 5 = 20\n",
      "4 * 6 = 24\n",
      "4 * 7 = 28\n",
      "4 * 8 = 32\n",
      "4 * 9 = 36\n",
      "  *****  \n",
      "5 * 1 = 5\n",
      "5 * 2 = 10\n",
      "5 * 3 = 15\n",
      "5 * 4 = 20\n",
      "5 * 5 = 25\n",
      "5 * 6 = 30\n",
      "5 * 7 = 35\n",
      "5 * 8 = 40\n",
      "5 * 9 = 45\n",
      "  *****  \n",
      "6 * 1 = 6\n",
      "6 * 2 = 12\n",
      "6 * 3 = 18\n",
      "6 * 4 = 24\n",
      "6 * 5 = 30\n",
      "6 * 6 = 36\n",
      "6 * 7 = 42\n",
      "6 * 8 = 48\n",
      "6 * 9 = 54\n",
      "  *****  \n",
      "7 * 1 = 7\n",
      "7 * 2 = 14\n",
      "7 * 3 = 21\n",
      "7 * 4 = 28\n",
      "7 * 5 = 35\n",
      "7 * 6 = 42\n",
      "7 * 7 = 49\n",
      "7 * 8 = 56\n",
      "7 * 9 = 63\n",
      "  *****  \n",
      "8 * 1 = 8\n",
      "8 * 2 = 16\n",
      "8 * 3 = 24\n",
      "8 * 4 = 32\n",
      "8 * 5 = 40\n",
      "8 * 6 = 48\n",
      "8 * 7 = 56\n",
      "8 * 8 = 64\n",
      "8 * 9 = 72\n",
      "  *****  \n",
      "9 * 1 = 9\n",
      "9 * 2 = 18\n",
      "9 * 3 = 27\n",
      "9 * 4 = 36\n",
      "9 * 5 = 45\n",
      "9 * 6 = 54\n",
      "9 * 7 = 63\n",
      "9 * 8 = 72\n",
      "9 * 9 = 81\n",
      "  *****  \n"
     ]
    }
   ],
   "source": [
    "for x in range(1,10):\n",
    "    for i in range(1,10):\n",
    "         print('{} * {} = {}'.format(x, i, x*i))\n",
    "    print('  *****  ')"
   ]
  }
 ],
 "metadata": {
  "kernelspec": {
   "display_name": "Python 3",
   "language": "python",
   "name": "python3"
  },
  "language_info": {
   "codemirror_mode": {
    "name": "ipython",
    "version": 3
   },
   "file_extension": ".py",
   "mimetype": "text/x-python",
   "name": "python",
   "nbconvert_exporter": "python",
   "pygments_lexer": "ipython3",
   "version": "3.7.4"
  }
 },
 "nbformat": 4,
 "nbformat_minor": 2
}
