{
 "cells": [
  {
   "cell_type": "markdown",
   "metadata": {},
   "source": [
    "# Hello python\n",
    "## hello python\n",
    "### hello python\n",
    "#### hello python\n",
    "**python** is *really* cool\n",
    "- python\n",
    "    - DO\n",
    "- DL\n",
    "- DE\n",
    "- java\n",
    "- c\n",
    "\n",
    "$y=$x+1\n",
    "\n",
    "> 파이썬 좋아\n",
    "\n",
    "```python\n",
    "    a=10    \n",
    "    print(a)\n",
    "```\n",
    "\n",
    "[패스트 캠퍼스](https://www.fastcampus.co.kr/online/#/courses/200681/clips/6000)"
   ]
  },
  {
   "cell_type": "code",
   "execution_count": 50,
   "metadata": {},
   "outputs": [
    {
     "name": "stdout",
     "output_type": "stream",
     "text": [
      "10 11.4\n",
      "10*10*200*11.4!!"
     ]
    }
   ],
   "source": [
    "a = 10 # int\n",
    "b = 11.4 #float\n",
    "print(a,b)\n",
    "print(a,10,200,b, sep=\"*\", end=\"!!\",flush=False)\n",
    "\n"
   ]
  },
  {
   "cell_type": "code",
   "execution_count": 51,
   "metadata": {},
   "outputs": [],
   "source": [
    "a #변수값 확인 가능\n",
    "b #변수의 마지막이 out으로 나옴\n",
    "number_of_students = 100 #변수를 명확하게\n",
    "\n",
    "# 예약어들for while class try except\n"
   ]
  },
  {
   "cell_type": "code",
   "execution_count": 52,
   "metadata": {
    "scrolled": true
   },
   "outputs": [
    {
     "name": "stdout",
     "output_type": "stream",
     "text": [
      "10 11.45 None\n"
     ]
    }
   ],
   "source": [
    "a =10\n",
    "b= 11.45\n",
    "c = None #빈 변수를 생성하고 싶을떄\n",
    "\n",
    "print(a,b,c)"
   ]
  },
  {
   "cell_type": "code",
   "execution_count": 54,
   "metadata": {
    "scrolled": false
   },
   "outputs": [
    {
     "name": "stdout",
     "output_type": "stream",
     "text": [
      "5 4\n",
      "True\n",
      "False\n",
      "True\n",
      "False\n",
      "False\n",
      "True\n",
      "<class 'bool'>\n",
      "True\n",
      "9\n",
      "20\n",
      "1\n",
      "1.25\n",
      "1\n",
      "625\n",
      "36\n"
     ]
    }
   ],
   "source": [
    "a = 5\n",
    "b = 4\n",
    "print(a,b)\n",
    "print(a>b)\n",
    "print(a<b)\n",
    "print(a>=b)\n",
    "print(a<=b)\n",
    "print(a==b)\n",
    "print(a!=b)\n",
    "\n",
    "c = a > b\n",
    "c= True\n",
    "print(type(c))\n",
    "print(c)\n",
    "\n",
    "print(a+b)\n",
    "print(a*b)\n",
    "print(a-b)\n",
    "print(a/b)\n",
    "print(a%b)\n",
    "print(a**b)\n",
    "print((a+b)*4) #연산자 우선순위\n"
   ]
  },
  {
   "cell_type": "code",
   "execution_count": 57,
   "metadata": {},
   "outputs": [
    {
     "name": "stdout",
     "output_type": "stream",
     "text": [
      "9\n",
      "6\n",
      "9\n"
     ]
    }
   ],
   "source": [
    "#quiz\n",
    "\n",
    "a= 9\n",
    "print(a)\n",
    "print(a-3)\n",
    "print(a)"
   ]
  },
  {
   "cell_type": "code",
   "execution_count": 61,
   "metadata": {},
   "outputs": [
    {
     "name": "stdout",
     "output_type": "stream",
     "text": [
      "\"Hello World.\n",
      "\n",
      "\n",
      "It's a wonderful world\n"
     ]
    }
   ],
   "source": [
    "a = 'Hello world'\n",
    "b = \"Hello world\"\n",
    "c = '''Hello World'''\n",
    "d = \"\"\"Hello World\"\"\"\n",
    "e = \"\"\"\"Hello World.\n",
    "\n",
    "\n",
    "It's a wonderful world\"\"\"\n",
    "print(e)"
   ]
  },
  {
   "cell_type": "code",
   "execution_count": 63,
   "metadata": {},
   "outputs": [
    {
     "name": "stdout",
     "output_type": "stream",
     "text": [
      "Hello World\n",
      "\n",
      "a\thahahah\n"
     ]
    }
   ],
   "source": [
    "# 이스케이프 문자\n",
    "print(\"Hello World\\n\") #\\n\n",
    "print(\"a\\thahahah\")    #\\t"
   ]
  },
  {
   "cell_type": "markdown",
   "metadata": {},
   "source": [
    "인덱스의 범위\n",
    "- 인덱스는 [0,문자열의 길이]의 범위만 유효\n",
    "- 음수 인덱스를 사용할 경우, [-문저열의 길이, -1]\n",
    "- 범위를 넘어갈 경우 에러 발생"
   ]
  },
  {
   "cell_type": "code",
   "execution_count": 68,
   "metadata": {
    "scrolled": true
   },
   "outputs": [
    {
     "name": "stdout",
     "output_type": "stream",
     "text": [
      "H\n",
      "d\n"
     ]
    }
   ],
   "source": [
    "a = 'Hello World' #길이 : 11\n",
    "print(a[0])\n",
    "print(a[-1]) #-1은 마지막 인덱스\n",
    "#print(a[11])\n",
    "#print(a[-12]) "
   ]
  },
  {
   "cell_type": "markdown",
   "metadata": {},
   "source": [
    "문자열 slicing\n",
    "- 인덱스가 하나의 문자만을 추출한다면,\n",
    "- slicing은 부분 문자열을 추출한다고 볼 수 있음\n",
    "- [시작:끝]와 같이 명시하여 [시작, 끝]에 해당하는 부분 문자열을 추출\n",
    "- 시작, 끝 인덱스가 생략이 되어 있다면, 0부터 혹은 끝까지로 간주"
   ]
  },
  {
   "cell_type": "code",
   "execution_count": 73,
   "metadata": {},
   "outputs": [
    {
     "name": "stdout",
     "output_type": "stream",
     "text": [
      "Hell\n",
      "ello w\n",
      "Hel\n",
      "lo world\n",
      "Hello world\n"
     ]
    }
   ],
   "source": [
    "a = 'Hello world'\n",
    "print(a[0:4])\n",
    "print(a[1: 7])\n",
    "print(a[:3])\n",
    "print(a[3:])\n",
    "print(a[:])"
   ]
  },
  {
   "cell_type": "markdown",
   "metadata": {},
   "source": [
    "문자열 함수\n",
    "- 문자열은 여러가지 기능 제공을 위한 함수를 내장\n",
    "- 함수란 특정 기능을 하는 코드롤 언제든지 호출하여 해당 기능을 사용 가능하도록 구성한 코드"
   ]
  },
  {
   "cell_type": "code",
   "execution_count": 80,
   "metadata": {},
   "outputs": [
    {
     "name": "stdout",
     "output_type": "stream",
     "text": [
      "hello world\n",
      "HELLO WORLD\n"
     ]
    }
   ],
   "source": [
    "a = 'hello world'\n",
    "a.upper()\n",
    "print(a)\n",
    "print(a.upper())"
   ]
  },
  {
   "cell_type": "markdown",
   "metadata": {},
   "source": [
    "- replace\n",
    "    - 문자열 내의 특정 문자를 치환"
   ]
  },
  {
   "cell_type": "code",
   "execution_count": 82,
   "metadata": {},
   "outputs": [
    {
     "name": "stdout",
     "output_type": "stream",
     "text": [
      "hello world\n",
      "jello world\n"
     ]
    }
   ],
   "source": [
    "a = 'hello world'\n",
    "a.replace('h','j')\n",
    "print(a)\n",
    "print(a.replace(\"h\",'j'))"
   ]
  },
  {
   "cell_type": "markdown",
   "metadata": {},
   "source": [
    "- format\n",
    "    - 문자열내의 특정한 값을 변수로부터 초기화하여 동적으로 문자열을 생성"
   ]
  },
  {
   "cell_type": "code",
   "execution_count": 88,
   "metadata": {},
   "outputs": [
    {
     "name": "stdout",
     "output_type": "stream",
     "text": [
      "오늘 기온은 25.5도 이고, 비올 확률은 80.0% 입니다\n"
     ]
    }
   ],
   "source": [
    "temperature = 25.5\n",
    "prob = 80.0\n",
    "\n",
    "a = \"오늘 기온은 {}도 이고, 비올 확률은 {}% 입니다\".format(temperature, prob)\n",
    "print(a)"
   ]
  },
  {
   "cell_type": "markdown",
   "metadata": {},
   "source": [
    "- split\n",
    "    - 문자열을 특정한 문자 구분하여(delimiter) 문자열의 **리스트**\n",
    "   로 치환\n",
    "    - 특정 문자 앞 뒤로 짜름\n",
    "   "
   ]
  },
  {
   "cell_type": "code",
   "execution_count": 91,
   "metadata": {},
   "outputs": [
    {
     "name": "stdout",
     "output_type": "stream",
     "text": [
      "hello world what a nice weather\n",
      "['hello', 'world', 'what', 'a', 'nice', 'weather']\n"
     ]
    }
   ],
   "source": [
    "a = 'hello world what a nice weather'\n",
    "\n",
    "print(a)\n",
    "print(a.split())"
   ]
  },
  {
   "cell_type": "markdown",
   "metadata": {},
   "source": [
    "## 리스트 & 튜플 \n",
    "- 복수개의 값을 담을 수 있는 데이터 구조\n",
    "- 실생활에서 사용하는 리스트(학생 리스트, 성적 리스트 ...)과 동일한 의미로 이해\n",
    "- list - mutable(생성된 후에 변경 가능)\n",
    "- tuple - immutable(생성된 후에 변경 불가능)"
   ]
  },
  {
   "cell_type": "markdown",
   "metadata": {},
   "source": [
    "## 리스트 초기화\n",
    "[] 안에 값을 담아서 생성\n",
    "list() 함수로 생성\n",
    "str.split()함수로 생성"
   ]
  },
  {
   "cell_type": "code",
   "execution_count": 92,
   "metadata": {},
   "outputs": [
    {
     "name": "stdout",
     "output_type": "stream",
     "text": [
      "[]\n"
     ]
    }
   ],
   "source": [
    "a = []\n",
    "print(a)"
   ]
  },
  {
   "cell_type": "code",
   "execution_count": 94,
   "metadata": {},
   "outputs": [
    {
     "name": "stdout",
     "output_type": "stream",
     "text": [
      "[1, 2, 3, 4, 5]\n"
     ]
    }
   ],
   "source": [
    "a =[1, 2, 3, 4, 5]\n",
    "print(a)"
   ]
  },
  {
   "cell_type": "code",
   "execution_count": 98,
   "metadata": {},
   "outputs": [
    {
     "name": "stdout",
     "output_type": "stream",
     "text": [
      "['korea', 'canada', 1, 23, [34, 56]]\n",
      "<class 'list'>\n",
      "<class 'int'>\n"
     ]
    }
   ],
   "source": [
    "a = ['korea', 'canada', 1, 23, [34, 56]]\n",
    "print(a)\n",
    "print(type(a[4]))\n",
    "print(type(a[2]))"
   ]
  },
  {
   "cell_type": "code",
   "execution_count": 100,
   "metadata": {},
   "outputs": [
    {
     "name": "stdout",
     "output_type": "stream",
     "text": [
      "['h', 'e', 'l', 'l', 'o', ' ', 'w', 'o', 'r', 'l', 'd']\n",
      "[1, 2, 3]\n"
     ]
    }
   ],
   "source": [
    "a = 'hello world'\n",
    "b = list(a)\n",
    "print(b)\n",
    "\n",
    "c = (1,2,3)\n",
    "d =list(c)\n",
    "print(d)"
   ]
  },
  {
   "cell_type": "markdown",
   "metadata": {},
   "source": [
    "- string split 함수\n",
    "    - 구분자로 구분되는 리스트를 반환(빈번히 사용)"
   ]
  },
  {
   "cell_type": "code",
   "execution_count": 103,
   "metadata": {},
   "outputs": [
    {
     "name": "stdout",
     "output_type": "stream",
     "text": [
      "['hello', 'world']\n"
     ]
    }
   ],
   "source": [
    "a = 'hello world'\n",
    "b= a.split()\n",
    "print(b)\n"
   ]
  },
  {
   "cell_type": "markdown",
   "metadata": {},
   "source": [
    "## 리스트 indexing\n",
    "- 문자열의 인덱싱과 동일\n",
    "- [i] - i 번쨰 원소를 반환\n",
    "- i가 음수인 경우도 가능하며 마지막 원소가 -1로 하여 앞으로 갈때마다 1씩 감소함"
   ]
  },
  {
   "cell_type": "code",
   "execution_count": 105,
   "metadata": {},
   "outputs": [
    {
     "name": "stdout",
     "output_type": "stream",
     "text": [
      "3\n",
      "4\n"
     ]
    }
   ],
   "source": [
    "a = [1,2,3,4,5]\n",
    "print(a[2])\n",
    "print(a[3])"
   ]
  },
  {
   "cell_type": "code",
   "execution_count": 114,
   "metadata": {},
   "outputs": [
    {
     "name": "stdout",
     "output_type": "stream",
     "text": [
      "h\n",
      "jello world\n",
      "jello world\n"
     ]
    }
   ],
   "source": [
    "# 불변(immutable) 문자열\n",
    "a = 'hello world'\n",
    "print(a[0])\n",
    "#a[0]='j'     안됨\n",
    "\n",
    "# 방법 1\n",
    "a = 'j'+a[1:]\n",
    "# 방법 2\n",
    "a = 'jello world'\n",
    "# 방법 3\n",
    "b = a.replace('h','j')\n",
    "print(a)\n",
    "print(b)\n",
    "\n"
   ]
  },
  {
   "cell_type": "code",
   "execution_count": 115,
   "metadata": {},
   "outputs": [
    {
     "name": "stdout",
     "output_type": "stream",
     "text": [
      "['hello', 2, 3, 4, 100]\n"
     ]
    }
   ],
   "source": [
    "a = [1,2,3,4,5]\n",
    "a[4] = 100\n",
    "a[0] = 'hello'\n",
    "print(a)"
   ]
  },
  {
   "cell_type": "markdown",
   "metadata": {},
   "source": [
    "## 리스트 slicing\n",
    "- 문자열 슬라이싱과 동일\n",
    "- 슬라이싱의 결과 역시 list"
   ]
  },
  {
   "cell_type": "code",
   "execution_count": 125,
   "metadata": {},
   "outputs": [
    {
     "name": "stdout",
     "output_type": "stream",
     "text": [
      "[5, 6, 7]\n",
      "[1, 2, 3, 4, 5, 6, 7]\n",
      "[3, 4, 5, 6, 7, 8]\n",
      "[1, 2, 3, 4, 5, 6, 7, 8]\n",
      "[2, 4, 6]\n",
      "[1, 4, 7]\n"
     ]
    }
   ],
   "source": [
    "a = [1, 2, 3 ,4 ,5, 6, 7, 8]\n",
    "print(a[4:7])\n",
    "print(a[:7])\n",
    "print(a[2:])\n",
    "print(a[:])\n",
    "\n",
    "# slicing\n",
    "# start : end: increment\n",
    "print(a[1:7:2])\n",
    "print(a[::3])"
   ]
  },
  {
   "cell_type": "markdown",
   "metadata": {},
   "source": [
    "## list 멤버 함수\n",
    "- 생성된 리스트 객체에 동작하는 함수\n",
    "- 향후, 클래스와 멤버 함수 개념을 이해할 예정\n"
   ]
  },
  {
   "cell_type": "markdown",
   "metadata": {},
   "source": [
    "- append()\n",
    "    - 리스트의 끝에 항목을 추가함"
   ]
  },
  {
   "cell_type": "code",
   "execution_count": 126,
   "metadata": {},
   "outputs": [
    {
     "name": "stdout",
     "output_type": "stream",
     "text": [
      "[1, 2, 3, 4, 5, 100]\n"
     ]
    }
   ],
   "source": [
    "a = [1,2,3,4,5]\n",
    "a.append(100)\n",
    "print(a)\n"
   ]
  },
  {
   "cell_type": "markdown",
   "metadata": {},
   "source": [
    "- extend()\n",
    "    - 리스트를 연장\n",
    "    - +=으로도 가능"
   ]
  },
  {
   "cell_type": "code",
   "execution_count": 132,
   "metadata": {},
   "outputs": [
    {
     "name": "stdout",
     "output_type": "stream",
     "text": [
      "[1, 2, 3, 4, 5, 6, 7, 8, 9, 10, 6, 7, 8, 9, 10]\n"
     ]
    }
   ],
   "source": [
    "a = [1, 2, 3, 4, 5]\n",
    "b = [6, 7, 8, 9, 10]\n",
    "\n",
    "#][1, 2, 3, 4, 5, 6, 7, 8, 9, 10]\n",
    "#a.append(b)\n",
    "#print(a)\n",
    "#결과값 \n",
    "#[1, 2, 3, 4, 5, [6, 7, 8, 9, 10]]\n",
    "\n",
    "\n",
    "# 방법 1\n",
    "a.extend(b)\n",
    "#방법 2\n",
    "a += b\n",
    "print(a)\n"
   ]
  },
  {
   "cell_type": "markdown",
   "metadata": {},
   "source": [
    "- insert()로 추가하기\n",
    "    - 리스트의 원하는 위치에 추가 가능\n",
    "    - 앞에 인덱스를, 뒤에는 아이템을 명시\n",
    "   "
   ]
  },
  {
   "cell_type": "code",
   "execution_count": 134,
   "metadata": {},
   "outputs": [
    {
     "name": "stdout",
     "output_type": "stream",
     "text": [
      "[1, 40, 2, 3, 4, 5]\n"
     ]
    }
   ],
   "source": [
    "a = [1, 2, 3, 4, 5]\n",
    "a.insert(1, 40)\n",
    "print(a)"
   ]
  },
  {
   "cell_type": "markdown",
   "metadata": {},
   "source": [
    "- remove()\n",
    "    - 값으로 항목 삭제"
   ]
  },
  {
   "cell_type": "code",
   "execution_count": 136,
   "metadata": {},
   "outputs": [
    {
     "name": "stdout",
     "output_type": "stream",
     "text": [
      "[1, 2, 4, 5]\n"
     ]
    }
   ],
   "source": [
    "a = [1, 2, 3, 4, 5]\n",
    "a.remove(3)\n",
    "print(a)"
   ]
  },
  {
   "cell_type": "markdown",
   "metadata": {},
   "source": [
    "- pop()\n",
    "    - 지우고자 하는 아이템을 반환 후, 삭제\n",
    "  "
   ]
  },
  {
   "cell_type": "code",
   "execution_count": 138,
   "metadata": {},
   "outputs": [
    {
     "name": "stdout",
     "output_type": "stream",
     "text": [
      "[1, 3, 4, 5, 6]\n",
      "2\n"
     ]
    }
   ],
   "source": [
    "a = [1, 2, 3, 4, 5, 6]\n",
    "b = a.pop(1)\n",
    "print(a)\n",
    "print(b)"
   ]
  },
  {
   "cell_type": "markdown",
   "metadata": {},
   "source": [
    "- index()\n",
    "    - 찾고자 하는 값의 인덱스 반환"
   ]
  },
  {
   "cell_type": "code",
   "execution_count": 139,
   "metadata": {},
   "outputs": [
    {
     "data": {
      "text/plain": [
       "3"
      ]
     },
     "execution_count": 139,
     "metadata": {},
     "output_type": "execute_result"
    }
   ],
   "source": [
    "a = [2, 6, 7, 9, 10]\n",
    "a.index(9)"
   ]
  },
  {
   "cell_type": "markdown",
   "metadata": {},
   "source": [
    "- in키워드\n",
    "    - 리스트 내에 해당 값이 존재하는지 확인\n",
    "    - value in [list]\n",
    "    - True, False 중 한가지로 반환\n",
    "    "
   ]
  },
  {
   "cell_type": "code",
   "execution_count": 140,
   "metadata": {},
   "outputs": [
    {
     "name": "stdout",
     "output_type": "stream",
     "text": [
      "True\n"
     ]
    }
   ],
   "source": [
    "a = [1, 2, 3, 4, 5, 6, 10]\n",
    "b = 10\n",
    "c = b in a\n",
    "print(c)"
   ]
  },
  {
   "cell_type": "markdown",
   "metadata": {},
   "source": [
    "- list 정렬\n",
    "    - sort() -> 리스트 자체를 내부적으로 정렬\n",
    "    - sorted() -> 리스트의 정렬된 복사본을 반환"
   ]
  },
  {
   "cell_type": "code",
   "execution_count": 145,
   "metadata": {},
   "outputs": [
    {
     "name": "stdout",
     "output_type": "stream",
     "text": [
      "[9, 1, 2, 310, 23, 44, -89]\n",
      "[-89, 1, 2, 9, 23, 44, 310]\n"
     ]
    }
   ],
   "source": [
    "a = [9, 1, 2, 310, 23,44, -89]\n",
    "#a.sort(reverse = True)\n",
    "\n",
    "b = sorted(a)\n",
    "print(a)\n",
    "print(b)"
   ]
  },
  {
   "cell_type": "markdown",
   "metadata": {},
   "source": [
    "## tuple\n",
    "- 리스트와 같이 복수개의 값을 갖는 컬렉션 타입\n",
    "- 생성된 후 변경 불가능"
   ]
  },
  {
   "cell_type": "code",
   "execution_count": 150,
   "metadata": {
    "scrolled": true
   },
   "outputs": [
    {
     "name": "stdout",
     "output_type": "stream",
     "text": [
      "<class 'list'>\n",
      "<class 'tuple'>\n",
      "[100, 2, 3]\n"
     ]
    },
    {
     "ename": "TypeError",
     "evalue": "'tuple' object does not support item assignment",
     "output_type": "error",
     "traceback": [
      "\u001b[1;31m---------------------------------------------------------------------------\u001b[0m",
      "\u001b[1;31mTypeError\u001b[0m                                 Traceback (most recent call last)",
      "\u001b[1;32m<ipython-input-150-2baab3ed13b3>\u001b[0m in \u001b[0;36m<module>\u001b[1;34m\u001b[0m\n\u001b[0;32m      8\u001b[0m \u001b[0ma\u001b[0m\u001b[1;33m[\u001b[0m\u001b[1;36m0\u001b[0m\u001b[1;33m]\u001b[0m\u001b[1;33m=\u001b[0m\u001b[1;36m100\u001b[0m\u001b[1;33m\u001b[0m\u001b[1;33m\u001b[0m\u001b[0m\n\u001b[0;32m      9\u001b[0m \u001b[0mprint\u001b[0m\u001b[1;33m(\u001b[0m\u001b[0ma\u001b[0m\u001b[1;33m)\u001b[0m\u001b[1;33m\u001b[0m\u001b[1;33m\u001b[0m\u001b[0m\n\u001b[1;32m---> 10\u001b[1;33m \u001b[0mb\u001b[0m\u001b[1;33m[\u001b[0m\u001b[1;36m0\u001b[0m\u001b[1;33m]\u001b[0m\u001b[1;33m=\u001b[0m\u001b[1;36m100\u001b[0m\u001b[1;33m\u001b[0m\u001b[1;33m\u001b[0m\u001b[0m\n\u001b[0m\u001b[0;32m     11\u001b[0m \u001b[1;31m#print(b)\u001b[0m\u001b[1;33m\u001b[0m\u001b[1;33m\u001b[0m\u001b[1;33m\u001b[0m\u001b[0m\n",
      "\u001b[1;31mTypeError\u001b[0m: 'tuple' object does not support item assignment"
     ]
    }
   ],
   "source": [
    "a = [1,2,3]\n",
    "b = (1,2,3)\n",
    "\n",
    "print(type(a))\n",
    "print(type(b))\n",
    "\n",
    "\n",
    "a[0]=100\n",
    "print(a)\n",
    "b[0]=100\n",
    "#print(b)"
   ]
  },
  {
   "cell_type": "markdown",
   "metadata": {},
   "source": [
    "## tuple unpacking\n",
    "- 튜플의 값을 차례대로 변수에 대입"
   ]
  },
  {
   "cell_type": "code",
   "execution_count": 156,
   "metadata": {},
   "outputs": [
    {
     "name": "stdout",
     "output_type": "stream",
     "text": [
      "100 200 300 400\n"
     ]
    }
   ],
   "source": [
    "a, b, c, d = 100, 200, 300, 400\n",
    "print(a,b,c,d)"
   ]
  },
  {
   "cell_type": "markdown",
   "metadata": {},
   "source": [
    "- **연습문제** a와 b의 값을 바꾸시오"
   ]
  },
  {
   "cell_type": "code",
   "execution_count": 157,
   "metadata": {},
   "outputs": [
    {
     "name": "stdout",
     "output_type": "stream",
     "text": [
      "4 5\n"
     ]
    }
   ],
   "source": [
    "a = 5\n",
    "b = 4\n",
    "\n",
    "#logic\n",
    "tmp = a\n",
    "a = b\n",
    "b = tmp\n",
    "# Python\n",
    "a, b = b, a\n",
    "print(a,b)"
   ]
  },
  {
   "cell_type": "markdown",
   "metadata": {},
   "source": [
    "## dictionary\n",
    "- 키와 값을 갖는 데이터 구조\n",
    "- 키는 내부적으로 hash값으로 저장\n",
    "- 순서를 따지지 않음. 즉, 인덱스가 없음"
   ]
  },
  {
   "cell_type": "code",
   "execution_count": 168,
   "metadata": {},
   "outputs": [
    {
     "name": "stdout",
     "output_type": "stream",
     "text": [
      "{'korea': 'seoul', 'canada': 'ottaw', 'usa': 'washington dc'}\n",
      "<class 'dict'>\n",
      "seoul\n",
      "1\n"
     ]
    },
    {
     "ename": "KeyError",
     "evalue": "2",
     "output_type": "error",
     "traceback": [
      "\u001b[1;31m---------------------------------------------------------------------------\u001b[0m",
      "\u001b[1;31mKeyError\u001b[0m                                  Traceback (most recent call last)",
      "\u001b[1;32m<ipython-input-168-589c80ffb5f4>\u001b[0m in \u001b[0;36m<module>\u001b[1;34m\u001b[0m\n\u001b[0;32m     11\u001b[0m \u001b[0mprint\u001b[0m\u001b[1;33m(\u001b[0m\u001b[0ma\u001b[0m\u001b[1;33m[\u001b[0m\u001b[1;34m'korea'\u001b[0m\u001b[1;33m]\u001b[0m\u001b[1;33m)\u001b[0m\u001b[1;33m\u001b[0m\u001b[1;33m\u001b[0m\u001b[0m\n\u001b[0;32m     12\u001b[0m \u001b[0mprint\u001b[0m\u001b[1;33m(\u001b[0m\u001b[0mb\u001b[0m\u001b[1;33m[\u001b[0m\u001b[1;36m0\u001b[0m\u001b[1;33m]\u001b[0m\u001b[1;33m)\u001b[0m\u001b[1;33m\u001b[0m\u001b[1;33m\u001b[0m\u001b[0m\n\u001b[1;32m---> 13\u001b[1;33m \u001b[0mprint\u001b[0m\u001b[1;33m(\u001b[0m\u001b[0mb\u001b[0m\u001b[1;33m[\u001b[0m\u001b[1;36m2\u001b[0m\u001b[1;33m]\u001b[0m\u001b[1;33m)\u001b[0m\u001b[1;33m\u001b[0m\u001b[1;33m\u001b[0m\u001b[0m\n\u001b[0m",
      "\u001b[1;31mKeyError\u001b[0m: 2"
     ]
    }
   ],
   "source": [
    "a = {'korea':'seoul', \n",
    "     'canada':'ottaw', \n",
    "     'usa':'washington dc'}\n",
    "b={0:1,\n",
    "   1:6,\n",
    "   7:9,\n",
    "   9:10}\n",
    "#순서는 없음\n",
    "print(a)\n",
    "print(type(a))\n",
    "print(a['korea'])\n",
    "print(b[0])\n",
    "print(b[2])"
   ]
  },
  {
   "cell_type": "markdown",
   "metadata": {},
   "source": [
    "- 항목 추가 및 변경\n",
    "    - 기존에 키가 존재하면, 새로운 값으로 업데이트\n",
    "    - 존재하지 않으면, 새로운 키, 값 생성\n",
    "    "
   ]
  },
  {
   "cell_type": "code",
   "execution_count": 171,
   "metadata": {},
   "outputs": [
    {
     "name": "stdout",
     "output_type": "stream",
     "text": [
      "{'korea': 'seoul', 'canada': 'ottaw', 'usa': 'washington dc', 'japan': 'kyoto', 'japan2': 'kyoto', 'china': 'beijing'}\n"
     ]
    }
   ],
   "source": [
    "a = {'korea':'seoul', \n",
    "     'canada':'ottaw', \n",
    "     'usa':'washington dc'}\n",
    "a['japan']= 'tokyo'\n",
    "a['japan']= 'kyoto'\n",
    "a['japan2']= 'kyoto'\n",
    "a['china']= 'beijing'\n",
    "print(a)"
   ]
  },
  {
   "cell_type": "markdown",
   "metadata": {},
   "source": [
    "- update(\n",
    "    -두 딕셔너리를 병합함\n",
    "    - 겹치는 키가 있다면 parameter로 전달되는 키 값이 overwrite된다\n",
    "    "
   ]
  },
  {
   "cell_type": "code",
   "execution_count": 172,
   "metadata": {},
   "outputs": [
    {
     "name": "stdout",
     "output_type": "stream",
     "text": [
      "{'a': 4, 'b': 2, 'c': 3, 'd': 3}\n"
     ]
    }
   ],
   "source": [
    "a ={'a':1, 'b': 2, 'c':3}\n",
    "b = {'a':4, 'd':3}\n",
    "a.update(b)\n",
    "print(a)"
   ]
  },
  {
   "cell_type": "markdown",
   "metadata": {},
   "source": [
    "- key 삭제\n",
    "    - del 키워드 사용\n",
    "    - pop 함수 사용"
   ]
  },
  {
   "cell_type": "code",
   "execution_count": 176,
   "metadata": {},
   "outputs": [
    {
     "name": "stdout",
     "output_type": "stream",
     "text": [
      "{'a': 1, 'b': 2, 'c': 3}\n",
      "{'a': 1, 'c': 3}\n"
     ]
    }
   ],
   "source": [
    "a ={'a':1, 'b': 2, 'c':3}\n",
    "print(a)\n",
    "\n",
    "#a.pop('b')\n",
    "del a['b']\n",
    "print(a)"
   ]
  },
  {
   "cell_type": "markdown",
   "metadata": {},
   "source": [
    "- clear()\n",
    "    - 딕셔너리의 모든 값을 초기화"
   ]
  },
  {
   "cell_type": "code",
   "execution_count": 178,
   "metadata": {},
   "outputs": [
    {
     "name": "stdout",
     "output_type": "stream",
     "text": [
      "{'a': 1, 'c': 3}\n",
      "{}\n"
     ]
    }
   ],
   "source": [
    "print(a)\n",
    "a.clear()\n",
    "print(a)"
   ]
  },
  {
   "cell_type": "markdown",
   "metadata": {},
   "source": [
    "- **in**\n",
    "    - key값 존재 확인\n",
    "    - O(1)의 연산 - 딕셔너리의 크기와 관계없이 항상 연산의 속도가 일정"
   ]
  },
  {
   "cell_type": "code",
   "execution_count": 192,
   "metadata": {},
   "outputs": [
    {
     "name": "stdout",
     "output_type": "stream",
     "text": [
      "True\n",
      "True\n"
     ]
    }
   ],
   "source": [
    "a ={'a':1, 'b': 2, 'c':3}\n",
    "b = [1,2,3,4,5,6,7,8,9,100]\n",
    "# 리스트의 in은 크기에 비례해서 커진다 O(n)\n",
    "print('b' in a)\n",
    "print(100 in b)\n"
   ]
  },
  {
   "cell_type": "markdown",
   "metadata": {},
   "source": [
    "- value access\n",
    "    - dict[key]로 접근, 키가 없는 경우 에러 발생\n",
    "    - .get()함수로 접근, 키가 없는 경우 None반환"
   ]
  },
  {
   "cell_type": "code",
   "execution_count": 193,
   "metadata": {},
   "outputs": [
    {
     "name": "stdout",
     "output_type": "stream",
     "text": [
      "None\n"
     ]
    }
   ],
   "source": [
    "print(a.get('d'))\n",
    "# print(a['d']) 에러난다\n"
   ]
  },
  {
   "cell_type": "markdown",
   "metadata": {},
   "source": [
    "## 모든 keys, values 접근\n",
    "    - keys() - 키만 반환\n",
    "    - values() - 값만 반환\n",
    "    - items() - 키, 값의 튜플을 반환"
   ]
  },
  {
   "cell_type": "code",
   "execution_count": 210,
   "metadata": {},
   "outputs": [
    {
     "name": "stdout",
     "output_type": "stream",
     "text": [
      "{'a': 1, 'b': 2, 'c': 3}\n",
      "['a', 'b', 'c']\n",
      "[1, 2, 3]\n",
      "[('a', 1), ('b', 2), ('c', 3)]\n"
     ]
    }
   ],
   "source": [
    "print(a)\n",
    "\n",
    "print(list(a.keys()))\n",
    "print(list(a.values()))\n",
    "\n",
    "print(list(a.items()))"
   ]
  },
  {
   "cell_type": "markdown",
   "metadata": {},
   "source": [
    "## set\n",
    "    - dictionary에서 key만 활용하는 데이터 구조로 이해\n",
    "    - 수확에서의 집합과 동일한 개념"
   ]
  },
  {
   "cell_type": "code",
   "execution_count": 213,
   "metadata": {},
   "outputs": [
    {
     "name": "stdout",
     "output_type": "stream",
     "text": [
      "{1, 2, 3, 4, 5}\n"
     ]
    }
   ],
   "source": [
    "a = {1,1,2,3,3,4,1,5}\n",
    "print(a)\n",
    "# set은 순서가 없다\n",
    "#print(a[1])"
   ]
  },
  {
   "cell_type": "markdown",
   "metadata": {},
   "source": [
    "- set()으로 집합으로 변환"
   ]
  },
  {
   "cell_type": "code",
   "execution_count": 221,
   "metadata": {},
   "outputs": [
    {
     "name": "stdout",
     "output_type": "stream",
     "text": [
      "<class 'set'>\n",
      "<class 'dict'>\n"
     ]
    }
   ],
   "source": [
    "# set으로 초기화 방법\n",
    "a = set()\n",
    "b={}\n",
    "print(type(a))\n",
    "print(type(b))"
   ]
  },
  {
   "cell_type": "code",
   "execution_count": 222,
   "metadata": {},
   "outputs": [
    {
     "name": "stdout",
     "output_type": "stream",
     "text": [
      "[1, 1, 2, 3, 3, 4, 1, 5]\n",
      "{1, 2, 3, 4, 5}\n"
     ]
    }
   ],
   "source": [
    "a = [1,1,2,3,3,4,1,5]\n",
    "print(a)\n",
    "b = set(a)\n",
    "print(b)"
   ]
  },
  {
   "cell_type": "markdown",
   "metadata": {},
   "source": [
    "- set operations\n",
    "    - 수학 연산과 동일\n",
    "    - 교집합, 합집합, 차집합 등 지원"
   ]
  },
  {
   "cell_type": "code",
   "execution_count": 226,
   "metadata": {
    "scrolled": true
   },
   "outputs": [
    {
     "name": "stdout",
     "output_type": "stream",
     "text": [
      "{1, 2, 3, 4}\n",
      "{2, 3}\n",
      "{1}\n",
      "False\n"
     ]
    }
   ],
   "source": [
    "a ={1,2,3}\n",
    "b= {2,3,4}\n",
    "\n",
    "print(a.union(b)) # 합집합\n",
    "print(a.intersection(b)) # 교집합\n",
    "print(a.difference(b)) # 차집합\n",
    "print(a.issubset(b)) # 부분집합"
   ]
  },
  {
   "cell_type": "markdown",
   "metadata": {},
   "source": [
    "### condition (조건문)"
   ]
  },
  {
   "cell_type": "code",
   "execution_count": 4,
   "metadata": {},
   "outputs": [
    {
     "name": "stdout",
     "output_type": "stream",
     "text": [
      "hello it is true\n",
      "this sentence always shows\n"
     ]
    }
   ],
   "source": [
    "if 6>=5:\n",
    "    print('hello it is true')\n",
    "print('this sentence always shows')\n",
    "\n"
   ]
  },
  {
   "cell_type": "code",
   "execution_count": 31,
   "metadata": {},
   "outputs": [
    {
     "name": "stdout",
     "output_type": "stream",
     "text": [
      "it is true\n",
      "it is true\n"
     ]
    }
   ],
   "source": [
    "a = 10\n",
    "b = 9\n",
    "c = 4\n",
    "\n",
    "if a==1 or b==9:\n",
    "    print('it is true')\n",
    "if(a==1 and b==2) or c==4:\n",
    "    print('it is true')\n"
   ]
  },
  {
   "cell_type": "code",
   "execution_count": 32,
   "metadata": {},
   "outputs": [
    {
     "name": "stdout",
     "output_type": "stream",
     "text": [
      "even 10\n"
     ]
    }
   ],
   "source": [
    "a= 10\n",
    "if(a%2==0):\n",
    "    print('even',a)\n",
    "else:\n",
    "    print('odd')"
   ]
  },
  {
   "cell_type": "code",
   "execution_count": 6,
   "metadata": {},
   "outputs": [
    {
     "name": "stdout",
     "output_type": "stream",
     "text": [
      "6\n",
      "7\n",
      "while loop is ez\n"
     ]
    }
   ],
   "source": [
    "a = [1,2,3,5,1,3,6,3,7]\n",
    "i = 0\n",
    "while i<len(a):\n",
    "    if a[i]>=6:\n",
    "        print(a[i])\n",
    "    i+=1\n",
    "print('while loop is ez')"
   ]
  },
  {
   "cell_type": "code",
   "execution_count": 10,
   "metadata": {},
   "outputs": [
    {
     "name": "stdout",
     "output_type": "stream",
     "text": [
      "2\n",
      "6\n"
     ]
    }
   ],
   "source": [
    "a = [1,2,3,5,1,3,6,3,7]\n",
    "i=0\n",
    "while i<len(a):\n",
    "    if(a[i]%2==0):\n",
    "        print(a[i])\n",
    "    i+=1"
   ]
  },
  {
   "cell_type": "code",
   "execution_count": 12,
   "metadata": {
    "scrolled": true
   },
   "outputs": [
    {
     "name": "stdout",
     "output_type": "stream",
     "text": [
      "hoho\n",
      "hoho\n",
      "hoho\n",
      "hoho\n",
      "hoho\n",
      "hoho\n",
      "hoho\n",
      "hoho\n"
     ]
    }
   ],
   "source": [
    "i=0;\n",
    "while(True):\n",
    "    if(i==8):\n",
    "        break\n",
    "    print('hoho')\n",
    "    i+=1\n",
    "    "
   ]
  },
  {
   "cell_type": "code",
   "execution_count": 14,
   "metadata": {},
   "outputs": [
    {
     "name": "stdout",
     "output_type": "stream",
     "text": [
      "5050\n"
     ]
    }
   ],
   "source": [
    "# 1 부터 100까지 더하기\n",
    "i = 1\n",
    "num=0\n",
    "while i<=100:\n",
    "    num +=i\n",
    "    i+=1\n",
    "print(num)\n",
    "    "
   ]
  },
  {
   "cell_type": "code",
   "execution_count": 15,
   "metadata": {},
   "outputs": [
    {
     "name": "stdout",
     "output_type": "stream",
     "text": [
      "1 2\n",
      "2 4\n",
      "3 6\n",
      "4 8\n",
      "5 10\n",
      "6 12\n"
     ]
    }
   ],
   "source": [
    "a = [1,2,3,4,5,6]\n",
    "\n",
    "for x in a:\n",
    "    print(x, x*2)\n"
   ]
  },
  {
   "cell_type": "code",
   "execution_count": 16,
   "metadata": {},
   "outputs": [
    {
     "name": "stdout",
     "output_type": "stream",
     "text": [
      " \n",
      "o\n",
      "h\n",
      " \n",
      "m\n",
      "y\n",
      " \n",
      "g\n",
      "o\n",
      "d\n"
     ]
    }
   ],
   "source": [
    "a =' oh my god'\n",
    "for x in a:\n",
    "    print(x)"
   ]
  },
  {
   "cell_type": "markdown",
   "metadata": {},
   "source": [
    "### dict의 아이템 출력하기\n",
    "- dictionary의 경우 기본적으로 순회하게 되면 key값을 참조\n",
    "- keys()함수를 이용하여 key 값만 순회 가능\n",
    "- values()함수를 이용하여 value 값만 순회 가능\n",
    "- items() 함수를 이용하여 tuple형태로 key, value 순회 가능"
   ]
  },
  {
   "cell_type": "code",
   "execution_count": 11,
   "metadata": {},
   "outputs": [
    {
     "name": "stdout",
     "output_type": "stream",
     "text": [
      "korea\n",
      "japan\n",
      "america\n",
      "seoul\n",
      "tokyo\n",
      "washington dc\n",
      "korea seoul\n",
      "japan tokyo\n",
      "america washington dc\n"
     ]
    }
   ],
   "source": [
    "a = {'korea':'seoul', 'japan':'tokyo', 'america':'washington dc'}\n",
    "# 일반적으로는 key 만 순회한다\n",
    "for key in a:\n",
    "    print(key)\n",
    "for value in a.values():\n",
    "    print(value)\n",
    "# tuple인 경우 , 로 접근 가능\n",
    "for a,b in a.items():\n",
    "    print(a,b)"
   ]
  },
  {
   "cell_type": "markdown",
   "metadata": {},
   "source": [
    "## for에서 index 사용하기\n",
    "    - 기본적으로 for에서 리스트를 순회하는 경우, 값만 추출함\n",
    "    - 아래와 같은 코드로 인덱스와 값 모두 사용 가능(enumerate 함수 사용)\n"
   ]
  },
  {
   "cell_type": "code",
   "execution_count": 12,
   "metadata": {},
   "outputs": [
    {
     "name": "stdout",
     "output_type": "stream",
     "text": [
      "0 1\n",
      "1 2\n",
      "2 3\n",
      "3 4\n",
      "4 5\n",
      "5 6\n"
     ]
    }
   ],
   "source": [
    "a = [1,2,3,4,5,6]\n",
    "for i, val in enumerate(a):\n",
    "    print(i,val)"
   ]
  },
  {
   "cell_type": "markdown",
   "metadata": {},
   "source": [
    "### 구구단 출력하기"
   ]
  },
  {
   "cell_type": "code",
   "execution_count": 19,
   "metadata": {},
   "outputs": [
    {
     "name": "stdout",
     "output_type": "stream",
     "text": [
      "1 * 1 = 1\n",
      "1 * 2 = 2\n",
      "1 * 3 = 3\n",
      "1 * 4 = 4\n",
      "1 * 5 = 5\n",
      "1 * 6 = 6\n",
      "1 * 7 = 7\n",
      "1 * 8 = 8\n",
      "1 * 9 = 9\n",
      "  *****\n",
      "2 * 1 = 2\n",
      "2 * 2 = 4\n",
      "2 * 3 = 6\n",
      "2 * 4 = 8\n",
      "2 * 5 = 10\n",
      "2 * 6 = 12\n",
      "2 * 7 = 14\n",
      "2 * 8 = 16\n",
      "2 * 9 = 18\n",
      "  *****\n",
      "3 * 1 = 3\n",
      "3 * 2 = 6\n",
      "3 * 3 = 9\n",
      "3 * 4 = 12\n",
      "3 * 5 = 15\n",
      "3 * 6 = 18\n",
      "3 * 7 = 21\n",
      "3 * 8 = 24\n",
      "3 * 9 = 27\n",
      "  *****\n",
      "4 * 1 = 4\n",
      "4 * 2 = 8\n",
      "4 * 3 = 12\n",
      "4 * 4 = 16\n",
      "4 * 5 = 20\n",
      "4 * 6 = 24\n",
      "4 * 7 = 28\n",
      "4 * 8 = 32\n",
      "4 * 9 = 36\n",
      "  *****\n",
      "5 * 1 = 5\n",
      "5 * 2 = 10\n",
      "5 * 3 = 15\n",
      "5 * 4 = 20\n",
      "5 * 5 = 25\n",
      "5 * 6 = 30\n",
      "5 * 7 = 35\n",
      "5 * 8 = 40\n",
      "5 * 9 = 45\n",
      "  *****\n",
      "6 * 1 = 6\n",
      "6 * 2 = 12\n",
      "6 * 3 = 18\n",
      "6 * 4 = 24\n",
      "6 * 5 = 30\n",
      "6 * 6 = 36\n",
      "6 * 7 = 42\n",
      "6 * 8 = 48\n",
      "6 * 9 = 54\n",
      "  *****\n",
      "7 * 1 = 7\n",
      "7 * 2 = 14\n",
      "7 * 3 = 21\n",
      "7 * 4 = 28\n",
      "7 * 5 = 35\n",
      "7 * 6 = 42\n",
      "7 * 7 = 49\n",
      "7 * 8 = 56\n",
      "7 * 9 = 63\n",
      "  *****\n",
      "8 * 1 = 8\n",
      "8 * 2 = 16\n",
      "8 * 3 = 24\n",
      "8 * 4 = 32\n",
      "8 * 5 = 40\n",
      "8 * 6 = 48\n",
      "8 * 7 = 56\n",
      "8 * 8 = 64\n",
      "8 * 9 = 72\n",
      "  *****\n",
      "9 * 1 = 9\n",
      "9 * 2 = 18\n",
      "9 * 3 = 27\n",
      "9 * 4 = 36\n",
      "9 * 5 = 45\n",
      "9 * 6 = 54\n",
      "9 * 7 = 63\n",
      "9 * 8 = 72\n",
      "9 * 9 = 81\n",
      "  *****\n"
     ]
    }
   ],
   "source": [
    "a = [1,2,3,4,5,6,7,8,9]\n",
    "for num in a:\n",
    "    for i in a:\n",
    "        print(num,'*',i,'=',num*i)\n",
    "    print('  *****')"
   ]
  },
  {
   "cell_type": "markdown",
   "metadata": {},
   "source": [
    "### collection의 길이\n",
    "- len() 내장 함수로 계산 가능\n",
    "- 내장함수란 파이썬 내부에 구현되어 있어서, import하지 않고도 사용 가능한 함수를 의미\n",
    "- abs, len, type, range **등등**\n",
    "\n"
   ]
  },
  {
   "cell_type": "code",
   "execution_count": 26,
   "metadata": {},
   "outputs": [
    {
     "name": "stdout",
     "output_type": "stream",
     "text": [
      "[1, 3, 5, 7, 9]\n",
      "1\n",
      "4\n",
      "7\n"
     ]
    }
   ],
   "source": [
    "print(list(range(1,10,2)))\n",
    "for i in range(1,10,3):\n",
    "    print(i)"
   ]
  },
  {
   "cell_type": "markdown",
   "metadata": {},
   "source": [
    "## if & for 연습문제\n",
    "- 구구단 2-9단 까지 출력\n",
    "- 1 - 100까지 정수 중 2의 배수 또는 11의 배수를 모두 출력\n",
    "- a =[22,1,3,4,7,98,21,55,87,99,19,20,45]에서 최대값과 최소값을 찾으시오\n",
    "- a =[22,1,3,4,7,98,21,55,87,99,19,20,45]에서 평균을 구하시오"
   ]
  },
  {
   "cell_type": "code",
   "execution_count": 27,
   "metadata": {},
   "outputs": [
    {
     "name": "stdout",
     "output_type": "stream",
     "text": [
      "2 * 1 = 2\n",
      "2 * 2 = 4\n",
      "2 * 3 = 6\n",
      "2 * 4 = 8\n",
      "2 * 5 = 10\n",
      "2 * 6 = 12\n",
      "2 * 7 = 14\n",
      "2 * 8 = 16\n",
      "2 * 9 = 18\n",
      "***********\n",
      "3 * 1 = 3\n",
      "3 * 2 = 6\n",
      "3 * 3 = 9\n",
      "3 * 4 = 12\n",
      "3 * 5 = 15\n",
      "3 * 6 = 18\n",
      "3 * 7 = 21\n",
      "3 * 8 = 24\n",
      "3 * 9 = 27\n",
      "***********\n",
      "4 * 1 = 4\n",
      "4 * 2 = 8\n",
      "4 * 3 = 12\n",
      "4 * 4 = 16\n",
      "4 * 5 = 20\n",
      "4 * 6 = 24\n",
      "4 * 7 = 28\n",
      "4 * 8 = 32\n",
      "4 * 9 = 36\n",
      "***********\n",
      "5 * 1 = 5\n",
      "5 * 2 = 10\n",
      "5 * 3 = 15\n",
      "5 * 4 = 20\n",
      "5 * 5 = 25\n",
      "5 * 6 = 30\n",
      "5 * 7 = 35\n",
      "5 * 8 = 40\n",
      "5 * 9 = 45\n",
      "***********\n",
      "6 * 1 = 6\n",
      "6 * 2 = 12\n",
      "6 * 3 = 18\n",
      "6 * 4 = 24\n",
      "6 * 5 = 30\n",
      "6 * 6 = 36\n",
      "6 * 7 = 42\n",
      "6 * 8 = 48\n",
      "6 * 9 = 54\n",
      "***********\n",
      "7 * 1 = 7\n",
      "7 * 2 = 14\n",
      "7 * 3 = 21\n",
      "7 * 4 = 28\n",
      "7 * 5 = 35\n",
      "7 * 6 = 42\n",
      "7 * 7 = 49\n",
      "7 * 8 = 56\n",
      "7 * 9 = 63\n",
      "***********\n",
      "8 * 1 = 8\n",
      "8 * 2 = 16\n",
      "8 * 3 = 24\n",
      "8 * 4 = 32\n",
      "8 * 5 = 40\n",
      "8 * 6 = 48\n",
      "8 * 7 = 56\n",
      "8 * 8 = 64\n",
      "8 * 9 = 72\n",
      "***********\n",
      "9 * 1 = 9\n",
      "9 * 2 = 18\n",
      "9 * 3 = 27\n",
      "9 * 4 = 36\n",
      "9 * 5 = 45\n",
      "9 * 6 = 54\n",
      "9 * 7 = 63\n",
      "9 * 8 = 72\n",
      "9 * 9 = 81\n",
      "***********\n"
     ]
    }
   ],
   "source": [
    "for i in range(2,10):\n",
    "    for j in range(1,10):\n",
    "        print(i,'*',j,'=',i*j)\n",
    "    print('***********')"
   ]
  },
  {
   "cell_type": "code",
   "execution_count": 31,
   "metadata": {},
   "outputs": [
    {
     "name": "stdout",
     "output_type": "stream",
     "text": [
      "[2, 4, 6, 8, 10, 11, 12, 14, 16, 18, 20, 22, 24, 26, 28, 30, 32, 33, 34, 36, 38, 40, 42, 44, 46, 48, 50, 52, 54, 55, 56, 58, 60, 62, 64, 66, 68, 70, 72, 74, 76, 77, 78, 80, 82, 84, 86, 88, 90, 92, 94, 96, 98, 99, 100]\n"
     ]
    }
   ],
   "source": [
    "list =[]\n",
    "for i in range(1,101):\n",
    "    if(i %2 ==0 or i%11==0):\n",
    "        list.append(i)\n",
    "print(list)"
   ]
  },
  {
   "cell_type": "code",
   "execution_count": 32,
   "metadata": {},
   "outputs": [
    {
     "name": "stdout",
     "output_type": "stream",
     "text": [
      "1 99\n"
     ]
    }
   ],
   "source": [
    "a =[22,1,3,4,7,98,21,55,87,99,19,20,45]\n",
    "big= a[0]\n",
    "small = a[0]\n",
    "for x in a:\n",
    "    if x > big:\n",
    "        big =x\n",
    "    if x < small:\n",
    "        small = x\n",
    "print(small, big)\n",
    "    "
   ]
  },
  {
   "cell_type": "code",
   "execution_count": 36,
   "metadata": {},
   "outputs": [
    {
     "name": "stdout",
     "output_type": "stream",
     "text": [
      "37.0\n"
     ]
    }
   ],
   "source": [
    "a =[22,1,3,4,7,98,21,55,87,99,19,20,45]\n",
    "avg=0\n",
    "for x in a:\n",
    "    avg+=x\n",
    "avg/=len(a)\n",
    "print(avg)"
   ]
  },
  {
   "cell_type": "markdown",
   "metadata": {},
   "source": [
    "## 함수?\n"
   ]
  },
  {
   "cell_type": "code",
   "execution_count": 3,
   "metadata": {},
   "outputs": [
    {
     "name": "stdout",
     "output_type": "stream",
     "text": [
      "8\n",
      "36\n"
     ]
    }
   ],
   "source": [
    "# 내장 함수 예\n",
    "a = [1,2,3,4,5,6,7,8]\n",
    "print(len(a))\n",
    "print(sum(a))"
   ]
  },
  {
   "cell_type": "code",
   "execution_count": 20,
   "metadata": {},
   "outputs": [
    {
     "name": "stdout",
     "output_type": "stream",
     "text": [
      "hello world\n",
      "10\n"
     ]
    }
   ],
   "source": [
    "def add(x,y):\n",
    "    return x+y\n",
    "     \n",
    "print(add('hello',' world'))\n",
    "print(add(3,7))"
   ]
  },
  {
   "cell_type": "markdown",
   "metadata": {},
   "source": [
    "## default parameter(기본인자)\n",
    "\n",
    "   - 함수의 파라미터에 기본값 지정 가능\n",
    "   - 파라미터를 명시하지 않을 경우, 지정된 값으로 대체"
   ]
  },
  {
   "cell_type": "code",
   "execution_count": 21,
   "metadata": {},
   "outputs": [
    {
     "name": "stdout",
     "output_type": "stream",
     "text": [
      "1\n",
      "2\n",
      "3\n",
      "4\n",
      "2\n"
     ]
    }
   ],
   "source": [
    "#t=2는 default\n",
    "def printList(x, t=2):\n",
    "    for i in x:\n",
    "        print(i)\n",
    "    print(t)\n",
    "\n",
    "printList([1,2,3,4])"
   ]
  },
  {
   "cell_type": "markdown",
   "metadata": {},
   "source": [
    "- 기본 파라미너터의 다른 예\n",
    "    - print 함수\n",
    "        - sep, end, file 등"
   ]
  },
  {
   "cell_type": "code",
   "execution_count": 25,
   "metadata": {},
   "outputs": [
    {
     "name": "stdout",
     "output_type": "stream",
     "text": [
      "1!2!3$$$"
     ]
    }
   ],
   "source": [
    "print(1,2,3,sep='!',end='$$$')"
   ]
  },
  {
   "cell_type": "markdown",
   "metadata": {},
   "source": [
    "## default parameter 사용시 주의 점\n",
    "\n",
    "   - 디폴트 파라미터 뒤에 일반 파라미터가 위치할 수 없음\n",
    "   - e.g)올바른 예\n",
    "    > def test(a,b,c=1)\n",
    "    \n",
    "    > def test(a,b=1,c=2)\n",
    "    \n",
    "    > def test(a=1, b=1, c=1)\n",
    "   - e.g)올바르지 않은 예\n",
    "   > def test(a,b=1,c)\n",
    "   \n",
    "   > def test(a=1, b,c)"
   ]
  },
  {
   "cell_type": "code",
   "execution_count": 26,
   "metadata": {},
   "outputs": [
    {
     "ename": "SyntaxError",
     "evalue": "non-default argument follows default argument (<ipython-input-26-8968d498a590>, line 1)",
     "output_type": "error",
     "traceback": [
      "\u001b[1;36m  File \u001b[1;32m\"<ipython-input-26-8968d498a590>\"\u001b[1;36m, line \u001b[1;32m1\u001b[0m\n\u001b[1;33m    def test(a=1, b,c):\u001b[0m\n\u001b[1;37m            ^\u001b[0m\n\u001b[1;31mSyntaxError\u001b[0m\u001b[1;31m:\u001b[0m non-default argument follows default argument\n"
     ]
    }
   ],
   "source": [
    "def test(a=1, b,c):\n",
    "    return a+b+c\n",
    "print(test(1,2,3))"
   ]
  },
  {
   "cell_type": "markdown",
   "metadata": {},
   "source": [
    "## keyword parameter (키워드 파라미터)\n",
    "   - 파이썬의 경우, 파라미터에 값을 전달할 떄, 파라미터의 이름을 명시하여 전달 가능\n",
    "   - 파라미터 이름을 사용하지 않을 경우, 기본적으로 순서에 맞게 전달"
   ]
  },
  {
   "cell_type": "code",
   "execution_count": 55,
   "metadata": {},
   "outputs": [
    {
     "name": "stdout",
     "output_type": "stream",
     "text": [
      "1 10 12\n",
      "1 2 3\n",
      "1 2 5\n"
     ]
    }
   ],
   "source": [
    " def test(x,y,z):\n",
    "    print(x,y,z)\n",
    "\n",
    "test(x=1,y=10,z=12)\n",
    "test(x=1,z=3,y=2)\n",
    "test(1,2,z=5) # 이거는 가능\n",
    "# test(x=1,2,3) 이거는 에러"
   ]
  },
  {
   "cell_type": "markdown",
   "metadata": {},
   "source": [
    "### retrun\n",
    "    - 기본적으로 함수의 종료를 명시\n",
    "        - return 옆에 값이나 수식이 있다면 해당 값을 호출자(caller)에게 반환\n",
    "        - return만 존재하면 None반환\n",
    "        - return이 없는 경우, 기본적으로 함수 코드 블록이 종료되면 종료로 간주, 이때도 None 반환"
   ]
  },
  {
   "cell_type": "code",
   "execution_count": 43,
   "metadata": {},
   "outputs": [
    {
     "name": "stdout",
     "output_type": "stream",
     "text": [
      "22\n",
      "None\n",
      "8\n"
     ]
    }
   ],
   "source": [
    "def weirdMultiply(x,y):\n",
    "    if x>10:\n",
    "        return x*y\n",
    "    elif x>6:\n",
    "        return\n",
    "    return (x+1)*y\n",
    "\n",
    "print(weirdMultiply(11,2))\n",
    "print(weirdMultiply(9,2))\n",
    "print(weirdMultiply(3,2))"
   ]
  },
  {
   "cell_type": "markdown",
   "metadata": {},
   "source": [
    "### multiple return(복수 값 반환)\n",
    "   - tuple 반환을 하여 복수개의 값 리턴 가능"
   ]
  },
  {
   "cell_type": "code",
   "execution_count": 46,
   "metadata": {},
   "outputs": [
    {
     "name": "stdout",
     "output_type": "stream",
     "text": [
      "<class 'tuple'>\n",
      "(1, 2, 3)\n"
     ]
    }
   ],
   "source": [
    "def add(x,y,z):\n",
    "    if x>10:\n",
    "        return x+y+z\n",
    "    else:\n",
    "        return x,y,z\n",
    "\n",
    "num = add(1,2,3)\n",
    "print(type(num))\n",
    "print(num)"
   ]
  },
  {
   "cell_type": "markdown",
   "metadata": {},
   "source": [
    "### variable scope(변수의 범위)\n",
    "\n",
    "   - 변수가 참조 가능한 코드상의 범위를 명시\n",
    "   - 함수내의 변수는 자신이 속한 코드 블록이 종료되면 소멸됨\n",
    "   - 이렇게 특정 코드 블록에서 선언된 변수를 **지역변수(local variable)**이라고 함\n",
    "   - 반대로 가장 상단에서 정의되어 프로그램 종료 전까지 유지되는 변수를 **전역(global variable)**이라고 함\n",
    "   - 같은 이름의 지역변수와 전역변수가 존재할 경우 지역변수의 우선순위가 더 높음"
   ]
  },
  {
   "cell_type": "code",
   "execution_count": 49,
   "metadata": {},
   "outputs": [
    {
     "name": "stdout",
     "output_type": "stream",
     "text": [
      "30 40\n",
      "10 20\n"
     ]
    }
   ],
   "source": [
    "n1 =10\n",
    "n2 =20\n",
    "\n",
    "def test(n1,n2):\n",
    "    print(n1,n2)\n",
    "\n",
    "test(30,40)\n",
    "print(n1,n2)"
   ]
  },
  {
   "cell_type": "markdown",
   "metadata": {},
   "source": [
    "## variable length argument (가변길이 인자)\n",
    "   - 전달되는 파라미터의 개수가 고정적이지 않은 경우 사용\n",
    "   - e.g)\n",
    "       - print함수\n",
    "       - format 함수\n",
    "       \n",
    "   > \\*args, \\**kwargs\n",
    "   \n",
    "   > \\*args : 파라미터를 tuple의 형태로 전달\n",
    "   \n",
    "   > \\**kwargs : 파라미터를 딕셔너리 형태로 전달(네임드 파라미터)"
   ]
  },
  {
   "cell_type": "code",
   "execution_count": 64,
   "metadata": {},
   "outputs": [
    {
     "name": "stdout",
     "output_type": "stream",
     "text": [
      "<class 'tuple'>\n",
      "<class 'tuple'>\n",
      "10\n",
      "<class 'tuple'>\n",
      "1\n",
      "2\n",
      "3\n"
     ]
    }
   ],
   "source": [
    "def test(*args): # arguments\n",
    "    print(type(args))\n",
    "    for i in args:\n",
    "        print(i)\n",
    "\n",
    "test()\n",
    "test(10)\n",
    "test(1,2,3)\n"
   ]
  },
  {
   "cell_type": "markdown",
   "metadata": {},
   "source": [
    "### keyword parameter (키워드 파라미터)\n",
    "   - \\**가 붙은 경우에는 키워드 파라미터로 인식\n",
    "   - 즉 함수 호출시, 파라미터의 이름과 값을 함께 전달 가능"
   ]
  },
  {
   "cell_type": "code",
   "execution_count": 68,
   "metadata": {},
   "outputs": [
    {
     "name": "stdout",
     "output_type": "stream",
     "text": [
      "<class 'dict'>\n",
      "key :  a , value :  1\n",
      "key :  b , value :  2\n",
      "key :  c , value :  3\n",
      "key :  d , value :  4\n",
      "key :  name , value :  bob\n"
     ]
    }
   ],
   "source": [
    "def test(**kwargs):\n",
    "    print(type(kwargs))\n",
    "    for key, value in kwargs.items():\n",
    "        print('key : ',key,', value : ',value)\n",
    "\n",
    "test(a=1,b=2,c=3,d=4,name = 'bob')\n"
   ]
  },
  {
   "cell_type": "markdown",
   "metadata": {},
   "source": [
    "- 가변길이 함수의 대표적인 예 **문자열 포맷 함수**\n",
    "    - 여러가지 값과 포맷을 이용하여 문자열을 정의할 수 있는 함수\n",
    "    - {} placeholder를 문자열 내에 위치 시킨 후, 해당 위치에 format함수로 전달된 값으로 대체하여 문자열 생성\n",
    "    - 포맷 구성은 다음 링크 참조 : https://pyformat.info/"
   ]
  },
  {
   "cell_type": "code",
   "execution_count": 69,
   "metadata": {},
   "outputs": [
    {
     "name": "stdout",
     "output_type": "stream",
     "text": [
      "오늘 온도 : 30도, 강수확률: 3%\n"
     ]
    }
   ],
   "source": [
    "a = '오늘 온도 : 30도, 강수확률: 3%'\n",
    "print(a)"
   ]
  },
  {
   "cell_type": "code",
   "execution_count": 72,
   "metadata": {},
   "outputs": [
    {
     "name": "stdout",
     "output_type": "stream",
     "text": [
      "오늘 온도 : 20도, 강수 확률 : 10%\n"
     ]
    }
   ],
   "source": [
    "temp =20\n",
    "prob =10\n",
    "a = '오늘 온도 : {}도, 강수 확률 : {}%'.format(temp, prob)\n",
    "print(a)"
   ]
  },
  {
   "cell_type": "code",
   "execution_count": 74,
   "metadata": {},
   "outputs": [
    {
     "name": "stdout",
     "output_type": "stream",
     "text": [
      "오늘 온도 : 20도, 강수 확률 : 10%\n"
     ]
    }
   ],
   "source": [
    "temp =20\n",
    "prob =10\n",
    "a = '오늘 온도 : {today_temp}도, 강수 확률 : {today_prob}%'.format(today_temp=temp, today_prob=prob)\n",
    "print(a)"
   ]
  },
  {
   "cell_type": "markdown",
   "metadata": {},
   "source": [
    "- Lambda 함수\n",
    "    - 단일문으로 표현되는 익명함수\n",
    "    - 익명함수란 이름이 없는 구현체만 존재하는 간단한 함수를 의미\n",
    "    - 코드 상에서 한번만 사용되는 기능이 있을 때, 굳이 함수로 만들지 않고 1회성으로 만들어서 쓸 때 사용."
   ]
  },
  {
   "cell_type": "code",
   "execution_count": 79,
   "metadata": {},
   "outputs": [
    {
     "name": "stdout",
     "output_type": "stream",
     "text": [
      "<class 'function'>\n",
      "25\n"
     ]
    }
   ],
   "source": [
    "square  = lambda x:x**2 # 입력과 출력만 리턴 x\n",
    "print(type(square))\n",
    "print(square(5))"
   ]
  },
  {
   "cell_type": "code",
   "execution_count": 81,
   "metadata": {},
   "outputs": [
    {
     "name": "stdout",
     "output_type": "stream",
     "text": [
      "30\n"
     ]
    }
   ],
   "source": [
    "add = lambda x,y : x+y\n",
    "print(add(10,20))"
   ]
  },
  {
   "cell_type": "code",
   "execution_count": 85,
   "metadata": {
    "scrolled": true
   },
   "outputs": [
    {
     "name": "stdout",
     "output_type": "stream",
     "text": [
      "['bob', 'alex', 'dobby', 'charles']\n"
     ]
    }
   ],
   "source": [
    "def str_len(s):\n",
    "    return len(s)\n",
    "\n",
    "strings = ['bob', 'charles', 'alex', 'dobby']\n",
    "#strings.sort(key=str_len)\n",
    "strings.sort(key=lambda s : len(s)) #람다 사용시\n",
    "print(strings)"
   ]
  },
  {
   "cell_type": "markdown",
   "metadata": {},
   "source": [
    "### filter, map, reduce\n",
    "   - lambda가 유용하게 사용되는 3가지 대표적 함수\n",
    "   - 함수형 프로그래밍의 기본 오소이기도 함\n",
    "   - filter: 특정 조건을 만족하는 요소만 남기고 필터링\n",
    "   - map: 각 원소를 주어진 수식에 따라 변형하여 새로운 리스트를 반환\n",
    "   - reduce: 차례대로 앞 2개의 원소를 가지고 연산, 연산의 결과가 또 다음 연산의 입력으로 진행됨, 따라서 마지막까지 진행되면 최종 출력은 한개의 값만 남게 됨"
   ]
  },
  {
   "cell_type": "code",
   "execution_count": 96,
   "metadata": {},
   "outputs": [
    {
     "name": "stdout",
     "output_type": "stream",
     "text": [
      "[2, 4, 6, 8, 10]\n",
      "[2, 4, 6, 8, 10]\n"
     ]
    }
   ],
   "source": [
    "# filter(함수, 리스트)\n",
    "# 리스트를 순회하면서 even 함수를 적용 true이면 필터링 할 리스트에 추가, false이면 뺀다\n",
    "def even(n):\n",
    "    if n %2 ==0:\n",
    "        return True\n",
    "    else:\n",
    "        return False\n",
    "\n",
    "nums=[1,2,3,4,5,6,7,8,9,10]\n",
    "print(list(filter(even,nums)))\n",
    "print(list(filter(lambda n:n%2==0,nums)))"
   ]
  },
  {
   "cell_type": "code",
   "execution_count": 102,
   "metadata": {},
   "outputs": [
    {
     "name": "stdout",
     "output_type": "stream",
     "text": [
      "[1, 4, 9, 16, 25, 36, 49, 64, 81, 100]\n",
      "[False, True, False, True, False, True, False, True, False, True]\n",
      "[False, True, False, True, False, True, False, True, False, True]\n"
     ]
    }
   ],
   "source": [
    "# map\n",
    "# 리스트의 개수 변하지 않고 새로운 리스트 생성\n",
    "# 주어진 리스트, 리스트의 제곱을한 숫자로 새로운 리스트\n",
    "\n",
    "nums=[1,2,3,4,5,6,7,8,9,10]\n",
    "print(list(map(lambda n:n**2,nums)))\n",
    "print(list(map(even,nums)))\n",
    "print(list(map(lambda n:n%2==0,nums)))"
   ]
  },
  {
   "cell_type": "code",
   "execution_count": 104,
   "metadata": {},
   "outputs": [
    {
     "data": {
      "text/plain": [
       "120"
      ]
     },
     "execution_count": 104,
     "metadata": {},
     "output_type": "execute_result"
    }
   ],
   "source": [
    "import functools\n",
    "#functools.reduce(함수,리스트)\n",
    "\n",
    "a=[1,3,5,8]\n",
    "# 첫번째 호출 1,3 -> y    a=[y,5,8]\n",
    "# 두번째 호출 y, 5 -> z   a=[z,8]\n",
    "# 세번째 호출 z, 8 -> x   a=[x]\n",
    "# 리스트 내의 모든 숫자의 합\n",
    "functools.reduce(lambda x,y:x+y,a)\n",
    "functools.reduce(lambda x,y:x*y,a)"
   ]
  },
  {
   "cell_type": "markdown",
   "metadata": {},
   "source": [
    "### 함수 연습문제\n",
    "   - 주어진 숫자 리스트의 평균을 구하는 함수를 출력하시오\n",
    "   - 해당 숫자가 소수인지 아닌지 판별하시오\n",
    "   - 2부터 해당 숫자사이에 소수에 몇개인지 출력하는 함수를 구하시오"
   ]
  },
  {
   "cell_type": "code",
   "execution_count": 111,
   "metadata": {},
   "outputs": [
    {
     "name": "stdout",
     "output_type": "stream",
     "text": [
      "5.5\n"
     ]
    }
   ],
   "source": [
    "def findAverage(x):\n",
    "    #avg=0\n",
    "    #for num in x:\n",
    "        #avg+=num\n",
    "    avg=sum(x)\n",
    "    return avg/len(x)\n",
    "\n",
    "a = [1,2,3,4,5,6,7,8,9,10]\n",
    "print(findAverage(a))"
   ]
  },
  {
   "cell_type": "code",
   "execution_count": 107,
   "metadata": {
    "scrolled": true
   },
   "outputs": [
    {
     "name": "stdout",
     "output_type": "stream",
     "text": [
      "False\n",
      "True\n"
     ]
    }
   ],
   "source": [
    "def isPrime(x):\n",
    "    for i in range (2,x):\n",
    "        if(x%i==0):\n",
    "            return False\n",
    "    return True\n",
    "\n",
    "print(isPrime(55))\n",
    "print(isPrime(67))"
   ]
  },
  {
   "cell_type": "code",
   "execution_count": 112,
   "metadata": {},
   "outputs": [
    {
     "name": "stdout",
     "output_type": "stream",
     "text": [
      "4\n",
      "25\n"
     ]
    }
   ],
   "source": [
    "def numberOfPrime(x):\n",
    "    count=0\n",
    "    for i in range(2,x+1):\n",
    "        if isPrime(i):\n",
    "            count+=1\n",
    "    return count\n",
    "\n",
    "print(numberOfPrime(10))\n",
    "print(numberOfPrime(100))"
   ]
  },
  {
   "cell_type": "markdown",
   "metadata": {},
   "source": [
    "## 모듈 import\n",
    "   - 그동안 사용했던 함수들 처럼, 다양한 기능들이 미리 함수로 구현되어 모듈 형태로 제공\n",
    "   - 대표적으로 추후 과정에서 사용하게 될 아래의 모듈들이 존재\n",
    "   - requests - HTTP 요청/응답 모듈\n",
    "   - numpy - 수치해석 모듈\n",
    "   - pandas - 데이터 분석 모듈\n",
    "  "
   ]
  },
  {
   "cell_type": "code",
   "execution_count": 1,
   "metadata": {},
   "outputs": [],
   "source": [
    "import requests\n",
    "resp = requests.get('http://naver.com')\n",
    "#resp.text # 네이버 도메인의 html 요청"
   ]
  },
  {
   "cell_type": "markdown",
   "metadata": {},
   "source": [
    "### import\n",
    "   - import를 사용하여 해당 모듈 전체를 import"
   ]
  },
  {
   "cell_type": "code",
   "execution_count": 123,
   "metadata": {},
   "outputs": [
    {
     "data": {
      "text/plain": [
       "1.0"
      ]
     },
     "execution_count": 123,
     "metadata": {},
     "output_type": "execute_result"
    }
   ],
   "source": [
    "import math\n",
    "math.pi\n",
    "math.cos(0)"
   ]
  },
  {
   "cell_type": "markdown",
   "metadata": {},
   "source": [
    "### from import\n",
    "   - 해당 모듈에서 특정한 타입만 import"
   ]
  },
  {
   "cell_type": "code",
   "execution_count": 127,
   "metadata": {},
   "outputs": [
    {
     "name": "stdout",
     "output_type": "stream",
     "text": [
      "1.0\n",
      "3.141592653589793\n"
     ]
    }
   ],
   "source": [
    "from math import pi\n",
    "from math import cos\n",
    "print(cos(0))\n",
    "print(pi)"
   ]
  },
  {
   "cell_type": "markdown",
   "metadata": {},
   "source": [
    "### \\* import\n",
    "   - 해당 모듈내에 정의된 모든 것을 import\n",
    "   - 일반적으로 사용이 권장되지 않음"
   ]
  },
  {
   "cell_type": "code",
   "execution_count": 133,
   "metadata": {},
   "outputs": [
    {
     "name": "stdout",
     "output_type": "stream",
     "text": [
      "0.0\n",
      "2.718281828459045\n"
     ]
    }
   ],
   "source": [
    "from math import *\n",
    "\n",
    "print(sin(0))\n",
    "print(e)"
   ]
  },
  {
   "cell_type": "markdown",
   "metadata": {},
   "source": [
    "### as\n",
    "   - 모듈 import 시, alias(별명) 지정가능"
   ]
  },
  {
   "cell_type": "code",
   "execution_count": 135,
   "metadata": {
    "scrolled": true
   },
   "outputs": [
    {
     "name": "stdout",
     "output_type": "stream",
     "text": [
      "20.085536923187668\n",
      "20.085536923187668\n"
     ]
    }
   ],
   "source": [
    "import math as m\n",
    "print(math.exp(3))\n",
    "print(m.exp(3))"
   ]
  },
  {
   "cell_type": "markdown",
   "metadata": {},
   "source": [
    "## class란?\n",
    "   - 실세계의 것을 모델링하여 속성(attribute)와 동작(method)를 갖는 데이터 타입\n",
    "   - python에서의 string, int, list, dict... 모두가 다 클래스로 존재\n",
    "   - 예를 들어 학생이라는 클래스를 만든다면, 학생을 나타내는 속성과 학생이 행하는 행동을 함께 정의 할 수 있음\n",
    "   - 따라서, 다루고자 하는 데이터(변수)와 데이터를 다루는 연산(함수)를 하나로 캡슐화(encapsulation)하여 클래스로 표현\n",
    "   - 모델링에서 중요시 하는 속성에 따라 클래스의 속성과 행동이 각각 달라짐"
   ]
  },
  {
   "cell_type": "markdown",
   "metadata": {},
   "source": [
    "## Object란?\n",
    "   - 클래스로 생성되어 구체화된 객체(인스턴스)\n",
    "   - 파이썬의 모든 것(int, str, list, etc...)은 객체(인스턴스)\n",
    "   - 실제로 class가 인스턴스화 되어 메모리에 상주하는 상태를 의미\n",
    "   - class가 빵틀이라면, object는 실제로 빵틀로 찍어낸 빵이라고 비유가능"
   ]
  },
  {
   "cell_type": "markdown",
   "metadata": {},
   "source": [
    "### class 선언하기\n",
    "    - 객체를 생성하기 위해선 객체의 모체가 되는 class를 미리 선언해야 함"
   ]
  },
  {
   "cell_type": "code",
   "execution_count": 137,
   "metadata": {},
   "outputs": [],
   "source": [
    "class Person:\n",
    "    pass # 빈 구현을 허용\n"
   ]
  },
  {
   "cell_type": "code",
   "execution_count": 142,
   "metadata": {},
   "outputs": [
    {
     "name": "stdout",
     "output_type": "stream",
     "text": [
      "<class '__main__.Person'>\n",
      "<class 'list'>\n"
     ]
    }
   ],
   "source": [
    "bob = Person()\n",
    "cathy = Person()\n",
    "a = list()\n",
    "print(type(bob))\n",
    "print(type(a))"
   ]
  },
  {
   "cell_type": "markdown",
   "metadata": {},
   "source": [
    "### __init__(self)\n",
    "   - 생성자, 클래스 인스턴스가 생성될 때 호출됨\n",
    "   - self인자는 항상 첫번째에 오면 자기 자신을 가리킴\n",
    "   - 이름이 꼭 self일 필요는 없지만, 관례적으로 self로 사용\n",
    "   - 생성자에서는 해당 클래스가 다루는 데이터를 정의\n",
    "       - 이 데이터를 멤버 변수(member variable)또는 속성(attribute)라고 함\n",
    "       "
   ]
  },
  {
   "cell_type": "code",
   "execution_count": 145,
   "metadata": {},
   "outputs": [
    {
     "name": "stdout",
     "output_type": "stream",
     "text": [
      "<__main__.Person object at 0x0000014105FAB048> is generated\n",
      "Kate 10\n",
      "robin 12\n"
     ]
    }
   ],
   "source": [
    "class Person:\n",
    "    def __init__(self):\n",
    "        print(self,'is generated')\n",
    "        self.name = 'Kate'\n",
    "        self.age = 10\n",
    "        \n",
    "p1 = Person()\n",
    "print(p1.name, p1.age)\n",
    "p1.name ='robin'\n",
    "p1.age= 12\n",
    "print(p1.name, p1.age)"
   ]
  },
  {
   "cell_type": "code",
   "execution_count": 151,
   "metadata": {},
   "outputs": [
    {
     "name": "stdout",
     "output_type": "stream",
     "text": [
      "bob 은 잡니다\n"
     ]
    }
   ],
   "source": [
    "class Person:\n",
    "    def __init__(self, name, age):\n",
    "       # print(self,'is generated')\n",
    "        self.name = name\n",
    "        self.age = age\n",
    "    def sleep(self):\n",
    "        print(self.name,'은 잡니다')\n",
    "\n",
    "p1 = Person('bob',12)\n",
    "p1.sleep()"
   ]
  },
  {
   "cell_type": "markdown",
   "metadata": {},
   "source": [
    "### self\n",
    "   - 파이썬의 method는 항상 첫번째 인자로 self를 전달\n",
    "   - self는 현재 해당 메쏘드가 호출되는 객체 자신을 가리킴\n",
    "   - C++/C#, Java의 this에 해당\n",
    "   - 역시, 이름이 self일 필요는 없으나, 위치는 항상 맨 처음의 parameter이며 관례적으로 self로 사용"
   ]
  },
  {
   "cell_type": "markdown",
   "metadata": {},
   "source": [
    "### method 정의\n",
    "   - 멤버함수라고도 하며, 해당 클래스의 object에서만 호출가능\n",
    "   - 메쏘드는 객체 레벨에서 호출되며, 해당 객체의 속성에 대한 연산을 행함\n",
    "   - {obj}.{method}()형태로 호출됨"
   ]
  },
  {
   "cell_type": "code",
   "execution_count": 157,
   "metadata": {},
   "outputs": [
    {
     "name": "stdout",
     "output_type": "stream",
     "text": [
      "헌재값은 :  1\n"
     ]
    }
   ],
   "source": [
    "class Counter:\n",
    "    def __init__(self):\n",
    "        self.num = 0\n",
    "    \n",
    "    def printCurrentValue(self):\n",
    "        print('헌재값은 : ', self.num)\n",
    "        \n",
    "    def reset(self):\n",
    "        self.num=0\n",
    "    \n",
    "    def increment(self):\n",
    "        self.num+=1\n",
    "\n",
    "c1 = Counter()\n",
    "c1.increment()\n",
    "c1.printCurrentValue()"
   ]
  },
  {
   "cell_type": "markdown",
   "metadata": {},
   "source": [
    "### method type\n",
    "   - instance method - 객체로 호출\n",
    "       - 메쏘드는 객체 레벨로 호출되기 때문에, 해당 메쏘드를 호출한 객체에만 영향을 미침\n",
    "   - calss method(static method) - class로 호출\n",
    "       - 클래스 메쏘드의 경우, 클래스 레벨로 호출되기 때문에, 클래스 멤버 변수만 변경 가능"
   ]
  },
  {
   "cell_type": "code",
   "execution_count": 159,
   "metadata": {},
   "outputs": [
    {
     "data": {
      "text/plain": [
       "30"
      ]
     },
     "execution_count": 159,
     "metadata": {},
     "output_type": "execute_result"
    }
   ],
   "source": [
    "class Math:\n",
    "    @staticmethod\n",
    "    def add(a,b):\n",
    "        return a+b\n",
    "    \n",
    "    @staticmethod\n",
    "    def multiply(a,b):\n",
    "        return a*b\n",
    "m = Math()\n",
    "m.add(10,20)\n"
   ]
  },
  {
   "cell_type": "markdown",
   "metadata": {},
   "source": [
    "## Class Inheritance (상속)\n",
    "   - 기존에 정의해둔 클래스의 기능을 그대로 물려받을 수 있다.\n",
    "   - 기존 클래스에 기능 일부를 추가하거나, 변경하여 새로운 클래스를 정의한다\n",
    "   - 코드를 재사용할 수 있게된다.\n",
    "   - 상속 받고자 하는 대상인 기존 클래스는 (Parent, Super, Base class)라고 부른다.\n",
    "   - 상속 받는 새로운 클래스는(Child, Sub, Derived class 라고 부른다)\n",
    "   - 의미적으로 is-a관계를 갖는다"
   ]
  },
  {
   "cell_type": "code",
   "execution_count": 166,
   "metadata": {},
   "outputs": [
    {
     "name": "stdout",
     "output_type": "stream",
     "text": [
      "승원은 고기을 먹습니다\n",
      "승원은 40분동안 잡니다\n",
      "승원은 20분동안 일을 합니다\n",
      "robin은 생선을 먹습니다\n",
      "robin은 20분동안 잡니다\n",
      "robin은 10분동안 잡니다\n"
     ]
    }
   ],
   "source": [
    "class Person:\n",
    "    def __init__(self, name, age):\n",
    "        self.name = name\n",
    "        self.age = age\n",
    "    \n",
    "    def eat(self,food):\n",
    "        print('{}은 {}을 먹습니다'.format(self.name,food))\n",
    "    \n",
    "    def sleep(self, minute):\n",
    "        print('{}은 {}분동안 잡니다'.format(self.name, minute))\n",
    "    \n",
    "    def work(self,minute):\n",
    "        print('{}은 {}분동안 일을 합니다'.format(self.name, minute))\n",
    "\n",
    "class Student(Person):\n",
    "    pass\n",
    "    \n",
    "class Employee(Person):\n",
    "    pass\n",
    "\n",
    "bob = Person('승원',23)\n",
    "bob.eat('고기')\n",
    "bob.sleep(40)\n",
    "bob.work(20)\n",
    "\n",
    "robin = Student('robin',21)\n",
    "robin.eat('생선')\n",
    "robin.sleep(20)\n",
    "robin.sleep(10)"
   ]
  },
  {
   "cell_type": "markdown",
   "metadata": {},
   "source": [
    "### method override\n",
    "   - 부모 클래스의 method를 재정의(override)\n",
    "   - 하위 클래스(자식 클래스)의 인스턴스로 호출시, 재정의된 메소드가 호출됨"
   ]
  },
  {
   "cell_type": "code",
   "execution_count": 170,
   "metadata": {},
   "outputs": [
    {
     "name": "stdout",
     "output_type": "stream",
     "text": [
      "bob은 10분동안 준비를 합니다\n",
      "bob은 10분동안 공부를 합니다\n",
      "bob은 킹겹살을 먹습니다\n"
     ]
    }
   ],
   "source": [
    "class Person:\n",
    "    def __init__(self, name, age):\n",
    "        self.name = name\n",
    "        self.age = age\n",
    "    \n",
    "    def eat(self,food):\n",
    "        print('{}은 {}을 먹습니다'.format(self.name,food))\n",
    "    \n",
    "    def sleep(self, minute):\n",
    "        print('{}은 {}분동안 잡니다'.format(self.name, minute))\n",
    "    \n",
    "    def work(self,minute):\n",
    "        print('{}은 {}분동안 준비를 합니다'.format(self.name, minute))\n",
    "\n",
    "class Student(Person):\n",
    "    def work(self, minute):\n",
    "        super().work(minute)\n",
    "        print('{}은 {}분동안 공부를 합니다'.format(self.name,minute))\n",
    "\n",
    "bob = Student('bob', 12)\n",
    "bob.work(10)\n",
    "bob.eat('킹겹살')"
   ]
  },
  {
   "cell_type": "markdown",
   "metadata": {},
   "source": [
    "### super\n",
    "   - 하위클래스(자식 클래스)에서 부모클래스의 method를 호출할 때 사용"
   ]
  },
  {
   "cell_type": "markdown",
   "metadata": {},
   "source": [
    "### special method\n",
    "   - \\__로 시작 \\__로 끝나는 특수 함수\n",
    "   - 해당 메쏘드들을 구현하면, 커스텀 객체에 여러가지 파이썬 내장 함수나 연산자를 적용 가능\n",
    "   - https://docs.python.org/3/reference/datamodel.html\n",
    "   - https://docs.python.org/3/reference/datamodel.html#object.__add__\n"
   ]
  },
  {
   "cell_type": "code",
   "execution_count": 189,
   "metadata": {
    "scrolled": true
   },
   "outputs": [
    {
     "name": "stdout",
     "output_type": "stream",
     "text": [
      "(2,5)\n",
      "29\n",
      "2\n",
      "5\n",
      "(6,6)\n",
      "(-2,4)\n",
      "(-4,8)\n"
     ]
    }
   ],
   "source": [
    "# Point\n",
    "# 2차원 좌표평면 각 점 (x,y)\n",
    "# 연산\n",
    "# 두점의 덧셈, 뺄셈\n",
    "# 한점과 숫자의 곱셈\n",
    "# 그 점의 길이(0,0) 부터의 거리\n",
    "# x,y 값 가져오기\n",
    "# 출력하기\n",
    "\n",
    "class Point:\n",
    "    def __init__(self, x, y):\n",
    "        self.x = x\n",
    "        self.y = y\n",
    "   \n",
    "    def __str__(self):\n",
    "        return ('({},{})'.format(self.x, self.y))\n",
    "    \n",
    "    def __add__(self, pt):\n",
    "        new_x = self.x + pt.x\n",
    "        new_y = self.y + pt.y\n",
    "        return Point(new_x,new_y)\n",
    "    \n",
    "    def __sub__(self, pt):\n",
    "        new_x = self.x - pt.x\n",
    "        new_y = self.y - pt.y\n",
    "        return Point(new_x,new_y)\n",
    "    \n",
    "    def __mul__(self, factor):\n",
    "        return Point(self.x*factor ,self.y*factor)\n",
    "    \n",
    "    def __len__(self):\n",
    "        return self.x**2 + self.y**2\n",
    "    \n",
    "    def __getitem__(self,index):\n",
    "        if(index ==0):\n",
    "            return self.x\n",
    "        elif index == 1:\n",
    "            return self.y\n",
    "        else:\n",
    "            return None\n",
    "    \n",
    "p1 = Point(2,5)\n",
    "p2 = Point(4,1)\n",
    "#p3 = p1.add(p2)\n",
    "p3 = p1 + p2\n",
    "p4 = p1 - p2\n",
    "\n",
    "\n",
    "\n",
    "print(p1)\n",
    "print(len(p1))\n",
    "# p1[0] -> x\n",
    "# p1[1] -> y\n",
    "print(p1[0])\n",
    "print(p1[1])\n",
    "\n",
    "print(p3)\n",
    "\n",
    "print(p4)\n",
    "\n",
    "p5 = p4 * 2 \n",
    "print(p5)"
   ]
  },
  {
   "cell_type": "markdown",
   "metadata": {},
   "source": [
    "### 연습문제\n",
    "   - 복소수 클래스를 정의 해보자\n",
    "   - 덧셈, 뺄셈, 곱셈 연산자 지원\n",
    "   - 길이 (복소수의 크기) 지원\n",
    "   - 복소수 출력 '1+4i'와 같이 표현\n",
    "   - 비교 연산 ==, != 지원\n",
    "   \n",
    "   - > =, <=, <, > 연산 지원\n",
    "   - 절대값 지원"
   ]
  },
  {
   "cell_type": "code",
   "execution_count": 13,
   "metadata": {},
   "outputs": [
    {
     "name": "stdout",
     "output_type": "stream",
     "text": [
      "1 + 4i\n",
      "True\n",
      "False\n",
      "8 + 24i\n",
      "-22 + 14i\n",
      "-1 - 2i\n"
     ]
    }
   ],
   "source": [
    "class Complex:\n",
    "    def __init__(self, real, imag):\n",
    "        self.real = real\n",
    "        self.imag = imag\n",
    "        return\n",
    "    def __add__(self, x):\n",
    "        return Complex(self.real + x.real, self.imag + x.imag)\n",
    "    def __sub__(self, x):\n",
    "        return Complex(self.real - x.real, self.imag - x.imag)\n",
    "    def __mul__(self, x):\n",
    "        if type(x) == int:\n",
    "            return Complex(self.real*x, self.imag*x)\n",
    "        elif type(x) == Complex:\n",
    "            a = self.real*x.real - self.imag*x.imag\n",
    "            b = self.real*x.imag + self.imag * x.real\n",
    "            return Complex(a,b)\n",
    "        else:\n",
    "            return None\n",
    "        \n",
    "    def __len__(self):\n",
    "        return self.real**2 + self.imag**2\n",
    "    \n",
    "    def __str__(self):\n",
    "        if self.imag >= 0:\n",
    "            return '{} + {}i'.format(self.real, self.imag) \n",
    "        else: \n",
    "            return '{} - {}i'.format(self.real, abs(self.imag))\n",
    "      \n",
    "    def __lt__(self, x): # <\n",
    "        return len(self) < len(x)\n",
    "    def __le__(self, x): # <=\n",
    "        return len(self) <= len(x)\n",
    "    def __eq__(self, x): # ==\n",
    "        return self.real == x.real and self.imag == x.imag\n",
    "    def __ne__(self, x): # !=\n",
    "        return self.real != x.real or self.imag != x.imag\n",
    "    def __gt__(self, x): # > \n",
    "        return len(self) > len(x)\n",
    "    def __ge__(self, x): # >=\n",
    "        return len(self) >= len(x)\n",
    "\n",
    "com1 = Complex(1, 4)\n",
    "com2 = Complex(2, 6)\n",
    "print(com1)\n",
    "print(com1 <= com2)\n",
    "print(com1 >= com2)\n",
    "print(com2 *4)\n",
    "print(com1 * com2)\n",
    "print(com1 - com2)"
   ]
  },
  {
   "cell_type": "markdown",
   "metadata": {},
   "source": [
    "## 정규표현식\n",
    "   - regular expression\n",
    "   - 특정한 패텬과 일치하는 문자열를 '검색', '치환', '제거'하는  기능을 지원\n",
    "   - 정규표현식의 도움없이 패턴을 찾는 작업(Rule 기반)은 불완전하거나, 작업의 cost가 높음\n",
    "   - e.g) 이메일 형식 판별, 전화번호 형식 판별, 숫자로만 이루어진 문자열 등"
   ]
  },
  {
   "cell_type": "markdown",
   "metadata": {},
   "source": [
    "- raw string\n",
    "    - 문자열 앞에 r이 붙으면 해당 문자열이 구성된 그대로 문자열로 반환"
   ]
  },
  {
   "cell_type": "code",
   "execution_count": null,
   "metadata": {},
   "outputs": [],
   "source": [
    "a = 'abcdef\\n' # excapce 문자열\n",
    "print(a)\n",
    "\n",
    "b = r'abcdef\\n'\n",
    "print(b)"
   ]
  },
  {
   "cell_type": "markdown",
   "metadata": {},
   "source": [
    "### 기본 패턴\n",
    "   - a, X, 9 등등 문자 하나하나의 character들은 정확히 해당 문자와 일치\n",
    "       - e.g)패턴 test는 test 문자열과 일치\n",
    "       - 대소문자의 경우 기본적으로 구별하나, 구별하지 않도록 설정 가능\n",
    "   - 몇몇 문자들에 대해서는 예외가 존재하는데, 이들은 특별한 의미로 사용됨\n",
    "       - ,\\^ $ * + ? {} [] \\ | ()\n",
    "   - .(마침표) - 어떤 한개의 character와 일치 (newline(엔터) 제외)\n",
    "   - \\w - 문자 character와 일치 [a-zA-Z0-9]\n",
    "   - \\s - 공백문자와 일치\n",
    "   - \\t, \\n, \\r - tab, newline, return\n",
    "   - \\d - 숫자 character와 일치 [0-9]\n",
    "   - ^ = 시작, \\$ = 끝 각각 문자열의 시작과 끝을 의미\n",
    "   - \\\\가 붙으면 스페셜한 의미가 없어짐. 예를들어 \\\\.는 .자체를 의미 \\\\\\는 \\를 의미\n",
    "   - 자세한 내용은 링크 참조 https://docs.python.org/3/library/re.html\n",
    "   "
   ]
  },
  {
   "cell_type": "markdown",
   "metadata": {},
   "source": [
    "### search method\n",
    "   - 첫번째로 패턴을 찾으면 match 객체를 반환\n",
    "   - 패턴을 찾지 못하면 None 반환\n",
    "   "
   ]
  },
  {
   "cell_type": "code",
   "execution_count": 133,
   "metadata": {},
   "outputs": [
    {
     "name": "stdout",
     "output_type": "stream",
     "text": [
      "3\n",
      "6\n",
      "<class 'str'>\n",
      "abc\n"
     ]
    }
   ],
   "source": [
    "import re\n",
    "m =  re.search(r'abc','123abcdef') # 정규표현식 패턴, 찾을 대상인 문자열\n",
    "print(m.start())\n",
    "print(m.end())\n",
    "print(type(m.group()))\n",
    "print(m.group())\n"
   ]
  },
  {
   "cell_type": "code",
   "execution_count": 30,
   "metadata": {},
   "outputs": [
    {
     "data": {
      "text/plain": [
       "<re.Match object; span=(0, 4), match='112a'>"
      ]
     },
     "execution_count": 30,
     "metadata": {},
     "output_type": "execute_result"
    }
   ],
   "source": [
    "m = re.search(r'\\d\\d\\d\\w','112abcdef119') #search 가정 먼저 뜨는거 반환\n",
    "m"
   ]
  },
  {
   "cell_type": "code",
   "execution_count": 29,
   "metadata": {
    "scrolled": true
   },
   "outputs": [
    {
     "data": {
      "text/plain": [
       "<re.Match object; span=(2, 6), match='$%AB'>"
      ]
     },
     "execution_count": 29,
     "metadata": {},
     "output_type": "execute_result"
    }
   ],
   "source": [
    "m = re.search(r'..\\w\\w', '@#$%ABCDEF')\n",
    "m"
   ]
  },
  {
   "cell_type": "markdown",
   "metadata": {},
   "source": [
    "### metacharacters (메타 캐릭터)\n",
    "\n",
    "#### []문자들의 범위를 나타내기 위해 사용\n",
    "   - [] 내부의 메타 개릭터는 캐릭터 자체를 나타냄\n",
    "   - e.g)\n",
    "   - [abck]:a or b or c or k\n",
    "   - [abc.^]: a or b or c or . or ^\n",
    "   - [a-d]: -와 함께 사용되면 해당 문자 사이의 범위에 속하는 문자 중 하나\n",
    "   - [0-9]: 모든 숫자\n",
    "   - [a-z]: 모든 소문자\n",
    "   - [A-Z]: 모든 대문자\n",
    "   - [a-zA-Z0-9]: 모든 알파벳 문자 및 숫자\n",
    "   - [^0-9]: ^가 맨 앞에 사용 되는 경우 해당 문자 패턴이 아닌 것과 매칭"
   ]
  },
  {
   "cell_type": "code",
   "execution_count": 139,
   "metadata": {},
   "outputs": [
    {
     "name": "stdout",
     "output_type": "stream",
     "text": [
      "<re.Match object; span=(0, 3), match='cat'>\n",
      "None\n",
      "<class 'NoneType'>\n"
     ]
    }
   ],
   "source": [
    "print(re.search(r'[cmb]at','cat'))\n",
    "print(re.search(r'[cmb]at','aat'))\n",
    "m = re.search(r'[cmb]at','aat')\n",
    "print(type(m))"
   ]
  },
  {
   "cell_type": "code",
   "execution_count": 38,
   "metadata": {},
   "outputs": [
    {
     "name": "stdout",
     "output_type": "stream",
     "text": [
      "<re.Match object; span=(0, 7), match='2hahaha'>\n",
      "None\n"
     ]
    }
   ],
   "source": [
    "print(re.search(r'[0-9]hahaha','2hahaha'))\n",
    "print(re.search(r'[0-4]hahaha','7hahaha'))"
   ]
  },
  {
   "cell_type": "code",
   "execution_count": 41,
   "metadata": {},
   "outputs": [
    {
     "name": "stdout",
     "output_type": "stream",
     "text": [
      "<re.Match object; span=(0, 5), match='caron'>\n",
      "<re.Match object; span=(0, 5), match='^aron'>\n",
      "None\n"
     ]
    }
   ],
   "source": [
    "print(re.search(r'[abc.^]aron','caron'))\n",
    "print(re.search(r'[abc.^]aron','^aron'))\n",
    "print(re.search(r'[abc.^]aron','9aron'))"
   ]
  },
  {
   "cell_type": "code",
   "execution_count": 46,
   "metadata": {},
   "outputs": [
    {
     "name": "stdout",
     "output_type": "stream",
     "text": [
      "None\n",
      "<re.Match object; span=(0, 5), match='1aron'>\n",
      "None\n"
     ]
    }
   ],
   "source": [
    "print(re.search(r'[^abc.^]aron','12caron'))\n",
    "print(re.search(r'[^abc.^]aron','1aron'))\n",
    "print(re.search(r'[^abc.^]aron','^aron'))"
   ]
  },
  {
   "cell_type": "markdown",
   "metadata": {},
   "source": [
    "1. 다른 문자와 함께 사용되어 특수한 의미를 지님\n",
    "    - \\d: 숫자를 [0-9]와 동일\n",
    "    - \\D: 숫자가 아닌 문자 [^0-9]와 동일\n",
    "    - \\s: 공백 문자(띄어쓰기, 탭, 엔터 등)\n",
    "    - \\S: 공백이 아닌 문자\n",
    "    - \\w: 알파벳대소문자, 숫자 [0-9a-zA-Z]와 동일\n",
    "    - \\W: non alpa-numeric 문자 [^0-9a-zA-Z]와 동일\n",
    "2. 메타 캐릭터가 캐릭터 자체를 표현하도록 할 경우 사용\n",
    "    - \\\\., \\\\\\"
   ]
  },
  {
   "cell_type": "code",
   "execution_count": 52,
   "metadata": {},
   "outputs": [
    {
     "name": "stdout",
     "output_type": "stream",
     "text": [
      "None\n",
      "<re.Match object; span=(5, 9), match=' and'>\n"
     ]
    }
   ],
   "source": [
    "print(re.search(r'\\Sand','apple and banana'))\n",
    "print(re.search(r'\\sand','apple and banana'))"
   ]
  },
  {
   "cell_type": "code",
   "execution_count": 55,
   "metadata": {},
   "outputs": [
    {
     "name": "stdout",
     "output_type": "stream",
     "text": [
      "None\n",
      "<re.Match object; span=(5, 9), match=' and'>\n"
     ]
    }
   ],
   "source": [
    "print(re.search(r'\\.and','apple and banana'))\n",
    "print(re.search(r'.and','apple and banana'))"
   ]
  },
  {
   "cell_type": "markdown",
   "metadata": {},
   "source": [
    "### 반복패턴\n",
    "- 패턴 뒤에 위치하는 *, +, ?는 해당 패턴이 반복적으로 존재하는 검사\n",
    "    - '+' -> 1번 이상의 패턴이 발생\n",
    "    - '*: -> 0번 이상의 패턴이 발생\n",
    "    - '?' -> 0 혹은 1번의 패턴이 발생\n",
    "- 반복을 패턴의 경우 greedy하게 검색 함, 즉 가능한 많은 부분이 매칭되도록 함\n",
    "    - e.g) a[bcd]*b 패턴을 abcbdccb에서 검색하는 경우, 즉 (a b)사이에 b,c,d가 반복 횟수\n",
    "        - ab(0회), abcb(2회), abcbdccb(6회) 전부 가능 하지만 최대한 많은 부분이 매칭된 abcbdccb가 검색된 패턴"
   ]
  },
  {
   "cell_type": "code",
   "execution_count": 56,
   "metadata": {},
   "outputs": [
    {
     "data": {
      "text/plain": [
       "<re.Match object; span=(0, 8), match='abcbdccb'>"
      ]
     },
     "execution_count": 56,
     "metadata": {},
     "output_type": "execute_result"
    }
   ],
   "source": [
    "re.search(r'a[bcd]*b','abcbdccb')"
   ]
  },
  {
   "cell_type": "code",
   "execution_count": 57,
   "metadata": {},
   "outputs": [
    {
     "data": {
      "text/plain": [
       "<re.Match object; span=(0, 6), match='banana'>"
      ]
     },
     "execution_count": 57,
     "metadata": {},
     "output_type": "execute_result"
    }
   ],
   "source": [
    "re.search(r'b\\w+a','banana')"
   ]
  },
  {
   "cell_type": "code",
   "execution_count": 59,
   "metadata": {},
   "outputs": [
    {
     "data": {
      "text/plain": [
       "<re.Match object; span=(1, 3), match='ii'>"
      ]
     },
     "execution_count": 59,
     "metadata": {},
     "output_type": "execute_result"
    }
   ],
   "source": [
    "re.search(r'i+','piigiii') #가장 빨리 찾은거"
   ]
  },
  {
   "cell_type": "code",
   "execution_count": 64,
   "metadata": {},
   "outputs": [
    {
     "data": {
      "text/plain": [
       "<re.Match object; span=(0, 4), match='piig'>"
      ]
     },
     "execution_count": 64,
     "metadata": {},
     "output_type": "execute_result"
    }
   ],
   "source": [
    "re.search(r'pi*g','piigiii') "
   ]
  },
  {
   "cell_type": "code",
   "execution_count": 65,
   "metadata": {},
   "outputs": [
    {
     "data": {
      "text/plain": [
       "<re.Match object; span=(0, 4), match='piig'>"
      ]
     },
     "execution_count": 65,
     "metadata": {},
     "output_type": "execute_result"
    }
   ],
   "source": [
    "re.search(r'pi+g', 'piig')"
   ]
  },
  {
   "cell_type": "code",
   "execution_count": 70,
   "metadata": {},
   "outputs": [
    {
     "data": {
      "text/plain": [
       "<re.Match object; span=(0, 2), match='pg'>"
      ]
     },
     "execution_count": 70,
     "metadata": {},
     "output_type": "execute_result"
    }
   ],
   "source": [
    "re.search(r'pi*g', 'pg') #pg"
   ]
  },
  {
   "cell_type": "code",
   "execution_count": 67,
   "metadata": {},
   "outputs": [],
   "source": [
    "re.search(r'pi+g', 'pg') # None"
   ]
  },
  {
   "cell_type": "code",
   "execution_count": 72,
   "metadata": {},
   "outputs": [
    {
     "data": {
      "text/plain": [
       "<re.Match object; span=(0, 5), match='https'>"
      ]
     },
     "execution_count": 72,
     "metadata": {},
     "output_type": "execute_result"
    }
   ],
   "source": [
    "re.search(r'https?','https://www.naver.com') # s가 한번 있거나 없거나"
   ]
  },
  {
   "cell_type": "code",
   "execution_count": 73,
   "metadata": {},
   "outputs": [
    {
     "data": {
      "text/plain": [
       "<re.Match object; span=(0, 4), match='http'>"
      ]
     },
     "execution_count": 73,
     "metadata": {},
     "output_type": "execute_result"
    }
   ],
   "source": [
    "re.search(r'https?','http://www.naver.com') # s가 한번 있거나 없거나"
   ]
  },
  {
   "cell_type": "markdown",
   "metadata": {},
   "source": [
    "### ^, *, *$\n",
    "   - ()을 사용하여 그루핑\n",
    "   - 매칭 결과를 각 그룹별로 분리 가능\n",
    "   - 패턴 명시 할 떄, 각 그룹을 괄호() 안에 넣어 분리하여 사용"
   ]
  },
  {
   "cell_type": "code",
   "execution_count": 75,
   "metadata": {
    "scrolled": true
   },
   "outputs": [
    {
     "data": {
      "text/plain": [
       "<re.Match object; span=(2, 6), match='bana'>"
      ]
     },
     "execution_count": 75,
     "metadata": {},
     "output_type": "execute_result"
    }
   ],
   "source": [
    "re.search(r'b\\w+a', 'cabana') # 아무문자 하나 이상"
   ]
  },
  {
   "cell_type": "code",
   "execution_count": 76,
   "metadata": {
    "scrolled": true
   },
   "outputs": [],
   "source": [
    "re.search(r'^b\\w+a', 'cabana') # 맨 앞에서부터 일치하는지 결과 None"
   ]
  },
  {
   "cell_type": "code",
   "execution_count": 77,
   "metadata": {
    "scrolled": true
   },
   "outputs": [
    {
     "data": {
      "text/plain": [
       "<re.Match object; span=(0, 4), match='bana'>"
      ]
     },
     "execution_count": 77,
     "metadata": {},
     "output_type": "execute_result"
    }
   ],
   "source": [
    "re.search(r'^b\\w+a', 'bana') # 맨 앞에서부터 일치하는지"
   ]
  },
  {
   "cell_type": "code",
   "execution_count": 78,
   "metadata": {
    "scrolled": true
   },
   "outputs": [],
   "source": [
    "re.search(r'b\\w+a$', 'bana1') # 맨 뒤에서부터 일치하는지 결과 None"
   ]
  },
  {
   "cell_type": "code",
   "execution_count": 79,
   "metadata": {
    "scrolled": true
   },
   "outputs": [
    {
     "data": {
      "text/plain": [
       "<re.Match object; span=(3, 7), match='bana'>"
      ]
     },
     "execution_count": 79,
     "metadata": {},
     "output_type": "execute_result"
    }
   ],
   "source": [
    "re.search(r'b\\w+a$', '123bana') # 맨 뒤에서부터 일치하는지 결과 "
   ]
  },
  {
   "cell_type": "markdown",
   "metadata": {},
   "source": [
    "### grouping\n",
    "   - ()을 사용하여 그루핑\n",
    "   - 매칭 결과를 각 그룹별로 분리 가능\n",
    "   - 패턴 명시 할 때, 각 그룹을 괄호()안에 넣어 분리하여 사용"
   ]
  },
  {
   "cell_type": "code",
   "execution_count": 85,
   "metadata": {
    "scrolled": true
   },
   "outputs": [
    {
     "name": "stdout",
     "output_type": "stream",
     "text": [
      "<re.Match object; span=(0, 14), match='test@gmail.com'>\n",
      "test\n",
      "gmail.com\n",
      "test@gmail.com\n"
     ]
    }
   ],
   "source": [
    "m = re.search(r'(\\w+)@(.+)', 'test@gmail.com') \n",
    "#어떤 알파벳 하나 이상, 아무 문자 하나 이상\n",
    "print(m)\n",
    "print(m.group(1))\n",
    "print(m.group(2))\n",
    "print(m.group(0))"
   ]
  },
  {
   "cell_type": "markdown",
   "metadata": {},
   "source": [
    "### {}\n",
    "   - *, + ? 을 사용하여 반복적인 패턴을 찾는 것이 가능하나, 반복의 횟수 제한은 불가\n",
    "   - 패턴뒤에 위치하는 중괄호{}에 숫자를 명시하면 해당 숫자 만큼의 반복인 경우에만 매칭\n",
    "   - {4} - 4번 반복\n",
    "   - {3,4} - 3~4번 반복"
   ]
  },
  {
   "cell_type": "code",
   "execution_count": 93,
   "metadata": {},
   "outputs": [
    {
     "name": "stdout",
     "output_type": "stream",
     "text": [
      "<re.Match object; span=(0, 6), match='piiiig'>\n",
      "None\n",
      "<re.Match object; span=(0, 5), match='piiig'>\n",
      "None\n",
      "<re.Match object; span=(0, 7), match='piiiiig'>\n"
     ]
    }
   ],
   "source": [
    "print(re.search('pi+g','piiiig'))\n",
    "print(re.search('pi{3}g','piig'))\n",
    "print(re.search('pi{3}g','piiig')) # 3번만 반복\n",
    "print(re.search('pi{3,5}g','piiiiiiig')) \n",
    "print(re.search('pi{3,5}g','piiiiig')) # 3~5 but greedy"
   ]
  },
  {
   "cell_type": "markdown",
   "metadata": {},
   "source": [
    "### 미니멈 매칭(non-greedy way)\n",
    "   - 기본적으로 *, +, ?를 사용하면 greedy(맥시멈 매칭)하게 동작함\n",
    "   - *?, +?을 이용하여 해당 기능을 구현"
   ]
  },
  {
   "cell_type": "code",
   "execution_count": 95,
   "metadata": {
    "scrolled": true
   },
   "outputs": [
    {
     "data": {
      "text/plain": [
       "<re.Match object; span=(0, 17), match='<html>haha<\\\\html>'>"
      ]
     },
     "execution_count": 95,
     "metadata": {},
     "output_type": "execute_result"
    }
   ],
   "source": [
    "re.search(r'<.+>', '<html>haha<\\html>')"
   ]
  },
  {
   "cell_type": "code",
   "execution_count": 96,
   "metadata": {
    "scrolled": false
   },
   "outputs": [
    {
     "data": {
      "text/plain": [
       "<re.Match object; span=(0, 6), match='<html>'>"
      ]
     },
     "execution_count": 96,
     "metadata": {},
     "output_type": "execute_result"
    }
   ],
   "source": [
    "re.search(r'<.+?>', '<html>haha<\\html>')"
   ]
  },
  {
   "cell_type": "markdown",
   "metadata": {},
   "source": [
    "### {}?\n",
    "   - {m,n}의 경우 m번에서 n번 반복하나 greedy하게 동작\n",
    "   - {m,n}?로 사용하면 non-greedy하게 동작, 즉, 최소 m번만 매칭하면 만족"
   ]
  },
  {
   "cell_type": "code",
   "execution_count": 97,
   "metadata": {
    "scrolled": true
   },
   "outputs": [
    {
     "data": {
      "text/plain": [
       "<re.Match object; span=(0, 5), match='aaaaa'>"
      ]
     },
     "execution_count": 97,
     "metadata": {},
     "output_type": "execute_result"
    }
   ],
   "source": [
    "re.search(r'a{3,5}','aaaaa')"
   ]
  },
  {
   "cell_type": "code",
   "execution_count": null,
   "metadata": {},
   "outputs": [],
   "source": [
    "re.search(r'a{3,5}?','aaaaa')"
   ]
  },
  {
   "cell_type": "markdown",
   "metadata": {},
   "source": [
    "### match\n",
    "   - search와 유사하나, 주어진 문자열의 시작부터 비교하여 패턴이 있는지 확인\n",
    "   - 시작부터 해당 패턴이 존재하지 않다면 None 반환"
   ]
  },
  {
   "cell_type": "code",
   "execution_count": 100,
   "metadata": {},
   "outputs": [],
   "source": [
    "re.match(r'\\d\\d\\d', 'my number is 123') # None"
   ]
  },
  {
   "cell_type": "code",
   "execution_count": 101,
   "metadata": {
    "scrolled": true
   },
   "outputs": [
    {
     "data": {
      "text/plain": [
       "<re.Match object; span=(0, 3), match='123'>"
      ]
     },
     "execution_count": 101,
     "metadata": {},
     "output_type": "execute_result"
    }
   ],
   "source": [
    "re.match(r'\\d\\d\\d', '123 is my number') # 동일"
   ]
  },
  {
   "cell_type": "code",
   "execution_count": 102,
   "metadata": {
    "scrolled": true
   },
   "outputs": [
    {
     "data": {
      "text/plain": [
       "<re.Match object; span=(0, 3), match='123'>"
      ]
     },
     "execution_count": 102,
     "metadata": {},
     "output_type": "execute_result"
    }
   ],
   "source": [
    "re.search(r'^\\d\\d\\d', '123 is my number') #동일"
   ]
  },
  {
   "cell_type": "markdown",
   "metadata": {},
   "source": [
    "### findall\n",
    "   - search가 최초로 매칭되는 패턴만 반환한다면, findall은 매칭되는 전체의 패턴을 반환\n",
    "   - 매칭되는 모든 결과를 리스트 형태로 반환"
   ]
  },
  {
   "cell_type": "code",
   "execution_count": 106,
   "metadata": {},
   "outputs": [
    {
     "data": {
      "text/plain": [
       "['--@gmail.com', 'test2@gmail.com']"
      ]
     },
     "execution_count": 106,
     "metadata": {},
     "output_type": "execute_result"
    }
   ],
   "source": [
    "re.findall(r'[\\w-]+@[\\w.]+','--@gmail.com hoho test2@gmail.com')"
   ]
  },
  {
   "cell_type": "markdown",
   "metadata": {},
   "source": [
    "### sub\n",
    "   - 주어진 문자열에서 일치하는 모든 패턴을 replace\n",
    "   - 그 결과를 문자열로 다시 반환함\n",
    "   - 두번째 인자는 특정 문자열이 될 수 있고, 함수가 될 수 도 있음\n",
    "   - count가 0인 경우는 전체를, 1이상이면 해당 숫자만큼 치환됨"
   ]
  },
  {
   "cell_type": "code",
   "execution_count": 108,
   "metadata": {},
   "outputs": [
    {
     "data": {
      "text/plain": [
       "'great hoho test2@gmail.com'"
      ]
     },
     "execution_count": 108,
     "metadata": {},
     "output_type": "execute_result"
    }
   ],
   "source": [
    "re.sub(r'[\\w-]+@[\\w.]+','great','--@gmail.com hoho test2@gmail.com')"
   ]
  },
  {
   "cell_type": "code",
   "execution_count": 111,
   "metadata": {},
   "outputs": [
    {
     "data": {
      "text/plain": [
       "'great hoho test2@gmail.com'"
      ]
     },
     "execution_count": 111,
     "metadata": {},
     "output_type": "execute_result"
    }
   ],
   "source": [
    "re.sub(r'[\\w-]+@[\\w.]+','great','--@gmail.com hoho test2@gmail.com',count =1)"
   ]
  },
  {
   "cell_type": "markdown",
   "metadata": {},
   "source": [
    "### compile\n",
    "   - 동일한 정규표현식을 매번 다시 쓰기 번거로움을 해결\n",
    "   - compile로 해당표현식을 re.RegexObject 객체로 저장하여 사용가능"
   ]
  },
  {
   "cell_type": "code",
   "execution_count": 114,
   "metadata": {},
   "outputs": [
    {
     "data": {
      "text/plain": [
       "['test@gmail.com']"
      ]
     },
     "execution_count": 114,
     "metadata": {},
     "output_type": "execute_result"
    }
   ],
   "source": [
    "email_reg = re.compile(r'[\\w-]+@[\\w.]+')\n",
    "email_reg.search('test@gmail.com')\n",
    "email_reg.findall('test@gmail.com')"
   ]
  },
  {
   "cell_type": "markdown",
   "metadata": {},
   "source": [
    "## 연습문제\n",
    "   - 아래 뉴스에서 이메일 주소를 추출해 보세요\n",
    "   - 다음중 올바른 (http, https) 웹페이지만 찾으시오"
   ]
  },
  {
   "cell_type": "code",
   "execution_count": 141,
   "metadata": {},
   "outputs": [
    {
     "name": "stdout",
     "output_type": "stream",
     "text": [
      "(로스앤젤레스=연합뉴스) 옥철 특파원 = 팀 쿡 애플 최고경영자(CEO)가 16일(현지시간) 실리콘밸리 앞마당 격인 미국 서부 명문 스탠퍼드대학 학위수여식에서 테크기업들을 향해 쓴소리를 쏟아냈다.쿡은 이날 연설에서 실리콘밸리 테크기업들은 자신들이 만든 혼란에 대한 책임을 질 필요가 있다고 경고했다.근래 IT 업계의 가장 큰 이슈인 개인정보 침해, 사생활 보호 문제를 콕 집어 라이벌인 구글, 페이스북 등 IT 공룡을 겨냥한 발언이라는 해석이 나왔다.쿡은 \"최근 실리콘밸리 산업은 고귀한 혁신과는 점점 더 거리가 멀어지는 것으로 알려져 있다. 책임을 받아들이지 않고도 신뢰를 얻을 수 있다는 그런 믿음 말이다\"라고 꼬집었다.개인정보 유출 사건으로 미 의회 청문회에 줄줄이 불려 나간 경쟁사 CEO들을 향해 일침을 가한 것으로 보인다.그는 또 실리콘밸리에서 희대의 사기극을 연출한 바이오벤처 스타트업 테라노스(Theranos)를 직격했다.쿡은 \"피 한 방울로 거짓된 기적을 만들 수 있다고 믿었느냐\"면서 \"이런 식으로 혼돈의 공장을 만든다면 그 책임에서 절대 벗어날 수 없다\"라고 비난했다.테라노스는 손가락 끝을 찔러 극미량의 혈액 샘플만 있으면 각종 의학정보 분석은 물론 거의 모든 질병 진단이 가능한 바이오헬스 기술을 개발했다고 속여 월가 큰손들로부터 거액의 투자를 유치했다가 해당 기술이 사기인 것으로 드러나 청산한 기업이다.쿡은 애플의 경우 프라이버시(사생활) 보호에 초점을 맞춘 새로운 제품 기능들로 경쟁사들에 맞서고 있다며 자사의 데이터 보호 정책을 은근히 홍보하기도 했다.oakchul@yna.co.kr\n",
      "<re.Match object; span=(774, 791), match='oakchul@yna.co.kr'>\n"
     ]
    }
   ],
   "source": [
    "import requests\n",
    "import re\n",
    "from bs4 import BeautifulSoup\n",
    "# 위의 두 모듈이 없는 경우에는 pip install requests bs4 실행\n",
    "def getNewsContent(url):\n",
    "    response = requests.get(url)\n",
    "    content = response.text\n",
    "    \n",
    "    soup = BeautifulSoup(content, 'html5lib')\n",
    "    \n",
    "    div = soup.find('div', attrs = {'id' : 'harmonyContainer'})\n",
    "    \n",
    "    content = ''\n",
    "    \n",
    "    for paragraph in div.find_all('p'):\n",
    "        content += paragraph.get_text()\n",
    "    return content\n",
    "\n",
    "news = getNewsContent('https://news.v.daum.net/v/20190617073049838')\n",
    "print(news)\n",
    "m = re.search('[\\w]+@[\\w.]+\\w',news)\n",
    "print(m)"
   ]
  },
  {
   "cell_type": "code",
   "execution_count": 148,
   "metadata": {},
   "outputs": [
    {
     "name": "stdout",
     "output_type": "stream",
     "text": [
      "['http://www.test.com', 'https://www.test.com', 'http://www.test.co.kr', 'http://www.google.com']\n",
      "[True, True, True, False, False, False, True, False]\n"
     ]
    }
   ],
   "source": [
    "webs = ['http://www.test.com',\n",
    "        'https://www.test.com',\n",
    "        'http://www.test.co.kr',\n",
    "        'ftp://www.test.com',\n",
    "        'http:://www.test.com',\n",
    "        'htp://www.test.com',\n",
    "        'http://www.google.com',\n",
    "        'https://www.homepage.com.']\n",
    "correctUrl =[]\n",
    "for url in webs:\n",
    "    m = re.search(r'https?://[\\w.]+\\w+$', url) # 맨 마지막부터 일치\n",
    "    if(m != None):\n",
    "        correctUrl.append(m.group())\n",
    "print(correctUrl)\n",
    "\n",
    "print(list(map(lambda url:re.search(r'https?://[\\w.]+\\w+$', url)!=None,webs)))"
   ]
  }
 ],
 "metadata": {
  "kernelspec": {
   "display_name": "Python 3",
   "language": "python",
   "name": "python3"
  },
  "language_info": {
   "codemirror_mode": {
    "name": "ipython",
    "version": 3
   },
   "file_extension": ".py",
   "mimetype": "text/x-python",
   "name": "python",
   "nbconvert_exporter": "python",
   "pygments_lexer": "ipython3",
   "version": "3.7.4"
  }
 },
 "nbformat": 4,
 "nbformat_minor": 2
}
