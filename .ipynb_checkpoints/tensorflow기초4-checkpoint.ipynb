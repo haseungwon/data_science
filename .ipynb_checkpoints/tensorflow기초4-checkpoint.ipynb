{
 "cells": [
  {
   "cell_type": "code",
   "execution_count": 1,
   "metadata": {
    "colab": {},
    "colab_type": "code",
    "executionInfo": {
     "elapsed": 2752,
     "status": "ok",
     "timestamp": 1598693460419,
     "user": {
      "displayName": "하승원",
      "photoUrl": "https://lh3.googleusercontent.com/a-/AOh14GiRq81xfP1qinTpwnC7YwwzgoaPP3IJh97s9hAI=s64",
      "userId": "01527595399780565899"
     },
     "user_tz": -540
    },
    "id": "-i-Svw2uI3h1"
   },
   "outputs": [
    {
     "ename": "ModuleNotFoundError",
     "evalue": "No module named 'tensorflow'",
     "output_type": "error",
     "traceback": [
      "\u001b[1;31m---------------------------------------------------------------------------\u001b[0m",
      "\u001b[1;31mModuleNotFoundError\u001b[0m                       Traceback (most recent call last)",
      "\u001b[1;32m<ipython-input-1-dae78d56f13f>\u001b[0m in \u001b[0;36m<module>\u001b[1;34m\u001b[0m\n\u001b[1;32m----> 1\u001b[1;33m \u001b[1;32mimport\u001b[0m \u001b[0mtensorflow\u001b[0m \u001b[1;32mas\u001b[0m \u001b[0mtf\u001b[0m\u001b[1;33m\u001b[0m\u001b[1;33m\u001b[0m\u001b[0m\n\u001b[0m\u001b[0;32m      2\u001b[0m \u001b[1;32mfrom\u001b[0m \u001b[0mtensorflow\u001b[0m\u001b[1;33m.\u001b[0m\u001b[0mkeras\u001b[0m \u001b[1;32mimport\u001b[0m \u001b[0mlayers\u001b[0m\u001b[1;33m\u001b[0m\u001b[1;33m\u001b[0m\u001b[0m\n\u001b[0;32m      3\u001b[0m \u001b[1;33m\u001b[0m\u001b[0m\n\u001b[0;32m      4\u001b[0m \u001b[1;32mfrom\u001b[0m \u001b[0mtensorflow\u001b[0m\u001b[1;33m.\u001b[0m\u001b[0mkeras\u001b[0m \u001b[1;32mimport\u001b[0m \u001b[0mdatasets\u001b[0m\u001b[1;33m\u001b[0m\u001b[1;33m\u001b[0m\u001b[0m\n",
      "\u001b[1;31mModuleNotFoundError\u001b[0m: No module named 'tensorflow'"
     ]
    }
   ],
   "source": [
    "import tensorflow as tf\n",
    "from tensorflow.keras import layers\n",
    "\n",
    "from tensorflow.keras import datasets"
   ]
  },
  {
   "cell_type": "markdown",
   "metadata": {
    "colab_type": "text",
    "id": "iPq5Br7xJFQa"
   },
   "source": [
    "prepare mnist dataset"
   ]
  },
  {
   "cell_type": "code",
   "execution_count": 2,
   "metadata": {
    "colab": {},
    "colab_type": "code",
    "executionInfo": {
     "elapsed": 2747,
     "status": "ok",
     "timestamp": 1598693460427,
     "user": {
      "displayName": "하승원",
      "photoUrl": "https://lh3.googleusercontent.com/a-/AOh14GiRq81xfP1qinTpwnC7YwwzgoaPP3IJh97s9hAI=s64",
      "userId": "01527595399780565899"
     },
     "user_tz": -540
    },
    "id": "jZ3FGi7ZJAaF"
   },
   "outputs": [],
   "source": [
    "(train_x, train_y), (test_x, test_y) = datasets.mnist.load_data()"
   ]
  },
  {
   "cell_type": "code",
   "execution_count": 3,
   "metadata": {
    "colab": {},
    "colab_type": "code",
    "executionInfo": {
     "elapsed": 3175,
     "status": "ok",
     "timestamp": 1598693460862,
     "user": {
      "displayName": "하승원",
      "photoUrl": "https://lh3.googleusercontent.com/a-/AOh14GiRq81xfP1qinTpwnC7YwwzgoaPP3IJh97s9hAI=s64",
      "userId": "01527595399780565899"
     },
     "user_tz": -540
    },
    "id": "BbYBh7zuFydj"
   },
   "outputs": [],
   "source": [
    "inputs = layers.Input((28, 28, 1))\n",
    "#feature extraction\n",
    "net = layers.Conv2D(32, (3, 3), padding='SAME')(inputs)\n",
    "net = layers.Activation('relu')(net)\n",
    "net = layers.Conv2D(32, (3, 3), padding='SAME')(net)\n",
    "net = layers.Activation('relu')(net)\n",
    "net = layers.MaxPooling2D(pool_size=(2, 2))(net)\n",
    "net = layers.Dropout(0.25)(net)\n",
    "\n",
    "net = layers.Conv2D(64, (3, 3), padding='SAME')(net)\n",
    "net = layers.Activation('relu')(net)\n",
    "net = layers.Conv2D(64, (3, 3), padding='SAME')(net)\n",
    "net = layers.Activation('relu')(net)\n",
    "net = layers.MaxPooling2D(pool_size=(2, 2))(net)\n",
    "net = layers.Dropout(0.25)(net)\n",
    "\n",
    "\n",
    "# fully connected\n",
    "net = layers.Flatten()(net)\n",
    "net = layers.Dense(512)(net)\n",
    "net = layers.Activation('relu')(net)\n",
    "net = layers.Dropout(0.5)(net)\n",
    "net = layers.Dense(10)(net)  # num_classes\n",
    "net = layers.Activation('softmax')(net)\n",
    "\n",
    "model = tf.keras.Model(inputs=inputs, outputs=net, name='Basic_CNN')"
   ]
  },
  {
   "cell_type": "code",
   "execution_count": 4,
   "metadata": {
    "colab": {
     "base_uri": "https://localhost:8080/",
     "height": 845
    },
    "colab_type": "code",
    "executionInfo": {
     "elapsed": 3166,
     "status": "ok",
     "timestamp": 1598693460863,
     "user": {
      "displayName": "하승원",
      "photoUrl": "https://lh3.googleusercontent.com/a-/AOh14GiRq81xfP1qinTpwnC7YwwzgoaPP3IJh97s9hAI=s64",
      "userId": "01527595399780565899"
     },
     "user_tz": -540
    },
    "id": "JG47AVzAKwOu",
    "outputId": "fa378766-0588-406f-80f0-4b38ad7d0d2c"
   },
   "outputs": [
    {
     "name": "stdout",
     "output_type": "stream",
     "text": [
      "Model: \"Basic_CNN\"\n",
      "_________________________________________________________________\n",
      "Layer (type)                 Output Shape              Param #   \n",
      "=================================================================\n",
      "input_1 (InputLayer)         [(None, 28, 28, 1)]       0         \n",
      "_________________________________________________________________\n",
      "conv2d (Conv2D)              (None, 28, 28, 32)        320       \n",
      "_________________________________________________________________\n",
      "activation (Activation)      (None, 28, 28, 32)        0         \n",
      "_________________________________________________________________\n",
      "conv2d_1 (Conv2D)            (None, 28, 28, 32)        9248      \n",
      "_________________________________________________________________\n",
      "activation_1 (Activation)    (None, 28, 28, 32)        0         \n",
      "_________________________________________________________________\n",
      "max_pooling2d (MaxPooling2D) (None, 14, 14, 32)        0         \n",
      "_________________________________________________________________\n",
      "dropout (Dropout)            (None, 14, 14, 32)        0         \n",
      "_________________________________________________________________\n",
      "conv2d_2 (Conv2D)            (None, 14, 14, 64)        18496     \n",
      "_________________________________________________________________\n",
      "activation_2 (Activation)    (None, 14, 14, 64)        0         \n",
      "_________________________________________________________________\n",
      "conv2d_3 (Conv2D)            (None, 14, 14, 64)        36928     \n",
      "_________________________________________________________________\n",
      "activation_3 (Activation)    (None, 14, 14, 64)        0         \n",
      "_________________________________________________________________\n",
      "max_pooling2d_1 (MaxPooling2 (None, 7, 7, 64)          0         \n",
      "_________________________________________________________________\n",
      "dropout_1 (Dropout)          (None, 7, 7, 64)          0         \n",
      "_________________________________________________________________\n",
      "flatten (Flatten)            (None, 3136)              0         \n",
      "_________________________________________________________________\n",
      "dense (Dense)                (None, 512)               1606144   \n",
      "_________________________________________________________________\n",
      "activation_4 (Activation)    (None, 512)               0         \n",
      "_________________________________________________________________\n",
      "dropout_2 (Dropout)          (None, 512)               0         \n",
      "_________________________________________________________________\n",
      "dense_1 (Dense)              (None, 10)                5130      \n",
      "_________________________________________________________________\n",
      "activation_5 (Activation)    (None, 10)                0         \n",
      "=================================================================\n",
      "Total params: 1,676,266\n",
      "Trainable params: 1,676,266\n",
      "Non-trainable params: 0\n",
      "_________________________________________________________________\n"
     ]
    }
   ],
   "source": [
    "model.summary()"
   ]
  },
  {
   "cell_type": "markdown",
   "metadata": {
    "colab_type": "text",
    "id": "2Tsom0igL9ZX"
   },
   "source": [
    "Optimizaion\n",
    "\n",
    "모델을 학습하기 전 설정\n",
    "\n",
    "- loss function\n",
    "- optimization\n",
    "- Metrics"
   ]
  },
  {
   "cell_type": "markdown",
   "metadata": {
    "colab_type": "text",
    "id": "RQREv7EGMarC"
   },
   "source": [
    "Loss Function\n",
    "\n",
    "loss function 방법확인"
   ]
  },
  {
   "cell_type": "markdown",
   "metadata": {
    "colab_type": "text",
    "id": "PjtIlWxeMgzo"
   },
   "source": [
    "Categorical vs Binary"
   ]
  },
  {
   "cell_type": "code",
   "execution_count": 5,
   "metadata": {
    "colab": {
     "base_uri": "https://localhost:8080/",
     "height": 35
    },
    "colab_type": "code",
    "executionInfo": {
     "elapsed": 3155,
     "status": "ok",
     "timestamp": 1598693460864,
     "user": {
      "displayName": "하승원",
      "photoUrl": "https://lh3.googleusercontent.com/a-/AOh14GiRq81xfP1qinTpwnC7YwwzgoaPP3IJh97s9hAI=s64",
      "userId": "01527595399780565899"
     },
     "user_tz": -540
    },
    "id": "dzBC0A9jNrBR",
    "outputId": "b989288a-7543-4ac6-a0e1-197c6205901f"
   },
   "outputs": [
    {
     "data": {
      "text/plain": [
       "<function tensorflow.python.keras.losses.binary_crossentropy>"
      ]
     },
     "execution_count": 5,
     "metadata": {
      "tags": []
     },
     "output_type": "execute_result"
    }
   ],
   "source": [
    "tf.keras.losses.binary_crossentropy"
   ]
  },
  {
   "cell_type": "code",
   "execution_count": 6,
   "metadata": {
    "colab": {},
    "colab_type": "code",
    "executionInfo": {
     "elapsed": 3144,
     "status": "ok",
     "timestamp": 1598693460865,
     "user": {
      "displayName": "하승원",
      "photoUrl": "https://lh3.googleusercontent.com/a-/AOh14GiRq81xfP1qinTpwnC7YwwzgoaPP3IJh97s9hAI=s64",
      "userId": "01527595399780565899"
     },
     "user_tz": -540
    },
    "id": "kEGHDLMFMgSk"
   },
   "outputs": [],
   "source": [
    "loss = 'binary_crossentropy' # 있다 없다\n",
    "loss = 'categorical_crossentropy' # 2개 이상"
   ]
  },
  {
   "cell_type": "markdown",
   "metadata": {
    "colab_type": "text",
    "id": "kIyjclELMyH1"
   },
   "source": [
    "sparse_categorical_crossentropy vs categorical_crossentropy"
   ]
  },
  {
   "cell_type": "code",
   "execution_count": 7,
   "metadata": {
    "colab": {
     "base_uri": "https://localhost:8080/",
     "height": 35
    },
    "colab_type": "code",
    "executionInfo": {
     "elapsed": 3133,
     "status": "ok",
     "timestamp": 1598693460866,
     "user": {
      "displayName": "하승원",
      "photoUrl": "https://lh3.googleusercontent.com/a-/AOh14GiRq81xfP1qinTpwnC7YwwzgoaPP3IJh97s9hAI=s64",
      "userId": "01527595399780565899"
     },
     "user_tz": -540
    },
    "id": "Lo9p_vuSM4XK",
    "outputId": "94bc32d8-b83f-4c39-bba0-0ca318179891"
   },
   "outputs": [
    {
     "data": {
      "text/plain": [
       "<function tensorflow.python.keras.losses.sparse_categorical_crossentropy>"
      ]
     },
     "execution_count": 7,
     "metadata": {
      "tags": []
     },
     "output_type": "execute_result"
    }
   ],
   "source": [
    "tf.keras.losses.sparse_categorical_crossentropy # onehot encoding 안했을 경우\n",
    "\n",
    "# [1,2,3]"
   ]
  },
  {
   "cell_type": "code",
   "execution_count": 8,
   "metadata": {
    "colab": {
     "base_uri": "https://localhost:8080/",
     "height": 35
    },
    "colab_type": "code",
    "executionInfo": {
     "elapsed": 3120,
     "status": "ok",
     "timestamp": 1598693460867,
     "user": {
      "displayName": "하승원",
      "photoUrl": "https://lh3.googleusercontent.com/a-/AOh14GiRq81xfP1qinTpwnC7YwwzgoaPP3IJh97s9hAI=s64",
      "userId": "01527595399780565899"
     },
     "user_tz": -540
    },
    "id": "PAHcXZeKNY5J",
    "outputId": "9487805e-953b-46fa-c8e3-d8e753854e9a"
   },
   "outputs": [
    {
     "data": {
      "text/plain": [
       "<function tensorflow.python.keras.losses.categorical_crossentropy>"
      ]
     },
     "execution_count": 8,
     "metadata": {
      "tags": []
     },
     "output_type": "execute_result"
    }
   ],
   "source": [
    "tf.keras.losses.categorical_crossentropy # onehot encoding 한 경우"
   ]
  },
  {
   "cell_type": "markdown",
   "metadata": {
    "colab_type": "text",
    "id": "e3hxJm_pNyKZ"
   },
   "source": [
    "Metrics\n",
    "모델을 평가하는 방법"
   ]
  },
  {
   "cell_type": "markdown",
   "metadata": {
    "colab_type": "text",
    "id": "TWuFiV9HN1Ec"
   },
   "source": [
    "accuracy를 이름으로 넣는 바법"
   ]
  },
  {
   "cell_type": "code",
   "execution_count": 9,
   "metadata": {
    "colab": {},
    "colab_type": "code",
    "executionInfo": {
     "elapsed": 3111,
     "status": "ok",
     "timestamp": 1598693460868,
     "user": {
      "displayName": "하승원",
      "photoUrl": "https://lh3.googleusercontent.com/a-/AOh14GiRq81xfP1qinTpwnC7YwwzgoaPP3IJh97s9hAI=s64",
      "userId": "01527595399780565899"
     },
     "user_tz": -540
    },
    "id": "uFuQslxGNyAw"
   },
   "outputs": [],
   "source": [
    "metrics = ['accuracy']"
   ]
  },
  {
   "cell_type": "code",
   "execution_count": 10,
   "metadata": {
    "colab": {
     "base_uri": "https://localhost:8080/",
     "height": 35
    },
    "colab_type": "code",
    "executionInfo": {
     "elapsed": 3102,
     "status": "ok",
     "timestamp": 1598693460869,
     "user": {
      "displayName": "하승원",
      "photoUrl": "https://lh3.googleusercontent.com/a-/AOh14GiRq81xfP1qinTpwnC7YwwzgoaPP3IJh97s9hAI=s64",
      "userId": "01527595399780565899"
     },
     "user_tz": -540
    },
    "id": "7S7_f-jQN81n",
    "outputId": "e7ffa885-2d72-4e21-c54f-df8d7721cb5b"
   },
   "outputs": [
    {
     "data": {
      "text/plain": [
       "<tensorflow.python.keras.metrics.Recall at 0x7fa063864400>"
      ]
     },
     "execution_count": 10,
     "metadata": {
      "tags": []
     },
     "output_type": "execute_result"
    }
   ],
   "source": [
    "tf.keras.metrics.Accuracy()\n",
    "tf.keras.metrics.Precision()\n",
    "tf.keras.metrics.Recall()"
   ]
  },
  {
   "cell_type": "markdown",
   "metadata": {
    "colab_type": "text",
    "id": "tjssuAypOXAE"
   },
   "source": [
    "Compile\n",
    "\n",
    "optimizer 적용\n",
    "\n",
    "- 'sgd'\n",
    "- 'rmsprop'\n",
    "- 'adam'"
   ]
  },
  {
   "cell_type": "code",
   "execution_count": 11,
   "metadata": {
    "colab": {
     "base_uri": "https://localhost:8080/",
     "height": 35
    },
    "colab_type": "code",
    "executionInfo": {
     "elapsed": 3090,
     "status": "ok",
     "timestamp": 1598693460870,
     "user": {
      "displayName": "하승원",
      "photoUrl": "https://lh3.googleusercontent.com/a-/AOh14GiRq81xfP1qinTpwnC7YwwzgoaPP3IJh97s9hAI=s64",
      "userId": "01527595399780565899"
     },
     "user_tz": -540
    },
    "id": "yf2VGgfHOWmT",
    "outputId": "f52840e9-58b8-42c0-8ad1-48f5585f9025"
   },
   "outputs": [
    {
     "data": {
      "text/plain": [
       "<tensorflow.python.keras.optimizer_v2.adam.Adam at 0x7fa0977a2c18>"
      ]
     },
     "execution_count": 11,
     "metadata": {
      "tags": []
     },
     "output_type": "execute_result"
    }
   ],
   "source": [
    "tf.keras.optimizers.Adam()\n"
   ]
  },
  {
   "cell_type": "markdown",
   "metadata": {
    "colab_type": "text",
    "id": "lbymrmZwOuPb"
   },
   "source": [
    "- tf.keras.optimizers.SGD()\n",
    "- tf.keras.optimizers.RMSprop()\n",
    "- tf.keras.optimizers.Adam()"
   ]
  },
  {
   "cell_type": "markdown",
   "metadata": {
    "colab_type": "text",
    "id": "_cGxdUBKjq8i"
   },
   "source": [
    "metrics에서 tf.keras.metrics.Accuracy()과 sparse_categorical_crossentropy와 충돌이 일어난다 그래서\n",
    "tf.keras.metrics.sparse_categorical_accuracy으로 사용해야한다"
   ]
  },
  {
   "cell_type": "code",
   "execution_count": 12,
   "metadata": {
    "colab": {},
    "colab_type": "code",
    "executionInfo": {
     "elapsed": 3082,
     "status": "ok",
     "timestamp": 1598693460873,
     "user": {
      "displayName": "하승원",
      "photoUrl": "https://lh3.googleusercontent.com/a-/AOh14GiRq81xfP1qinTpwnC7YwwzgoaPP3IJh97s9hAI=s64",
      "userId": "01527595399780565899"
     },
     "user_tz": -540
    },
    "id": "OJCB4oEyOAHy"
   },
   "outputs": [],
   "source": [
    "model.compile(optimizer=tf.keras.optimizers.Adam(), loss='sparse_categorical_crossentropy', metrics=[tf.keras.metrics.sparse_categorical_accuracy])"
   ]
  },
  {
   "cell_type": "markdown",
   "metadata": {
    "colab_type": "text",
    "id": "iR2xGLYgQF9C"
   },
   "source": [
    "prepare dataset\n",
    "\n",
    "학습에 사용할 데이터셋 준비"
   ]
  },
  {
   "cell_type": "markdown",
   "metadata": {
    "colab_type": "text",
    "id": "-wzOPwWPQMvE"
   },
   "source": [
    "shape 확인"
   ]
  },
  {
   "cell_type": "code",
   "execution_count": 14,
   "metadata": {
    "colab": {
     "base_uri": "https://localhost:8080/",
     "height": 35
    },
    "colab_type": "code",
    "executionInfo": {
     "elapsed": 3069,
     "status": "ok",
     "timestamp": 1598693460875,
     "user": {
      "displayName": "하승원",
      "photoUrl": "https://lh3.googleusercontent.com/a-/AOh14GiRq81xfP1qinTpwnC7YwwzgoaPP3IJh97s9hAI=s64",
      "userId": "01527595399780565899"
     },
     "user_tz": -540
    },
    "id": "AxPnOjOBQLmT",
    "outputId": "02c45f9a-503f-4a47-9da2-b3b8eb972988"
   },
   "outputs": [
    {
     "data": {
      "text/plain": [
       "((60000, 28, 28), (60000,))"
      ]
     },
     "execution_count": 14,
     "metadata": {
      "tags": []
     },
     "output_type": "execute_result"
    }
   ],
   "source": [
    "train_x.shape, train_y.shape"
   ]
  },
  {
   "cell_type": "code",
   "execution_count": 15,
   "metadata": {
    "colab": {
     "base_uri": "https://localhost:8080/",
     "height": 35
    },
    "colab_type": "code",
    "executionInfo": {
     "elapsed": 3061,
     "status": "ok",
     "timestamp": 1598693460876,
     "user": {
      "displayName": "하승원",
      "photoUrl": "https://lh3.googleusercontent.com/a-/AOh14GiRq81xfP1qinTpwnC7YwwzgoaPP3IJh97s9hAI=s64",
      "userId": "01527595399780565899"
     },
     "user_tz": -540
    },
    "id": "MCmJ905rQaGZ",
    "outputId": "9e761408-2db4-4448-b89b-3132e5b1a793"
   },
   "outputs": [
    {
     "data": {
      "text/plain": [
       "((10000, 28, 28), (10000,))"
      ]
     },
     "execution_count": 15,
     "metadata": {
      "tags": []
     },
     "output_type": "execute_result"
    }
   ],
   "source": [
    "test_x.shape, test_y.shape"
   ]
  },
  {
   "cell_type": "markdown",
   "metadata": {
    "colab_type": "text",
    "id": "YwmqJaL0Qjws"
   },
   "source": [
    "차원수 늘리기"
   ]
  },
  {
   "cell_type": "code",
   "execution_count": 16,
   "metadata": {
    "colab": {},
    "colab_type": "code",
    "executionInfo": {
     "elapsed": 3053,
     "status": "ok",
     "timestamp": 1598693460876,
     "user": {
      "displayName": "하승원",
      "photoUrl": "https://lh3.googleusercontent.com/a-/AOh14GiRq81xfP1qinTpwnC7YwwzgoaPP3IJh97s9hAI=s64",
      "userId": "01527595399780565899"
     },
     "user_tz": -540
    },
    "id": "z-pokfDlQh5I"
   },
   "outputs": [],
   "source": [
    "import numpy as np"
   ]
  },
  {
   "cell_type": "code",
   "execution_count": 17,
   "metadata": {
    "colab": {
     "base_uri": "https://localhost:8080/",
     "height": 35
    },
    "colab_type": "code",
    "executionInfo": {
     "elapsed": 3396,
     "status": "ok",
     "timestamp": 1598693461226,
     "user": {
      "displayName": "하승원",
      "photoUrl": "https://lh3.googleusercontent.com/a-/AOh14GiRq81xfP1qinTpwnC7YwwzgoaPP3IJh97s9hAI=s64",
      "userId": "01527595399780565899"
     },
     "user_tz": -540
    },
    "id": "K1cJP5npQm64",
    "outputId": "7d5216d7-4f13-405d-d1c3-666f912b67a5"
   },
   "outputs": [
    {
     "data": {
      "text/plain": [
       "(60000, 28, 28, 1)"
      ]
     },
     "execution_count": 17,
     "metadata": {
      "tags": []
     },
     "output_type": "execute_result"
    }
   ],
   "source": [
    "np.expand_dims(train_x, -1).shape"
   ]
  },
  {
   "cell_type": "code",
   "execution_count": 18,
   "metadata": {
    "colab": {},
    "colab_type": "code",
    "executionInfo": {
     "elapsed": 3389,
     "status": "ok",
     "timestamp": 1598693461227,
     "user": {
      "displayName": "하승원",
      "photoUrl": "https://lh3.googleusercontent.com/a-/AOh14GiRq81xfP1qinTpwnC7YwwzgoaPP3IJh97s9hAI=s64",
      "userId": "01527595399780565899"
     },
     "user_tz": -540
    },
    "id": "v7UmNoePQq3-"
   },
   "outputs": [],
   "source": [
    "train_x = train_x[...,tf.newaxis]\n",
    "test_x = test_x[..., tf.newaxis]"
   ]
  },
  {
   "cell_type": "markdown",
   "metadata": {
    "colab_type": "text",
    "id": "57OTR7U7RBNK"
   },
   "source": [
    "차원수 잘 늘었는지 확인"
   ]
  },
  {
   "cell_type": "code",
   "execution_count": 19,
   "metadata": {
    "colab": {
     "base_uri": "https://localhost:8080/",
     "height": 35
    },
    "colab_type": "code",
    "executionInfo": {
     "elapsed": 3384,
     "status": "ok",
     "timestamp": 1598693461229,
     "user": {
      "displayName": "하승원",
      "photoUrl": "https://lh3.googleusercontent.com/a-/AOh14GiRq81xfP1qinTpwnC7YwwzgoaPP3IJh97s9hAI=s64",
      "userId": "01527595399780565899"
     },
     "user_tz": -540
    },
    "id": "Y1Lm6N5lQ1sj",
    "outputId": "01ac2533-b838-4820-d320-353f152e92cd"
   },
   "outputs": [
    {
     "data": {
      "text/plain": [
       "((60000, 28, 28, 1), (10000, 28, 28, 1))"
      ]
     },
     "execution_count": 19,
     "metadata": {
      "tags": []
     },
     "output_type": "execute_result"
    }
   ],
   "source": [
    "train_x.shape, test_x.shape"
   ]
  },
  {
   "cell_type": "markdown",
   "metadata": {
    "colab_type": "text",
    "id": "Q4C0WdQRRRHB"
   },
   "source": [
    "rescaling - 학습이 튀지 않고 학습이 잘되고 기울기가 잘 잡힌다\n"
   ]
  },
  {
   "cell_type": "code",
   "execution_count": 20,
   "metadata": {
    "colab": {
     "base_uri": "https://localhost:8080/",
     "height": 35
    },
    "colab_type": "code",
    "executionInfo": {
     "elapsed": 3376,
     "status": "ok",
     "timestamp": 1598693461230,
     "user": {
      "displayName": "하승원",
      "photoUrl": "https://lh3.googleusercontent.com/a-/AOh14GiRq81xfP1qinTpwnC7YwwzgoaPP3IJh97s9hAI=s64",
      "userId": "01527595399780565899"
     },
     "user_tz": -540
    },
    "id": "Cp7iVBPeRFF0",
    "outputId": "e91e9db9-5ea6-4847-9d89-dcf1df4b0b39"
   },
   "outputs": [
    {
     "data": {
      "text/plain": [
       "(0, 255)"
      ]
     },
     "execution_count": 20,
     "metadata": {
      "tags": []
     },
     "output_type": "execute_result"
    }
   ],
   "source": [
    "np.min(train_x), np.max(train_x)"
   ]
  },
  {
   "cell_type": "code",
   "execution_count": 21,
   "metadata": {
    "colab": {},
    "colab_type": "code",
    "executionInfo": {
     "elapsed": 3717,
     "status": "ok",
     "timestamp": 1598693461580,
     "user": {
      "displayName": "하승원",
      "photoUrl": "https://lh3.googleusercontent.com/a-/AOh14GiRq81xfP1qinTpwnC7YwwzgoaPP3IJh97s9hAI=s64",
      "userId": "01527595399780565899"
     },
     "user_tz": -540
    },
    "id": "UHHzvxVRRXGY"
   },
   "outputs": [],
   "source": [
    "train_x = train_x/255.\n",
    "test_x = test_x/255."
   ]
  },
  {
   "cell_type": "code",
   "execution_count": 22,
   "metadata": {
    "colab": {
     "base_uri": "https://localhost:8080/",
     "height": 35
    },
    "colab_type": "code",
    "executionInfo": {
     "elapsed": 4101,
     "status": "ok",
     "timestamp": 1598693461971,
     "user": {
      "displayName": "하승원",
      "photoUrl": "https://lh3.googleusercontent.com/a-/AOh14GiRq81xfP1qinTpwnC7YwwzgoaPP3IJh97s9hAI=s64",
      "userId": "01527595399780565899"
     },
     "user_tz": -540
    },
    "id": "dvLMe9L-RfAq",
    "outputId": "84c0ab30-7f1c-42c0-ec1d-226b34d2048f"
   },
   "outputs": [
    {
     "data": {
      "text/plain": [
       "(0.0, 1.0)"
      ]
     },
     "execution_count": 22,
     "metadata": {
      "tags": []
     },
     "output_type": "execute_result"
    }
   ],
   "source": [
    "np.min(train_x), np.max(train_x)"
   ]
  },
  {
   "cell_type": "markdown",
   "metadata": {
    "colab_type": "text",
    "id": "ypzMafSqSATa"
   },
   "source": [
    "Training\n",
    "\n",
    "본격적으로 학습 들어가기\n",
    "\n",
    "학습용 hyperparameter 설정\n",
    "- num_epochs\n",
    "- batch_size\n"
   ]
  },
  {
   "cell_type": "code",
   "execution_count": 23,
   "metadata": {
    "colab": {},
    "colab_type": "code",
    "executionInfo": {
     "elapsed": 4083,
     "status": "ok",
     "timestamp": 1598693461972,
     "user": {
      "displayName": "하승원",
      "photoUrl": "https://lh3.googleusercontent.com/a-/AOh14GiRq81xfP1qinTpwnC7YwwzgoaPP3IJh97s9hAI=s64",
      "userId": "01527595399780565899"
     },
     "user_tz": -540
    },
    "id": "CcWK0rmSSPEK"
   },
   "outputs": [],
   "source": [
    "num_epochs = 1\n",
    "batch_size = 32"
   ]
  },
  {
   "cell_type": "markdown",
   "metadata": {
    "colab_type": "text",
    "id": "1FRrS4JqSb55"
   },
   "source": [
    "- model.fit()"
   ]
  },
  {
   "cell_type": "code",
   "execution_count": 26,
   "metadata": {
    "colab": {
     "base_uri": "https://localhost:8080/",
     "height": 53
    },
    "colab_type": "code",
    "executionInfo": {
     "elapsed": 266238,
     "status": "ok",
     "timestamp": 1598693879427,
     "user": {
      "displayName": "하승원",
      "photoUrl": "https://lh3.googleusercontent.com/a-/AOh14GiRq81xfP1qinTpwnC7YwwzgoaPP3IJh97s9hAI=s64",
      "userId": "01527595399780565899"
     },
     "user_tz": -540
    },
    "id": "awax3HW0ZPhS",
    "outputId": "91e2b59c-f26f-4fe6-c1ec-f7c4884d5c6d"
   },
   "outputs": [
    {
     "name": "stdout",
     "output_type": "stream",
     "text": [
      "1875/1875 [==============================] - 264s 141ms/step - loss: 0.1494 - sparse_categorical_accuracy: 0.9539\n"
     ]
    },
    {
     "data": {
      "text/plain": [
       "<tensorflow.python.keras.callbacks.History at 0x7fa05d143550>"
      ]
     },
     "execution_count": 26,
     "metadata": {
      "tags": []
     },
     "output_type": "execute_result"
    }
   ],
   "source": [
    "model.fit(train_x, train_y, batch_size=batch_size, shuffle=True, epochs=1)"
   ]
  }
 ],
 "metadata": {
  "colab": {
   "authorship_tag": "ABX9TyN9LM7fcJ62nPJPLP9wgiij",
   "collapsed_sections": [],
   "name": "tensorflow기초4.ipynb",
   "provenance": []
  },
  "kernelspec": {
   "display_name": "Python 3",
   "language": "python",
   "name": "python3"
  },
  "language_info": {
   "codemirror_mode": {
    "name": "ipython",
    "version": 3
   },
   "file_extension": ".py",
   "mimetype": "text/x-python",
   "name": "python",
   "nbconvert_exporter": "python",
   "pygments_lexer": "ipython3",
   "version": "3.7.6"
  }
 },
 "nbformat": 4,
 "nbformat_minor": 1
}
