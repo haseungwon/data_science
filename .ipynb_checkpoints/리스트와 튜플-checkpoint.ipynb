{
 "cells": [
  {
   "cell_type": "markdown",
   "metadata": {},
   "source": [
    "### 리스트(list) & 튜플(tuple)\n",
    "   - 변수에 하나의 값만 저장 가능 -> 리스트는 복수의 값을 저장 가능\n",
    "   - 리스트(list)는 저장된 데이터가 변경 가능\n",
    "   - 튜플은 (tuple)은 변경이 불가능하다"
   ]
  },
  {
   "cell_type": "code",
   "execution_count": 7,
   "metadata": {
    "scrolled": false
   },
   "outputs": [
    {
     "name": "stdout",
     "output_type": "stream",
     "text": [
      "<class 'list'>\n",
      "<class 'list'>\n",
      "<class 'list'>\n"
     ]
    }
   ],
   "source": [
    "a = [] # 리스트 생성 방법 1\n",
    "b = list() # 리스트 생성 방법 2\n",
    "c = 'asdf'\n",
    "d = c.split('d')# 리스트 초기화 방법 3\n",
    "print(type(a))\n",
    "print(type(b))\n",
    "print(type(d))"
   ]
  },
  {
   "cell_type": "markdown",
   "metadata": {},
   "source": [
    "### 리스트 인덱싱\n",
    "   - 문자열 인덱싱과 동일하다\n",
    "   - 문자열과 다르게 리스트는 인덱스로 접근해서 수정이 가능하다"
   ]
  },
  {
   "cell_type": "code",
   "execution_count": 11,
   "metadata": {
    "scrolled": true
   },
   "outputs": [
    {
     "name": "stdout",
     "output_type": "stream",
     "text": [
      "interface\n",
      "화이팅\n"
     ]
    }
   ],
   "source": [
    "a = 'hello sejong interface 화이팅'\n",
    "b = a.split()\n",
    "print(b[2])\n",
    "print(b[-1])"
   ]
  },
  {
   "cell_type": "code",
   "execution_count": 13,
   "metadata": {},
   "outputs": [
    {
     "name": "stdout",
     "output_type": "stream",
     "text": [
      "안녕하세요\n"
     ]
    }
   ],
   "source": [
    "b[0] = '안녕하세요'\n",
    "print(b[0])"
   ]
  },
  {
   "cell_type": "markdown",
   "metadata": {},
   "source": [
    "### 리스트 슬라이싱\n",
    "   - 문자열 슬라이싱과 동일"
   ]
  },
  {
   "cell_type": "code",
   "execution_count": 15,
   "metadata": {
    "scrolled": false
   },
   "outputs": [
    {
     "name": "stdout",
     "output_type": "stream",
     "text": [
      "['안녕하세요', 'sejong', 'interface', '화이팅']\n",
      "['interface', '화이팅']\n"
     ]
    }
   ],
   "source": [
    "print(b[:])\n",
    "print(b[2:])"
   ]
  },
  {
   "cell_type": "markdown",
   "metadata": {},
   "source": [
    "### 리스트 함수\n",
    "   - 문자열과 같이 리스트내에 지원되는 함수들이 있다\n",
    "   - 더 공부를 하고 싶다면 [링크](https://dojang.io/mod/page/view.php?id=2281)"
   ]
  },
  {
   "cell_type": "code",
   "execution_count": 20,
   "metadata": {},
   "outputs": [
    {
     "name": "stdout",
     "output_type": "stream",
     "text": [
      "['hello', 'sejong', 'interface']\n"
     ]
    }
   ],
   "source": [
    "# append 함수 사용예\n",
    "a = [] \n",
    "a.append('hello')\n",
    "a.append('sejong')\n",
    "a.append('interface')\n",
    "print(a)"
   ]
  },
  {
   "cell_type": "code",
   "execution_count": 23,
   "metadata": {},
   "outputs": [
    {
     "name": "stdout",
     "output_type": "stream",
     "text": [
      "['hello', 'sejong', 'interface', '화이팅']\n",
      "['hello', 'sejong', 'interface', '화이팅', '화이팅']\n"
     ]
    }
   ],
   "source": [
    "# extend 함수 사용예\n",
    "a = ['hello', 'sejong', 'interface']\n",
    "b =['화이팅']\n",
    "a.extend(b)\n",
    "print(a)\n",
    "\n",
    "# extend 함수는 +=으로도 대체 가능하다\n",
    "a += b\n",
    "print(a)"
   ]
  },
  {
   "cell_type": "code",
   "execution_count": 25,
   "metadata": {
    "scrolled": true
   },
   "outputs": [
    {
     "name": "stdout",
     "output_type": "stream",
     "text": [
      "['hello', 'sejong', 'interface']\n"
     ]
    }
   ],
   "source": [
    "# insert 함수 사용예 insert(인덱스, 데이터)\n",
    "a = ['hello', 'interface']\n",
    "a.insert(1, 'sejong')\n",
    "print(a)"
   ]
  },
  {
   "cell_type": "code",
   "execution_count": 26,
   "metadata": {
    "scrolled": true
   },
   "outputs": [
    {
     "name": "stdout",
     "output_type": "stream",
     "text": [
      "['hello', 'sejong', 'interface']\n"
     ]
    }
   ],
   "source": [
    "# remove 함수 사용예 \n",
    "# remove는 삭제하고자하는 아이템을 직접 삭제\n",
    "a = ['hello', '공부하자','sejong', 'interface','좀 잘하자']\n",
    "a.remove('공부하자')\n",
    "a.remove('좀 잘하자')\n",
    "print(a)"
   ]
  },
  {
   "cell_type": "code",
   "execution_count": 34,
   "metadata": {
    "scrolled": true
   },
   "outputs": [
    {
     "name": "stdout",
     "output_type": "stream",
     "text": [
      "['hello', '공부하자', 'sejong', 'interface', '좀 잘하자']\n",
      "['hello', 'sejong', 'interface', '좀 잘하자']\n",
      "['hello', 'sejong', 'interface']\n",
      "공부하자\n",
      "좀 잘하자\n"
     ]
    }
   ],
   "source": [
    "# pop 함수 사용예\n",
    "# pop은 삭제하고자하는 인덱스를 알아야한다 그리고 해당 데이터를 반환\n",
    "a = ['hello', '공부하자','sejong', 'interface','좀 잘하자']\n",
    "print(a)\n",
    "b = a.pop(1)\n",
    "print(a)\n",
    "c = a.pop(3)\n",
    "print(a)\n",
    "print(b)\n",
    "print(c)"
   ]
  },
  {
   "cell_type": "code",
   "execution_count": 35,
   "metadata": {},
   "outputs": [
    {
     "name": "stdout",
     "output_type": "stream",
     "text": [
      "1\n"
     ]
    }
   ],
   "source": [
    "# index 함수 사용예\n",
    "# 찾고자 하는 데이터의 인덱스를 반환한다\n",
    "a = ['hello', '공부하자','sejong', 'interface','좀 잘하자']\n",
    "print(a.index('공부하자'))"
   ]
  },
  {
   "cell_type": "code",
   "execution_count": 37,
   "metadata": {},
   "outputs": [
    {
     "name": "stdout",
     "output_type": "stream",
     "text": [
      "True\n",
      "False\n"
     ]
    }
   ],
   "source": [
    "# in 키워드 \n",
    "# 해당 데이터가 리스트에 존재하는지 확인 True/False으로 반환\n",
    "a = ['hello', '공부하자','sejong', 'interface','좀 잘하자']\n",
    "b = '공부하자'\n",
    "c = '술 한잔 할까?'\n",
    "print(b in a)\n",
    "print(c in a)"
   ]
  },
  {
   "cell_type": "markdown",
   "metadata": {},
   "source": [
    "### 튜플 \n",
    "   - 리스트와 비슷하지만 리스트와 다르게 변경이 불가하다\n",
    "   - 튜플은 내부 아이템을 접근할 수 없다\n",
    "   - 튜플을 생성할때 괄호를 생략할 수 있다\n",
    "   - 튜플을 실전 사용 예) 교환"
   ]
  },
  {
   "cell_type": "code",
   "execution_count": 2,
   "metadata": {
    "scrolled": false
   },
   "outputs": [
    {
     "name": "stdout",
     "output_type": "stream",
     "text": [
      "<class 'list'>\n",
      "<class 'tuple'>\n",
      "[100, 2, 3]\n"
     ]
    },
    {
     "ename": "TypeError",
     "evalue": "'tuple' object does not support item assignment",
     "output_type": "error",
     "traceback": [
      "\u001b[1;31m---------------------------------------------------------------------------\u001b[0m",
      "\u001b[1;31mTypeError\u001b[0m                                 Traceback (most recent call last)",
      "\u001b[1;32m<ipython-input-2-2baab3ed13b3>\u001b[0m in \u001b[0;36m<module>\u001b[1;34m\u001b[0m\n\u001b[0;32m      8\u001b[0m \u001b[0ma\u001b[0m\u001b[1;33m[\u001b[0m\u001b[1;36m0\u001b[0m\u001b[1;33m]\u001b[0m\u001b[1;33m=\u001b[0m\u001b[1;36m100\u001b[0m\u001b[1;33m\u001b[0m\u001b[1;33m\u001b[0m\u001b[0m\n\u001b[0;32m      9\u001b[0m \u001b[0mprint\u001b[0m\u001b[1;33m(\u001b[0m\u001b[0ma\u001b[0m\u001b[1;33m)\u001b[0m\u001b[1;33m\u001b[0m\u001b[1;33m\u001b[0m\u001b[0m\n\u001b[1;32m---> 10\u001b[1;33m \u001b[0mb\u001b[0m\u001b[1;33m[\u001b[0m\u001b[1;36m0\u001b[0m\u001b[1;33m]\u001b[0m\u001b[1;33m=\u001b[0m\u001b[1;36m100\u001b[0m\u001b[1;33m\u001b[0m\u001b[1;33m\u001b[0m\u001b[0m\n\u001b[0m\u001b[0;32m     11\u001b[0m \u001b[1;31m#print(b)\u001b[0m\u001b[1;33m\u001b[0m\u001b[1;33m\u001b[0m\u001b[1;33m\u001b[0m\u001b[0m\n",
      "\u001b[1;31mTypeError\u001b[0m: 'tuple' object does not support item assignment"
     ]
    }
   ],
   "source": [
    "a = [1,2,3]\n",
    "b = (1,2,3)\n",
    "\n",
    "print(type(a))\n",
    "print(type(b))\n",
    "\n",
    "\n",
    "a[0]=100\n",
    "print(a)\n",
    "b[0]=100\n",
    "#print(b)"
   ]
  },
  {
   "cell_type": "code",
   "execution_count": 3,
   "metadata": {
    "scrolled": true
   },
   "outputs": [
    {
     "name": "stdout",
     "output_type": "stream",
     "text": [
      "100 200 300 400\n"
     ]
    }
   ],
   "source": [
    "a, b, c, d = 100, 200, 300, 400\n",
    "print(a,b,c,d,)"
   ]
  },
  {
   "cell_type": "markdown",
   "metadata": {},
   "source": [
    "- 튜플 사용 예) 교환"
   ]
  },
  {
   "cell_type": "code",
   "execution_count": 5,
   "metadata": {},
   "outputs": [
    {
     "name": "stdout",
     "output_type": "stream",
     "text": [
      "20 100\n"
     ]
    }
   ],
   "source": [
    "a = 100\n",
    "b = 20\n",
    "tmp = a\n",
    "a = b\n",
    "b =tmp\n",
    "print(a, b)"
   ]
  },
  {
   "cell_type": "code",
   "execution_count": 6,
   "metadata": {},
   "outputs": [
    {
     "name": "stdout",
     "output_type": "stream",
     "text": [
      "20 100\n"
     ]
    }
   ],
   "source": [
    "a = 100\n",
    "b = 20\n",
    "a, b = b, a\n",
    "print(a, b)"
   ]
  }
 ],
 "metadata": {
  "kernelspec": {
   "display_name": "Python 3",
   "language": "python",
   "name": "python3"
  },
  "language_info": {
   "codemirror_mode": {
    "name": "ipython",
    "version": 3
   },
   "file_extension": ".py",
   "mimetype": "text/x-python",
   "name": "python",
   "nbconvert_exporter": "python",
   "pygments_lexer": "ipython3",
   "version": "3.7.4"
  }
 },
 "nbformat": 4,
 "nbformat_minor": 2
}
