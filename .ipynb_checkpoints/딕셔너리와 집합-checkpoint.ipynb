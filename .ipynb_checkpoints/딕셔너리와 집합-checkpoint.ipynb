{
 "cells": [
  {
   "cell_type": "markdown",
   "metadata": {},
   "source": [
    "### 딕셔너리 (Dictionary)\n",
    "   - 키와 아이템으로 구성되어 있다.\n",
    "   - 순서는 존재하지 않는다 -> 인덱스 존재 X\n",
    "   - **변수[키] = 아이템**의 형식을 사용한다\n",
    "   - 키는 해쉬로 저장된다\n",
    "   "
   ]
  },
  {
   "cell_type": "markdown",
   "metadata": {},
   "source": [
    "- 초기화 : {}을 사용하고 내부 키와 아이템은 **키 : 아이템**의 형식이다"
   ]
  },
  {
   "cell_type": "code",
   "execution_count": 5,
   "metadata": {},
   "outputs": [
    {
     "name": "stdout",
     "output_type": "stream",
     "text": [
      "{'korea': 'seoul', 'canada': 'ottaw', 'usa': 'washington dc'}\n",
      "seoul\n",
      "1\n"
     ]
    }
   ],
   "source": [
    "a = {'korea':'seoul', \n",
    "     'canada':'ottaw', \n",
    "     'usa':'washington dc'}\n",
    "b={0:1,\n",
    "   1:6,\n",
    "   7:9,\n",
    "   9:10}\n",
    "\n",
    "print(a)\n",
    "print(a['korea'])\n",
    "print(b[0])"
   ]
  },
  {
   "cell_type": "markdown",
   "metadata": {},
   "source": [
    "#### 딕셔너리 내에서 새로운 항목 추가 & 변경\n",
    "   - 새로운 키이면 새로운 키, 아이템 쌍을 추가한다\n",
    "   - 기존의 키이면 기존의 아이템을 변경한다"
   ]
  },
  {
   "cell_type": "code",
   "execution_count": 8,
   "metadata": {},
   "outputs": [
    {
     "name": "stdout",
     "output_type": "stream",
     "text": [
      "{'korea': 'busan', 'canada': 'ottaw', 'usa': 'washington dc', 'japan': 'tyoko'}\n"
     ]
    }
   ],
   "source": [
    "a = {'korea':'seoul', \n",
    "     'canada':'ottaw', \n",
    "     'usa':'washington dc'}\n",
    "\n",
    "a['korea'] = 'busan'\n",
    "a['japan'] = 'tyoko'\n",
    "print(a)"
   ]
  },
  {
   "cell_type": "markdown",
   "metadata": {},
   "source": [
    "- update 함수 : 딕셔너리 끼리의 병합\n",
    "    - 공통된 키가 존재한다면 파라미터로 넘기는 딕셔너리로 변경된다"
   ]
  },
  {
   "cell_type": "code",
   "execution_count": 9,
   "metadata": {},
   "outputs": [
    {
     "name": "stdout",
     "output_type": "stream",
     "text": [
      "{'japan': 'tyoko', 'china': 'beijing', 'korea': 'seoul', 'canada': 'ottaw', 'usa': 'washington dc'}\n"
     ]
    }
   ],
   "source": [
    "a = {'korea':'seoul', \n",
    "     'canada':'ottaw', \n",
    "     'usa':'washington dc'}\n",
    "b = {'japan':'tyoko',\n",
    "     'china':'beijing',\n",
    "     'korea':'busan'\n",
    "    }\n",
    "b.update(a)\n",
    "print(b)"
   ]
  },
  {
   "cell_type": "markdown",
   "metadata": {},
   "source": [
    "#### 키를 삭제하는 법\n",
    "   - pop 함수\n",
    "   - del 함수 사용"
   ]
  },
  {
   "cell_type": "code",
   "execution_count": 12,
   "metadata": {},
   "outputs": [
    {
     "name": "stdout",
     "output_type": "stream",
     "text": [
      "seoul\n",
      "{'canada': 'ottaw', 'usa': 'washington dc'}\n"
     ]
    }
   ],
   "source": [
    "a = {'korea':'seoul', \n",
    "     'canada':'ottaw', \n",
    "     'usa':'washington dc'}\n",
    "b = a.pop('korea')\n",
    "print(b)\n",
    "print(a)"
   ]
  },
  {
   "cell_type": "code",
   "execution_count": 13,
   "metadata": {},
   "outputs": [
    {
     "name": "stdout",
     "output_type": "stream",
     "text": [
      "{'canada': 'ottaw', 'usa': 'washington dc'}\n"
     ]
    }
   ],
   "source": [
    "a = {'korea':'seoul', \n",
    "     'canada':'ottaw', \n",
    "     'usa':'washington dc'}\n",
    "del a['korea']\n",
    "\n",
    "print(a)"
   ]
  },
  {
   "cell_type": "markdown",
   "metadata": {},
   "source": [
    "- clear 함수 : 딕셔너리를 초기화한다"
   ]
  },
  {
   "cell_type": "code",
   "execution_count": 14,
   "metadata": {},
   "outputs": [
    {
     "name": "stdout",
     "output_type": "stream",
     "text": [
      "{}\n"
     ]
    }
   ],
   "source": [
    "a = {'korea':'seoul', \n",
    "     'canada':'ottaw', \n",
    "     'usa':'washington dc'}\n",
    "a.clear()\n",
    "print(a)"
   ]
  },
  {
   "cell_type": "markdown",
   "metadata": {},
   "source": [
    "#### in 키워드\n",
    "   - 키가 딕셔너리 내에 존재하는지 True/False으로 반환\n",
    "   - 실행시간이 상각실행시간(O(1))이다. -> 굉장히 빠르다\n",
    "   - 참고) 리스트는 O(n)이다"
   ]
  },
  {
   "cell_type": "code",
   "execution_count": 16,
   "metadata": {
    "scrolled": true
   },
   "outputs": [
    {
     "name": "stdout",
     "output_type": "stream",
     "text": [
      "True\n"
     ]
    }
   ],
   "source": [
    "a = {'korea':'seoul', \n",
    "     'canada':'ottaw', \n",
    "     'usa':'washington dc'}\n",
    "print('korea' in a)"
   ]
  },
  {
   "cell_type": "markdown",
   "metadata": {},
   "source": [
    "#### 딕셔너리 내에서 아이템(value) 찾기\n",
    "   - **변수[키]**의 형식으로 value를 접근하다.\n",
    "       - value가 없는 경우 오류를 일으킨다 (지양)\n",
    "       - get 함수 사용, Nonee을 반환 (지향)"
   ]
  },
  {
   "cell_type": "code",
   "execution_count": 19,
   "metadata": {
    "scrolled": true
   },
   "outputs": [
    {
     "name": "stdout",
     "output_type": "stream",
     "text": [
      "None\n"
     ]
    },
    {
     "ename": "KeyError",
     "evalue": "'japan'",
     "output_type": "error",
     "traceback": [
      "\u001b[1;31m---------------------------------------------------------------------------\u001b[0m",
      "\u001b[1;31mKeyError\u001b[0m                                  Traceback (most recent call last)",
      "\u001b[1;32m<ipython-input-19-2a8727e62a72>\u001b[0m in \u001b[0;36m<module>\u001b[1;34m\u001b[0m\n\u001b[0;32m      3\u001b[0m      'usa':'washington dc'}\n\u001b[0;32m      4\u001b[0m \u001b[0mprint\u001b[0m\u001b[1;33m(\u001b[0m\u001b[0ma\u001b[0m\u001b[1;33m.\u001b[0m\u001b[0mget\u001b[0m\u001b[1;33m(\u001b[0m\u001b[1;34m'japan'\u001b[0m\u001b[1;33m)\u001b[0m\u001b[1;33m)\u001b[0m\u001b[1;33m\u001b[0m\u001b[1;33m\u001b[0m\u001b[0m\n\u001b[1;32m----> 5\u001b[1;33m \u001b[0mprint\u001b[0m\u001b[1;33m(\u001b[0m\u001b[0ma\u001b[0m\u001b[1;33m[\u001b[0m\u001b[1;34m'japan'\u001b[0m\u001b[1;33m]\u001b[0m\u001b[1;33m)\u001b[0m\u001b[1;33m\u001b[0m\u001b[1;33m\u001b[0m\u001b[0m\n\u001b[0m",
      "\u001b[1;31mKeyError\u001b[0m: 'japan'"
     ]
    }
   ],
   "source": [
    "a = {'korea':'seoul', \n",
    "     'canada':'ottaw', \n",
    "     'usa':'washington dc'}\n",
    "print(a.get('japan'))\n",
    "print(a['japan'])"
   ]
  },
  {
   "cell_type": "markdown",
   "metadata": {},
   "source": [
    "### 딕셔너리 내의 모든 키 || 모든 아이템 || 전부 반환하기\n",
    "   - keys() 함수 사용 -> 키를 반환\n",
    "   - values() 함수 사용 -> 값을 반환\n",
    "   - items() 함수 사용 -> 키와 값의 튜플로 반환\n",
    "   - 그래서 list() 함수를 통해 list로 변환해준다"
   ]
  },
  {
   "cell_type": "code",
   "execution_count": 26,
   "metadata": {
    "scrolled": true
   },
   "outputs": [
    {
     "name": "stdout",
     "output_type": "stream",
     "text": [
      "dict_keys(['korea', 'canada', 'usa'])\n",
      "dict_values(['seoul', 'ottaw', 'washington dc'])\n",
      "dict_items([('korea', 'seoul'), ('canada', 'ottaw'), ('usa', 'washington dc')])\n",
      "['korea', 'canada', 'usa']\n",
      "['seoul', 'ottaw', 'washington dc']\n",
      "[('korea', 'seoul'), ('canada', 'ottaw'), ('usa', 'washington dc')]\n"
     ]
    }
   ],
   "source": [
    "a = {'korea':'seoul', \n",
    "     'canada':'ottaw', \n",
    "     'usa':'washington dc'}\n",
    "\n",
    "print(a.keys())\n",
    "print(a.values())\n",
    "print(a.items())\n",
    "\n",
    "print(list(a.keys()))\n",
    "print(list(a.values()))\n",
    "print(list(a.items()))"
   ]
  },
  {
   "cell_type": "markdown",
   "metadata": {},
   "source": [
    "###  집합 (Set)\n",
    "   - 수학에서의 집합과 동일\n",
    "   - 딕셔너리에서 키만 활용하는 개념\n",
    "       - 따라서 초기화를 {}로 사용한다\n",
    "       - 혹은 set함수를 사용한다 -> 리스트를 집합으로 변환"
   ]
  },
  {
   "cell_type": "code",
   "execution_count": 36,
   "metadata": {
    "scrolled": true
   },
   "outputs": [
    {
     "name": "stdout",
     "output_type": "stream",
     "text": [
      "<class 'set'>\n",
      "<class 'set'>\n",
      "{1, 2, 3, 4, 5}\n",
      "{1, 2, 3, 4, 5, 6, 7, 8, 9, 10}\n"
     ]
    }
   ],
   "source": [
    "a = {1, 2, 3, 4, 5, 5, 5, 5, 5}\n",
    "b = [1, 2, 3, 4, 5, 6, 7, 8, 8, 9, 9, 10]\n",
    "c = set(b)\n",
    "print(type(a))\n",
    "print(type(c))\n",
    "print(a)\n",
    "print(c)"
   ]
  },
  {
   "cell_type": "markdown",
   "metadata": {},
   "source": [
    "#### 집합 연산\n",
    "    - 교집합, 합집합, 차집합, 부분집합 지원한다\n",
    "    - 새로운 값을 반환한다."
   ]
  },
  {
   "cell_type": "code",
   "execution_count": 42,
   "metadata": {},
   "outputs": [
    {
     "name": "stdout",
     "output_type": "stream",
     "text": [
      "{1, 2, 3, 4, 5, 7, 9}\n",
      "{1, 3, 5}\n",
      "{2, 4}\n",
      "False\n"
     ]
    }
   ],
   "source": [
    "a = {1, 2, 3, 4, 5}\n",
    "b = {1, 3, 5, 7, 9}\n",
    "print(a.union(b))\n",
    "print(a.intersection(b))\n",
    "print(a.difference(b))\n",
    "print(a.issubset(b))"
   ]
  }
 ],
 "metadata": {
  "kernelspec": {
   "display_name": "Python 3",
   "language": "python",
   "name": "python3"
  },
  "language_info": {
   "codemirror_mode": {
    "name": "ipython",
    "version": 3
   },
   "file_extension": ".py",
   "mimetype": "text/x-python",
   "name": "python",
   "nbconvert_exporter": "python",
   "pygments_lexer": "ipython3",
   "version": "3.7.4"
  }
 },
 "nbformat": 4,
 "nbformat_minor": 2
}
