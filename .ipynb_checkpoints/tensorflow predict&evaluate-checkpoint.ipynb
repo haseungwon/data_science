{
 "cells": [
  {
   "cell_type": "code",
   "execution_count": 1,
   "metadata": {},
   "outputs": [],
   "source": [
    "import os\n",
    "from glob import glob\n",
    "from datetime import datetime\n",
    "\n",
    "import numpy as np\n",
    "\n",
    "import tensorflow as tf\n",
    "from tensorflow.keras import layers\n",
    "\n",
    "from tensorflow.keras import datasets\n",
    "import matplotlib.pyplot as plt\n",
    "%matplotlib inline"
   ]
  },
  {
   "cell_type": "markdown",
   "metadata": {},
   "source": [
    "### hyperparameter tunning"
   ]
  },
  {
   "cell_type": "code",
   "execution_count": 2,
   "metadata": {},
   "outputs": [],
   "source": [
    "num_epochs = 50\n",
    "batch_size = 32\n",
    "\n",
    "learning_rate = 0.001\n",
    "\n",
    "dropout_rate = 0.5\n",
    "\n",
    "input_shape = (32,32,3)\n",
    "num_classes = 10"
   ]
  },
  {
   "cell_type": "code",
   "execution_count": 3,
   "metadata": {},
   "outputs": [],
   "source": [
    "inputs = layers.Input(input_shape)\n",
    "\n",
    "net = layers.Conv2D(32,(3,3), padding = 'SAME')(inputs)\n",
    "net = layers.Activation('relu')(net)\n",
    "net = layers.Conv2D(32,(3,3), padding = 'SAME')(net)\n",
    "net = layers.Activation('relu')(net)\n",
    "net = layers.MaxPooling2D(pool_size=(2,2))(net)\n",
    "net = layers.Dropout(dropout_rate)(net)\n",
    "\n",
    "net = layers.Conv2D(64,(3,3), padding = 'SAME')(net)\n",
    "net = layers.Activation('relu')(net)\n",
    "net = layers.Conv2D(64,(3,3), padding = 'SAME')(net)\n",
    "net = layers.Activation('relu')(net)\n",
    "net = layers.MaxPooling2D(pool_size=(2,2))(net)\n",
    "net = layers.Dropout(dropout_rate)(net)\n",
    "\n",
    "net = layers.Flatten()(net)\n",
    "net = layers.Dense(512)(net)\n",
    "net = layers.Activation('relu')(net)\n",
    "net = layers.Dropout(dropout_rate)(net)\n",
    "net = layers.Dense(num_classes)(net)\n",
    "net = layers.Activation('softmax')(net)\n",
    "\n",
    "model = tf.keras.Model(inputs= inputs, outputs=net, name = 'Basic_CNN')"
   ]
  },
  {
   "cell_type": "code",
   "execution_count": 4,
   "metadata": {},
   "outputs": [],
   "source": [
    "model.compile(optimizer = tf.keras.optimizers.Adam(learning_rate),\n",
    "            loss = 'sparse_categorical_crossentropy',\n",
    "            metrics = ['accuracy'])"
   ]
  },
  {
   "cell_type": "markdown",
   "metadata": {},
   "source": [
    "### data preprocess"
   ]
  },
  {
   "cell_type": "code",
   "execution_count": 5,
   "metadata": {},
   "outputs": [],
   "source": [
    "train_paths = glob('cifar/train/*.png')[:1000]\n",
    "test_paths = glob('cifar/test/*.png')[:1000]"
   ]
  },
  {
   "cell_type": "code",
   "execution_count": 6,
   "metadata": {},
   "outputs": [],
   "source": [
    "def get_class_name(path):\n",
    "    return path.split('_')[-1].replace('.png','')"
   ]
  },
  {
   "cell_type": "code",
   "execution_count": 7,
   "metadata": {},
   "outputs": [],
   "source": [
    "train_labels = [get_class_name(path) for path in train_paths]\n",
    "class_names = np.unique(train_labels)"
   ]
  },
  {
   "cell_type": "code",
   "execution_count": 8,
   "metadata": {},
   "outputs": [],
   "source": [
    "def get_label(path):\n",
    "    fname = tf.strings.split(path, '_')[-1]\n",
    "    lbl_name = tf.strings.regex_replace(fname, '.png','')\n",
    "    onehot = tf.cast(lbl_name == class_names, tf.uint8)\n",
    "    return tf.argmax(onehot) # label번호를 반환"
   ]
  },
  {
   "cell_type": "code",
   "execution_count": 9,
   "metadata": {},
   "outputs": [],
   "source": [
    "def load_image_label(path):\n",
    "    gfile = tf.io.read_file(path)\n",
    "    image = tf.io.decode_image(gfile)\n",
    "    image = tf.cast(image, tf.float32) / 255.\n",
    "    \n",
    "    label = get_label(path)\n",
    "    return image, label"
   ]
  },
  {
   "cell_type": "code",
   "execution_count": 10,
   "metadata": {},
   "outputs": [],
   "source": [
    "def image_preprocess(image, label):\n",
    "    image = tf.image.random_flip_up_down(image)\n",
    "    image = tf.image.random_flip_left_right(image)\n",
    "    return image, label"
   ]
  },
  {
   "cell_type": "code",
   "execution_count": 11,
   "metadata": {},
   "outputs": [],
   "source": [
    "AUTOTUNE = tf.data.experimental.AUTOTUNE"
   ]
  },
  {
   "cell_type": "code",
   "execution_count": 12,
   "metadata": {},
   "outputs": [],
   "source": [
    "train_dataset = tf.data.Dataset.from_tensor_slices(train_paths)\n",
    "train_dataset = train_dataset.map(load_image_label, num_parallel_calls = AUTOTUNE)\n",
    "train_dataset = train_dataset.map(image_preprocess, num_parallel_calls = AUTOTUNE)\n",
    "train_dataset = train_dataset.batch(batch_size)\n",
    "train_dataset = train_dataset.shuffle(buffer_size = len(train_paths))\n",
    "train_dataset = train_dataset.repeat()"
   ]
  },
  {
   "cell_type": "code",
   "execution_count": 13,
   "metadata": {},
   "outputs": [],
   "source": [
    "test_dataset = tf.data.Dataset.from_tensor_slices(test_paths)\n",
    "test_dataset = test_dataset.map(load_image_label, num_parallel_calls = AUTOTUNE)\n",
    "test_dataset = test_dataset.batch(batch_size)\n",
    "test_dataset = test_dataset.repeat()"
   ]
  },
  {
   "cell_type": "markdown",
   "metadata": {},
   "source": [
    "### history 들여다보기"
   ]
  },
  {
   "cell_type": "code",
   "execution_count": null,
   "metadata": {
    "scrolled": true
   },
   "outputs": [
    {
     "name": "stdout",
     "output_type": "stream",
     "text": [
      "WARNING:tensorflow:From <ipython-input-14-1139268ebccc>:9: Model.fit_generator (from tensorflow.python.keras.engine.training) is deprecated and will be removed in a future version.\n",
      "Instructions for updating:\n",
      "Please use Model.fit, which supports generators.\n",
      "Epoch 1/50\n",
      "31/31 [==============================] - 4s 124ms/step - loss: 2.2981 - accuracy: 0.1074 - val_loss: 2.2477 - val_accuracy: 0.1149\n",
      "Epoch 2/50\n",
      "31/31 [==============================] - 4s 120ms/step - loss: 2.2410 - accuracy: 0.1601 - val_loss: 2.2296 - val_accuracy: 0.2379\n",
      "Epoch 3/50\n",
      "31/31 [==============================] - 4s 120ms/step - loss: 2.1788 - accuracy: 0.2025 - val_loss: 2.1251 - val_accuracy: 0.2208\n",
      "Epoch 4/50\n",
      "31/31 [==============================] - 4s 119ms/step - loss: 2.1531 - accuracy: 0.1994 - val_loss: 2.0899 - val_accuracy: 0.2359\n",
      "Epoch 5/50\n",
      "31/31 [==============================] - 4s 116ms/step - loss: 2.0611 - accuracy: 0.2417 - val_loss: 2.0227 - val_accuracy: 0.2621\n",
      "Epoch 6/50\n",
      "31/31 [==============================] - 4s 120ms/step - loss: 2.0211 - accuracy: 0.2440 - val_loss: 2.0714 - val_accuracy: 0.2581\n",
      "Epoch 7/50\n",
      "31/31 [==============================] - 4s 122ms/step - loss: 2.0004 - accuracy: 0.2624 - val_loss: 1.9482 - val_accuracy: 0.3014\n",
      "Epoch 8/50\n",
      "31/31 [==============================] - 4s 115ms/step - loss: 1.9390 - accuracy: 0.2617 - val_loss: 1.9193 - val_accuracy: 0.3085\n",
      "Epoch 9/50\n",
      "31/31 [==============================] - 4s 121ms/step - loss: 1.9011 - accuracy: 0.2872 - val_loss: 1.9221 - val_accuracy: 0.3034\n",
      "Epoch 10/50\n",
      "31/31 [==============================] - 4s 119ms/step - loss: 1.8822 - accuracy: 0.2661 - val_loss: 1.9209 - val_accuracy: 0.2833\n",
      "Epoch 11/50\n",
      "31/31 [==============================] - 4s 120ms/step - loss: 1.8385 - accuracy: 0.3275 - val_loss: 1.9781 - val_accuracy: 0.2974\n",
      "Epoch 12/50\n",
      "31/31 [==============================] - 4s 115ms/step - loss: 1.8393 - accuracy: 0.2945 - val_loss: 1.8287 - val_accuracy: 0.3185\n",
      "Epoch 13/50\n",
      "31/31 [==============================] - 4s 120ms/step - loss: 1.8193 - accuracy: 0.2944 - val_loss: 1.7475 - val_accuracy: 0.3679\n",
      "Epoch 14/50\n",
      "31/31 [==============================] - 4s 119ms/step - loss: 1.7716 - accuracy: 0.3378 - val_loss: 1.7365 - val_accuracy: 0.3831\n",
      "Epoch 15/50\n",
      "31/31 [==============================] - 4s 121ms/step - loss: 1.7351 - accuracy: 0.3528 - val_loss: 1.6913 - val_accuracy: 0.3881\n",
      "Epoch 16/50\n",
      "31/31 [==============================] - 4s 120ms/step - loss: 1.6628 - accuracy: 0.3812 - val_loss: 1.6742 - val_accuracy: 0.3871\n",
      "Epoch 17/50\n",
      "31/31 [==============================] - 4s 122ms/step - loss: 1.7043 - accuracy: 0.3760 - val_loss: 1.6783 - val_accuracy: 0.3861\n",
      "Epoch 18/50\n",
      "31/31 [==============================] - 4s 122ms/step - loss: 1.6584 - accuracy: 0.3688 - val_loss: 1.6645 - val_accuracy: 0.3982\n",
      "Epoch 19/50\n",
      "31/31 [==============================] - 4s 126ms/step - loss: 1.6389 - accuracy: 0.4089 - val_loss: 1.6753 - val_accuracy: 0.3891\n",
      "Epoch 20/50\n",
      "31/31 [==============================] - 4s 124ms/step - loss: 1.5581 - accuracy: 0.3977 - val_loss: 1.7214 - val_accuracy: 0.3982\n",
      "Epoch 21/50\n",
      "31/31 [==============================] - 4s 125ms/step - loss: 1.6094 - accuracy: 0.4032 - val_loss: 1.6697 - val_accuracy: 0.4123\n",
      "Epoch 22/50\n",
      "31/31 [==============================] - 4s 125ms/step - loss: 1.5531 - accuracy: 0.4132 - val_loss: 1.6563 - val_accuracy: 0.4012\n",
      "Epoch 23/50\n",
      "31/31 [==============================] - 4s 125ms/step - loss: 1.5238 - accuracy: 0.4411 - val_loss: 1.6338 - val_accuracy: 0.3992\n",
      "Epoch 24/50\n",
      "31/31 [==============================] - 4s 120ms/step - loss: 1.5672 - accuracy: 0.4174 - val_loss: 1.6380 - val_accuracy: 0.4012\n",
      "Epoch 25/50\n",
      "31/31 [==============================] - 4s 126ms/step - loss: 1.4861 - accuracy: 0.4819 - val_loss: 1.5992 - val_accuracy: 0.4214\n",
      "Epoch 26/50\n",
      "31/31 [==============================] - 4s 120ms/step - loss: 1.5116 - accuracy: 0.4597 - val_loss: 1.6929 - val_accuracy: 0.3931\n",
      "Epoch 27/50\n",
      "12/31 [==========>...................] - ETA: 1s - loss: 1.4462 - accuracy: 0.4896"
     ]
    }
   ],
   "source": [
    "steps_per_epoch = len(train_paths) //batch_size\n",
    "validation_steps = len(test_paths) // batch_size\n",
    "\n",
    "model.fit_generator(\n",
    "    train_dataset,\n",
    "    steps_per_epoch = steps_per_epoch,\n",
    "    validation_data = test_dataset,\n",
    "    validation_steps = validation_steps,\n",
    "    epochs = num_epochs,)"
   ]
  },
  {
   "cell_type": "code",
   "execution_count": null,
   "metadata": {},
   "outputs": [],
   "source": [
    "path = test_path[0]\n",
    "path"
   ]
  },
  {
   "cell_type": "code",
   "execution_count": null,
   "metadata": {},
   "outputs": [],
   "source": [
    "gfile = tf.io.read_file(path)\n",
    "image = tf.io.decode_image(gfile, dytpe=tf.float32)\n",
    "image.shape"
   ]
  },
  {
   "cell_type": "code",
   "execution_count": null,
   "metadata": {},
   "outputs": [],
   "source": [
    "image = image[tf.newaxis,...]"
   ]
  },
  {
   "cell_type": "code",
   "execution_count": null,
   "metadata": {},
   "outputs": [],
   "source": [
    "image.shape"
   ]
  },
  {
   "cell_type": "code",
   "execution_count": null,
   "metadata": {},
   "outputs": [],
   "source": [
    "pred = model.predict(image)"
   ]
  },
  {
   "cell_type": "code",
   "execution_count": null,
   "metadata": {},
   "outputs": [],
   "source": [
    "pred.shape"
   ]
  },
  {
   "cell_type": "code",
   "execution_count": null,
   "metadata": {},
   "outputs": [],
   "source": [
    "np.argmax(pred)"
   ]
  },
  {
   "cell_type": "markdown",
   "metadata": {},
   "source": [
    "### generator에서 데이터를 가져오는 방법"
   ]
  },
  {
   "cell_type": "code",
   "execution_count": null,
   "metadata": {},
   "outputs": [],
   "source": []
  }
 ],
 "metadata": {
  "kernelspec": {
   "display_name": "Python 3",
   "language": "python",
   "name": "python3"
  },
  "language_info": {
   "codemirror_mode": {
    "name": "ipython",
    "version": 3
   },
   "file_extension": ".py",
   "mimetype": "text/x-python",
   "name": "python",
   "nbconvert_exporter": "python",
   "pygments_lexer": "ipython3",
   "version": "3.7.7"
  }
 },
 "nbformat": 4,
 "nbformat_minor": 4
}
