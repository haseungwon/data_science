{
 "cells": [
  {
   "cell_type": "code",
   "execution_count": 1,
   "metadata": {},
   "outputs": [],
   "source": [
    "import os\n",
    "from glob import glob\n",
    "from datetime import datetime\n",
    "\n",
    "import numpy as np\n",
    "\n",
    "import tensorflow as tf\n",
    "from tensorflow.keras import layers\n",
    "\n",
    "from tensorflow.keras import datasets\n",
    "import matplotlib.pyplot as plt\n",
    "%matplotlib inline"
   ]
  },
  {
   "cell_type": "markdown",
   "metadata": {},
   "source": [
    "### hyperparameter tunning"
   ]
  },
  {
   "cell_type": "code",
   "execution_count": 2,
   "metadata": {},
   "outputs": [],
   "source": [
    "num_epochs = 20\n",
    "batch_size = 32\n",
    "\n",
    "learning_rate = 0.001\n",
    "\n",
    "dropout_rate = 0.5\n",
    "\n",
    "input_shape = (32,32,3)\n",
    "num_classes = 10"
   ]
  },
  {
   "cell_type": "code",
   "execution_count": 3,
   "metadata": {},
   "outputs": [],
   "source": [
    "inputs = layers.Input(input_shape)\n",
    "\n",
    "net = layers.Conv2D(32,(3,3), padding = 'SAME')(inputs)\n",
    "net = layers.Activation('relu')(net)\n",
    "net = layers.Conv2D(32,(3,3), padding = 'SAME')(net)\n",
    "net = layers.Activation('relu')(net)\n",
    "net = layers.Dropout(dropout_rate)(net)\n",
    "\n",
    "net = layers.Conv2D(64,(3,3), padding = 'SAME')(net)\n",
    "net = layers.Activation('relu')(net)\n",
    "net = layers.Conv2D(64,(3,3), padding = 'SAME')(net)\n",
    "net = layers.Activation('relu')(net)\n",
    "net = layers.Dropout(dropout_rate)(net)\n",
    "\n",
    "net = layers.Flatten()(net)\n",
    "net = layers.Dense(512)(net)\n",
    "net = layers.Activation('relu')(net)\n",
    "net = layers.Dropout(dropout_rate)(net)\n",
    "net = layers.Dense(num_classes)(net)\n",
    "net = layers.Activation('softmax')(net)\n",
    "\n",
    "model = tf.keras.Model(inputs= inputs, outputs=net, name = 'Basic_CNN')"
   ]
  },
  {
   "cell_type": "code",
   "execution_count": 4,
   "metadata": {},
   "outputs": [],
   "source": [
    "model.compile(optimizer = tf.keras.optimizers.Adam(learning_rate),\n",
    "            loss = 'sparse_categorical_crossentropy',\n",
    "            metrics = ['accuracy'])"
   ]
  },
  {
   "cell_type": "markdown",
   "metadata": {},
   "source": [
    "### data preprocess"
   ]
  },
  {
   "cell_type": "code",
   "execution_count": 6,
   "metadata": {},
   "outputs": [],
   "source": [
    "train_paths = glob('cifar/train/*.png')[:1000]\n",
    "test_paths = glob('cifar/test/*.png')[:1000]"
   ]
  },
  {
   "cell_type": "code",
   "execution_count": 7,
   "metadata": {},
   "outputs": [],
   "source": [
    "def get_class_name(path):\n",
    "    return path.split('_')[-1].replace('.png','')"
   ]
  },
  {
   "cell_type": "code",
   "execution_count": 8,
   "metadata": {},
   "outputs": [],
   "source": [
    "train_labels = [get_class_name(path) for path in train_paths]\n",
    "class_names = np.unique(train_labels)"
   ]
  },
  {
   "cell_type": "code",
   "execution_count": 9,
   "metadata": {},
   "outputs": [],
   "source": [
    "def get_label(path):\n",
    "    fname = tf.strings.split(path, '_')[-1]\n",
    "    lbl_name = tf.strings.regex_replace(fname, '.png','')\n",
    "    onehot = tf.cast(lbl_name == class_names, tf.uint8)\n",
    "    return tf.argmax(onehot) # label번호를 반환"
   ]
  },
  {
   "cell_type": "code",
   "execution_count": 10,
   "metadata": {},
   "outputs": [],
   "source": [
    "def load_image_label(path):\n",
    "    gfile = tf.io.read_file(path)\n",
    "    image = tf.io.decode_image(gfile)\n",
    "    image = tf.cast(image, tf.float32) / 255.\n",
    "    \n",
    "    label = get_label(path)\n",
    "    return image, label"
   ]
  },
  {
   "cell_type": "code",
   "execution_count": 11,
   "metadata": {},
   "outputs": [],
   "source": [
    "def image_preprocess(image, label):\n",
    "    image = tf.image.random_flip_up_down(image)\n",
    "    image = tf.image.random_flip_left_right(image)\n",
    "    return image, label"
   ]
  },
  {
   "cell_type": "code",
   "execution_count": 12,
   "metadata": {},
   "outputs": [],
   "source": [
    "AUTOTUNE = tf.data.experimental.AUTOTUNE"
   ]
  },
  {
   "cell_type": "code",
   "execution_count": 13,
   "metadata": {},
   "outputs": [],
   "source": [
    "train_dataset = tf.data.Dataset.from_tensor_slices(train_paths)\n",
    "train_dataset = train_dataset.map(load_image_label, num_parallel_calls = AUTOTUNE)\n",
    "train_dataset = train_dataset.map(image_preprocess, num_parallel_calls = AUTOTUNE)\n",
    "train_dataset = train_dataset.batch(batch_size)\n",
    "train_dataset = train_dataset.shuffle(buffer_size = len(train_paths))\n",
    "train_dataset = train_dataset.repeat()"
   ]
  },
  {
   "cell_type": "code",
   "execution_count": 14,
   "metadata": {},
   "outputs": [],
   "source": [
    "test_dataset = tf.data.Dataset.from_tensor_slices(test_paths)\n",
    "test_dataset = test_dataset.map(load_image_label, num_parallel_calls = AUTOTUNE)\n",
    "test_dataset = test_dataset.batch(batch_size)\n",
    "test_dataset = test_dataset.repeat()"
   ]
  },
  {
   "cell_type": "markdown",
   "metadata": {},
   "source": [
    "### learning rate scheduler"
   ]
  },
  {
   "cell_type": "code",
   "execution_count": 15,
   "metadata": {},
   "outputs": [],
   "source": [
    "import math"
   ]
  },
  {
   "cell_type": "code",
   "execution_count": 16,
   "metadata": {},
   "outputs": [],
   "source": [
    "def scheduler(epoch):\n",
    "    if epoch < 10:\n",
    "        return 0.001\n",
    "    else:\n",
    "        return 0.001 *math.exp(0.1*(10-epoch))"
   ]
  },
  {
   "cell_type": "code",
   "execution_count": 17,
   "metadata": {},
   "outputs": [
    {
     "name": "stdout",
     "output_type": "stream",
     "text": [
      "0.001\n",
      "0.0009048374180359595\n",
      "0.0008187307530779819\n",
      "0.0007408182206817179\n",
      "0.0006703200460356394\n",
      "0.0006065306597126335\n",
      "0.0005488116360940264\n",
      "0.0004965853037914095\n",
      "0.0004493289641172216\n",
      "0.00040656965974059914\n"
     ]
    }
   ],
   "source": [
    "for epoch in range(10,20):\n",
    "    print(0.001 *math.exp(0.1*(10-epoch)))"
   ]
  },
  {
   "cell_type": "code",
   "execution_count": 18,
   "metadata": {},
   "outputs": [],
   "source": [
    "learning_rate_scheduler =tf.keras.callbacks.LearningRateScheduler(scheduler)"
   ]
  },
  {
   "cell_type": "code",
   "execution_count": 19,
   "metadata": {},
   "outputs": [
    {
     "name": "stdout",
     "output_type": "stream",
     "text": [
      "WARNING:tensorflow:From <ipython-input-19-5853d0b97eb0>:10: Model.fit_generator (from tensorflow.python.keras.engine.training) is deprecated and will be removed in a future version.\n",
      "Instructions for updating:\n",
      "Please use Model.fit, which supports generators.\n",
      "Epoch 1/20\n",
      "31/31 [==============================] - 11s 364ms/step - loss: 2.6154 - accuracy: 0.0981 - val_loss: 2.3024 - val_accuracy: 0.1079\n",
      "Epoch 2/20\n",
      "31/31 [==============================] - 11s 366ms/step - loss: 2.3022 - accuracy: 0.1188 - val_loss: 2.3007 - val_accuracy: 0.0897\n",
      "Epoch 3/20\n",
      "31/31 [==============================] - 11s 361ms/step - loss: 2.2975 - accuracy: 0.1281 - val_loss: 2.2850 - val_accuracy: 0.1331\n",
      "Epoch 4/20\n",
      "31/31 [==============================] - 11s 358ms/step - loss: 2.2876 - accuracy: 0.1405 - val_loss: 2.3074 - val_accuracy: 0.1129\n",
      "Epoch 5/20\n",
      "31/31 [==============================] - 11s 357ms/step - loss: 2.2851 - accuracy: 0.1250 - val_loss: 2.2116 - val_accuracy: 0.1613\n",
      "Epoch 6/20\n",
      "31/31 [==============================] - 12s 380ms/step - loss: 2.2347 - accuracy: 0.1550 - val_loss: 2.1694 - val_accuracy: 0.1794\n",
      "Epoch 7/20\n",
      "31/31 [==============================] - 12s 385ms/step - loss: 2.1600 - accuracy: 0.2128 - val_loss: 2.1469 - val_accuracy: 0.2026\n",
      "Epoch 8/20\n",
      "31/31 [==============================] - 12s 380ms/step - loss: 2.1647 - accuracy: 0.1921 - val_loss: 2.0692 - val_accuracy: 0.2308\n",
      "Epoch 9/20\n",
      "31/31 [==============================] - 11s 366ms/step - loss: 2.1643 - accuracy: 0.2004 - val_loss: 2.0302 - val_accuracy: 0.2359\n",
      "Epoch 10/20\n",
      "31/31 [==============================] - 11s 361ms/step - loss: 2.0932 - accuracy: 0.2379 - val_loss: 1.9747 - val_accuracy: 0.2611\n",
      "Epoch 11/20\n",
      "31/31 [==============================] - 11s 352ms/step - loss: 2.0161 - accuracy: 0.2172 - val_loss: 1.9881 - val_accuracy: 0.2258\n",
      "Epoch 12/20\n",
      "31/31 [==============================] - 11s 360ms/step - loss: 2.0065 - accuracy: 0.2520 - val_loss: 1.9730 - val_accuracy: 0.2470\n",
      "Epoch 13/20\n",
      "31/31 [==============================] - 11s 357ms/step - loss: 1.9674 - accuracy: 0.2634 - val_loss: 1.9129 - val_accuracy: 0.2893\n",
      "Epoch 14/20\n",
      "31/31 [==============================] - 11s 355ms/step - loss: 1.9131 - accuracy: 0.2717 - val_loss: 1.9109 - val_accuracy: 0.2883\n",
      "Epoch 15/20\n",
      "31/31 [==============================] - 11s 349ms/step - loss: 1.8320 - accuracy: 0.3167 - val_loss: 1.8560 - val_accuracy: 0.3246\n",
      "Epoch 16/20\n",
      "31/31 [==============================] - 13s 424ms/step - loss: 1.8149 - accuracy: 0.3458 - val_loss: 1.8532 - val_accuracy: 0.3095\n",
      "Epoch 17/20\n",
      "31/31 [==============================] - 13s 413ms/step - loss: 1.7172 - accuracy: 0.3616 - val_loss: 1.7376 - val_accuracy: 0.3579\n",
      "Epoch 18/20\n",
      "31/31 [==============================] - 12s 399ms/step - loss: 1.6881 - accuracy: 0.3988 - val_loss: 1.8188 - val_accuracy: 0.3095\n",
      "Epoch 19/20\n",
      "31/31 [==============================] - 12s 391ms/step - loss: 1.6572 - accuracy: 0.3874 - val_loss: 1.7394 - val_accuracy: 0.3649\n",
      "Epoch 20/20\n",
      "31/31 [==============================] - 12s 403ms/step - loss: 1.6029 - accuracy: 0.4308 - val_loss: 1.7478 - val_accuracy: 0.3458\n"
     ]
    },
    {
     "data": {
      "text/plain": [
       "<tensorflow.python.keras.callbacks.History at 0x25bad83c408>"
      ]
     },
     "execution_count": 19,
     "metadata": {},
     "output_type": "execute_result"
    }
   ],
   "source": [
    "steps_per_epoch = len(train_paths) //batch_size\n",
    "validation_steps = len(test_paths) // batch_size\n",
    "\n",
    "model.fit_generator(\n",
    "    train_dataset,\n",
    "    steps_per_epoch = steps_per_epoch,\n",
    "    validation_data = test_dataset,\n",
    "    validation_steps = validation_steps,\n",
    "    epochs = num_epochs,\n",
    "    callbacks = [learning_rate_scheduler])"
   ]
  },
  {
   "cell_type": "code",
   "execution_count": null,
   "metadata": {},
   "outputs": [],
   "source": []
  },
  {
   "cell_type": "code",
   "execution_count": null,
   "metadata": {},
   "outputs": [],
   "source": []
  }
 ],
 "metadata": {
  "kernelspec": {
   "display_name": "Python 3",
   "language": "python",
   "name": "python3"
  },
  "language_info": {
   "codemirror_mode": {
    "name": "ipython",
    "version": 3
   },
   "file_extension": ".py",
   "mimetype": "text/x-python",
   "name": "python",
   "nbconvert_exporter": "python",
   "pygments_lexer": "ipython3",
   "version": "3.7.7"
  }
 },
 "nbformat": 4,
 "nbformat_minor": 4
}
