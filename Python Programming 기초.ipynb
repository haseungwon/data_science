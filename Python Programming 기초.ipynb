{
 "cells": [
  {
   "cell_type": "markdown",
   "metadata": {},
   "source": [
    "# Hello python\n",
    "## hello python\n",
    "### hello python\n",
    "#### hello python\n",
    "**python** is *really* cool\n",
    "- python\n",
    "    - DO\n",
    "- DL\n",
    "- DE\n",
    "- java\n",
    "- c\n",
    "\n",
    "$y=$x+1\n",
    "\n",
    "> 파이썬 좋아\n",
    "\n",
    "```python\n",
    "    a=10    \n",
    "    print(a)\n",
    "```\n",
    "\n",
    "[패스트 캠퍼스](https://www.fastcampus.co.kr/online/#/courses/200681/clips/6000)"
   ]
  },
  {
   "cell_type": "code",
   "execution_count": 50,
   "metadata": {},
   "outputs": [
    {
     "name": "stdout",
     "output_type": "stream",
     "text": [
      "10 11.4\n",
      "10*10*200*11.4!!"
     ]
    }
   ],
   "source": [
    "a = 10 # int\n",
    "b = 11.4 #float\n",
    "print(a,b)\n",
    "print(a,10,200,b, sep=\"*\", end=\"!!\",flush=False)\n",
    "\n"
   ]
  },
  {
   "cell_type": "code",
   "execution_count": 51,
   "metadata": {},
   "outputs": [],
   "source": [
    "a #변수값 확인 가능\n",
    "b #변수의 마지막이 out으로 나옴\n",
    "number_of_students = 100 #변수를 명확하게\n",
    "\n",
    "# 예약어들for while class try except\n"
   ]
  },
  {
   "cell_type": "code",
   "execution_count": 52,
   "metadata": {
    "scrolled": true
   },
   "outputs": [
    {
     "name": "stdout",
     "output_type": "stream",
     "text": [
      "10 11.45 None\n"
     ]
    }
   ],
   "source": [
    "a =10\n",
    "b= 11.45\n",
    "c = None #빈 변수를 생성하고 싶을떄\n",
    "\n",
    "print(a,b,c)"
   ]
  },
  {
   "cell_type": "code",
   "execution_count": 54,
   "metadata": {
    "scrolled": false
   },
   "outputs": [
    {
     "name": "stdout",
     "output_type": "stream",
     "text": [
      "5 4\n",
      "True\n",
      "False\n",
      "True\n",
      "False\n",
      "False\n",
      "True\n",
      "<class 'bool'>\n",
      "True\n",
      "9\n",
      "20\n",
      "1\n",
      "1.25\n",
      "1\n",
      "625\n",
      "36\n"
     ]
    }
   ],
   "source": [
    "a = 5\n",
    "b = 4\n",
    "print(a,b)\n",
    "print(a>b)\n",
    "print(a<b)\n",
    "print(a>=b)\n",
    "print(a<=b)\n",
    "print(a==b)\n",
    "print(a!=b)\n",
    "\n",
    "c = a > b\n",
    "c= True\n",
    "print(type(c))\n",
    "print(c)\n",
    "\n",
    "print(a+b)\n",
    "print(a*b)\n",
    "print(a-b)\n",
    "print(a/b)\n",
    "print(a%b)\n",
    "print(a**b)\n",
    "print((a+b)*4) #연산자 우선순위\n"
   ]
  },
  {
   "cell_type": "code",
   "execution_count": 57,
   "metadata": {},
   "outputs": [
    {
     "name": "stdout",
     "output_type": "stream",
     "text": [
      "9\n",
      "6\n",
      "9\n"
     ]
    }
   ],
   "source": [
    "#quiz\n",
    "\n",
    "a= 9\n",
    "print(a)\n",
    "print(a-3)\n",
    "print(a)"
   ]
  },
  {
   "cell_type": "code",
   "execution_count": 61,
   "metadata": {},
   "outputs": [
    {
     "name": "stdout",
     "output_type": "stream",
     "text": [
      "\"Hello World.\n",
      "\n",
      "\n",
      "It's a wonderful world\n"
     ]
    }
   ],
   "source": [
    "a = 'Hello world'\n",
    "b = \"Hello world\"\n",
    "c = '''Hello World'''\n",
    "d = \"\"\"Hello World\"\"\"\n",
    "e = \"\"\"\"Hello World.\n",
    "\n",
    "\n",
    "It's a wonderful world\"\"\"\n",
    "print(e)"
   ]
  },
  {
   "cell_type": "code",
   "execution_count": 63,
   "metadata": {},
   "outputs": [
    {
     "name": "stdout",
     "output_type": "stream",
     "text": [
      "Hello World\n",
      "\n",
      "a\thahahah\n"
     ]
    }
   ],
   "source": [
    "# 이스케이프 문자\n",
    "print(\"Hello World\\n\") #\\n\n",
    "print(\"a\\thahahah\")    #\\t"
   ]
  },
  {
   "cell_type": "markdown",
   "metadata": {},
   "source": [
    "인덱스의 범위\n",
    "- 인덱스는 [0,문자열의 길이]의 범위만 유효\n",
    "- 음수 인덱스를 사용할 경우, [-문저열의 길이, -1]\n",
    "- 범위를 넘어갈 경우 에러 발생"
   ]
  },
  {
   "cell_type": "code",
   "execution_count": 68,
   "metadata": {
    "scrolled": true
   },
   "outputs": [
    {
     "name": "stdout",
     "output_type": "stream",
     "text": [
      "H\n",
      "d\n"
     ]
    }
   ],
   "source": [
    "a = 'Hello World' #길이 : 11\n",
    "print(a[0])\n",
    "print(a[-1]) #-1은 마지막 인덱스\n",
    "#print(a[11])\n",
    "#print(a[-12]) "
   ]
  },
  {
   "cell_type": "markdown",
   "metadata": {},
   "source": [
    "문자열 slicing\n",
    "- 인덱스가 하나의 문자만을 추출한다면,\n",
    "- slicing은 부분 문자열을 추출한다고 볼 수 있음\n",
    "- [시작:끝]와 같이 명시하여 [시작, 끝]에 해당하는 부분 문자열을 추출\n",
    "- 시작, 끝 인덱스가 생략이 되어 있다면, 0부터 혹은 끝까지로 간주"
   ]
  },
  {
   "cell_type": "code",
   "execution_count": 73,
   "metadata": {},
   "outputs": [
    {
     "name": "stdout",
     "output_type": "stream",
     "text": [
      "Hell\n",
      "ello w\n",
      "Hel\n",
      "lo world\n",
      "Hello world\n"
     ]
    }
   ],
   "source": [
    "a = 'Hello world'\n",
    "print(a[0:4])\n",
    "print(a[1: 7])\n",
    "print(a[:3])\n",
    "print(a[3:])\n",
    "print(a[:])"
   ]
  },
  {
   "cell_type": "markdown",
   "metadata": {},
   "source": [
    "문자열 함수\n",
    "- 문자열은 여러가지 기능 제공을 위한 함수를 내장\n",
    "- 함수란 특정 기능을 하는 코드롤 언제든지 호출하여 해당 기능을 사용 가능하도록 구성한 코드"
   ]
  },
  {
   "cell_type": "code",
   "execution_count": 80,
   "metadata": {},
   "outputs": [
    {
     "name": "stdout",
     "output_type": "stream",
     "text": [
      "hello world\n",
      "HELLO WORLD\n"
     ]
    }
   ],
   "source": [
    "a = 'hello world'\n",
    "a.upper()\n",
    "print(a)\n",
    "print(a.upper())"
   ]
  },
  {
   "cell_type": "markdown",
   "metadata": {},
   "source": [
    "- replace\n",
    "    - 문자열 내의 특정 문자를 치환"
   ]
  },
  {
   "cell_type": "code",
   "execution_count": 82,
   "metadata": {},
   "outputs": [
    {
     "name": "stdout",
     "output_type": "stream",
     "text": [
      "hello world\n",
      "jello world\n"
     ]
    }
   ],
   "source": [
    "a = 'hello world'\n",
    "a.replace('h','j')\n",
    "print(a)\n",
    "print(a.replace(\"h\",'j'))"
   ]
  },
  {
   "cell_type": "markdown",
   "metadata": {},
   "source": [
    "- format\n",
    "    - 문자열내의 특정한 값을 변수로부터 초기화하여 동적으로 문자열을 생성"
   ]
  },
  {
   "cell_type": "code",
   "execution_count": 88,
   "metadata": {},
   "outputs": [
    {
     "name": "stdout",
     "output_type": "stream",
     "text": [
      "오늘 기온은 25.5도 이고, 비올 확률은 80.0% 입니다\n"
     ]
    }
   ],
   "source": [
    "temperature = 25.5\n",
    "prob = 80.0\n",
    "\n",
    "a = \"오늘 기온은 {}도 이고, 비올 확률은 {}% 입니다\".format(temperature, prob)\n",
    "print(a)"
   ]
  },
  {
   "cell_type": "markdown",
   "metadata": {},
   "source": [
    "- split\n",
    "    - 문자열을 특정한 문자 구분하여(delimiter) 문자열의 **리스트**\n",
    "   로 치환\n",
    "    - 특정 문자 앞 뒤로 짜름\n",
    "   "
   ]
  },
  {
   "cell_type": "code",
   "execution_count": 91,
   "metadata": {},
   "outputs": [
    {
     "name": "stdout",
     "output_type": "stream",
     "text": [
      "hello world what a nice weather\n",
      "['hello', 'world', 'what', 'a', 'nice', 'weather']\n"
     ]
    }
   ],
   "source": [
    "a = 'hello world what a nice weather'\n",
    "\n",
    "print(a)\n",
    "print(a.split())"
   ]
  },
  {
   "cell_type": "markdown",
   "metadata": {},
   "source": [
    "## 리스트 & 튜플 \n",
    "- 복수개의 값을 담을 수 있는 데이터 구조\n",
    "- 실생활에서 사용하는 리스트(학생 리스트, 성적 리스트 ...)과 동일한 의미로 이해\n",
    "- list - mutable(생성된 후에 변경 가능)\n",
    "- tuple - immutable(생성된 후에 변경 불가능)"
   ]
  },
  {
   "cell_type": "markdown",
   "metadata": {},
   "source": [
    "## 리스트 초기화\n",
    "[] 안에 값을 담아서 생성\n",
    "list() 함수로 생성\n",
    "str.split()함수로 생성"
   ]
  },
  {
   "cell_type": "code",
   "execution_count": 92,
   "metadata": {},
   "outputs": [
    {
     "name": "stdout",
     "output_type": "stream",
     "text": [
      "[]\n"
     ]
    }
   ],
   "source": [
    "a = []\n",
    "print(a)"
   ]
  },
  {
   "cell_type": "code",
   "execution_count": 94,
   "metadata": {},
   "outputs": [
    {
     "name": "stdout",
     "output_type": "stream",
     "text": [
      "[1, 2, 3, 4, 5]\n"
     ]
    }
   ],
   "source": [
    "a =[1, 2, 3, 4, 5]\n",
    "print(a)"
   ]
  },
  {
   "cell_type": "code",
   "execution_count": 98,
   "metadata": {},
   "outputs": [
    {
     "name": "stdout",
     "output_type": "stream",
     "text": [
      "['korea', 'canada', 1, 23, [34, 56]]\n",
      "<class 'list'>\n",
      "<class 'int'>\n"
     ]
    }
   ],
   "source": [
    "a = ['korea', 'canada', 1, 23, [34, 56]]\n",
    "print(a)\n",
    "print(type(a[4]))\n",
    "print(type(a[2]))"
   ]
  },
  {
   "cell_type": "code",
   "execution_count": 100,
   "metadata": {},
   "outputs": [
    {
     "name": "stdout",
     "output_type": "stream",
     "text": [
      "['h', 'e', 'l', 'l', 'o', ' ', 'w', 'o', 'r', 'l', 'd']\n",
      "[1, 2, 3]\n"
     ]
    }
   ],
   "source": [
    "a = 'hello world'\n",
    "b = list(a)\n",
    "print(b)\n",
    "\n",
    "c = (1,2,3)\n",
    "d =list(c)\n",
    "print(d)"
   ]
  },
  {
   "cell_type": "markdown",
   "metadata": {},
   "source": [
    "- string split 함수\n",
    "    - 구분자로 구분되는 리스트를 반환(빈번히 사용)"
   ]
  },
  {
   "cell_type": "code",
   "execution_count": 103,
   "metadata": {},
   "outputs": [
    {
     "name": "stdout",
     "output_type": "stream",
     "text": [
      "['hello', 'world']\n"
     ]
    }
   ],
   "source": [
    "a = 'hello world'\n",
    "b= a.split()\n",
    "print(b)\n"
   ]
  },
  {
   "cell_type": "markdown",
   "metadata": {},
   "source": [
    "## 리스트 indexing\n",
    "- 문자열의 인덱싱과 동일\n",
    "- [i] - i 번쨰 원소를 반환\n",
    "- i가 음수인 경우도 가능하며 마지막 원소가 -1로 하여 앞으로 갈때마다 1씩 감소함"
   ]
  },
  {
   "cell_type": "code",
   "execution_count": 105,
   "metadata": {},
   "outputs": [
    {
     "name": "stdout",
     "output_type": "stream",
     "text": [
      "3\n",
      "4\n"
     ]
    }
   ],
   "source": [
    "a = [1,2,3,4,5]\n",
    "print(a[2])\n",
    "print(a[3])"
   ]
  },
  {
   "cell_type": "code",
   "execution_count": 114,
   "metadata": {},
   "outputs": [
    {
     "name": "stdout",
     "output_type": "stream",
     "text": [
      "h\n",
      "jello world\n",
      "jello world\n"
     ]
    }
   ],
   "source": [
    "# 불변(immutable) 문자열\n",
    "a = 'hello world'\n",
    "print(a[0])\n",
    "#a[0]='j'     안됨\n",
    "\n",
    "# 방법 1\n",
    "a = 'j'+a[1:]\n",
    "# 방법 2\n",
    "a = 'jello world'\n",
    "# 방법 3\n",
    "b = a.replace('h','j')\n",
    "print(a)\n",
    "print(b)\n",
    "\n"
   ]
  },
  {
   "cell_type": "code",
   "execution_count": 115,
   "metadata": {},
   "outputs": [
    {
     "name": "stdout",
     "output_type": "stream",
     "text": [
      "['hello', 2, 3, 4, 100]\n"
     ]
    }
   ],
   "source": [
    "a = [1,2,3,4,5]\n",
    "a[4] = 100\n",
    "a[0] = 'hello'\n",
    "print(a)"
   ]
  },
  {
   "cell_type": "markdown",
   "metadata": {},
   "source": [
    "## 리스트 slicing\n",
    "- 문자열 슬라이싱과 동일\n",
    "- 슬라이싱의 결과 역시 list"
   ]
  },
  {
   "cell_type": "code",
   "execution_count": 125,
   "metadata": {},
   "outputs": [
    {
     "name": "stdout",
     "output_type": "stream",
     "text": [
      "[5, 6, 7]\n",
      "[1, 2, 3, 4, 5, 6, 7]\n",
      "[3, 4, 5, 6, 7, 8]\n",
      "[1, 2, 3, 4, 5, 6, 7, 8]\n",
      "[2, 4, 6]\n",
      "[1, 4, 7]\n"
     ]
    }
   ],
   "source": [
    "a = [1, 2, 3 ,4 ,5, 6, 7, 8]\n",
    "print(a[4:7])\n",
    "print(a[:7])\n",
    "print(a[2:])\n",
    "print(a[:])\n",
    "\n",
    "# slicing\n",
    "# start : end: increment\n",
    "print(a[1:7:2])\n",
    "print(a[::3])"
   ]
  },
  {
   "cell_type": "markdown",
   "metadata": {},
   "source": [
    "## list 멤버 함수\n",
    "- 생성된 리스트 객체에 동작하는 함수\n",
    "- 향후, 클래스와 멤버 함수 개념을 이해할 예정\n"
   ]
  },
  {
   "cell_type": "markdown",
   "metadata": {},
   "source": [
    "- append()\n",
    "    - 리스트의 끝에 항목을 추가함"
   ]
  },
  {
   "cell_type": "code",
   "execution_count": 126,
   "metadata": {},
   "outputs": [
    {
     "name": "stdout",
     "output_type": "stream",
     "text": [
      "[1, 2, 3, 4, 5, 100]\n"
     ]
    }
   ],
   "source": [
    "a = [1,2,3,4,5]\n",
    "a.append(100)\n",
    "print(a)\n"
   ]
  },
  {
   "cell_type": "markdown",
   "metadata": {},
   "source": [
    "- extend()\n",
    "    - 리스트를 연장\n",
    "    - +=으로도 가능"
   ]
  },
  {
   "cell_type": "code",
   "execution_count": 132,
   "metadata": {},
   "outputs": [
    {
     "name": "stdout",
     "output_type": "stream",
     "text": [
      "[1, 2, 3, 4, 5, 6, 7, 8, 9, 10, 6, 7, 8, 9, 10]\n"
     ]
    }
   ],
   "source": [
    "a = [1, 2, 3, 4, 5]\n",
    "b = [6, 7, 8, 9, 10]\n",
    "\n",
    "#][1, 2, 3, 4, 5, 6, 7, 8, 9, 10]\n",
    "#a.append(b)\n",
    "#print(a)\n",
    "#결과값 \n",
    "#[1, 2, 3, 4, 5, [6, 7, 8, 9, 10]]\n",
    "\n",
    "\n",
    "# 방법 1\n",
    "a.extend(b)\n",
    "#방법 2\n",
    "a += b\n",
    "print(a)\n"
   ]
  },
  {
   "cell_type": "markdown",
   "metadata": {},
   "source": [
    "- insert()로 추가하기\n",
    "    - 리스트의 원하는 위치에 추가 가능\n",
    "    - 앞에 인덱스를, 뒤에는 아이템을 명시\n",
    "   "
   ]
  },
  {
   "cell_type": "code",
   "execution_count": 134,
   "metadata": {},
   "outputs": [
    {
     "name": "stdout",
     "output_type": "stream",
     "text": [
      "[1, 40, 2, 3, 4, 5]\n"
     ]
    }
   ],
   "source": [
    "a = [1, 2, 3, 4, 5]\n",
    "a.insert(1, 40)\n",
    "print(a)"
   ]
  },
  {
   "cell_type": "markdown",
   "metadata": {},
   "source": [
    "- remove()\n",
    "    - 값으로 항목 삭제"
   ]
  },
  {
   "cell_type": "code",
   "execution_count": 136,
   "metadata": {},
   "outputs": [
    {
     "name": "stdout",
     "output_type": "stream",
     "text": [
      "[1, 2, 4, 5]\n"
     ]
    }
   ],
   "source": [
    "a = [1, 2, 3, 4, 5]\n",
    "a.remove(3)\n",
    "print(a)"
   ]
  },
  {
   "cell_type": "markdown",
   "metadata": {},
   "source": [
    "- pop()\n",
    "    - 지우고자 하는 아이템을 반환 후, 삭제\n",
    "  "
   ]
  },
  {
   "cell_type": "code",
   "execution_count": 138,
   "metadata": {},
   "outputs": [
    {
     "name": "stdout",
     "output_type": "stream",
     "text": [
      "[1, 3, 4, 5, 6]\n",
      "2\n"
     ]
    }
   ],
   "source": [
    "a = [1, 2, 3, 4, 5, 6]\n",
    "b = a.pop(1)\n",
    "print(a)\n",
    "print(b)"
   ]
  },
  {
   "cell_type": "markdown",
   "metadata": {},
   "source": [
    "- index()\n",
    "    - 찾고자 하는 값의 인덱스 반환"
   ]
  },
  {
   "cell_type": "code",
   "execution_count": 139,
   "metadata": {},
   "outputs": [
    {
     "data": {
      "text/plain": [
       "3"
      ]
     },
     "execution_count": 139,
     "metadata": {},
     "output_type": "execute_result"
    }
   ],
   "source": [
    "a = [2, 6, 7, 9, 10]\n",
    "a.index(9)"
   ]
  },
  {
   "cell_type": "markdown",
   "metadata": {},
   "source": [
    "- in키워드\n",
    "    - 리스트 내에 해당 값이 존재하는지 확인\n",
    "    - value in [list]\n",
    "    - True, False 중 한가지로 반환\n",
    "    "
   ]
  },
  {
   "cell_type": "code",
   "execution_count": 140,
   "metadata": {},
   "outputs": [
    {
     "name": "stdout",
     "output_type": "stream",
     "text": [
      "True\n"
     ]
    }
   ],
   "source": [
    "a = [1, 2, 3, 4, 5, 6, 10]\n",
    "b = 10\n",
    "c = b in a\n",
    "print(c)"
   ]
  },
  {
   "cell_type": "markdown",
   "metadata": {},
   "source": [
    "- list 정렬\n",
    "    - sort() -> 리스트 자체를 내부적으로 정렬\n",
    "    - sorted() -> 리스트의 정렬된 복사본을 반환"
   ]
  },
  {
   "cell_type": "code",
   "execution_count": 145,
   "metadata": {},
   "outputs": [
    {
     "name": "stdout",
     "output_type": "stream",
     "text": [
      "[9, 1, 2, 310, 23, 44, -89]\n",
      "[-89, 1, 2, 9, 23, 44, 310]\n"
     ]
    }
   ],
   "source": [
    "a = [9, 1, 2, 310, 23,44, -89]\n",
    "#a.sort(reverse = True)\n",
    "\n",
    "b = sorted(a)\n",
    "print(a)\n",
    "print(b)"
   ]
  },
  {
   "cell_type": "markdown",
   "metadata": {},
   "source": [
    "## tuple\n",
    "- 리스트와 같이 복수개의 값을 갖는 컬렉션 타입\n",
    "- 생성된 후 변경 불가능"
   ]
  },
  {
   "cell_type": "code",
   "execution_count": 150,
   "metadata": {
    "scrolled": true
   },
   "outputs": [
    {
     "name": "stdout",
     "output_type": "stream",
     "text": [
      "<class 'list'>\n",
      "<class 'tuple'>\n",
      "[100, 2, 3]\n"
     ]
    },
    {
     "ename": "TypeError",
     "evalue": "'tuple' object does not support item assignment",
     "output_type": "error",
     "traceback": [
      "\u001b[1;31m---------------------------------------------------------------------------\u001b[0m",
      "\u001b[1;31mTypeError\u001b[0m                                 Traceback (most recent call last)",
      "\u001b[1;32m<ipython-input-150-2baab3ed13b3>\u001b[0m in \u001b[0;36m<module>\u001b[1;34m\u001b[0m\n\u001b[0;32m      8\u001b[0m \u001b[0ma\u001b[0m\u001b[1;33m[\u001b[0m\u001b[1;36m0\u001b[0m\u001b[1;33m]\u001b[0m\u001b[1;33m=\u001b[0m\u001b[1;36m100\u001b[0m\u001b[1;33m\u001b[0m\u001b[1;33m\u001b[0m\u001b[0m\n\u001b[0;32m      9\u001b[0m \u001b[0mprint\u001b[0m\u001b[1;33m(\u001b[0m\u001b[0ma\u001b[0m\u001b[1;33m)\u001b[0m\u001b[1;33m\u001b[0m\u001b[1;33m\u001b[0m\u001b[0m\n\u001b[1;32m---> 10\u001b[1;33m \u001b[0mb\u001b[0m\u001b[1;33m[\u001b[0m\u001b[1;36m0\u001b[0m\u001b[1;33m]\u001b[0m\u001b[1;33m=\u001b[0m\u001b[1;36m100\u001b[0m\u001b[1;33m\u001b[0m\u001b[1;33m\u001b[0m\u001b[0m\n\u001b[0m\u001b[0;32m     11\u001b[0m \u001b[1;31m#print(b)\u001b[0m\u001b[1;33m\u001b[0m\u001b[1;33m\u001b[0m\u001b[1;33m\u001b[0m\u001b[0m\n",
      "\u001b[1;31mTypeError\u001b[0m: 'tuple' object does not support item assignment"
     ]
    }
   ],
   "source": [
    "a = [1,2,3]\n",
    "b = (1,2,3)\n",
    "\n",
    "print(type(a))\n",
    "print(type(b))\n",
    "\n",
    "\n",
    "a[0]=100\n",
    "print(a)\n",
    "b[0]=100\n",
    "#print(b)"
   ]
  },
  {
   "cell_type": "markdown",
   "metadata": {},
   "source": [
    "## tuple unpacking\n",
    "- 튜플의 값을 차례대로 변수에 대입"
   ]
  },
  {
   "cell_type": "code",
   "execution_count": 156,
   "metadata": {},
   "outputs": [
    {
     "name": "stdout",
     "output_type": "stream",
     "text": [
      "100 200 300 400\n"
     ]
    }
   ],
   "source": [
    "a, b, c, d = 100, 200, 300, 400\n",
    "print(a,b,c,d)"
   ]
  },
  {
   "cell_type": "markdown",
   "metadata": {},
   "source": [
    "- **연습문제** a와 b의 값을 바꾸시오"
   ]
  },
  {
   "cell_type": "code",
   "execution_count": 157,
   "metadata": {},
   "outputs": [
    {
     "name": "stdout",
     "output_type": "stream",
     "text": [
      "4 5\n"
     ]
    }
   ],
   "source": [
    "a = 5\n",
    "b = 4\n",
    "\n",
    "#logic\n",
    "tmp = a\n",
    "a = b\n",
    "b = tmp\n",
    "# Python\n",
    "a, b = b, a\n",
    "print(a,b)"
   ]
  },
  {
   "cell_type": "markdown",
   "metadata": {},
   "source": [
    "## dictionary\n",
    "- 키와 값을 갖는 데이터 구조\n",
    "- 키는 내부적으로 hash값으로 저장\n",
    "- 순서를 따지지 않음. 즉, 인덱스가 없음"
   ]
  },
  {
   "cell_type": "code",
   "execution_count": 168,
   "metadata": {},
   "outputs": [
    {
     "name": "stdout",
     "output_type": "stream",
     "text": [
      "{'korea': 'seoul', 'canada': 'ottaw', 'usa': 'washington dc'}\n",
      "<class 'dict'>\n",
      "seoul\n",
      "1\n"
     ]
    },
    {
     "ename": "KeyError",
     "evalue": "2",
     "output_type": "error",
     "traceback": [
      "\u001b[1;31m---------------------------------------------------------------------------\u001b[0m",
      "\u001b[1;31mKeyError\u001b[0m                                  Traceback (most recent call last)",
      "\u001b[1;32m<ipython-input-168-589c80ffb5f4>\u001b[0m in \u001b[0;36m<module>\u001b[1;34m\u001b[0m\n\u001b[0;32m     11\u001b[0m \u001b[0mprint\u001b[0m\u001b[1;33m(\u001b[0m\u001b[0ma\u001b[0m\u001b[1;33m[\u001b[0m\u001b[1;34m'korea'\u001b[0m\u001b[1;33m]\u001b[0m\u001b[1;33m)\u001b[0m\u001b[1;33m\u001b[0m\u001b[1;33m\u001b[0m\u001b[0m\n\u001b[0;32m     12\u001b[0m \u001b[0mprint\u001b[0m\u001b[1;33m(\u001b[0m\u001b[0mb\u001b[0m\u001b[1;33m[\u001b[0m\u001b[1;36m0\u001b[0m\u001b[1;33m]\u001b[0m\u001b[1;33m)\u001b[0m\u001b[1;33m\u001b[0m\u001b[1;33m\u001b[0m\u001b[0m\n\u001b[1;32m---> 13\u001b[1;33m \u001b[0mprint\u001b[0m\u001b[1;33m(\u001b[0m\u001b[0mb\u001b[0m\u001b[1;33m[\u001b[0m\u001b[1;36m2\u001b[0m\u001b[1;33m]\u001b[0m\u001b[1;33m)\u001b[0m\u001b[1;33m\u001b[0m\u001b[1;33m\u001b[0m\u001b[0m\n\u001b[0m",
      "\u001b[1;31mKeyError\u001b[0m: 2"
     ]
    }
   ],
   "source": [
    "a = {'korea':'seoul', \n",
    "     'canada':'ottaw', \n",
    "     'usa':'washington dc'}\n",
    "b={0:1,\n",
    "   1:6,\n",
    "   7:9,\n",
    "   9:10}\n",
    "#순서는 없음\n",
    "print(a)\n",
    "print(type(a))\n",
    "print(a['korea'])\n",
    "print(b[0])\n",
    "print(b[2])"
   ]
  },
  {
   "cell_type": "markdown",
   "metadata": {},
   "source": [
    "- 항목 추가 및 변경\n",
    "    - 기존에 키가 존재하면, 새로운 값으로 업데이트\n",
    "    - 존재하지 않으면, 새로운 키, 값 생성\n",
    "    "
   ]
  },
  {
   "cell_type": "code",
   "execution_count": 171,
   "metadata": {},
   "outputs": [
    {
     "name": "stdout",
     "output_type": "stream",
     "text": [
      "{'korea': 'seoul', 'canada': 'ottaw', 'usa': 'washington dc', 'japan': 'kyoto', 'japan2': 'kyoto', 'china': 'beijing'}\n"
     ]
    }
   ],
   "source": [
    "a = {'korea':'seoul', \n",
    "     'canada':'ottaw', \n",
    "     'usa':'washington dc'}\n",
    "a['japan']= 'tokyo'\n",
    "a['japan']= 'kyoto'\n",
    "a['japan2']= 'kyoto'\n",
    "a['china']= 'beijing'\n",
    "print(a)"
   ]
  },
  {
   "cell_type": "markdown",
   "metadata": {},
   "source": [
    "- update(\n",
    "    -두 딕셔너리를 병합함\n",
    "    - 겹치는 키가 있다면 parameter로 전달되는 키 값이 overwrite된다\n",
    "    "
   ]
  },
  {
   "cell_type": "code",
   "execution_count": 172,
   "metadata": {},
   "outputs": [
    {
     "name": "stdout",
     "output_type": "stream",
     "text": [
      "{'a': 4, 'b': 2, 'c': 3, 'd': 3}\n"
     ]
    }
   ],
   "source": [
    "a ={'a':1, 'b': 2, 'c':3}\n",
    "b = {'a':4, 'd':3}\n",
    "a.update(b)\n",
    "print(a)"
   ]
  },
  {
   "cell_type": "markdown",
   "metadata": {},
   "source": [
    "- key 삭제\n",
    "    - del 키워드 사용\n",
    "    - pop 함수 사용"
   ]
  },
  {
   "cell_type": "code",
   "execution_count": 176,
   "metadata": {},
   "outputs": [
    {
     "name": "stdout",
     "output_type": "stream",
     "text": [
      "{'a': 1, 'b': 2, 'c': 3}\n",
      "{'a': 1, 'c': 3}\n"
     ]
    }
   ],
   "source": [
    "a ={'a':1, 'b': 2, 'c':3}\n",
    "print(a)\n",
    "\n",
    "#a.pop('b')\n",
    "del a['b']\n",
    "print(a)"
   ]
  },
  {
   "cell_type": "markdown",
   "metadata": {},
   "source": [
    "- clear()\n",
    "    - 딕셔너리의 모든 값을 초기화"
   ]
  },
  {
   "cell_type": "code",
   "execution_count": 178,
   "metadata": {},
   "outputs": [
    {
     "name": "stdout",
     "output_type": "stream",
     "text": [
      "{'a': 1, 'c': 3}\n",
      "{}\n"
     ]
    }
   ],
   "source": [
    "print(a)\n",
    "a.clear()\n",
    "print(a)"
   ]
  },
  {
   "cell_type": "markdown",
   "metadata": {},
   "source": [
    "- **in**\n",
    "    - key값 존재 확인\n",
    "    - O(1)의 연산 - 딕셔너리의 크기와 관계없이 항상 연산의 속도가 일정"
   ]
  },
  {
   "cell_type": "code",
   "execution_count": 192,
   "metadata": {},
   "outputs": [
    {
     "name": "stdout",
     "output_type": "stream",
     "text": [
      "True\n",
      "True\n"
     ]
    }
   ],
   "source": [
    "a ={'a':1, 'b': 2, 'c':3}\n",
    "b = [1,2,3,4,5,6,7,8,9,100]\n",
    "# 리스트의 in은 크기에 비례해서 커진다 O(n)\n",
    "print('b' in a)\n",
    "print(100 in b)\n"
   ]
  },
  {
   "cell_type": "markdown",
   "metadata": {},
   "source": [
    "- value access\n",
    "    - dict[key]로 접근, 키가 없는 경우 에러 발생\n",
    "    - .get()함수로 접근, 키가 없는 경우 None반환"
   ]
  },
  {
   "cell_type": "code",
   "execution_count": 193,
   "metadata": {},
   "outputs": [
    {
     "name": "stdout",
     "output_type": "stream",
     "text": [
      "None\n"
     ]
    }
   ],
   "source": [
    "print(a.get('d'))\n",
    "# print(a['d']) 에러난다\n"
   ]
  },
  {
   "cell_type": "markdown",
   "metadata": {},
   "source": [
    "## 모든 keys, values 접근\n",
    "    - keys() - 키만 반환\n",
    "    - values() - 값만 반환\n",
    "    - items() - 키, 값의 튜플을 반환"
   ]
  },
  {
   "cell_type": "code",
   "execution_count": 210,
   "metadata": {},
   "outputs": [
    {
     "name": "stdout",
     "output_type": "stream",
     "text": [
      "{'a': 1, 'b': 2, 'c': 3}\n",
      "['a', 'b', 'c']\n",
      "[1, 2, 3]\n",
      "[('a', 1), ('b', 2), ('c', 3)]\n"
     ]
    }
   ],
   "source": [
    "print(a)\n",
    "\n",
    "print(list(a.keys()))\n",
    "print(list(a.values()))\n",
    "\n",
    "print(list(a.items()))"
   ]
  },
  {
   "cell_type": "markdown",
   "metadata": {},
   "source": [
    "## set\n",
    "    - dictionary에서 key만 활용하는 데이터 구조로 이해\n",
    "    - 수확에서의 집합과 동일한 개념"
   ]
  },
  {
   "cell_type": "code",
   "execution_count": 213,
   "metadata": {},
   "outputs": [
    {
     "name": "stdout",
     "output_type": "stream",
     "text": [
      "{1, 2, 3, 4, 5}\n"
     ]
    }
   ],
   "source": [
    "a = {1,1,2,3,3,4,1,5}\n",
    "print(a)\n",
    "# set은 순서가 없다\n",
    "#print(a[1])"
   ]
  },
  {
   "cell_type": "markdown",
   "metadata": {},
   "source": [
    "- set()으로 집합으로 변환"
   ]
  },
  {
   "cell_type": "code",
   "execution_count": 221,
   "metadata": {},
   "outputs": [
    {
     "name": "stdout",
     "output_type": "stream",
     "text": [
      "<class 'set'>\n",
      "<class 'dict'>\n"
     ]
    }
   ],
   "source": [
    "# set으로 초기화 방법\n",
    "a = set()\n",
    "b={}\n",
    "print(type(a))\n",
    "print(type(b))"
   ]
  },
  {
   "cell_type": "code",
   "execution_count": 222,
   "metadata": {},
   "outputs": [
    {
     "name": "stdout",
     "output_type": "stream",
     "text": [
      "[1, 1, 2, 3, 3, 4, 1, 5]\n",
      "{1, 2, 3, 4, 5}\n"
     ]
    }
   ],
   "source": [
    "a = [1,1,2,3,3,4,1,5]\n",
    "print(a)\n",
    "b = set(a)\n",
    "print(b)"
   ]
  },
  {
   "cell_type": "markdown",
   "metadata": {},
   "source": [
    "- set operations\n",
    "    - 수학 연산과 동일\n",
    "    - 교집합, 합집합, 차집합 등 지원"
   ]
  },
  {
   "cell_type": "code",
   "execution_count": 226,
   "metadata": {
    "scrolled": true
   },
   "outputs": [
    {
     "name": "stdout",
     "output_type": "stream",
     "text": [
      "{1, 2, 3, 4}\n",
      "{2, 3}\n",
      "{1}\n",
      "False\n"
     ]
    }
   ],
   "source": [
    "a ={1,2,3}\n",
    "b= {2,3,4}\n",
    "\n",
    "print(a.union(b)) # 합집합\n",
    "print(a.intersection(b)) # 교집합\n",
    "print(a.difference(b)) # 차집합\n",
    "print(a.issubset(b)) # 부분집합"
   ]
  },
  {
   "cell_type": "markdown",
   "metadata": {},
   "source": [
    "### condition (조건문)"
   ]
  },
  {
   "cell_type": "code",
   "execution_count": 4,
   "metadata": {},
   "outputs": [
    {
     "name": "stdout",
     "output_type": "stream",
     "text": [
      "hello it is true\n",
      "this sentence always shows\n"
     ]
    }
   ],
   "source": [
    "if 6>=5:\n",
    "    print('hello it is true')\n",
    "print('this sentence always shows')\n",
    "\n"
   ]
  },
  {
   "cell_type": "code",
   "execution_count": 31,
   "metadata": {},
   "outputs": [
    {
     "name": "stdout",
     "output_type": "stream",
     "text": [
      "it is true\n",
      "it is true\n"
     ]
    }
   ],
   "source": [
    "a = 10\n",
    "b = 9\n",
    "c = 4\n",
    "\n",
    "if a==1 or b==9:\n",
    "    print('it is true')\n",
    "if(a==1 and b==2) or c==4:\n",
    "    print('it is true')\n"
   ]
  },
  {
   "cell_type": "code",
   "execution_count": 32,
   "metadata": {},
   "outputs": [
    {
     "name": "stdout",
     "output_type": "stream",
     "text": [
      "even 10\n"
     ]
    }
   ],
   "source": [
    "a= 10\n",
    "if(a%2==0):\n",
    "    print('even',a)\n",
    "else:\n",
    "    print('odd')"
   ]
  },
  {
   "cell_type": "code",
   "execution_count": 6,
   "metadata": {},
   "outputs": [
    {
     "name": "stdout",
     "output_type": "stream",
     "text": [
      "6\n",
      "7\n",
      "while loop is ez\n"
     ]
    }
   ],
   "source": [
    "a = [1,2,3,5,1,3,6,3,7]\n",
    "i = 0\n",
    "while i<len(a):\n",
    "    if a[i]>=6:\n",
    "        print(a[i])\n",
    "    i+=1\n",
    "print('while loop is ez')"
   ]
  },
  {
   "cell_type": "code",
   "execution_count": 10,
   "metadata": {},
   "outputs": [
    {
     "name": "stdout",
     "output_type": "stream",
     "text": [
      "2\n",
      "6\n"
     ]
    }
   ],
   "source": [
    "a = [1,2,3,5,1,3,6,3,7]\n",
    "i=0\n",
    "while i<len(a):\n",
    "    if(a[i]%2==0):\n",
    "        print(a[i])\n",
    "    i+=1"
   ]
  },
  {
   "cell_type": "code",
   "execution_count": 12,
   "metadata": {
    "scrolled": true
   },
   "outputs": [
    {
     "name": "stdout",
     "output_type": "stream",
     "text": [
      "hoho\n",
      "hoho\n",
      "hoho\n",
      "hoho\n",
      "hoho\n",
      "hoho\n",
      "hoho\n",
      "hoho\n"
     ]
    }
   ],
   "source": [
    "i=0;\n",
    "while(True):\n",
    "    if(i==8):\n",
    "        break\n",
    "    print('hoho')\n",
    "    i+=1\n",
    "    "
   ]
  },
  {
   "cell_type": "code",
   "execution_count": 14,
   "metadata": {},
   "outputs": [
    {
     "name": "stdout",
     "output_type": "stream",
     "text": [
      "5050\n"
     ]
    }
   ],
   "source": [
    "# 1 부터 100까지 더하기\n",
    "i = 1\n",
    "num=0\n",
    "while i<=100:\n",
    "    num +=i\n",
    "    i+=1\n",
    "print(num)\n",
    "    "
   ]
  },
  {
   "cell_type": "code",
   "execution_count": 15,
   "metadata": {},
   "outputs": [
    {
     "name": "stdout",
     "output_type": "stream",
     "text": [
      "1 2\n",
      "2 4\n",
      "3 6\n",
      "4 8\n",
      "5 10\n",
      "6 12\n"
     ]
    }
   ],
   "source": [
    "a = [1,2,3,4,5,6]\n",
    "\n",
    "for x in a:\n",
    "    print(x, x*2)\n"
   ]
  },
  {
   "cell_type": "code",
   "execution_count": 16,
   "metadata": {},
   "outputs": [
    {
     "name": "stdout",
     "output_type": "stream",
     "text": [
      " \n",
      "o\n",
      "h\n",
      " \n",
      "m\n",
      "y\n",
      " \n",
      "g\n",
      "o\n",
      "d\n"
     ]
    }
   ],
   "source": [
    "a =' oh my god'\n",
    "for x in a:\n",
    "    print(x)"
   ]
  },
  {
   "cell_type": "markdown",
   "metadata": {},
   "source": [
    "### dict의 아이템 출력하기\n",
    "- dictionary의 경우 기본적으로 순회하게 되면 key값을 참조\n",
    "- keys()함수를 이용하여 key 값만 순회 가능\n",
    "- values()함수를 이용하여 value 값만 순회 가능\n",
    "- items() 함수를 이용하여 tuple형태로 key, value 순회 가능"
   ]
  },
  {
   "cell_type": "code",
   "execution_count": 11,
   "metadata": {},
   "outputs": [
    {
     "name": "stdout",
     "output_type": "stream",
     "text": [
      "korea\n",
      "japan\n",
      "america\n",
      "seoul\n",
      "tokyo\n",
      "washington dc\n",
      "korea seoul\n",
      "japan tokyo\n",
      "america washington dc\n"
     ]
    }
   ],
   "source": [
    "a = {'korea':'seoul', 'japan':'tokyo', 'america':'washington dc'}\n",
    "# 일반적으로는 key 만 순회한다\n",
    "for key in a:\n",
    "    print(key)\n",
    "for value in a.values():\n",
    "    print(value)\n",
    "# tuple인 경우 , 로 접근 가능\n",
    "for a,b in a.items():\n",
    "    print(a,b)"
   ]
  },
  {
   "cell_type": "markdown",
   "metadata": {},
   "source": [
    "## for에서 index 사용하기\n",
    "    - 기본적으로 for에서 리스트를 순회하는 경우, 값만 추출함\n",
    "    - 아래와 같은 코드로 인덱스와 값 모두 사용 가능(enumerate 함수 사용)\n"
   ]
  },
  {
   "cell_type": "code",
   "execution_count": 12,
   "metadata": {},
   "outputs": [
    {
     "name": "stdout",
     "output_type": "stream",
     "text": [
      "0 1\n",
      "1 2\n",
      "2 3\n",
      "3 4\n",
      "4 5\n",
      "5 6\n"
     ]
    }
   ],
   "source": [
    "a = [1,2,3,4,5,6]\n",
    "for i, val in enumerate(a):\n",
    "    print(i,val)"
   ]
  },
  {
   "cell_type": "markdown",
   "metadata": {},
   "source": [
    "### 구구단 출력하기"
   ]
  },
  {
   "cell_type": "code",
   "execution_count": 19,
   "metadata": {},
   "outputs": [
    {
     "name": "stdout",
     "output_type": "stream",
     "text": [
      "1 * 1 = 1\n",
      "1 * 2 = 2\n",
      "1 * 3 = 3\n",
      "1 * 4 = 4\n",
      "1 * 5 = 5\n",
      "1 * 6 = 6\n",
      "1 * 7 = 7\n",
      "1 * 8 = 8\n",
      "1 * 9 = 9\n",
      "  *****\n",
      "2 * 1 = 2\n",
      "2 * 2 = 4\n",
      "2 * 3 = 6\n",
      "2 * 4 = 8\n",
      "2 * 5 = 10\n",
      "2 * 6 = 12\n",
      "2 * 7 = 14\n",
      "2 * 8 = 16\n",
      "2 * 9 = 18\n",
      "  *****\n",
      "3 * 1 = 3\n",
      "3 * 2 = 6\n",
      "3 * 3 = 9\n",
      "3 * 4 = 12\n",
      "3 * 5 = 15\n",
      "3 * 6 = 18\n",
      "3 * 7 = 21\n",
      "3 * 8 = 24\n",
      "3 * 9 = 27\n",
      "  *****\n",
      "4 * 1 = 4\n",
      "4 * 2 = 8\n",
      "4 * 3 = 12\n",
      "4 * 4 = 16\n",
      "4 * 5 = 20\n",
      "4 * 6 = 24\n",
      "4 * 7 = 28\n",
      "4 * 8 = 32\n",
      "4 * 9 = 36\n",
      "  *****\n",
      "5 * 1 = 5\n",
      "5 * 2 = 10\n",
      "5 * 3 = 15\n",
      "5 * 4 = 20\n",
      "5 * 5 = 25\n",
      "5 * 6 = 30\n",
      "5 * 7 = 35\n",
      "5 * 8 = 40\n",
      "5 * 9 = 45\n",
      "  *****\n",
      "6 * 1 = 6\n",
      "6 * 2 = 12\n",
      "6 * 3 = 18\n",
      "6 * 4 = 24\n",
      "6 * 5 = 30\n",
      "6 * 6 = 36\n",
      "6 * 7 = 42\n",
      "6 * 8 = 48\n",
      "6 * 9 = 54\n",
      "  *****\n",
      "7 * 1 = 7\n",
      "7 * 2 = 14\n",
      "7 * 3 = 21\n",
      "7 * 4 = 28\n",
      "7 * 5 = 35\n",
      "7 * 6 = 42\n",
      "7 * 7 = 49\n",
      "7 * 8 = 56\n",
      "7 * 9 = 63\n",
      "  *****\n",
      "8 * 1 = 8\n",
      "8 * 2 = 16\n",
      "8 * 3 = 24\n",
      "8 * 4 = 32\n",
      "8 * 5 = 40\n",
      "8 * 6 = 48\n",
      "8 * 7 = 56\n",
      "8 * 8 = 64\n",
      "8 * 9 = 72\n",
      "  *****\n",
      "9 * 1 = 9\n",
      "9 * 2 = 18\n",
      "9 * 3 = 27\n",
      "9 * 4 = 36\n",
      "9 * 5 = 45\n",
      "9 * 6 = 54\n",
      "9 * 7 = 63\n",
      "9 * 8 = 72\n",
      "9 * 9 = 81\n",
      "  *****\n"
     ]
    }
   ],
   "source": [
    "a = [1,2,3,4,5,6,7,8,9]\n",
    "for num in a:\n",
    "    for i in a:\n",
    "        print(num,'*',i,'=',num*i)\n",
    "    print('  *****')"
   ]
  },
  {
   "cell_type": "markdown",
   "metadata": {},
   "source": [
    "### collection의 길이\n",
    "- len() 내장 함수로 계산 가능\n",
    "- 내장함수란 파이썬 내부에 구현되어 있어서, import하지 않고도 사용 가능한 함수를 의미\n",
    "- abs, len, type, range **등등**\n",
    "\n"
   ]
  },
  {
   "cell_type": "code",
   "execution_count": 26,
   "metadata": {},
   "outputs": [
    {
     "name": "stdout",
     "output_type": "stream",
     "text": [
      "[1, 3, 5, 7, 9]\n",
      "1\n",
      "4\n",
      "7\n"
     ]
    }
   ],
   "source": [
    "print(list(range(1,10,2)))\n",
    "for i in range(1,10,3):\n",
    "    print(i)"
   ]
  },
  {
   "cell_type": "markdown",
   "metadata": {},
   "source": [
    "## if & for 연습문제\n",
    "- 구구단 2-9단 까지 출력\n",
    "- 1 - 100까지 정수 중 2의 배수 또는 11의 배수를 모두 출력\n",
    "- a =[22,1,3,4,7,98,21,55,87,99,19,20,45]에서 최대값과 최소값을 찾으시오\n",
    "- a =[22,1,3,4,7,98,21,55,87,99,19,20,45]에서 평균을 구하시오"
   ]
  },
  {
   "cell_type": "code",
   "execution_count": 27,
   "metadata": {},
   "outputs": [
    {
     "name": "stdout",
     "output_type": "stream",
     "text": [
      "2 * 1 = 2\n",
      "2 * 2 = 4\n",
      "2 * 3 = 6\n",
      "2 * 4 = 8\n",
      "2 * 5 = 10\n",
      "2 * 6 = 12\n",
      "2 * 7 = 14\n",
      "2 * 8 = 16\n",
      "2 * 9 = 18\n",
      "***********\n",
      "3 * 1 = 3\n",
      "3 * 2 = 6\n",
      "3 * 3 = 9\n",
      "3 * 4 = 12\n",
      "3 * 5 = 15\n",
      "3 * 6 = 18\n",
      "3 * 7 = 21\n",
      "3 * 8 = 24\n",
      "3 * 9 = 27\n",
      "***********\n",
      "4 * 1 = 4\n",
      "4 * 2 = 8\n",
      "4 * 3 = 12\n",
      "4 * 4 = 16\n",
      "4 * 5 = 20\n",
      "4 * 6 = 24\n",
      "4 * 7 = 28\n",
      "4 * 8 = 32\n",
      "4 * 9 = 36\n",
      "***********\n",
      "5 * 1 = 5\n",
      "5 * 2 = 10\n",
      "5 * 3 = 15\n",
      "5 * 4 = 20\n",
      "5 * 5 = 25\n",
      "5 * 6 = 30\n",
      "5 * 7 = 35\n",
      "5 * 8 = 40\n",
      "5 * 9 = 45\n",
      "***********\n",
      "6 * 1 = 6\n",
      "6 * 2 = 12\n",
      "6 * 3 = 18\n",
      "6 * 4 = 24\n",
      "6 * 5 = 30\n",
      "6 * 6 = 36\n",
      "6 * 7 = 42\n",
      "6 * 8 = 48\n",
      "6 * 9 = 54\n",
      "***********\n",
      "7 * 1 = 7\n",
      "7 * 2 = 14\n",
      "7 * 3 = 21\n",
      "7 * 4 = 28\n",
      "7 * 5 = 35\n",
      "7 * 6 = 42\n",
      "7 * 7 = 49\n",
      "7 * 8 = 56\n",
      "7 * 9 = 63\n",
      "***********\n",
      "8 * 1 = 8\n",
      "8 * 2 = 16\n",
      "8 * 3 = 24\n",
      "8 * 4 = 32\n",
      "8 * 5 = 40\n",
      "8 * 6 = 48\n",
      "8 * 7 = 56\n",
      "8 * 8 = 64\n",
      "8 * 9 = 72\n",
      "***********\n",
      "9 * 1 = 9\n",
      "9 * 2 = 18\n",
      "9 * 3 = 27\n",
      "9 * 4 = 36\n",
      "9 * 5 = 45\n",
      "9 * 6 = 54\n",
      "9 * 7 = 63\n",
      "9 * 8 = 72\n",
      "9 * 9 = 81\n",
      "***********\n"
     ]
    }
   ],
   "source": [
    "for i in range(2,10):\n",
    "    for j in range(1,10):\n",
    "        print(i,'*',j,'=',i*j)\n",
    "    print('***********')"
   ]
  },
  {
   "cell_type": "code",
   "execution_count": 31,
   "metadata": {},
   "outputs": [
    {
     "name": "stdout",
     "output_type": "stream",
     "text": [
      "[2, 4, 6, 8, 10, 11, 12, 14, 16, 18, 20, 22, 24, 26, 28, 30, 32, 33, 34, 36, 38, 40, 42, 44, 46, 48, 50, 52, 54, 55, 56, 58, 60, 62, 64, 66, 68, 70, 72, 74, 76, 77, 78, 80, 82, 84, 86, 88, 90, 92, 94, 96, 98, 99, 100]\n"
     ]
    }
   ],
   "source": [
    "list =[]\n",
    "for i in range(1,101):\n",
    "    if(i %2 ==0 or i%11==0):\n",
    "        list.append(i)\n",
    "print(list)"
   ]
  },
  {
   "cell_type": "code",
   "execution_count": 32,
   "metadata": {},
   "outputs": [
    {
     "name": "stdout",
     "output_type": "stream",
     "text": [
      "1 99\n"
     ]
    }
   ],
   "source": [
    "a =[22,1,3,4,7,98,21,55,87,99,19,20,45]\n",
    "big= a[0]\n",
    "small = a[0]\n",
    "for x in a:\n",
    "    if x > big:\n",
    "        big =x\n",
    "    if x < small:\n",
    "        small = x\n",
    "print(small, big)\n",
    "    "
   ]
  },
  {
   "cell_type": "code",
   "execution_count": 36,
   "metadata": {},
   "outputs": [
    {
     "name": "stdout",
     "output_type": "stream",
     "text": [
      "37.0\n"
     ]
    }
   ],
   "source": [
    "a =[22,1,3,4,7,98,21,55,87,99,19,20,45]\n",
    "avg=0\n",
    "for x in a:\n",
    "    avg+=x\n",
    "avg/=len(a)\n",
    "print(avg)"
   ]
  },
  {
   "cell_type": "markdown",
   "metadata": {},
   "source": [
    "## 함수?\n"
   ]
  },
  {
   "cell_type": "code",
   "execution_count": 3,
   "metadata": {},
   "outputs": [
    {
     "name": "stdout",
     "output_type": "stream",
     "text": [
      "8\n",
      "36\n"
     ]
    }
   ],
   "source": [
    "# 내장 함수 예\n",
    "a = [1,2,3,4,5,6,7,8]\n",
    "print(len(a))\n",
    "print(sum(a))"
   ]
  },
  {
   "cell_type": "code",
   "execution_count": 20,
   "metadata": {},
   "outputs": [
    {
     "name": "stdout",
     "output_type": "stream",
     "text": [
      "hello world\n",
      "10\n"
     ]
    }
   ],
   "source": [
    "def add(x,y):\n",
    "    return x+y\n",
    "     \n",
    "print(add('hello',' world'))\n",
    "print(add(3,7))"
   ]
  },
  {
   "cell_type": "markdown",
   "metadata": {},
   "source": [
    "## default parameter(기본인자)\n",
    "\n",
    "   - 함수의 파라미터에 기본값 지정 가능\n",
    "   - 파라미터를 명시하지 않을 경우, 지정된 값으로 대체"
   ]
  },
  {
   "cell_type": "code",
   "execution_count": 21,
   "metadata": {},
   "outputs": [
    {
     "name": "stdout",
     "output_type": "stream",
     "text": [
      "1\n",
      "2\n",
      "3\n",
      "4\n",
      "2\n"
     ]
    }
   ],
   "source": [
    "#t=2는 default\n",
    "def printList(x, t=2):\n",
    "    for i in x:\n",
    "        print(i)\n",
    "    print(t)\n",
    "\n",
    "printList([1,2,3,4])"
   ]
  },
  {
   "cell_type": "markdown",
   "metadata": {},
   "source": [
    "- 기본 파라미너터의 다른 예\n",
    "    - print 함수\n",
    "        - sep, end, file 등"
   ]
  },
  {
   "cell_type": "code",
   "execution_count": 25,
   "metadata": {},
   "outputs": [
    {
     "name": "stdout",
     "output_type": "stream",
     "text": [
      "1!2!3$$$"
     ]
    }
   ],
   "source": [
    "print(1,2,3,sep='!',end='$$$')"
   ]
  },
  {
   "cell_type": "markdown",
   "metadata": {},
   "source": [
    "## default parameter 사용시 주의 점\n",
    "\n",
    "   - 디폴트 파라미터 뒤에 일반 파라미터가 위치할 수 없음\n",
    "   - e.g)올바른 예\n",
    "    > def test(a,b,c=1)\n",
    "    \n",
    "    > def test(a,b=1,c=2)\n",
    "    \n",
    "    > def test(a=1, b=1, c=1)\n",
    "   - e.g)올바르지 않은 예\n",
    "   > def test(a,b=1,c)\n",
    "   \n",
    "   > def test(a=1, b,c)"
   ]
  },
  {
   "cell_type": "code",
   "execution_count": 26,
   "metadata": {},
   "outputs": [
    {
     "ename": "SyntaxError",
     "evalue": "non-default argument follows default argument (<ipython-input-26-8968d498a590>, line 1)",
     "output_type": "error",
     "traceback": [
      "\u001b[1;36m  File \u001b[1;32m\"<ipython-input-26-8968d498a590>\"\u001b[1;36m, line \u001b[1;32m1\u001b[0m\n\u001b[1;33m    def test(a=1, b,c):\u001b[0m\n\u001b[1;37m            ^\u001b[0m\n\u001b[1;31mSyntaxError\u001b[0m\u001b[1;31m:\u001b[0m non-default argument follows default argument\n"
     ]
    }
   ],
   "source": [
    "def test(a=1, b,c):\n",
    "    return a+b+c\n",
    "print(test(1,2,3))"
   ]
  },
  {
   "cell_type": "markdown",
   "metadata": {},
   "source": [
    "## keyword parameter (키워드 파라미터)\n",
    "   - 파이썬의 경우, 파라미터에 값을 전달할 떄, 파라미터의 이름을 명시하여 전달 가능\n",
    "   - 파라미터 이름을 사용하지 않을 경우, 기본적으로 순서에 맞게 전달"
   ]
  },
  {
   "cell_type": "code",
   "execution_count": 55,
   "metadata": {},
   "outputs": [
    {
     "name": "stdout",
     "output_type": "stream",
     "text": [
      "1 10 12\n",
      "1 2 3\n",
      "1 2 5\n"
     ]
    }
   ],
   "source": [
    " def test(x,y,z):\n",
    "    print(x,y,z)\n",
    "\n",
    "test(x=1,y=10,z=12)\n",
    "test(x=1,z=3,y=2)\n",
    "test(1,2,z=5) # 이거는 가능\n",
    "# test(x=1,2,3) 이거는 에러"
   ]
  },
  {
   "cell_type": "markdown",
   "metadata": {},
   "source": [
    "### retrun\n",
    "    - 기본적으로 함수의 종료를 명시\n",
    "        - return 옆에 값이나 수식이 있다면 해당 값을 호출자(caller)에게 반환\n",
    "        - return만 존재하면 None반환\n",
    "        - return이 없는 경우, 기본적으로 함수 코드 블록이 종료되면 종료로 간주, 이때도 None 반환"
   ]
  },
  {
   "cell_type": "code",
   "execution_count": 43,
   "metadata": {},
   "outputs": [
    {
     "name": "stdout",
     "output_type": "stream",
     "text": [
      "22\n",
      "None\n",
      "8\n"
     ]
    }
   ],
   "source": [
    "def weirdMultiply(x,y):\n",
    "    if x>10:\n",
    "        return x*y\n",
    "    elif x>6:\n",
    "        return\n",
    "    return (x+1)*y\n",
    "\n",
    "print(weirdMultiply(11,2))\n",
    "print(weirdMultiply(9,2))\n",
    "print(weirdMultiply(3,2))"
   ]
  },
  {
   "cell_type": "markdown",
   "metadata": {},
   "source": [
    "### multiple return(복수 값 반환)\n",
    "   - tuple 반환을 하여 복수개의 값 리턴 가능"
   ]
  },
  {
   "cell_type": "code",
   "execution_count": 46,
   "metadata": {},
   "outputs": [
    {
     "name": "stdout",
     "output_type": "stream",
     "text": [
      "<class 'tuple'>\n",
      "(1, 2, 3)\n"
     ]
    }
   ],
   "source": [
    "def add(x,y,z):\n",
    "    if x>10:\n",
    "        return x+y+z\n",
    "    else:\n",
    "        return x,y,z\n",
    "\n",
    "num = add(1,2,3)\n",
    "print(type(num))\n",
    "print(num)"
   ]
  },
  {
   "cell_type": "markdown",
   "metadata": {},
   "source": [
    "### variable scope(변수의 범위)\n",
    "\n",
    "   - 변수가 참조 가능한 코드상의 범위를 명시\n",
    "   - 함수내의 변수는 자신이 속한 코드 블록이 종료되면 소멸됨\n",
    "   - 이렇게 특정 코드 블록에서 선언된 변수를 **지역변수(local variable)**이라고 함\n",
    "   - 반대로 가장 상단에서 정의되어 프로그램 종료 전까지 유지되는 변수를 **전역(global variable)**이라고 함\n",
    "   - 같은 이름의 지역변수와 전역변수가 존재할 경우 지역변수의 우선순위가 더 높음"
   ]
  },
  {
   "cell_type": "code",
   "execution_count": 49,
   "metadata": {},
   "outputs": [
    {
     "name": "stdout",
     "output_type": "stream",
     "text": [
      "30 40\n",
      "10 20\n"
     ]
    }
   ],
   "source": [
    "n1 =10\n",
    "n2 =20\n",
    "\n",
    "def test(n1,n2):\n",
    "    print(n1,n2)\n",
    "\n",
    "test(30,40)\n",
    "print(n1,n2)"
   ]
  },
  {
   "cell_type": "markdown",
   "metadata": {},
   "source": [
    "## variable length argument (가변길이 인자)\n",
    "   - 전달되는 파라미터의 개수가 고정적이지 않은 경우 사용\n",
    "   - e.g)\n",
    "       - print함수\n",
    "       - format 함수\n",
    "       \n",
    "   > \\*args, \\**kwargs\n",
    "   \n",
    "   > \\*args : 파라미터를 tuple의 형태로 전달\n",
    "   \n",
    "   > \\**kwargs : 파라미터를 딕셔너리 형태로 전달(네임드 파라미터)"
   ]
  },
  {
   "cell_type": "code",
   "execution_count": 64,
   "metadata": {},
   "outputs": [
    {
     "name": "stdout",
     "output_type": "stream",
     "text": [
      "<class 'tuple'>\n",
      "<class 'tuple'>\n",
      "10\n",
      "<class 'tuple'>\n",
      "1\n",
      "2\n",
      "3\n"
     ]
    }
   ],
   "source": [
    "def test(*args): # arguments\n",
    "    print(type(args))\n",
    "    for i in args:\n",
    "        print(i)\n",
    "\n",
    "test()\n",
    "test(10)\n",
    "test(1,2,3)\n"
   ]
  },
  {
   "cell_type": "markdown",
   "metadata": {},
   "source": [
    "### keyword parameter (키워드 파라미터)\n",
    "   - \\**가 붙은 경우에는 키워드 파라미터로 인식\n",
    "   - 즉 함수 호출시, 파라미터의 이름과 값을 함께 전달 가능"
   ]
  },
  {
   "cell_type": "code",
   "execution_count": 68,
   "metadata": {},
   "outputs": [
    {
     "name": "stdout",
     "output_type": "stream",
     "text": [
      "<class 'dict'>\n",
      "key :  a , value :  1\n",
      "key :  b , value :  2\n",
      "key :  c , value :  3\n",
      "key :  d , value :  4\n",
      "key :  name , value :  bob\n"
     ]
    }
   ],
   "source": [
    "def test(**kwargs):\n",
    "    print(type(kwargs))\n",
    "    for key, value in kwargs.items():\n",
    "        print('key : ',key,', value : ',value)\n",
    "\n",
    "test(a=1,b=2,c=3,d=4,name = 'bob')\n"
   ]
  },
  {
   "cell_type": "markdown",
   "metadata": {},
   "source": [
    "- 가변길이 함수의 대표적인 예 **문자열 포맷 함수**\n",
    "    - 여러가지 값과 포맷을 이용하여 문자열을 정의할 수 있는 함수\n",
    "    - {} placeholder를 문자열 내에 위치 시킨 후, 해당 위치에 format함수로 전달된 값으로 대체하여 문자열 생성\n",
    "    - 포맷 구성은 다음 링크 참조 : https://pyformat.info/"
   ]
  },
  {
   "cell_type": "code",
   "execution_count": 69,
   "metadata": {},
   "outputs": [
    {
     "name": "stdout",
     "output_type": "stream",
     "text": [
      "오늘 온도 : 30도, 강수확률: 3%\n"
     ]
    }
   ],
   "source": [
    "a = '오늘 온도 : 30도, 강수확률: 3%'\n",
    "print(a)"
   ]
  },
  {
   "cell_type": "code",
   "execution_count": 72,
   "metadata": {},
   "outputs": [
    {
     "name": "stdout",
     "output_type": "stream",
     "text": [
      "오늘 온도 : 20도, 강수 확률 : 10%\n"
     ]
    }
   ],
   "source": [
    "temp =20\n",
    "prob =10\n",
    "a = '오늘 온도 : {}도, 강수 확률 : {}%'.format(temp, prob)\n",
    "print(a)"
   ]
  },
  {
   "cell_type": "code",
   "execution_count": 74,
   "metadata": {},
   "outputs": [
    {
     "name": "stdout",
     "output_type": "stream",
     "text": [
      "오늘 온도 : 20도, 강수 확률 : 10%\n"
     ]
    }
   ],
   "source": [
    "temp =20\n",
    "prob =10\n",
    "a = '오늘 온도 : {today_temp}도, 강수 확률 : {today_prob}%'.format(today_temp=temp, today_prob=prob)\n",
    "print(a)"
   ]
  },
  {
   "cell_type": "markdown",
   "metadata": {},
   "source": [
    "- Lambda 함수\n",
    "    - 단일문으로 표현되는 익명함수\n",
    "    - 익명함수란 이름이 없는 구현체만 존재하는 간단한 함수를 의미\n",
    "    - 코드 상에서 한번만 사용되는 기능이 있을 때, 굳이 함수로 만들지 않고 1회성으로 만들어서 쓸 때 사용."
   ]
  },
  {
   "cell_type": "code",
   "execution_count": 79,
   "metadata": {},
   "outputs": [
    {
     "name": "stdout",
     "output_type": "stream",
     "text": [
      "<class 'function'>\n",
      "25\n"
     ]
    }
   ],
   "source": [
    "square  = lambda x:x**2 # 입력과 출력만 리턴 x\n",
    "print(type(square))\n",
    "print(square(5))"
   ]
  },
  {
   "cell_type": "code",
   "execution_count": 81,
   "metadata": {},
   "outputs": [
    {
     "name": "stdout",
     "output_type": "stream",
     "text": [
      "30\n"
     ]
    }
   ],
   "source": [
    "add = lambda x,y : x+y\n",
    "print(add(10,20))"
   ]
  },
  {
   "cell_type": "code",
   "execution_count": 85,
   "metadata": {
    "scrolled": true
   },
   "outputs": [
    {
     "name": "stdout",
     "output_type": "stream",
     "text": [
      "['bob', 'alex', 'dobby', 'charles']\n"
     ]
    }
   ],
   "source": [
    "def str_len(s):\n",
    "    return len(s)\n",
    "\n",
    "strings = ['bob', 'charles', 'alex', 'dobby']\n",
    "#strings.sort(key=str_len)\n",
    "strings.sort(key=lambda s : len(s)) #람다 사용시\n",
    "print(strings)"
   ]
  },
  {
   "cell_type": "markdown",
   "metadata": {},
   "source": [
    "### filter, map, reduce\n",
    "   - lambda가 유용하게 사용되는 3가지 대표적 함수\n",
    "   - 함수형 프로그래밍의 기본 오소이기도 함\n",
    "   - filter: 특정 조건을 만족하는 요소만 남기고 필터링\n",
    "   - map: 각 원소를 주어진 수식에 따라 변형하여 새로운 리스트를 반환\n",
    "   - reduce: 차례대로 앞 2개의 원소를 가지고 연산, 연산의 결과가 또 다음 연산의 입력으로 진행됨, 따라서 마지막까지 진행되면 최종 출력은 한개의 값만 남게 됨"
   ]
  },
  {
   "cell_type": "code",
   "execution_count": 96,
   "metadata": {},
   "outputs": [
    {
     "name": "stdout",
     "output_type": "stream",
     "text": [
      "[2, 4, 6, 8, 10]\n",
      "[2, 4, 6, 8, 10]\n"
     ]
    }
   ],
   "source": [
    "# filter(함수, 리스트)\n",
    "# 리스트를 순회하면서 even 함수를 적용 true이면 필터링 할 리스트에 추가, false이면 뺀다\n",
    "def even(n):\n",
    "    if n %2 ==0:\n",
    "        return True\n",
    "    else:\n",
    "        return False\n",
    "\n",
    "nums=[1,2,3,4,5,6,7,8,9,10]\n",
    "print(list(filter(even,nums)))\n",
    "print(list(filter(lambda n:n%2==0,nums)))"
   ]
  },
  {
   "cell_type": "code",
   "execution_count": 102,
   "metadata": {},
   "outputs": [
    {
     "name": "stdout",
     "output_type": "stream",
     "text": [
      "[1, 4, 9, 16, 25, 36, 49, 64, 81, 100]\n",
      "[False, True, False, True, False, True, False, True, False, True]\n",
      "[False, True, False, True, False, True, False, True, False, True]\n"
     ]
    }
   ],
   "source": [
    "# map\n",
    "# 리스트의 개수 변하지 않고 새로운 리스트 생성\n",
    "# 주어진 리스트, 리스트의 제곱을한 숫자로 새로운 리스트\n",
    "\n",
    "nums=[1,2,3,4,5,6,7,8,9,10]\n",
    "print(list(map(lambda n:n**2,nums)))\n",
    "print(list(map(even,nums)))\n",
    "print(list(map(lambda n:n%2==0,nums)))"
   ]
  },
  {
   "cell_type": "code",
   "execution_count": 104,
   "metadata": {},
   "outputs": [
    {
     "data": {
      "text/plain": [
       "120"
      ]
     },
     "execution_count": 104,
     "metadata": {},
     "output_type": "execute_result"
    }
   ],
   "source": [
    "import functools\n",
    "#functools.reduce(함수,리스트)\n",
    "\n",
    "a=[1,3,5,8]\n",
    "# 첫번째 호출 1,3 -> y    a=[y,5,8]\n",
    "# 두번째 호출 y, 5 -> z   a=[z,8]\n",
    "# 세번째 호출 z, 8 -> x   a=[x]\n",
    "# 리스트 내의 모든 숫자의 합\n",
    "functools.reduce(lambda x,y:x+y,a)\n",
    "functools.reduce(lambda x,y:x*y,a)"
   ]
  },
  {
   "cell_type": "markdown",
   "metadata": {},
   "source": [
    "### 함수 연습문제\n",
    "   - 주어진 숫자 리스트의 평균을 구하는 함수를 출력하시오\n",
    "   - 해당 숫자가 소수인지 아닌지 판별하시오\n",
    "   - 2부터 해당 숫자사이에 소수에 몇개인지 출력하는 함수를 구하시오"
   ]
  },
  {
   "cell_type": "code",
   "execution_count": 111,
   "metadata": {},
   "outputs": [
    {
     "name": "stdout",
     "output_type": "stream",
     "text": [
      "5.5\n"
     ]
    }
   ],
   "source": [
    "def findAverage(x):\n",
    "    #avg=0\n",
    "    #for num in x:\n",
    "        #avg+=num\n",
    "    avg=sum(x)\n",
    "    return avg/len(x)\n",
    "\n",
    "a = [1,2,3,4,5,6,7,8,9,10]\n",
    "print(findAverage(a))"
   ]
  },
  {
   "cell_type": "code",
   "execution_count": 107,
   "metadata": {
    "scrolled": true
   },
   "outputs": [
    {
     "name": "stdout",
     "output_type": "stream",
     "text": [
      "False\n",
      "True\n"
     ]
    }
   ],
   "source": [
    "def isPrime(x):\n",
    "    for i in range (2,x):\n",
    "        if(x%i==0):\n",
    "            return False\n",
    "    return True\n",
    "\n",
    "print(isPrime(55))\n",
    "print(isPrime(67))"
   ]
  },
  {
   "cell_type": "code",
   "execution_count": 112,
   "metadata": {},
   "outputs": [
    {
     "name": "stdout",
     "output_type": "stream",
     "text": [
      "4\n",
      "25\n"
     ]
    }
   ],
   "source": [
    "def numberOfPrime(x):\n",
    "    count=0\n",
    "    for i in range(2,x+1):\n",
    "        if isPrime(i):\n",
    "            count+=1\n",
    "    return count\n",
    "\n",
    "print(numberOfPrime(10))\n",
    "print(numberOfPrime(100))"
   ]
  },
  {
   "cell_type": "markdown",
   "metadata": {},
   "source": [
    "## 모듈 import\n",
    "   - 그동안 사용했던 함수들 처럼, 다양한 기능들이 미리 함수로 구현되어 모듈 형태로 제공\n",
    "   - 대표적으로 추후 과정에서 사용하게 될 아래의 모듈들이 존재\n",
    "   - requests - HTTP 요청/응답 모듈\n",
    "   - numpy - 수치해석 모듈\n",
    "   - pandas - 데이터 분석 모듈\n",
    "  "
   ]
  },
  {
   "cell_type": "code",
   "execution_count": 117,
   "metadata": {},
   "outputs": [
    {
     "data": {
      "text/plain": [
       "'<!doctype html>\\n\\n\\n\\n\\n\\n\\n\\n\\n\\n\\n\\n\\n\\n\\n\\n\\n<html lang=\"ko\">\\n<head>\\n<meta charset=\"utf-8\">\\n<meta name=\"Referrer\" content=\"origin\">\\n<meta http-equiv=\"Content-Script-Type\" content=\"text/javascript\">\\n<meta http-equiv=\"Content-Style-Type\" content=\"text/css\">\\n<meta http-equiv=\"X-UA-Compatible\" content=\"IE=edge\">\\n<meta name=\"viewport\" content=\"width=1100\">\\n<meta name=\"apple-mobile-web-app-title\" content=\"NAVER\" />\\n<meta name=\"robots\" content=\"index,nofollow\"/>\\n<meta name=\"description\" content=\"네이버 메인에서 다양한 정보와 유용한 컨텐츠를 만나 보세요\"/>\\n<meta property=\"og:title\" content=\"네이버\">\\n<meta property=\"og:url\" content=\"https://www.naver.com/\">\\n<meta property=\"og:image\" content=\"https://s.pstatic.net/static/www/mobile/edit/2016/0705/mobile_212852414260.png\">\\n<meta property=\"og:description\" content=\"네이버 메인에서 다양한 정보와 유용한 컨텐츠를 만나 보세요\"/>\\n<meta name=\"twitter:card\" content=\"summary\">\\n<meta name=\"twitter:title\" content=\"\">\\n<meta name=\"twitter:url\" content=\"https://www.naver.com/\">\\n<meta name=\"twitter:image\" content=\"https://s.pstatic.net/static/www/mobile/edit/2016/0705/mobile_212852414260.png\">\\n<meta name=\"twitter:description\" content=\"네이버 메인에서 다양한 정보와 유용한 컨텐츠를 만나 보세요\"/>\\n\\n\\n<link rel=\"shortcut icon\" type=\"image/x-icon\" href=\"/favicon.ico?1\" />\\n\\n<link rel=\"stylesheet\" type=\"text/css\" href=\"https://pm.pstatic.net/css/main_v191226.css\"/> \\n<link rel=\"stylesheet\" type=\"text/css\" href=\"https://pm.pstatic.net/css/webfont_v170623.css\"/>\\n<link rel=\"stylesheet\" type=\"text/css\" href=\"https://ssl.pstatic.net/sstatic/search/pc/css/api_atcmp_190612.css\"/>\\n\\n\\n<script type=\"text/javascript\" src=\"https://pm.pstatic.net/js/c/nlog_v181107.js\"></script>\\n\\n<script type=\"text/javascript\" src=\"https://ssl.pstatic.net/tveta/libs/assets/js/common/min/probe.min.js\"></script>\\n<script type=\"text/javascript\">\\nvar nsc = \"navertop.v3\";\\ndocument.domain = \"naver.com\";\\nvar jindoAll = \"\";\\nvar iframeLazyLoad = false;\\nif (!!!window.console) {window.console={};window.console[\"log\"]=function(){}}\\nvar isLogin = false; \\nfunction refreshLcs(etc) {etc = etc ? etc : {};if(document.cookie.indexOf(\"nrefreshx=1\") != -1) {etc[\"mrf\"]=\"1\";} else {etc[\"pan\"]=\"mom\";}return etc;}\\n\\n</script>\\n<title>NAVER</title>\\n</head>\\n\\n\\n\\n\\n\\n\\n\\n\\n\\n\\n\\n\\n\\n\\n\\n\\n\\n\\n\\n<style>\\n\\t#_nx_kbd .setkorhelp a { display:none; }\\n</style>\\n<body class=\\'\\'>\\n\\t<!-- 스킵 내비게이션 -->\\n\\t<div class=\"u_skip\">\\n\\t\\t<a href=\"#news_cast\" onclick=\"document.getElementById(\\'news_cast2\\').tabIndex = -1;document.getElementById(\\'news_cast2\\').focus();return false;\"><span>연합뉴스 바로가기</span></a>\\n\\t\\t<a href=\"#themecast\" onclick=\"document.getElementById(\\'themecast\\').tabIndex = -1;document.getElementById(\\'themecast\\').focus();return false;\"><span>주제별캐스트 바로가기</span></a>\\n\\t\\t<a href=\"#time_square\" onclick=\"document.getElementById(\\'time_square\\').tabIndex = -1;document.getElementById(\\'time_square\\').focus();return false;\"><span>타임스퀘어 바로가기</span></a>\\n\\t\\t<a href=\"#shp_cst\" onclick=\"document.getElementById(\\'shp_cst\\').tabIndex = -1;document.getElementById(\\'shp_cst\\').focus();return false;\"><span>쇼핑캐스트 바로가기</span></a>\\n\\t\\t<a href=\"#account\" onclick=\"document.getElementById(\\'account\\').tabIndex = -1;document.getElementById(\\'account\\').focus();return false;\"><span>로그인 바로가기</span></a>\\n\\t</div>\\n\\t<!-- //스킵 내비게이션 -->\\n\\t\\n\\n\\n\\n\\n\\n\\n\\n\\n\\n\\n\\n\\n<!-- 크롬/웨일/엣지 -->\\n<div id=\"whale_promotion_banner\" class=\"banner_area type_chrome\" style=\"display: none;\">\\n\\t<div class=\"area_flex\">\\n\\t\\t<a href=\"https://whale.naver.com/ko?=main\" class=\"ba_link\" data-clk=\"top.dropbanner\" target=\"_blank\">\\n\\t\\t\\t<div class=\"ba_logo\"><span class=\"blind\">NAVER Whale</span></div>\\n\\t\\t\\t<span class=\"ico_whale\"></span>\\n\\t\\t\\t<div class=\"ba_tw\">\\n\\t\\t\\t\\t<p class=\"ba_t\"><em class=\"ba_em\">인터넷의 새로운 시작!</em> 네이버 웨일로 차원이 다른 웹서핑을 경험해보세요!</p>\\n\\t\\t\\t\\t<button id=\"whale_promotion_download\" type=\"button\" class=\"ba_btn_download\"><i class=\"ico_btn_download\"></i><span class=\"blind\">다운로드</span></button>\\n\\t\\t\\t\\t<button id=\"whale_promotion_close_btn\" type=\"button\" class=\"ba_btn_close\" data-cookie=\"PM_PROMO_whale\" data-clk=\"top.dropclose\"><i class=\"ico_btn_close\"></i><span class=\"blind\">닫기</span></button>\\n\\t\\t\\t</div>\\n\\t\\t</a>\\n\\t</div>\\n</div>\\n<a id=\"whale_promotion_download_file\" style=\"display: none\"\\n\\thref=\"http://update.whale.naver.net/downloads/installers/WhaleSetup.exe\" download></a>\\n\\n\\t<div id=\"PM_ID_ct\" class=\"wrap\" >\\n\\t\\t<!-- 헤더 -->\\n<div class=\"header\" role=\"banner\">\\n\\t\\n\\n\\n\\n\\n\\n\\n<div class=\"special_bg\">\\n<div class=\"area_flex\">\\n<div class=\"area_logo\">\\n<h1>\\n<a data-clk=\"top.logo\" href=\"/\"><span class=\"naver_logo\">네이버</span></a>\\n</h1>\\n</div>\\n<div class=\"area_links\">\\n<a data-clk=\"top.mkhome\" href=\"http://help.naver.com/support/alias/contents2/naverhome/naverhome_1.naver\" class=\"al_favorite\">네이버를 시작페이지로<span class=\"al_ico_link\"></span></a>\\n<span class=\"al_bar\"></span>\\n<a data-clk=\"top.jrnaver\" href=\"http://jr.naver.com\" class=\"al_jr\"><span class=\"blind\">쥬니어네이버</span><span class=\"al_ico\"></span></a>\\n<a data-clk=\"top.happybean\" href=\"http://happybean.naver.com/main/SectionMain.nhn\" class=\"al_happybean\"><span class=\"blind\">해피빈</span><span class=\"al_ico\"></span></a>\\n</div>\\n<div id=\"search\" class=\"search\">\\n<!--자동완성 입력창-->\\n\\n<form id=\"sform\" name=\"sform\" action=\"https://search.naver.com/search.naver\" method=\"get\">\\n\\n\\t<fieldset>\\n   \\t\\t<legend class=\"blind\">검색</legend>\\n        <input type=\"hidden\" id=\"sm\" name=\"sm\" value=\"top_hty\" />\\n        <input type=\"hidden\" id=\"fbm\" name=\"fbm\" value=\"0\" />\\n        <input type=\"hidden\" id=\"acr\" name=\"acr\" value=\"\" disabled=\"disabled\" />\\n        <input type=\"hidden\" id=\"acq\" name=\"acq\" value=\"\" disabled=\"disabled\" />\\n        <input type=\"hidden\" id=\"qdt\" name=\"qdt\" value=\"\" disabled=\"disabled\" />\\n        <input type=\"hidden\" id=\"ie\" name=\"ie\" value=\"utf8\" />\\n        <input type=\"hidden\" id=\"acir\" name=\"acir\" value=\"\" disabled=\"disabled\" />\\n        <input type=\"hidden\" id=\"os\" name=\"os\" value=\"\" disabled=\"disabled\" />\\n        <input type=\"hidden\" id=\"bid\" name=\"bid\" value=\"\" disabled=\"disabled\" />\\n        <input type=\"hidden\" id=\"pkid\" name=\"pkid\" value=\"\" disabled=\"disabled\" />\\n        <input type=\"hidden\" id=\"eid\" name=\"eid\" value=\"\" disabled=\"disabled\" />\\n        <input type=\"hidden\" id=\"mra\" name=\"mra\" value=\"\" disabled=\"disabled\" />\\n        <span class=\"green_window\">\\n            <input id=\"query\" name=\"query\" type=\"text\" title=\"검색어 입력\" maxlength=\"255\" class=\"input_text\" tabindex=\"1\" accesskey=\"s\" style=\"ime-mode:active;\" autocomplete=\"off\" onclick=\"document.getElementById(\\'fbm\\').value=1;\" value=\"\" />\\n        </span>\\n        <div id=\"nautocomplete\" class=\"autocomplete\">\\n            <!-- 자동완성 열린 경우 fold 클래스 추가, 딤드인 경우 dim 추가 -->\\n            <a href=\"javascript:;\" role=\"button\" tabindex=\"2\" class=\"btn_arw _btn_arw fold\"><span class=\"blind _text\">자동완성 펼치기</span><span class=\"ico_arr\"></span></a>\\n        </div>\\n        <button id=\"search_btn\" type=\"submit\" title=\"검색\" tabindex=\"3\" class=\"sch_smit\" onmouseover=\"this.className=\\'sch_smit over\\'\" onmousedown=\"this.className=\\'sch_smit down\\'\" onmouseout=\"this.className=\\'sch_smit\\'\" onclick=\"clickcr(this,\\'sch.action\\',\\'\\',\\'\\',event);\"><span class=\"blind\">검색</span><span class=\"ico_search_submit\"></span></button>\\n    </fieldset>\\n</form>\\n<!--자동완성 입력창-->\\n<!--한글입력기 -->\\n<a href=\"javascript:;\" id=\"ke_kbd_btn\" role=\"button\" class=\"btn_keyboard\" onclick=\"nx_ime_load(this)\" data-clk=\"sch.ime\"><span class=\"blind\">한글 입력기</span><span class=\"ico_keyboard\"></span></a>\\n<style type=\"text/css\" id=\"_nx_kbd_style\"></style>\\n<div id=\"_nx_kbd\" style=\"display:none;\"></div>\\n<!--한글입력기 -->\\n<!--자동완성 레이어 -->\\n<div id=\"autoFrame\" class=\"reatcmp\" style=\"background-color:rgb(255, 255, 255);display:none;\">\\n    <div class=\"api_atcmp_wrap _atcmp\" style=\"display:none;\">\\n        <div class=\"words _words\">\\n            <div class=\"_atcmp_result_wrap\">\\n                <ul class=\"_resultBox\"></ul>\\n                <ul class=\"_resultBox\"></ul>\\n                <ul class=\"_resultBox\"></ul>\\n                <ul class=\"_resultBox\"></ul>\\n            </div>\\n            <!-- 우측 정답형 영역 -->\\n            <div class=\"add_group _atcmp_answer_wrap\"></div>\\n        </div>\\n        <!-- 컨텍스트 자동완성 플러스 -->\\n        <!-- [AU] _plus -->\\n        <div class=\"atcmp_plus _plus\">\\n            <span class=\"desc\">\\n                <span class=\"plus_txt _plusTxt\">시간대와 관심사에 맞춘 <em class=\\'txt\\'>컨텍스트 자동완성</em></span>\\n                <a onclick=\"__atcmpCR(event, this, \\'plus.help\\', \\'\\',\\'\\',\\'\\');\" href=\"https://help.naver.com/support/contents/contents.nhn?serviceNo=606&categoryNo=16658\" target=\"_blank\" class=\"spat ico_info _plusHelp\"><span class=\"blind\">도움말 보기</span></a>\\n            </span>\\n            <!-- [AU] _plus_btn -->\\n            <span class=\"switch _plus_btn\">\\n                <a href=\"#\" class=\"btn_turnon active\" onclick=\"__atcmpCR(event, this, \\'plus.use\\', \\'\\',\\'\\',\\'\\');\">ON<span class=\"blind\">선택됨</span></a>\\n                <a href=\"#\" class=\"btn_turnoff\" onclick=\"__atcmpCR(event, this, \\'plus.unuse\\', \\'\\',\\'\\',\\'\\');\">OFF</a>\\n            </span>\\n            <div class=\"layer_plus _plusAlert\">\\n                <strong class=\"tit\">컨텍스트 자동완성</strong>\\n                <div class=\"_logout\" style=\"display:block;\">\\n                    <p class=\"dsc\"><em class=\"txt\">동일한 시간대/연령/남녀별</em> 사용자 그룹의<br>관심사에 맞춰 자동완성을 제공합니다.</p>\\n                    <div class=\"btn_area\">\\n                        <a onclick=\"__atcmpCR(event, this, \\'plus.login\\', \\'\\',\\'\\',\\'\\');\" href=\"https://nid.naver.com/nidlogin.login\" class=\"btn btn_login\">로그인</a>\\n                        <a target=\"_blank\" onclick=\"__atcmpCR(event, this, \\'plus.detail\\', \\'\\',\\'\\',\\'\\');\" href=\"https://help.naver.com/support/alias/search/word/word_16.naver\" class=\"btn btn_view\">자세히</a>\\n                    </div>\\n                </div>\\n                <div class=\"_login\" style=\"display:none;\">\\n                    <p class=\"dsc\">ON/OFF설정은<br>해당 기기(브라우저)에 저장됩니다.</p>\\n                    <div class=\"btn_area\">\\n                        <a target=\"_blank\" onclick=\"__atcmpCR(event, this, \\'plus.detail\\', \\'\\',\\'\\',\\'\\');\" href=\"https://help.naver.com/support/contents/contents.nhn?serviceNo=606&categoryNo=16659\" class=\"btn btn_view\">자세히</a>\\n                    </div>\\n                </div>\\n                <button type=\"button\" class=\"btn_close _close\" onclick=\"__atcmpCR(event, this, \\'plus.close\\', \\'\\',\\'\\',\\'\\');\"><i class=\"spat ico_close\">컨텍스트 자동완성 레이어 닫기</i></button>\\n            </div>\\n        </div>\\n        <!-- //컨텍스트 자동완성 플러스 -->\\n        <p class=\"func _atcmpBtnGroup\"><span class=\"fl\"><a class=\"_help\" onclick=\"__atcmpCR(event, this, \\'help\\', \\'\\',\\'\\',\\'\\');\" href=\"https://help.naver.com/support/service/main.nhn?serviceNo=606&categoryNo=1987\" target=\"_blank\">도움말</a><span class=\"atcmp_bar\"></span><a onclick=\"__atcmpCR(event, this, \\'report\\', \\'\\',\\'\\',\\'\\');\" href=\"https://help.naver.com/support/contents/contents.nhn?serviceNo=605&categoryNo=18215\" target=\"_blank\" class=\"report\">신고</a></span><span><em><a class=\"hisoff\" href=\"javascript:;\">검색어저장 켜기</a><span class=\"atcmp_bar\"></span></em><a class=\"funoff\" href=\"javascript:;\">자동완성 끄기</a></span></p>\\n        <span class=\"atcmp_helper _help_tooltip1\">기능을 다시 켤 때는 <em class=\"ico_search spat\">자동완성 펼치기</em>을 클릭하세요</span>\\n    </div>\\n    <div class=\"api_atcmp_wrap _atcmpIng\" style=\"display:none;\">\\n        <div class=\"words\"><p class=\"info_words\">현재 자동완성 기능을 사용하고 계십니다.</p></div>\\n        <p class=\"func _atcmpBtnGroup\"><span class=\"fl\"><a class=\"_help\" onclick=\"__atcmpCR(event, this, \\'help\\', \\'\\',\\'\\',\\'\\');\" href=\"https://help.naver.com/support/service/main.nhn?serviceNo=606&categoryNo=1987\" target=\"_blank\">도움말</a><span class=\"atcmp_bar\"></span><a onclick=\"__atcmpCR(event, this, \\'report\\', \\'\\',\\'\\',\\'\\');\" href=\"https://help.naver.com/support/contents/contents.nhn?serviceNo=605&categoryNo=18215\" target=\"_blank\" class=\"report\">신고</a></span><span><em><a class=\"hisoff\" href=\"javascript:;\">검색어저장 켜기</a><span class=\"atcmp_bar\"></span></em><a class=\"funoff\" href=\"javascript:;\">자동완성 끄기</a></span></p>\\n        <span class=\"atcmp_helper _help_tooltip2\">기능을 다시 켤 때는 <em class=\"ico_search spat\">자동완성 펼치기</em>을 클릭하세요</span>\\n    </div>\\n    <div class=\"api_atcmp_wrap _atcmpStart\" style=\"display:none;\">\\n        <div class=\"words\"><p class=\"info_words\">자동완성 기능이 활성화되었습니다.</p></div>\\n        <p class=\"func _atcmpBtnGroup\"><span class=\"fl\"><a class=\"_help\" onclick=\"__atcmpCR(event, this, \\'help\\', \\'\\',\\'\\',\\'\\');\" href=\"https://help.naver.com/support/service/main.nhn?serviceNo=606&categoryNo=1987\" target=\"_blank\">도움말</a><span class=\"atcmp_bar\"></span><a onclick=\"__atcmpCR(event, this, \\'report\\', \\'\\',\\'\\',\\'\\');\" href=\"https://help.naver.com/support/contents/contents.nhn?serviceNo=605&categoryNo=18215\" target=\"_blank\" class=\"report\">신고</a></span><span><em><a class=\"hisoff\" href=\"javascript:;\">검색어저장 켜기</a><span class=\"atcmp_bar\"></span></em><a class=\"funoff\" href=\"javascript:;\">자동완성 끄기</a></span></p>\\n        <span class=\"atcmp_helper _help_tooltip3\">기능을 다시 켤 때는 <em class=\"ico_search spat\">자동완성 펼치기</em>을 클릭하세요</span>\\n    </div>\\n    <div class=\"api_atcmp_wrap _atcmpOff\" style=\"display:none;\">\\n        <div class=\"words\"><p class=\"info_words\">자동완성 기능이 꺼져 있습니다.</p></div>\\n        <p class=\"func _atcmpBtnGroup\"><span class=\"fl\"><a class=\"_help\" onclick=\"__atcmpCR(event, this, \\'help\\', \\'\\',\\'\\',\\'\\');\" href=\"https://help.naver.com/support/service/main.nhn?serviceNo=606&categoryNo=1987\" target=\"_blank\">도움말</a><span class=\"atcmp_bar\"></span><a onclick=\"__atcmpCR(event, this, \\'report\\', \\'\\',\\'\\',\\'\\');\" href=\"https://help.naver.com/support/contents/contents.nhn?serviceNo=605&categoryNo=18215\" target=\"_blank\" class=\"report\">신고</a></span><span><em><a class=\"hisoff\" href=\"javascript:;\">검색어저장 켜기</a><span class=\"atcmp_bar\"></span></em><a class=\"funoff\" href=\"javascript:;\">자동완성 켜기</a></span></p>\\n    </div>\\n    <!-- 최근검색어 & 내검색어 -->\\n    <div class=\"api_atcmp_wrap _keywords\" style=\"display:none;\">\\n        <div class=\"my_words\">\\n            <div class=\"lst_tab\">\\n                <ul><li class=\"on _recentTab\"><a href=\"javascript:;\">최근검색어</a></li><li class=\"_myTab\"><a href=\"javascript:;\">내 검색어</a></li></ul>\\n            </div>\\n            <div class=\"words _recent\">\\n                <ul><li data-rank=\"@rank@\"><a class=\"t@my@ _star _myBtn\" title=\"내 검색어 등록\" href=\"javascript:;\"><em class=\"spat\">내 검색어 등록</em></a><a href=\"javascript:;\" class=\"keyword\">@txt@</a><em class=\"keyword_date\">@date@.</em><a href=\"javascript:;\" class=\"btn_delete spat _del\" title=\"검색어삭제\">삭제</a><span style=\"display:none\">@in_txt@</span></li></ul>\\n                <div class=\"info_words _recentNone\" style=\"display:none\">최근검색어 내역이 없습니다.</div>\\n                <p class=\"info_words _offMsg\" style=\"display:none\">검색어 저장 기능이 꺼져 있습니다.</p>\\n            </div>\\n            <div class=\"words _my\" style=\"display:none\">\\n                <ul><li data-rank=\"@rank@\"><a class=\"ton _star _myBtn\" title=\"내 검색어 해제\" href=\"javascript:;\"><em class=\"spat\">내 검색어 해제</em></a><a href=\"javascript:;\" class=\"keyword\">@txt@</a></li></ul>\\n                <div class=\"info_words _myNone\" style=\"display:none\">설정된 내 검색어가 없습니다.<br />최근검색어에서 <span class=\"star spat\">내 검색어 등록</span>를 선택하여 자주 찾는 검색어를<br />내 검색어로 저장해 보세요.</div>\\n                <p class=\"info_words _offMsg\" style=\"display:none\">검색어 저장 기능이 꺼져 있습니다.</p>\\n            </div>\\n            <p class=\"noti _noti\" style=\"display:none\"><em class=\"ico_noti spat\"><span class=\"blind\">알림</span></em>공용 PC에서는 개인정보 보호를 위하여 반드시 로그아웃을 해 주세요.</p>\\n            <p class=\"func _recentBtnGroup\"><span class=\"fl\"><a class=\"_delMode\" href=\"javascript:;\">기록 삭제</a></span><span><a class=\"_keywordOff\" href=\"javascript:;\">검색어저장 끄기</a><span class=\"atcmp_bar\"></span><a class=\"_acOff\" href=\"javascript:;\">자동완성 끄기</a></span></p>\\n            <p class=\"func _recentDelBtnGroup\" style=\"display:none\"><span class=\"fl\"><a class=\"_delAll\" href=\"javascript:;\" title=\"최근 검색어 기록을 모두 삭제합니다.\">기록 전체 삭제</a></span><span><a class=\"_delDone\" href=\"javascript:;\">완료</a></span></p>\\n            <p class=\"func _myBtnGroup\" style=\"display:none\"><span class=\"fl\"><a class=\"_delAll\" href=\"javascript:;\" title=\"설정된 내 검색어를 모두 삭제합니다.\">기록 전체 삭제</a></span><span><a class=\"_keywordOff\" href=\"javascript:;\">검색어저장 끄기</a><span class=\"atcmp_bar\"></span><a class=\"_acOff\" href=\"javascript:;\">자동완성 끄기</a></span></p>\\n            <span class=\"atcmp_helper _help2\">기능을 다시 켤 때는 <em class=\"ico_search spat\">자동완성 펼치기</em>을 클릭하세요</span>\\n            <div class=\"ly_noti _maxLayer\" style=\"display:none\">\\n                <span class=\"mask\"></span>\\n                <p><span class=\"ico_alert spat\"></span>내 검색어는 <em>최대 10</em>개 까지 저장할 수 있습니다.<br />추가하시려면 기존 내 검색어를 지워주세요. <a href=\"javascript:;\" class=\"btn_close _close\"><i class=\"spat ico_close\">닫기</i></a></p>\\n            </div>\\n        </div>\\n    </div>\\n    <!-- 자동완성 안내문구 (선거) -->\\n    <div class=\"api_atcmp_wrap _alert\" style=\"display:none;\">\\n        <div class=\"api_atcmp_alert\">\\n            <span class=\"ico_alert spat\"></span>\\n            <p class=\"dsc_txt\"><em class=\"_passage\"></em><br>\\n                <a class=\"_link\" target=\"_blank\" href=\"\" onclick=\"clickcr(this,\\'sug.vote\\',\\'\\',\\'\\',event);\">자세히보기</a></p>\\n        </div>\\n    </div>\\n    <!-- //자동완성 안내문구 (선거) -->\\n    <!-- [D] IE 계열, wmode=\"window\" flash와 겹치지 않기 위함 -->\\n    <iframe vspace=\"0\" hspace=\"0\" border=\"0\" style=\"display:none;display:block\\\\9;display:block\\\\0/;position:absolute;left:0;top:0;width:100%;height:100%;z-index:-1;\" title=\"빈 프레임\"></iframe>\\n</div>\\t\\t\\t\\n<!--자동완성 레이어 -->\\n\\n<!--자동완성 템플릿 추가-->\\n<!-- 신규 공통 템플릿 -->\\n<script type=\"text/template\" id=\"_atcmp_answer_0\">\\n    <div class=\"add_opt _item\" data-sm=\"@2@\" data-keyword=\"@1@\" data-template_id=\"@0@\" data-acir=\"@rank@\" data-os=\"@8@\" data-bid=\"@9@\" data-eid=\"@3@\" data-pkid=\"@10@\" data-mra=\"@11@\" >\\n        <a href=\"#\" class=\"opt_dsc\">\\n            <span class=\"dsc_thmb\" style=\"@style7@\">@image7@</span>\\n            <span class=\"dsc_group\">\\n                <span class=\"dsc_cate\">@6@</span>\\n                <strong class=\"dsc_word\">@1@</strong>\\n                <span class=\"dsc_sub\" style=\"@style12@\">@12@</span>\\n            </span>\\n        </a>\\n    </div>\\n</script>\\n<!-- 로또당첨번호 -->\\n<script type=\"text/template\" id=\"_atcmp_answer_3\">\\n    <div class=\"add_opt _item\" data-sm=\"@2@\" data-keyword=\"@1@\" data-template_id=\"@0@\" data-acir=\"@rank@\">\\n        <a href=\"javascript:;\" class=\"opt_lotto\">\\n            <span class=\"lotto_num_area\">\\n                <span class=\"spat lotto_num lotto_num@6@\">@6@</span><span class=\"spat lotto_num lotto_num@7@\">@7@</span><span class=\"spat lotto_num lotto_num@8@\">@8@</span><span class=\"spat lotto_num lotto_num@9@\">@9@</span><span class=\"spat lotto_num lotto_num@10@\">@10@</span><span class=\"spat lotto_num lotto_num@11@\">@11@</span><span class=\"spat lotto_bonus\">+</span><span class=\"spat lotto_num lotto_num@12@\">@12@</span>\\n            </span>\\n            <span class=\"lotto_sub\">@5@회차<em class=\"lotto_date\">(@13@.)</em></span>\\n        </a>\\n    </div>\\n</script>\\n<!-- 환율:엔화환율 -->\\n<script type=\"text/template\" id=\"_atcmp_answer_9\">\\n    <div class=\"add_opt _item\" data-sm=\"@2@\" data-keyword=\"@1@\" data-template_id=\"@0@\" data-acir=\"@rank@\">\\n        <a href=\"javascript:;\" class=\"opt_exchange opt_exchange_@11@\">\\n            <span class=\"opt_nation\">\\n                <img src=\"https://ssl.pstatic.net/sstatic/keypage/lifesrch/exchange/ico_@12@1.gif\" alt=\"\" />\\n                @14@<span class=\"tx_nation\">@money@</span>\\n            </span>\\n            <span class=\"opt_amount\">\\n                <span class=\"amount\"><strong>@6@</strong>원</span><span class=\"changes\"><i class=\"bullet\">@10@</i> @8@ (@9@%)<span class=\"opt_time\"><time datetime=\"@fulldate@\">@7@</time></span></span>\\n            </span>\\n        </a>\\n    </div>\\n</script>\\n<!-- 해외날씨 : 파리날씨 -->\\n<script type=\"text/template\" id=\"_atcmp_answer_10\">\\n    <div class=\"add_opt _item\" data-sm=\"@2@\" data-keyword=\"@1@\" data-template_id=\"@0@\" data-acir=\"@rank@\">\\n        <a href=\"javascript:;\" class=\"opt_weather\">\\n            <span class=\"opt_weather_thmb\">\\n                <img src=\"https://ssl.pstatic.net/sstatic/search/pc/img/wt_@6@.png\" width=\"56\" height=\"56\" alt=\"@7@\">\\n            </span>\\n            <span class=\"opt_weather_group\">\\n                <span class=\"opt_weather_state\">@7@</span>\\n                <span class=\"opt_weather_state\">기온 <em class=\"opt_deg\">@8@</em><span class=\"opt_unit\">℃</span></span>\\n                <span class=\"opt_weather_state\">@9@ <em>@10@</em><span class=\"opt_unit\">@11@</span></span>\\n\\t\\t\\t\\t<span class=\"opt_weather_state\"><span class=\"opt_time\"><time datetime=\"@fulldate@\">@5@</time></span></span>\\n            </span>\\n        </a>\\n    </div>\\n</script>\\n<!-- 국내날씨 : 서울날씨 -->\\n<script type=\"text/template\" id=\"_atcmp_answer_11\">\\n    <div class=\"add_opt _item\" data-sm=\"@2@\" data-keyword=\"@1@\" data-template_id=\"@0@\" data-acir=\"@rank@\">\\n        <a href=\"javascript:;\" class=\"opt_weather\">\\n            <span class=\"opt_weather_thmb\">\\n                <img src=\"https://ssl.pstatic.net/sstatic/search/pc/img/wt_@6@.png\" width=\"56\" height=\"56\" alt=\"@7@\">\\n            </span>\\n            <span class=\"opt_weather_group\">\\n                <span class=\"opt_weather_state\">@7@</span>\\n                <span class=\"opt_weather_state\">기온 <em class=\"opt_deg\">@8@</em><span class=\"opt_unit\">℃</span></span>\\n                <span class=\"opt_weather_state\">@9@ <em>@10@</em><span class=\"opt_unit\">@11@</span></span>\\n\\t\\t\\t\\t<span class=\"opt_weather_state\"><span class=\"opt_time\"><time datetime=\"@fulldate@\">@5@</time></span></span>\\n            </span>\\n        </a>\\n    </div>\\n</script>\\n<!-- 바로가기 -->\\n<script type=\"text/template\" id=\"_atcmp_answer_17\">\\n    <div class=\"add_opt _item\" data-sm=\"@2@\" data-keyword=\"@1@\" data-template_id=\"@0@\" data-acir=\"@rank@\">\\n        <a href=\"@5@\" target=\"_blank\" class=\"opt_shortcut\">\\n            <span class=\"opt_url\">@display_link@</span>\\n            <span class=\"opt_txt\">사이트로 바로 이동</span>\\n        </a>\\n    </div>\\n</script>\\n<!-- 해외날씨 : 국내날씨 형태로 제공하기 위한 새로운 템플릿(10번으로 ID변경됨) -->\\n<script type=\"text/template\" id=\"_atcmp_answer_20\"></script>\\n<!-- 문맥검색 -->\\n<script type=\"text/template\" id=\"_atcmp_intend\">\\n    <div class=\"add_opt type_context _item\" data-sm=\"asct\" data-keyword=\"@transquery@\" data-acir=\"@rank@\">\\n        <a href=\"#\" class=\"opt_context\">\\n            <span class=\"opt_tit\"><strong>@query@</strong></span>\\n            <span class=\"opt_sub\">@intend@</span>\\n        </a>\\n    </div>\\n</script>\\n<!-- 결과 키워드 템플릿 (좌측 결과목록 템플릿:정답형 템플릿 아님) -->\\n<script type=\"text/template\" id=\"_atcmp_result_item_tpl\">\\n    <li class=\"_item @url_class@\" data-acr=\"@rank@\">\\n        <a href=\"#\" class=\"atcmp_keyword\" onclick=\"return false;\" title=\"\"><span class=\"atcmp_keyword_txt\">@txt@<span class=\"spat ic_expand\"></span></span></a>\\n        <a href=\"@url@\" target=\"_blank\" class=\"mquick\">바로이동</a>\\n        <span style=\"display:none\">@in_txt@</span>\\n    </li>\\n</script>\\n<!-- 일반 자동완성 하이라이팅 템플릿 -->\\n<script type=\"text/template\" id=\"_atcmp_keyword_highlight_tpl\">\\n    @mismatch_before@<strong>@match@</strong>@mismatch_after@\\n</script>\\n<!-- 부분 자동완성 하이라이팅 템플릿 -->\\n<script type=\"text/template\" id=\"_atcmp_keyword_partial_match_highlight_tpl\">\\n    @mismatch_before@<strong>@match@</strong>@mismatch_after@\\n</script>\\n<!--자동완성 템플릿 추가-->\\n</div>\\n<!-- EMPTY --></div>\\n</div>\\n\\n\\t<div class=\"section_navbar\">\\n\\t\\t<div class=\"area_navigation\" role=\"navigation\">\\n\\t\\t\\t<ul class=\"an_l\">\\n\\t\\t\\t\\t<li class=\"an_item\">\\n\\t\\t\\t\\t\\t<a href=\"https://mail.naver.com/\" class=\"an_a mn_mail\" data-clk=\"svc.mail\">\\n\\t\\t\\t\\t\\t\\t<span class=\"an_icon\"></span><span class=\"an_txt\">메일</span>\\n\\t\\t\\t\\t\\t</a>\\n\\t\\t\\t\\t</li>\\n\\t\\t\\t\\t<li class=\"an_item\">\\n\\t\\t\\t\\t\\t<a href=\"https://section.cafe.naver.com/\" class=\"an_a mn_cafe\" data-clk=\"svc.cafe\">\\n\\t\\t\\t\\t\\t\\t<span class=\"an_icon\"></span><span class=\"an_txt\">카페</span>\\n\\t\\t\\t\\t\\t</a>\\n\\t\\t\\t\\t</li>\\n\\t\\t\\t\\t<li class=\"an_item\">\\n\\t\\t\\t\\t\\t<a href=\"https://section.blog.naver.com/\" class=\"an_a mn_blog\" data-clk=\"svc.blog\">\\n\\t\\t\\t\\t\\t\\t<span class=\"an_icon\"></span><span class=\"an_txt\">블로그</span>\\n\\t\\t\\t\\t\\t</a>\\n\\t\\t\\t\\t</li>\\n\\t\\t\\t\\t<li class=\"an_item\">\\n\\t\\t\\t\\t\\t<a href=\"https://kin.naver.com/\" class=\"an_a mn_kin\" data-clk=\"svc.kin\">\\n\\t\\t\\t\\t\\t\\t<span class=\"an_icon\"></span><span class=\"an_txt\">지식인</span>\\n\\t\\t\\t\\t\\t</a>\\n\\t\\t\\t\\t</li>\\n\\t\\t\\t\\t<li class=\"an_item\">\\n\\t\\t\\t\\t\\t<a href=\"https://shopping.naver.com/\" class=\"an_a mn_shopping\" data-clk=\"svc.shopping\">\\n\\t\\t\\t\\t\\t\\t<span class=\"an_icon\"></span><span class=\"an_txt\">쇼핑</span>\\n\\t\\t\\t\\t\\t</a>\\n\\t\\t\\t\\t</li>\\n\\t\\t\\t\\t<li class=\"an_item\">\\n\\t\\t\\t\\t\\t<a href=\"https://order.pay.naver.com/home\" class=\"an_a mn_checkout\" data-clk=\"svc.pay\">\\n\\t\\t\\t\\t\\t\\t<span class=\"an_icon\"></span><span class=\"an_txt\">네이버페이</span>\\n\\t\\t\\t\\t\\t</a>\\n\\t\\t\\t\\t</li>\\n\\t\\t\\t\\t<li class=\"an_item\">\\n\\t\\t\\t\\t\\t<a href=\"https://tv.naver.com/\" class=\"an_a mn_tvcast\" data-clk=\"svc.tvcast\">\\n\\t\\t\\t\\t\\t\\t<span class=\"an_icon\"></span><span class=\"an_txt\">네이버TV</span>\\n\\t\\t\\t\\t\\t</a>\\n\\t\\t\\t\\t</li>\\t\\n\\t\\t\\t</ul>\\n\\t\\t\\t<ul id=\"PM_ID_serviceNavi\"  class=\"an_l\">\\n\\t\\t\\t\\t<li class=\"an_item\"><a href=\"https://dict.naver.com/\" class=\"an_a mn_dic\" data-clk=\"svc.dic\"><span class=\"an_icon\"></span><span class=\"an_txt\">사전</span></a></li>\\n<li class=\"an_item\"><a href=\"https://news.naver.com/\" class=\"an_a mn_news\" data-clk=\"svc.news\"><span class=\"an_icon\"></span><span class=\"an_txt\">뉴스</span></a></li>\\n<li class=\"an_item\"><a href=\"https://finance.naver.com/\" class=\"an_a mn_stock\" data-clk=\"svc.stock\"><span class=\"an_icon\"></span><span class=\"an_txt\">증권(금융)</span></a></li>\\n<li class=\"an_item\"><a href=\"https://land.naver.com/\" class=\"an_a mn_land\" data-clk=\"svc.land\"><span class=\"an_icon\"></span><span class=\"an_txt\">부동산</span></a></li>\\n<li class=\"an_item\"><a href=\"https://map.naver.com/\" class=\"an_a mn_map\" data-clk=\"svc.map\"><span class=\"an_icon\"></span><span class=\"an_txt\">지도</span></a></li>\\n<li class=\"an_item\"><a href=\"https://movie.naver.com/\" class=\"an_a mn_movie\" data-clk=\"svc.movie\"><span class=\"an_icon\"></span><span class=\"an_txt\">영화</span></a></li>\\n<li class=\"an_item\"><a href=\"https://music.naver.com\" class=\"an_a mn_music\" data-clk=\"svc.music\"><span class=\"an_icon\"></span><span class=\"an_txt\">뮤직</span></a></li>\\n<li class=\"an_item\"><a href=\"https://book.naver.com/\" class=\"an_a mn_book\" data-clk=\"svc.book\"><span class=\"an_icon\"></span><span class=\"an_txt\">책</span></a></li>\\n<li class=\"an_item\"><a href=\"https://comic.naver.com/\" class=\"an_a mn_comic\" data-clk=\"svc.webtoon\"><span class=\"an_icon\"></span><span class=\"an_txt\">만화 / 웹툰</span></a></li>\\n\\n\\t\\t\\t</ul>\\n\\t\\t\\t<ul id=\"PM_ID_serviceNaviEmpty\" class=\"an_l an_custom\" style=\"display:none\">\\n\\t\\t\\t\\t<li class=\"an_item an_pointer\"><span class=\"an_empty\"></span></li>\\n\\t\\t\\t\\t<li class=\"an_item\"><span class=\"an_empty\"></span></li>\\n\\t\\t\\t\\t<li class=\"an_item\"><span class=\"an_empty\"></span></li>\\n\\t\\t\\t\\t<li class=\"an_item\"><span class=\"an_empty\"></span></li>\\n\\t\\t\\t\\t<li class=\"an_item\"><span class=\"an_empty\"></span></li>\\n\\t\\t\\t</ul>\\n\\t\\t\\t<div class=\"an_bar\"></div>\\n\\t\\t\\t<a href=\"#\" id=\"PM_ID_btnServiceMore\" role=\"button\" class=\"PM_CL_btnServiceMore an_btn_more\" data-clk=\"svc.more\"><span class=\"an_mtxt\"><span class=\"blind\">더보기</span></span><span class=\"ico_an_more\"></span></a>\\n\\t\\t</div>\\n\\t\\t<div class=\"area_hotkeyword PM_CL_realtimeKeyword_base\">\\n\\t\\t\\t<div class=\"ah_roll PM_CL_realtimeKeyword_rolling_base\" aria-hidden=\"false\">\\n<h3 class=\"blind\">급상승 검색어 검색어</h3>\\n<div class=\"ah_roll_area PM_CL_realtimeKeyword_rolling\">\\n<ul class=\"ah_l\">\\n<li class=\"ah_item\">\\n<a href=\"#\" class=\"ah_a\" data-clk=\"lve.keyword\">\\n<span class=\"ah_r\">1</span>\\n<span class=\"ah_k\">장민호</span>\\n</a>\\n</li>\\n<li class=\"ah_item\">\\n<a href=\"#\" class=\"ah_a\" data-clk=\"lve.keyword\">\\n<span class=\"ah_r\">2</span>\\n<span class=\"ah_k\">김진아</span>\\n</a>\\n</li>\\n<li class=\"ah_item\">\\n<a href=\"#\" class=\"ah_a\" data-clk=\"lve.keyword\">\\n<span class=\"ah_r\">3</span>\\n<span class=\"ah_k\">임영웅</span>\\n</a>\\n</li>\\n<li class=\"ah_item\">\\n<a href=\"#\" class=\"ah_a\" data-clk=\"lve.keyword\">\\n<span class=\"ah_r\">4</span>\\n<span class=\"ah_k\">로또892회당첨번호</span>\\n</a>\\n</li>\\n<li class=\"ah_item\">\\n<a href=\"#\" class=\"ah_a\" data-clk=\"lve.keyword\">\\n<span class=\"ah_r\">5</span>\\n<span class=\"ah_k\">정승제</span>\\n</a>\\n</li>\\n<li class=\"ah_item\">\\n<a href=\"#\" class=\"ah_a\" data-clk=\"lve.keyword\">\\n<span class=\"ah_r\">6</span>\\n<span class=\"ah_k\">마마무 hip</span>\\n</a>\\n</li>\\n<li class=\"ah_item\">\\n<a href=\"#\" class=\"ah_a\" data-clk=\"lve.keyword\">\\n<span class=\"ah_r\">7</span>\\n<span class=\"ah_k\">사랑의 불시착 결방</span>\\n</a>\\n</li>\\n<li class=\"ah_item\">\\n<a href=\"#\" class=\"ah_a\" data-clk=\"lve.keyword\">\\n<span class=\"ah_r\">8</span>\\n<span class=\"ah_k\">서문탁 사슬</span>\\n</a>\\n</li>\\n<li class=\"ah_item\">\\n<a href=\"#\" class=\"ah_a\" data-clk=\"lve.keyword\">\\n<span class=\"ah_r\">9</span>\\n<span class=\"ah_k\">영탁</span>\\n</a>\\n</li>\\n<li class=\"ah_item\">\\n<a href=\"#\" class=\"ah_a\" data-clk=\"lve.keyword\">\\n<span class=\"ah_r\">10</span>\\n<span class=\"ah_k\">나태주</span>\\n</a>\\n</li>\\n<li class=\"ah_item\">\\n<a href=\"#\" class=\"ah_a\" data-clk=\"lve.keyword\">\\n<span class=\"ah_r\">11</span>\\n<span class=\"ah_k\">이태호</span>\\n</a>\\n</li>\\n<li class=\"ah_item\">\\n<a href=\"#\" class=\"ah_a\" data-clk=\"lve.keyword\">\\n<span class=\"ah_r\">12</span>\\n<span class=\"ah_k\">메이즈러너</span>\\n</a>\\n</li>\\n<li class=\"ah_item\">\\n<a href=\"#\" class=\"ah_a\" data-clk=\"lve.keyword\">\\n<span class=\"ah_r\">13</span>\\n<span class=\"ah_k\">이찬성</span>\\n</a>\\n</li>\\n<li class=\"ah_item\">\\n<a href=\"#\" class=\"ah_a\" data-clk=\"lve.keyword\">\\n<span class=\"ah_r\">14</span>\\n<span class=\"ah_k\">악마는 프라다를 입는다</span>\\n</a>\\n</li>\\n<li class=\"ah_item\">\\n<a href=\"#\" class=\"ah_a\" data-clk=\"lve.keyword\">\\n<span class=\"ah_r\">15</span>\\n<span class=\"ah_k\">벌룬</span>\\n</a>\\n</li>\\n<li class=\"ah_item\">\\n<a href=\"#\" class=\"ah_a\" data-clk=\"lve.keyword\">\\n<span class=\"ah_r\">16</span>\\n<span class=\"ah_k\">사슬</span>\\n</a>\\n</li>\\n<li class=\"ah_item\">\\n<a href=\"#\" class=\"ah_a\" data-clk=\"lve.keyword\">\\n<span class=\"ah_r\">17</span>\\n<span class=\"ah_k\">미스터트롯 장민호</span>\\n</a>\\n</li>\\n<li class=\"ah_item\">\\n<a href=\"#\" class=\"ah_a\" data-clk=\"lve.keyword\">\\n<span class=\"ah_r\">18</span>\\n<span class=\"ah_k\">김원희</span>\\n</a>\\n</li>\\n<li class=\"ah_item\">\\n<a href=\"#\" class=\"ah_a\" data-clk=\"lve.keyword\">\\n<span class=\"ah_r\">19</span>\\n<span class=\"ah_k\">연애의 맛 김진아</span>\\n</a>\\n</li>\\n<li class=\"ah_item\">\\n<a href=\"#\" class=\"ah_a\" data-clk=\"lve.keyword\">\\n<span class=\"ah_r\">20</span>\\n<span class=\"ah_k\">서문탁</span>\\n</a>\\n</li>\\n</ul>\\n</div>\\n</div>\\n\\t\\t\\t<span class=\"ah_ico_open\"></span>\\n\\t\\t\\t<div class=\"ah_list PM_CL_realtimeKeyword_list_base\" aria-hidden=\"true\">\\n<h3 class=\"ah_ltit\">급상승 검색어</h3>\\n<div class=\"ah_target\"><em class=\"target\">전체연령</em></div>\\n<div class=\"ah_tab\">\\n<a href=\"#\" role=\"tab\" class=\"ah_tab_btn ah_tab_on\" data-tab=\"1to10\" data-clk=\"lve.tab1\">1~10위</a>\\n<a href=\"#\" role=\"tab\" class=\"ah_tab_btn\" data-tab=\"11to20\" data-clk=\"lve.tab2\">11~20위</a>\\n</div>\\n<h4 class=\"blind PM_CL_realtimeKeyword_sublist_heading\">급상승 검색어 1~10위</h4>\\n<ul class=\"ah_l\" data-list=\"1to10\">\\n<li class=\"ah_item\" data-order=\"1\">\\n<a href=\"http://search.naver.com/search.naver?where=nexearch&query=%EC%9E%A5%EB%AF%BC%ED%98%B8&sm=top_lve.agallgrpmamsi0en0sp0&x_nxpr-front=all01-2&ie=utf8\" class=\"ah_a\" data-ssl=\"https://search.naver.com/search.naver?where=nexearch&query=%EC%9E%A5%EB%AF%BC%ED%98%B8&sm=top_lve.agallgrpmamsi0en0sp0&x_nxpr-front=all01-2&ie=utf8\" data-clk=\"lve.keyword\">\\n<span class=\"ah_r\">1</span>\\n<span class=\"ah_k\">장민호</span>\\n</a>\\n</li>\\n<li class=\"ah_item\" data-order=\"2\">\\n<a href=\"http://search.naver.com/search.naver?where=nexearch&query=%EA%B9%80%EC%A7%84%EC%95%84&sm=top_lve.agallgrpmamsi0en0sp0&x_nxpr-front=all01-2&ie=utf8\" class=\"ah_a\" data-ssl=\"https://search.naver.com/search.naver?where=nexearch&query=%EA%B9%80%EC%A7%84%EC%95%84&sm=top_lve.agallgrpmamsi0en0sp0&x_nxpr-front=all01-2&ie=utf8\" data-clk=\"lve.keyword\">\\n<span class=\"ah_r\">2</span>\\n<span class=\"ah_k\">김진아</span>\\n</a>\\n</li>\\n<li class=\"ah_item\" data-order=\"3\">\\n<a href=\"http://search.naver.com/search.naver?where=nexearch&query=%EC%9E%84%EC%98%81%EC%9B%85&sm=top_lve.agallgrpmamsi0en0sp0&x_nxpr-front=all01-2&ie=utf8\" class=\"ah_a\" data-ssl=\"https://search.naver.com/search.naver?where=nexearch&query=%EC%9E%84%EC%98%81%EC%9B%85&sm=top_lve.agallgrpmamsi0en0sp0&x_nxpr-front=all01-2&ie=utf8\" data-clk=\"lve.keyword\">\\n<span class=\"ah_r\">3</span>\\n<span class=\"ah_k\">임영웅</span>\\n</a>\\n</li>\\n<li class=\"ah_item\" data-order=\"4\">\\n<a href=\"http://search.naver.com/search.naver?where=nexearch&query=%EB%A1%9C%EB%98%90892%ED%9A%8C%EB%8B%B9%EC%B2%A8%EB%B2%88%ED%98%B8&sm=top_lve.agallgrpmamsi0en0sp0&x_nxpr-front=all01-2&ie=utf8\" class=\"ah_a\" data-ssl=\"https://search.naver.com/search.naver?where=nexearch&query=%EB%A1%9C%EB%98%90892%ED%9A%8C%EB%8B%B9%EC%B2%A8%EB%B2%88%ED%98%B8&sm=top_lve.agallgrpmamsi0en0sp0&x_nxpr-front=all01-2&ie=utf8\" data-clk=\"lve.keyword\">\\n<span class=\"ah_r\">4</span>\\n<span class=\"ah_k\">로또892회당첨번호</span>\\n</a>\\n</li>\\n<li class=\"ah_item\" data-order=\"5\">\\n<a href=\"http://search.naver.com/search.naver?where=nexearch&query=%EC%A0%95%EC%8A%B9%EC%A0%9C&sm=top_lve.agallgrpmamsi0en0sp0&x_nxpr-front=all01-2&ie=utf8\" class=\"ah_a\" data-ssl=\"https://search.naver.com/search.naver?where=nexearch&query=%EC%A0%95%EC%8A%B9%EC%A0%9C&sm=top_lve.agallgrpmamsi0en0sp0&x_nxpr-front=all01-2&ie=utf8\" data-clk=\"lve.keyword\">\\n<span class=\"ah_r\">5</span>\\n<span class=\"ah_k\">정승제</span>\\n</a>\\n</li>\\n<li class=\"ah_item\" data-order=\"6\">\\n<a href=\"http://search.naver.com/search.naver?where=nexearch&query=%EB%A7%88%EB%A7%88%EB%AC%B4+hip&sm=top_lve.agallgrpmamsi0en0sp0&x_nxpr-front=all01-2&ie=utf8\" class=\"ah_a\" data-ssl=\"https://search.naver.com/search.naver?where=nexearch&query=%EB%A7%88%EB%A7%88%EB%AC%B4+hip&sm=top_lve.agallgrpmamsi0en0sp0&x_nxpr-front=all01-2&ie=utf8\" data-clk=\"lve.keyword\">\\n<span class=\"ah_r\">6</span>\\n<span class=\"ah_k\">마마무 hip</span>\\n</a>\\n</li>\\n<li class=\"ah_item\" data-order=\"7\">\\n<a href=\"http://search.naver.com/search.naver?where=nexearch&query=%EC%82%AC%EB%9E%91%EC%9D%98+%EB%B6%88%EC%8B%9C%EC%B0%A9+%EA%B2%B0%EB%B0%A9&sm=top_lve.agallgrpmamsi0en0sp0&x_nxpr-front=all01-2&ie=utf8\" class=\"ah_a\" data-ssl=\"https://search.naver.com/search.naver?where=nexearch&query=%EC%82%AC%EB%9E%91%EC%9D%98+%EB%B6%88%EC%8B%9C%EC%B0%A9+%EA%B2%B0%EB%B0%A9&sm=top_lve.agallgrpmamsi0en0sp0&x_nxpr-front=all01-2&ie=utf8\" data-clk=\"lve.keyword\">\\n<span class=\"ah_r\">7</span>\\n<span class=\"ah_k\">사랑의 불시착 결방</span>\\n</a>\\n</li>\\n<li class=\"ah_item\" data-order=\"8\">\\n<a href=\"http://search.naver.com/search.naver?where=nexearch&query=%EC%84%9C%EB%AC%B8%ED%83%81+%EC%82%AC%EC%8A%AC&sm=top_lve.agallgrpmamsi0en0sp0&x_nxpr-front=all01-2&ie=utf8\" class=\"ah_a\" data-ssl=\"https://search.naver.com/search.naver?where=nexearch&query=%EC%84%9C%EB%AC%B8%ED%83%81+%EC%82%AC%EC%8A%AC&sm=top_lve.agallgrpmamsi0en0sp0&x_nxpr-front=all01-2&ie=utf8\" data-clk=\"lve.keyword\">\\n<span class=\"ah_r\">8</span>\\n<span class=\"ah_k\">서문탁 사슬</span>\\n</a>\\n</li>\\n<li class=\"ah_item\" data-order=\"9\">\\n<a href=\"http://search.naver.com/search.naver?where=nexearch&query=%EC%98%81%ED%83%81&sm=top_lve.agallgrpmamsi0en0sp0&x_nxpr-front=all01-2&ie=utf8\" class=\"ah_a\" data-ssl=\"https://search.naver.com/search.naver?where=nexearch&query=%EC%98%81%ED%83%81&sm=top_lve.agallgrpmamsi0en0sp0&x_nxpr-front=all01-2&ie=utf8\" data-clk=\"lve.keyword\">\\n<span class=\"ah_r\">9</span>\\n<span class=\"ah_k\">영탁</span>\\n</a>\\n</li>\\n<li class=\"ah_item\" data-order=\"10\">\\n<a href=\"http://search.naver.com/search.naver?where=nexearch&query=%EB%82%98%ED%83%9C%EC%A3%BC&sm=top_lve.agallgrpmamsi0en0sp0&x_nxpr-front=all01-2&ie=utf8\" class=\"ah_a\" data-ssl=\"https://search.naver.com/search.naver?where=nexearch&query=%EB%82%98%ED%83%9C%EC%A3%BC&sm=top_lve.agallgrpmamsi0en0sp0&x_nxpr-front=all01-2&ie=utf8\" data-clk=\"lve.keyword\">\\n<span class=\"ah_r\">10</span>\\n<span class=\"ah_k\">나태주</span>\\n</a>\\n</li>\\n</ul>\\n<ul class=\"ah_l\" style=\"display:none;\" data-list=\"11to20\">\\n<li class=\"ah_item\" data-order=\"11\">\\n<a href=\"http://search.naver.com/search.naver?where=nexearch&query=%EC%9D%B4%ED%83%9C%ED%98%B8&sm=top_lve.agallgrpmamsi0en0sp0&x_nxpr-front=all01-2&ie=utf8\" class=\"ah_a\" data-ssl=\"https://search.naver.com/search.naver?where=nexearch&query=%EC%9D%B4%ED%83%9C%ED%98%B8&sm=top_lve.agallgrpmamsi0en0sp0&x_nxpr-front=all01-2&ie=utf8\" data-clk=\"lve.keyword\">\\n<span class=\"ah_r\">11</span>\\n<span class=\"ah_k\">이태호</span>\\n</a>\\n</li>\\n<li class=\"ah_item\" data-order=\"12\">\\n<a href=\"http://search.naver.com/search.naver?where=nexearch&query=%EB%A9%94%EC%9D%B4%EC%A6%88%EB%9F%AC%EB%84%88&sm=top_lve.agallgrpmamsi0en0sp0&x_nxpr-front=all01-2&ie=utf8\" class=\"ah_a\" data-ssl=\"https://search.naver.com/search.naver?where=nexearch&query=%EB%A9%94%EC%9D%B4%EC%A6%88%EB%9F%AC%EB%84%88&sm=top_lve.agallgrpmamsi0en0sp0&x_nxpr-front=all01-2&ie=utf8\" data-clk=\"lve.keyword\">\\n<span class=\"ah_r\">12</span>\\n<span class=\"ah_k\">메이즈러너</span>\\n</a>\\n</li>\\n<li class=\"ah_item\" data-order=\"13\">\\n<a href=\"http://search.naver.com/search.naver?where=nexearch&query=%EC%9D%B4%EC%B0%AC%EC%84%B1&sm=top_lve.agallgrpmamsi0en0sp0&x_nxpr-front=all01-2&ie=utf8\" class=\"ah_a\" data-ssl=\"https://search.naver.com/search.naver?where=nexearch&query=%EC%9D%B4%EC%B0%AC%EC%84%B1&sm=top_lve.agallgrpmamsi0en0sp0&x_nxpr-front=all01-2&ie=utf8\" data-clk=\"lve.keyword\">\\n<span class=\"ah_r\">13</span>\\n<span class=\"ah_k\">이찬성</span>\\n</a>\\n</li>\\n<li class=\"ah_item\" data-order=\"14\">\\n<a href=\"http://search.naver.com/search.naver?where=nexearch&query=%EC%95%85%EB%A7%88%EB%8A%94+%ED%94%84%EB%9D%BC%EB%8B%A4%EB%A5%BC+%EC%9E%85%EB%8A%94%EB%8B%A4&sm=top_lve.agallgrpmamsi0en0sp0&x_nxpr-front=all01-2&ie=utf8\" class=\"ah_a\" data-ssl=\"https://search.naver.com/search.naver?where=nexearch&query=%EC%95%85%EB%A7%88%EB%8A%94+%ED%94%84%EB%9D%BC%EB%8B%A4%EB%A5%BC+%EC%9E%85%EB%8A%94%EB%8B%A4&sm=top_lve.agallgrpmamsi0en0sp0&x_nxpr-front=all01-2&ie=utf8\" data-clk=\"lve.keyword\">\\n<span class=\"ah_r\">14</span>\\n<span class=\"ah_k\">악마는 프라다를 입는다</span>\\n</a>\\n</li>\\n<li class=\"ah_item\" data-order=\"15\">\\n<a href=\"http://search.naver.com/search.naver?where=nexearch&query=%EB%B2%8C%EB%A3%AC&sm=top_lve.agallgrpmamsi0en0sp0&x_nxpr-front=all01-2&ie=utf8\" class=\"ah_a\" data-ssl=\"https://search.naver.com/search.naver?where=nexearch&query=%EB%B2%8C%EB%A3%AC&sm=top_lve.agallgrpmamsi0en0sp0&x_nxpr-front=all01-2&ie=utf8\" data-clk=\"lve.keyword\">\\n<span class=\"ah_r\">15</span>\\n<span class=\"ah_k\">벌룬</span>\\n</a>\\n</li>\\n<li class=\"ah_item\" data-order=\"16\">\\n<a href=\"http://search.naver.com/search.naver?where=nexearch&query=%EC%82%AC%EC%8A%AC&sm=top_lve.agallgrpmamsi0en0sp0&x_nxpr-front=all01-2&ie=utf8\" class=\"ah_a\" data-ssl=\"https://search.naver.com/search.naver?where=nexearch&query=%EC%82%AC%EC%8A%AC&sm=top_lve.agallgrpmamsi0en0sp0&x_nxpr-front=all01-2&ie=utf8\" data-clk=\"lve.keyword\">\\n<span class=\"ah_r\">16</span>\\n<span class=\"ah_k\">사슬</span>\\n</a>\\n</li>\\n<li class=\"ah_item\" data-order=\"17\">\\n<a href=\"http://search.naver.com/search.naver?where=nexearch&query=%EB%AF%B8%EC%8A%A4%ED%84%B0%ED%8A%B8%EB%A1%AF+%EC%9E%A5%EB%AF%BC%ED%98%B8&sm=top_lve.agallgrpmamsi0en0sp0&x_nxpr-front=all01-2&ie=utf8\" class=\"ah_a\" data-ssl=\"https://search.naver.com/search.naver?where=nexearch&query=%EB%AF%B8%EC%8A%A4%ED%84%B0%ED%8A%B8%EB%A1%AF+%EC%9E%A5%EB%AF%BC%ED%98%B8&sm=top_lve.agallgrpmamsi0en0sp0&x_nxpr-front=all01-2&ie=utf8\" data-clk=\"lve.keyword\">\\n<span class=\"ah_r\">17</span>\\n<span class=\"ah_k\">미스터트롯 장민호</span>\\n</a>\\n</li>\\n<li class=\"ah_item\" data-order=\"18\">\\n<a href=\"http://search.naver.com/search.naver?where=nexearch&query=%EA%B9%80%EC%9B%90%ED%9D%AC&sm=top_lve.agallgrpmamsi0en0sp0&x_nxpr-front=all01-2&ie=utf8\" class=\"ah_a\" data-ssl=\"https://search.naver.com/search.naver?where=nexearch&query=%EA%B9%80%EC%9B%90%ED%9D%AC&sm=top_lve.agallgrpmamsi0en0sp0&x_nxpr-front=all01-2&ie=utf8\" data-clk=\"lve.keyword\">\\n<span class=\"ah_r\">18</span>\\n<span class=\"ah_k\">김원희</span>\\n</a>\\n</li>\\n<li class=\"ah_item\" data-order=\"19\">\\n<a href=\"http://search.naver.com/search.naver?where=nexearch&query=%EC%97%B0%EC%95%A0%EC%9D%98+%EB%A7%9B+%EA%B9%80%EC%A7%84%EC%95%84&sm=top_lve.agallgrpmamsi0en0sp0&x_nxpr-front=all01-2&ie=utf8\" class=\"ah_a\" data-ssl=\"https://search.naver.com/search.naver?where=nexearch&query=%EC%97%B0%EC%95%A0%EC%9D%98+%EB%A7%9B+%EA%B9%80%EC%A7%84%EC%95%84&sm=top_lve.agallgrpmamsi0en0sp0&x_nxpr-front=all01-2&ie=utf8\" data-clk=\"lve.keyword\">\\n<span class=\"ah_r\">19</span>\\n<span class=\"ah_k\">연애의 맛 김진아</span>\\n</a>\\n</li>\\n<li class=\"ah_item\" data-order=\"20\">\\n<a href=\"http://search.naver.com/search.naver?where=nexearch&query=%EC%84%9C%EB%AC%B8%ED%83%81&sm=top_lve.agallgrpmamsi0en0sp0&x_nxpr-front=all01-2&ie=utf8\" class=\"ah_a\" data-ssl=\"https://search.naver.com/search.naver?where=nexearch&query=%EC%84%9C%EB%AC%B8%ED%83%81&sm=top_lve.agallgrpmamsi0en0sp0&x_nxpr-front=all01-2&ie=utf8\" data-clk=\"lve.keyword\">\\n<span class=\"ah_r\">20</span>\\n<span class=\"ah_k\">서문탁</span>\\n</a>\\n</li>\\n</ul>\\n<div class=\"ah_info\">\\n<p class=\"ah_time\" data-time=\"20200104212200\">2020.01.04. 21:22 기준 <a href=\"http://help.naver.com/support/alias/search/word/word_5.naver\" data-ssl=\"https://help.naver.com/support/alias/search/word/word_5.naver\" class=\"ah_btn_help\" data-clk=\"lve.help\"><span class=\"ah_ico_help\"></span><span class=\"blind\">도움말</span></a></p>\\n<a href=\"http://datalab.naver.com/keyword/realtimeList.naver?where=main\" class=\"ah_ha\" data-clk=\"lve.rankhistory\"><span class=\"ah_ico_datalab\">DataLab.</span><span class=\"ah_ico_hlink\"></span></a>\\n</div>\\n</div>\\n\\t\\t</div>\\n\\t</div>\\n\\n</div>\\n<!-- //헤더 -->\\n<div style=\"position:relative;width:1080px;margin:0 auto;z-index:11\">\\n\\t<div id=\"da_top\"></div>\\n\\t<div id=\"da_brand\"></div>\\n\\t<div id=\"da_stake\"></div>\\n\\t<div id=\"da_expwide\"></div>\\n</div>\\n\\n\\n\\t\\t<div class=\"container\" role=\"main\">\\n\\t\\t\\t<div class=\"column_left\">\\n\\t<!-- AD TOP -->\\n\\t<div id=\"veta_top\">\\n\\t\\t<iframe id=\"da_iframe_time\" name=\"da_iframe_time\" src=\"https://nv.veta.naver.com/fxshow?su=SU10079&amp;nrefreshx=0\" data-veta-preview=\"main_time\" title=\"광고\" width=\"740\" height=\"120\" marginheight=\"0\" marginwidth=\"0\" scrolling=\"no\" frameborder=\"0\"></iframe>\\n\\t\\t<div class=\"veta_bdt\"></div><div class=\"veta_bdr\"></div><div class=\"veta_bdb\"></div><div class=\"veta_bdl\"></div>\\n\\t</div>\\n\\t<!-- //AD TOP -->\\n\\n\\t<!-- 뉴스캐스트 -->\\n    \\n    \\n\\n    \\n    \\n    \\n\\n    \\n\\n    \\n    \\n\\n    \\n    <div id=\"news_cast\" class=\"section_newscast\">\\n        <div class=\"area_newstop\">\\n            <div class=\"cast_flash\">\\n                <h3 class=\"cf_tit\">\\n                    <a href=\"http://news.naver.com/main/list.nhn?mode=LPOD&amp;mid=sec&amp;sid1=001&amp;sid2=140&amp;oid=001&amp;isYeonhapFlash=Y\" data-clk=\"ncy.newsflash\"class=\"cf_ta\">연합뉴스<span class=\"cf_ico_link\"></span></a>\\n                </h3>\\n                <div class=\"cast_atc _PM_newsstand_rolling\">\\n                    <ol class=\"ca_l\">\\n\\t\\t\\t\\t\\t\\t<li class=\"ca_item\"><a href=\"http://news.naver.com/main/list.nhn?mode=LPOD&mid=sec&sid1=001&sid2=140&oid=001&isYeonhapFlash=Y&aid=0011314819\" class=\"ca_a\" data-clk=\"ncy.quickarticle\">\"檢개혁 완수\" vs \"진정성 보여라\"…검경수사권 조정법 신경전</a></li>\\n<li class=\"ca_item\"><a href=\"http://news.naver.com/main/list.nhn?mode=LPOD&mid=sec&sid1=001&sid2=140&oid=001&isYeonhapFlash=Y&aid=0011314682\" class=\"ca_a\" data-clk=\"ncy.quickarticle\">검찰, 울산시청 압수수색…\\'송철호 불법지원\\' 단서 수집</a></li>\\n<li class=\"ca_item\"><a href=\"http://news.naver.com/main/list.nhn?mode=LPOD&mid=sec&sid1=001&sid2=140&oid=001&isYeonhapFlash=Y&aid=0011314820\" class=\"ca_a\" data-clk=\"ncy.quickarticle\">\"美, 공항서 솔레이마니 기다렸다 드론공습…임기표적 방식작전\"</a></li>\\n<li class=\"ca_item\"><a href=\"http://news.naver.com/main/list.nhn?mode=LPOD&mid=sec&sid1=001&sid2=140&oid=001&isYeonhapFlash=Y&aid=0011314780\" class=\"ca_a\" data-clk=\"ncy.quickarticle\">송강호와 악수하는 \\'송강호 팬\\' 브래드 피트 화제</a></li>\\n<li class=\"ca_item\"><a href=\"http://news.naver.com/main/list.nhn?mode=LPOD&mid=sec&sid1=001&sid2=140&oid=001&isYeonhapFlash=Y&aid=0011314664\" class=\"ca_a\" data-clk=\"ncy.quickarticle\">\\'경제총리\\' 지명 이은 \\'상생도약\\'…민생경제 고삐 죄는 대통령</a></li>\\n<li class=\"ca_item\"><a href=\"http://news.naver.com/main/list.nhn?mode=LPOD&mid=sec&sid1=001&sid2=140&oid=001&isYeonhapFlash=Y&aid=0011314821\" class=\"ca_a\" data-clk=\"ncy.quickarticle\">보수단체 靑 행진 막아선 맹학교 학부모들…\"공부하게 해달라\"</a></li>\\n<li class=\"ca_item\"><a href=\"http://news.naver.com/main/list.nhn?mode=LPOD&mid=sec&sid1=001&sid2=140&oid=001&isYeonhapFlash=Y&aid=0011314659\" class=\"ca_a\" data-clk=\"ncy.quickarticle\">홍준표 \"입당 1년도 안된 黃, 험지출마 당연\"</a></li>\\n<li class=\"ca_item\"><a href=\"http://news.naver.com/main/list.nhn?mode=LPOD&mid=sec&sid1=001&sid2=140&oid=001&isYeonhapFlash=Y&aid=0011314915\" class=\"ca_a\" data-clk=\"ncy.quickarticle\">일요일 일교차 최대 14도…경기남부·충청권 미세먼지 \\'나쁨\\'</a></li>\\n<li class=\"ca_item\"><a href=\"http://news.naver.com/main/list.nhn?mode=LPOD&mid=sec&sid1=001&sid2=140&oid=001&isYeonhapFlash=Y&aid=0011314834\" class=\"ca_a\" data-clk=\"ncy.quickarticle\">인천남동서, 현장 출동 경찰관 폭행한 프로야구 코치 입건</a></li>\\n<li class=\"ca_item\"><a href=\"http://news.naver.com/main/list.nhn?mode=LPOD&mid=sec&sid1=001&sid2=140&oid=001&isYeonhapFlash=Y&aid=0011314679\" class=\"ca_a\" data-clk=\"ncy.quickarticle\">\"한기총 해산·전광훈 구속\" 국민청원 일주일만에 20만명 동의</a></li>\\n                    </ol>\\n                </div>\\n            </div>\\n            <ul class=\"cast_link\">\\n\\t\\t\\t\\t<li class=\"cl_item\">\\n<a href=\"http://news.naver.com/\" class=\"cl_a cl_news\" data-clk=\"ncy.newshome\">\\n네이버뉴스</a>\\n</li>\\n<li class=\"cl_item\">\\n<a href=\"http://entertain.naver.com/home\" class=\"cl_a cl_ent\" data-clk=\"ncy.entertainment\">\\n연예</a>\\n</li>\\n<li class=\"cl_item\">\\n<a href=\"http://sports.news.naver.com/\" class=\"cl_a cl_sports\" data-clk=\"ncy.sports\">\\n스포츠</a>\\n</li>\\n<li class=\"cl_item\">\\n<a href=\"http://news.naver.com/main/main.nhn?mode=LSD&mid=shm&sid1=101\" class=\"cl_a cl_finance\" data-clk=\"ncy.economy\">\\n경제</a>\\n</li>\\n            </ul>\\n        </div>\\n        <div class=\"area_newsstand\">\\n            <div class=\"an_menulist\">\\n\\t\\t\\t\\t<h3 class=\"an_tit\">\\n\\t\\t\\t\\t\\t<a href=\"http://newsstand.naver.com/\" class=\"an_ta\" target=\"_blank\" data-clk=\"nsd.title\">뉴스스탠드<span class=\"an_ico_link\"></span></a>\\n\\t\\t\\t\\t</h3>\\n                <div class=\"an_menulist_section1\">\\n                    <div class=\"an_sort\" role=\"tablist\">\\n                        <a class=\"as_btn_press _PM_newsstand_total_type is_selected\" href=\"#\" role=\"tab\" aria-selected=\"true\" data-clk=\"nsd.all\">전체 언론사</a>\\n                        <span class=\"as_bar\" role=\"presentation\"></span>\\n                        <a class=\"as_btn_my _PM_newsstand_my_type\" href=\"#\" role=\"tab\" aria-selected=\"false\" data-clk=\"nsd.my\">MY 뉴스</a>\\n                    </div>\\n                </div>\\n                <div class=\"an_menulist_section2\">\\n                    <div class=\"an_sort2\" role=\"tablist\">\\n                        <a class=\"as2_btn _PM_newsstand_thumb_type is_selected\" href=\"#\" role=\"tab\" aria-selected=\"true\" data-clk=\"nsd.pressview\"><i class=\"as2_btn_ico ico_image\"></i><span class=\"blind\">이미지형</span></a>\\n                        <a class=\"as2_btn _PM_newsstand_list_type\" href=\"#\" role=\"tab\" aria-selected=\"false\" data-clk=\"nsd.articleview\"><i class=\"as2_btn_ico ico_list\"></i><span class=\"blind\">리스트형</span></a>\\n                        <a class=\"as2_btn\" href=\"http://newsstand.naver.com/config.html\" data-clk=\"nsd.set\" target=\"_blank\"><i class=\"as2_btn_ico ico_setting\"></i><span class=\"blind\">설정</span></a>\\n                    </div>\\n                    <ul class=\"an_paging\">\\n                        <li class=\"ap_list\"><a class=\"ap_btn _PM_newsstand_prev\" href=\"#\" data-clk=\"nsd.prev\"><i class=\"ap_btn_ico ico_left\"></i><span class=\"blind\">이전 페이지</span></a></li>\\n                        <li class=\"ap_list\"><a class=\"ap_btn _PM_newsstand_next\" href=\"#\" data-clk=\"nsd.next\"><i class=\"ap_btn_ico ico_right\"></i><span class=\"blind\">다음 페이지</span></a></li>\\n                    </ul>\\n                </div>\\n            </div>\\n            <div class=\"an_panel_image _PM_newsstand_thumb\" role=\"tabpanel\" >\\n                <div class=\"api_list_wrap\">\\n                    <h3><span class=\"blind\">언론사 목록</span></h3>\\n                    <div class=\"flick-view\">\\n                        <div class=\"flick-container\">\\n                            <div class=\"flick-panel\">\\n                                <ul class=\"api_list\">\\n\\t\\t\\t\\t\\t\\t\\t\\t\\t\\n \\t\\t\\t\\t\\t\\t\\t\\t\\t\\t\\n<li id=\"NS_079\" class=\"api_item\" data-pid=\"079\">\\n<a class=\"api_link\" href=\"http://newsstand.naver.com/?list=ct1&pcode=079\" aria-haspopup=\"true\" target=\"_blank\">\\n<img src=\"https://s.pstatic.net/static/newsstand/up/2017/0424/nsd143958887.png\" height=\"24\" alt=\"노컷뉴스\" class=\"api_logo\">\\n</a>\\n<div class=\"api_popup_btn_set\" role=\"alertdialog\">\\n<div class=\"api_pbs_inner\">\\n<a href=\"#\" class=\"api_pbs_btn _PM_newsstand_subscribe\" role=\"button\" data-pid=\"079\" data-clk=\"nsd_all*p.sub\">구독</a>\\n<a href=\"#\" class=\"api_pbs_btn _PM_newsstand_unsubscribe\" role=\"button\" data-pid=\"079\" data-clk=\"nsd_all*p.sub\" style=\"display:none\">해지</a>\\n<a href=\"http://newsstand.naver.com/?list=ct1&pcode=079\" class=\"api_pbs_btn api_pbs_lb\" role=\"button\" target=\"_blank\" data-all-clk=\"nsd_all*p.logo\" data-my-clk=\"nsd_myn*p.logo\">기사보기</a>\\n</div>\\n</div>\\n</li>\\n<li id=\"NS_930\" class=\"api_item\" data-pid=\"930\">\\n<a class=\"api_link\" href=\"http://newsstand.naver.com/?list=ct1&pcode=930\" aria-haspopup=\"true\" target=\"_blank\">\\n<img src=\"https://s.pstatic.net/static/newsstand/up/2017/0424/nsd144152433.png\" height=\"24\" alt=\"뉴스타파\" class=\"api_logo\">\\n</a>\\n<div class=\"api_popup_btn_set\" role=\"alertdialog\">\\n<div class=\"api_pbs_inner\">\\n<a href=\"#\" class=\"api_pbs_btn _PM_newsstand_subscribe\" role=\"button\" data-pid=\"930\" data-clk=\"nsd_all*p.sub\">구독</a>\\n<a href=\"#\" class=\"api_pbs_btn _PM_newsstand_unsubscribe\" role=\"button\" data-pid=\"930\" data-clk=\"nsd_all*p.sub\" style=\"display:none\">해지</a>\\n<a href=\"http://newsstand.naver.com/?list=ct1&pcode=930\" class=\"api_pbs_btn api_pbs_lb\" role=\"button\" target=\"_blank\" data-all-clk=\"nsd_all*p.logo\" data-my-clk=\"nsd_myn*p.logo\">기사보기</a>\\n</div>\\n</div>\\n</li>\\n<li id=\"NS_214\" class=\"api_item\" data-pid=\"214\">\\n<a class=\"api_link\" href=\"http://newsstand.naver.com/?list=ct1&pcode=214\" aria-haspopup=\"true\" target=\"_blank\">\\n<img src=\"https://s.pstatic.net/static/newsstand/up/2017/0424/nsd17324940.png\" height=\"24\" alt=\"MBC\" class=\"api_logo\">\\n</a>\\n<div class=\"api_popup_btn_set\" role=\"alertdialog\">\\n<div class=\"api_pbs_inner\">\\n<a href=\"#\" class=\"api_pbs_btn _PM_newsstand_subscribe\" role=\"button\" data-pid=\"214\" data-clk=\"nsd_all*p.sub\">구독</a>\\n<a href=\"#\" class=\"api_pbs_btn _PM_newsstand_unsubscribe\" role=\"button\" data-pid=\"214\" data-clk=\"nsd_all*p.sub\" style=\"display:none\">해지</a>\\n<a href=\"http://newsstand.naver.com/?list=ct1&pcode=214\" class=\"api_pbs_btn api_pbs_lb\" role=\"button\" target=\"_blank\" data-all-clk=\"nsd_all*p.logo\" data-my-clk=\"nsd_myn*p.logo\">기사보기</a>\\n</div>\\n</div>\\n</li>\\n<li id=\"NS_018\" class=\"api_item\" data-pid=\"018\">\\n<a class=\"api_link\" href=\"http://newsstand.naver.com/?list=ct1&pcode=018\" aria-haspopup=\"true\" target=\"_blank\">\\n<img src=\"https://s.pstatic.net/static/newsstand/up/2017/0424/nsd154426359.png\" height=\"24\" alt=\"이데일리\" class=\"api_logo\">\\n</a>\\n<div class=\"api_popup_btn_set\" role=\"alertdialog\">\\n<div class=\"api_pbs_inner\">\\n<a href=\"#\" class=\"api_pbs_btn _PM_newsstand_subscribe\" role=\"button\" data-pid=\"018\" data-clk=\"nsd_all*p.sub\">구독</a>\\n<a href=\"#\" class=\"api_pbs_btn _PM_newsstand_unsubscribe\" role=\"button\" data-pid=\"018\" data-clk=\"nsd_all*p.sub\" style=\"display:none\">해지</a>\\n<a href=\"http://newsstand.naver.com/?list=ct1&pcode=018\" class=\"api_pbs_btn api_pbs_lb\" role=\"button\" target=\"_blank\" data-all-clk=\"nsd_all*p.logo\" data-my-clk=\"nsd_myn*p.logo\">기사보기</a>\\n</div>\\n</div>\\n</li>\\n<li id=\"NS_057\" class=\"api_item\" data-pid=\"057\">\\n<a class=\"api_link\" href=\"http://newsstand.naver.com/?list=ct1&pcode=057\" aria-haspopup=\"true\" target=\"_blank\">\\n<img src=\"https://s.pstatic.net/static/newsstand/up/2017/0424/nsd173223533.png\" height=\"24\" alt=\"MBN\" class=\"api_logo\">\\n</a>\\n<div class=\"api_popup_btn_set\" role=\"alertdialog\">\\n<div class=\"api_pbs_inner\">\\n<a href=\"#\" class=\"api_pbs_btn _PM_newsstand_subscribe\" role=\"button\" data-pid=\"057\" data-clk=\"nsd_all*p.sub\">구독</a>\\n<a href=\"#\" class=\"api_pbs_btn _PM_newsstand_unsubscribe\" role=\"button\" data-pid=\"057\" data-clk=\"nsd_all*p.sub\" style=\"display:none\">해지</a>\\n<a href=\"http://newsstand.naver.com/?list=ct1&pcode=057\" class=\"api_pbs_btn api_pbs_lb\" role=\"button\" target=\"_blank\" data-all-clk=\"nsd_all*p.logo\" data-my-clk=\"nsd_myn*p.logo\">기사보기</a>\\n</div>\\n</div>\\n</li>\\n<li id=\"NS_308\" class=\"api_item\" data-pid=\"308\">\\n<a class=\"api_link\" href=\"http://newsstand.naver.com/?list=ct1&pcode=308\" aria-haspopup=\"true\" target=\"_blank\">\\n<img src=\"https://s.pstatic.net/static/newsstand/up/2017/0424/nsd151929775.png\" height=\"24\" alt=\"시사인\" class=\"api_logo\">\\n</a>\\n<div class=\"api_popup_btn_set\" role=\"alertdialog\">\\n<div class=\"api_pbs_inner\">\\n<a href=\"#\" class=\"api_pbs_btn _PM_newsstand_subscribe\" role=\"button\" data-pid=\"308\" data-clk=\"nsd_all*p.sub\">구독</a>\\n<a href=\"#\" class=\"api_pbs_btn _PM_newsstand_unsubscribe\" role=\"button\" data-pid=\"308\" data-clk=\"nsd_all*p.sub\" style=\"display:none\">해지</a>\\n<a href=\"http://newsstand.naver.com/?list=ct1&pcode=308\" class=\"api_pbs_btn api_pbs_lb\" role=\"button\" target=\"_blank\" data-all-clk=\"nsd_all*p.logo\" data-my-clk=\"nsd_myn*p.logo\">기사보기</a>\\n</div>\\n</div>\\n</li>\\n<li id=\"NS_044\" class=\"api_item\" data-pid=\"044\">\\n<a class=\"api_link\" href=\"http://newsstand.naver.com/?list=ct1&pcode=044\" aria-haspopup=\"true\" target=\"_blank\">\\n<img src=\"https://s.pstatic.net/static/newsstand/up/2017/0424/nsd17341942.png\" height=\"24\" alt=\"코리아헤럴드\" class=\"api_logo\">\\n</a>\\n<div class=\"api_popup_btn_set\" role=\"alertdialog\">\\n<div class=\"api_pbs_inner\">\\n<a href=\"#\" class=\"api_pbs_btn _PM_newsstand_subscribe\" role=\"button\" data-pid=\"044\" data-clk=\"nsd_all*p.sub\">구독</a>\\n<a href=\"#\" class=\"api_pbs_btn _PM_newsstand_unsubscribe\" role=\"button\" data-pid=\"044\" data-clk=\"nsd_all*p.sub\" style=\"display:none\">해지</a>\\n<a href=\"http://newsstand.naver.com/?list=ct1&pcode=044\" class=\"api_pbs_btn api_pbs_lb\" role=\"button\" target=\"_blank\" data-all-clk=\"nsd_all*p.logo\" data-my-clk=\"nsd_myn*p.logo\">기사보기</a>\\n</div>\\n</div>\\n</li>\\n<li id=\"NS_014\" class=\"api_item\" data-pid=\"014\">\\n<a class=\"api_link\" href=\"http://newsstand.naver.com/?list=ct1&pcode=014\" aria-haspopup=\"true\" target=\"_blank\">\\n<img src=\"https://s.pstatic.net/static/newsstand/up/2017/0424/nsd172557496.png\" height=\"24\" alt=\"파이낸셜뉴스\" class=\"api_logo\">\\n</a>\\n<div class=\"api_popup_btn_set\" role=\"alertdialog\">\\n<div class=\"api_pbs_inner\">\\n<a href=\"#\" class=\"api_pbs_btn _PM_newsstand_subscribe\" role=\"button\" data-pid=\"014\" data-clk=\"nsd_all*p.sub\">구독</a>\\n<a href=\"#\" class=\"api_pbs_btn _PM_newsstand_unsubscribe\" role=\"button\" data-pid=\"014\" data-clk=\"nsd_all*p.sub\" style=\"display:none\">해지</a>\\n<a href=\"http://newsstand.naver.com/?list=ct1&pcode=014\" class=\"api_pbs_btn api_pbs_lb\" role=\"button\" target=\"_blank\" data-all-clk=\"nsd_all*p.logo\" data-my-clk=\"nsd_myn*p.logo\">기사보기</a>\\n</div>\\n</div>\\n</li>\\n<li id=\"NS_038\" class=\"api_item\" data-pid=\"038\">\\n<a class=\"api_link\" href=\"http://newsstand.naver.com/?list=ct1&pcode=038\" aria-haspopup=\"true\" target=\"_blank\">\\n<img src=\"https://s.pstatic.net/static/newsstand/up/2017/0424/nsd172837200.png\" height=\"24\" alt=\"한국일보\" class=\"api_logo\">\\n</a>\\n<div class=\"api_popup_btn_set\" role=\"alertdialog\">\\n<div class=\"api_pbs_inner\">\\n<a href=\"#\" class=\"api_pbs_btn _PM_newsstand_subscribe\" role=\"button\" data-pid=\"038\" data-clk=\"nsd_all*p.sub\">구독</a>\\n<a href=\"#\" class=\"api_pbs_btn _PM_newsstand_unsubscribe\" role=\"button\" data-pid=\"038\" data-clk=\"nsd_all*p.sub\" style=\"display:none\">해지</a>\\n<a href=\"http://newsstand.naver.com/?list=ct1&pcode=038\" class=\"api_pbs_btn api_pbs_lb\" role=\"button\" target=\"_blank\" data-all-clk=\"nsd_all*p.logo\" data-my-clk=\"nsd_myn*p.logo\">기사보기</a>\\n</div>\\n</div>\\n</li>\\n<li id=\"NS_009\" class=\"api_item\" data-pid=\"009\">\\n<a class=\"api_link\" href=\"http://newsstand.naver.com/?list=ct1&pcode=009\" aria-haspopup=\"true\" target=\"_blank\">\\n<img src=\"https://s.pstatic.net/static/newsstand/up/2017/0424/nsd145032565.png\" height=\"24\" alt=\"매일경제\" class=\"api_logo\">\\n</a>\\n<div class=\"api_popup_btn_set\" role=\"alertdialog\">\\n<div class=\"api_pbs_inner\">\\n<a href=\"#\" class=\"api_pbs_btn _PM_newsstand_subscribe\" role=\"button\" data-pid=\"009\" data-clk=\"nsd_all*p.sub\">구독</a>\\n<a href=\"#\" class=\"api_pbs_btn _PM_newsstand_unsubscribe\" role=\"button\" data-pid=\"009\" data-clk=\"nsd_all*p.sub\" style=\"display:none\">해지</a>\\n<a href=\"http://newsstand.naver.com/?list=ct1&pcode=009\" class=\"api_pbs_btn api_pbs_lb\" role=\"button\" target=\"_blank\" data-all-clk=\"nsd_all*p.logo\" data-my-clk=\"nsd_myn*p.logo\">기사보기</a>\\n</div>\\n</div>\\n</li>\\n<li id=\"NS_109\" class=\"api_item\" data-pid=\"109\">\\n<a class=\"api_link\" href=\"http://newsstand.naver.com/?list=ct1&pcode=109\" aria-haspopup=\"true\" target=\"_blank\">\\n<img src=\"https://s.pstatic.net/static/newsstand/up/2017/0424/nsd17338859.png\" height=\"24\" alt=\"OSEN\" class=\"api_logo\">\\n</a>\\n<div class=\"api_popup_btn_set\" role=\"alertdialog\">\\n<div class=\"api_pbs_inner\">\\n<a href=\"#\" class=\"api_pbs_btn _PM_newsstand_subscribe\" role=\"button\" data-pid=\"109\" data-clk=\"nsd_all*p.sub\">구독</a>\\n<a href=\"#\" class=\"api_pbs_btn _PM_newsstand_unsubscribe\" role=\"button\" data-pid=\"109\" data-clk=\"nsd_all*p.sub\" style=\"display:none\">해지</a>\\n<a href=\"http://newsstand.naver.com/?list=ct1&pcode=109\" class=\"api_pbs_btn api_pbs_lb\" role=\"button\" target=\"_blank\" data-all-clk=\"nsd_all*p.logo\" data-my-clk=\"nsd_myn*p.logo\">기사보기</a>\\n</div>\\n</div>\\n</li>\\n<li id=\"NS_011\" class=\"api_item\" data-pid=\"011\">\\n<a class=\"api_link\" href=\"http://newsstand.naver.com/?list=ct1&pcode=011\" aria-haspopup=\"true\" target=\"_blank\">\\n<img src=\"https://s.pstatic.net/static/newsstand/up/2017/0424/nsd145718601.png\" height=\"24\" alt=\"서울경제\" class=\"api_logo\">\\n</a>\\n<div class=\"api_popup_btn_set\" role=\"alertdialog\">\\n<div class=\"api_pbs_inner\">\\n<a href=\"#\" class=\"api_pbs_btn _PM_newsstand_subscribe\" role=\"button\" data-pid=\"011\" data-clk=\"nsd_all*p.sub\">구독</a>\\n<a href=\"#\" class=\"api_pbs_btn _PM_newsstand_unsubscribe\" role=\"button\" data-pid=\"011\" data-clk=\"nsd_all*p.sub\" style=\"display:none\">해지</a>\\n<a href=\"http://newsstand.naver.com/?list=ct1&pcode=011\" class=\"api_pbs_btn api_pbs_lb\" role=\"button\" target=\"_blank\" data-all-clk=\"nsd_all*p.logo\" data-my-clk=\"nsd_myn*p.logo\">기사보기</a>\\n</div>\\n</div>\\n</li>\\n<li id=\"NS_396\" class=\"api_item\" data-pid=\"396\">\\n<a class=\"api_link\" href=\"http://newsstand.naver.com/?list=ct6&pcode=396\" aria-haspopup=\"true\" target=\"_blank\">\\n<img src=\"https://s.pstatic.net/static/newsstand/up/2017/0424/nsd1521496.png\" height=\"24\" alt=\"스포츠월드\" class=\"api_logo\">\\n</a>\\n<div class=\"api_popup_btn_set\" role=\"alertdialog\">\\n<div class=\"api_pbs_inner\">\\n<a href=\"#\" class=\"api_pbs_btn _PM_newsstand_subscribe\" role=\"button\" data-pid=\"396\" data-clk=\"nsd_all*p.sub\">구독</a>\\n<a href=\"#\" class=\"api_pbs_btn _PM_newsstand_unsubscribe\" role=\"button\" data-pid=\"396\" data-clk=\"nsd_all*p.sub\" style=\"display:none\">해지</a>\\n<a href=\"http://newsstand.naver.com/?list=ct6&pcode=396\" class=\"api_pbs_btn api_pbs_lb\" role=\"button\" target=\"_blank\" data-all-clk=\"nsd_all*p.logo\" data-my-clk=\"nsd_myn*p.logo\">기사보기</a>\\n</div>\\n</div>\\n</li>\\n<li id=\"NS_820\" class=\"api_item\" data-pid=\"820\">\\n<a class=\"api_link\" href=\"http://newsstand.naver.com/?list=ct7&pcode=820\" aria-haspopup=\"true\" target=\"_blank\">\\n<img src=\"https://s.pstatic.net/static/newsstand/up/2019/0927/nsd18549730.png\" height=\"24\" alt=\"월간노동법률\" class=\"api_logo\">\\n</a>\\n<div class=\"api_popup_btn_set\" role=\"alertdialog\">\\n<div class=\"api_pbs_inner\">\\n<a href=\"#\" class=\"api_pbs_btn _PM_newsstand_subscribe\" role=\"button\" data-pid=\"820\" data-clk=\"nsd_all*p.sub\">구독</a>\\n<a href=\"#\" class=\"api_pbs_btn _PM_newsstand_unsubscribe\" role=\"button\" data-pid=\"820\" data-clk=\"nsd_all*p.sub\" style=\"display:none\">해지</a>\\n<a href=\"http://newsstand.naver.com/?list=ct7&pcode=820\" class=\"api_pbs_btn api_pbs_lb\" role=\"button\" target=\"_blank\" data-all-clk=\"nsd_all*p.logo\" data-my-clk=\"nsd_myn*p.logo\">기사보기</a>\\n</div>\\n</div>\\n</li>\\n<li id=\"NS_340\" class=\"api_item\" data-pid=\"340\">\\n<a class=\"api_link\" href=\"http://newsstand.naver.com/?list=ct3&pcode=340\" aria-haspopup=\"true\" target=\"_blank\">\\n<img src=\"https://s.pstatic.net/static/newsstand/up/2017/0424/nsd173252323.png\" height=\"24\" alt=\"OBS\" class=\"api_logo\">\\n</a>\\n<div class=\"api_popup_btn_set\" role=\"alertdialog\">\\n<div class=\"api_pbs_inner\">\\n<a href=\"#\" class=\"api_pbs_btn _PM_newsstand_subscribe\" role=\"button\" data-pid=\"340\" data-clk=\"nsd_all*p.sub\">구독</a>\\n<a href=\"#\" class=\"api_pbs_btn _PM_newsstand_unsubscribe\" role=\"button\" data-pid=\"340\" data-clk=\"nsd_all*p.sub\" style=\"display:none\">해지</a>\\n<a href=\"http://newsstand.naver.com/?list=ct3&pcode=340\" class=\"api_pbs_btn api_pbs_lb\" role=\"button\" target=\"_blank\" data-all-clk=\"nsd_all*p.logo\" data-my-clk=\"nsd_myn*p.logo\">기사보기</a>\\n</div>\\n</div>\\n</li>\\n<li id=\"NS_945\" class=\"api_item\" data-pid=\"945\">\\n<a class=\"api_link\" href=\"http://newsstand.naver.com/?list=ct3&pcode=945\" aria-haspopup=\"true\" target=\"_blank\">\\n<img src=\"https://s.pstatic.net/static/newsstand/up/2017/0424/nsd173618176.png\" height=\"24\" alt=\"YTN사이언스\" class=\"api_logo\">\\n</a>\\n<div class=\"api_popup_btn_set\" role=\"alertdialog\">\\n<div class=\"api_pbs_inner\">\\n<a href=\"#\" class=\"api_pbs_btn _PM_newsstand_subscribe\" role=\"button\" data-pid=\"945\" data-clk=\"nsd_all*p.sub\">구독</a>\\n<a href=\"#\" class=\"api_pbs_btn _PM_newsstand_unsubscribe\" role=\"button\" data-pid=\"945\" data-clk=\"nsd_all*p.sub\" style=\"display:none\">해지</a>\\n<a href=\"http://newsstand.naver.com/?list=ct3&pcode=945\" class=\"api_pbs_btn api_pbs_lb\" role=\"button\" target=\"_blank\" data-all-clk=\"nsd_all*p.logo\" data-my-clk=\"nsd_myn*p.logo\">기사보기</a>\\n</div>\\n</div>\\n</li>\\n<li id=\"NS_823\" class=\"api_item\" data-pid=\"823\">\\n<a class=\"api_link\" href=\"http://newsstand.naver.com/?list=ct2&pcode=823\" aria-haspopup=\"true\" target=\"_blank\">\\n<img src=\"https://s.pstatic.net/static/newsstand/up/2019/1016/nsd112124284.png\" height=\"24\" alt=\"UPI뉴스\" class=\"api_logo\">\\n</a>\\n<div class=\"api_popup_btn_set\" role=\"alertdialog\">\\n<div class=\"api_pbs_inner\">\\n<a href=\"#\" class=\"api_pbs_btn _PM_newsstand_subscribe\" role=\"button\" data-pid=\"823\" data-clk=\"nsd_all*p.sub\">구독</a>\\n<a href=\"#\" class=\"api_pbs_btn _PM_newsstand_unsubscribe\" role=\"button\" data-pid=\"823\" data-clk=\"nsd_all*p.sub\" style=\"display:none\">해지</a>\\n<a href=\"http://newsstand.naver.com/?list=ct2&pcode=823\" class=\"api_pbs_btn api_pbs_lb\" role=\"button\" target=\"_blank\" data-all-clk=\"nsd_all*p.logo\" data-my-clk=\"nsd_myn*p.logo\">기사보기</a>\\n</div>\\n</div>\\n</li>\\n<li id=\"NS_938\" class=\"api_item\" data-pid=\"938\">\\n<a class=\"api_link\" href=\"http://newsstand.naver.com/?list=ct7&pcode=938\" aria-haspopup=\"true\" target=\"_blank\">\\n<img src=\"https://s.pstatic.net/static/newsstand/up/2017/1106/nsd95428551.png\" height=\"24\" alt=\"그린포스트코리아\" class=\"api_logo\">\\n</a>\\n<div class=\"api_popup_btn_set\" role=\"alertdialog\">\\n<div class=\"api_pbs_inner\">\\n<a href=\"#\" class=\"api_pbs_btn _PM_newsstand_subscribe\" role=\"button\" data-pid=\"938\" data-clk=\"nsd_all*p.sub\">구독</a>\\n<a href=\"#\" class=\"api_pbs_btn _PM_newsstand_unsubscribe\" role=\"button\" data-pid=\"938\" data-clk=\"nsd_all*p.sub\" style=\"display:none\">해지</a>\\n<a href=\"http://newsstand.naver.com/?list=ct7&pcode=938\" class=\"api_pbs_btn api_pbs_lb\" role=\"button\" target=\"_blank\" data-all-clk=\"nsd_all*p.logo\" data-my-clk=\"nsd_myn*p.logo\">기사보기</a>\\n</div>\\n</div>\\n</li>\\n\\n\\t\\t\\t\\t\\t\\t\\t\\t\\t\\n                                </ul>\\n                            </div>\\n                        </div>\\n                    </div>\\n                    <i class=\"api_list_border_right\" role=\"presentation\" aria-hidden=\"true\"></i>\\n                    <i class=\"api_list_border_horizontal1\" role=\"presentation\" aria-hidden=\"true\"></i>\\n                    <i class=\"api_list_border_horizontal2\" role=\"presentation\" aria-hidden=\"true\"></i>\\n                </div>\\n            </div>\\n            <div class=\"an_panel_list _PM_newsstand_list\" role=\"tabpanel\" aria-hidden=\"false\" style=\"display:none;\"  >\\n                <div class=\"apl_category_wrap\">\\n                    <h3><span class=\"blind\">언론사 목록</span></h3>\\n                    <ul class=\"aplc_list\" data-tab=\"total\">\\n                        <li class=\"aplc_item\"><a class=\"aplc_link is_selected\" href=\"#\" data-category=\"ct2\" data-clk=\"nsd_all.daei\"><span class=\"aplc_name\">종합/경제</span><span class=\"aplc_paging\"></span></a></li>\\n                        <li class=\"aplc_item\"><a class=\"aplc_link\" href=\"#\" data-category=\"ct3\" data-clk=\"nsd_all.dtvcom\"><span class=\"aplc_name\">방송/통신</span><span class=\"aplc_paging\"></span></a></li>\\n                        <li class=\"aplc_item\"><a class=\"aplc_link\" href=\"#\" data-category=\"ct4\" data-clk=\"nsd_all.dit\"><span class=\"aplc_name\">IT</span><span class=\"aplc_paging\"></span></a></li>\\n                        <li class=\"aplc_item\"><a class=\"aplc_link\" href=\"#\" data-category=\"ct5\" data-clk=\"nsd_all.deng\"><span class=\"aplc_name\">영자지</span><span class=\"aplc_paging\"></span></a></li>\\n                        <li class=\"aplc_item\"><a class=\"aplc_link\" href=\"#\" data-category=\"ct6\" data-clk=\"nsd_all.dsporent\"><span class=\"aplc_name\">스포츠/연예</span><span class=\"aplc_paging\"></span></a></li>\\n                        <li class=\"aplc_item\"><a class=\"aplc_link\" href=\"#\" data-category=\"ct7\" data-clk=\"nsd_all.dmagtec\"><span class=\"aplc_name\">매거진/전문지</span><span class=\"aplc_paging\"></span></a></li>\\n                        <li class=\"aplc_item\"><a class=\"aplc_link\" href=\"#\" data-category=\"ct8\" data-clk=\"nsd_all.dloc\"><span class=\"aplc_name\">지역</span><span class=\"aplc_paging\"></span></a></li>\\n                    </ul>\\n\\t\\t\\t\\t\\t<ul class=\"aplc_list\" data-tab=\"my\" style=\"display:none;\">\\n\\t\\t\\t\\t\\t\\t<!-- nvpaperlist:empty -->\\n\\t\\t\\t\\t\\t</ul>\\n                </div>\\n                <div class=\"flick-view\">\\n                    <div class=\"flick-container\">\\n                        <div class=\"flick-panel\">\\n                            \\n\\t\\t\\t\\t\\t\\t\\t\\n                        </div>\\n                    </div>\\n                </div>\\n            </div>\\n            <div class=\"an_panel_list _PM_newsstand_info\" role=\"tabpanel\" aria-hidden=\"false\" style=\"display:none;\">\\n                <div class=\"flick-view\">\\n                    <div class=\"flick-container\">\\n                        <div class=\"flick-panel\">\\n                            <div class=\"an_nopress_view\">\\n                                <div class=\"anv_wrap\">\\n                                    <em class=\"anv_tit\">설정한 언론사가 없습니다.</em><p class=\"anv_text\">언론사 구독 설정에서 MY언론사를 추가하면</p><p class=\"anv_text\">설정한 언론사의 기사들을 네이버 홈에서 바로 보실 수 있습니다.</p>\\n                                \\t<a class=\"anv_btn\" href=\"http://newsstand.naver.com/config.html\" role=\"button\" data-clk=\"nsd_myn*a.thum\" target=\"_blank\">언론사 추가</a>\\n                            \\t</div>\\n                        \\t</div>\\n                        </div>\\n                    </div>\\n                </div>\\n            </div>\\n\\t\\t\\t<div class=\"PM_CL_newsstand_layer\">\\n\\t\\t\\t</div>\\n        </div>\\n    </div>\\n\\t<!-- //뉴스캐스트 -->\\n</div>\\n\\n\\t\\t\\t<div class=\"column_right\">\\n\\t<!-- 로그인 -->\\n\\t\\n\\t\\t\\n\\n\\n\\n\\n\\n\\t\\n\\n\\n<div id=\"account\" class=\"section_login\">\\n\\t<h2 class=\"blind\">Sign in</h2>\\n\\t<div class=\"lg_global\">\\n\\t\\t<p class=\"lg_global_text\">Connect with people</p>\\n\\t\\t<a class=\"lg_global_btn\" href=\"https://nid.naver.com/nidlogin.login?mode=form&url=https%3A%2F%2Fwww.naver.com\" role=\"button\"  data-clk=\"log_off.login\">\\n\\t\\t\\t<i class=\"ico_global_login lang_en_v1\"><span class=\"blind\">NAVER Sign in</span></i>\\n\\t\\t</a>\\n\\t\\t<div class=\"lg_links\">\\n\\t\\t\\t<a href=\"https://nid.naver.com/nidregister.form?url=https%3A%2F%2Fwww.naver.com\" class=\"lg_link_join\" data-clk=\"log_off.registration\">Sign up</a>\\n\\t\\t\\t<span class=\"lg_link_find\">Forgot <a href=\"https://nid.naver.com/user/help.nhn?todo=idinquiry\" class=\"lg_find_text_en\" data-clk=\"log_off.searchid\">Username</a> or <a href=\"https://nid.naver.com/nidreminder.form\" class=\"lg_find_text_en\" data-clk=\"log_off.searchpass\">Password?</a></span>\\n\\t\\t</div>\\n\\t</div>\\n</div>\\n\\n\\n\\t\\n\\t<!-- //로그인 -->\\n\\t<div id=\"ad_branding_hide\"></div>\\n\\t<!-- 타임스퀘어 -->\\n\\t<div class=\"_PM_timesquare_wrapper\" id=\"time_square\">\\n\\t\\t<div class=\"section_timesquare _PM_timesquare_base\" data-code=\"weather\" data-monitor-weather=\"20200104211654\">\\n<h2 class=\"blind\">타임스퀘어</h2>\\n<div class=\"area_header\">\\n<div class=\"header_info _PM_timesquare_info\">\\n<a href=\"https://calendar.naver.com\" data-clk=\"squ.date\" class=\"hi_date\"><span class=\"hi_dnum\">01.04.</span><span class=\"hi_day\">(토)</span></a><i class=\"hi_slash\" aria-hidden=\"true\" role=\"presentation\">|</i>\\n\\n<a href=\"#\" data-clk=\"squ_wea.set\" class=\"hi_tit _PM_timesquare_weather_loc\">서울시 신도림동<i class=\"ico_btn_arrow\" aria-hidden=\"true\"></i></a>\\n</div>\\n<div class=\"header_paging _PM_timesquare_navi\">\\n</div>\\n<div class=\"header_btns\">\\n<a data-clk=\"squ.pre\" class=\"header_btn_prev _PM_timesquare_prev\" href=\"#\"><i class=\"ico_btn_prev\" aria-hidden=\"true\"></i><span class=\"blind\">앞의 목록으로 이동</span></a>\\n<a data-clk=\"squ.next\" class=\"header_btn_next _PM_timesquare_next\" href=\"#\"><i class=\"ico_btn_next\" aria-hidden=\"true\"></i><span class=\"blind\">뒤의 목록으로 이동</span></a>\\n</div>\\n</div>\\n<div class=\"area_ct\">\\n<div class=\"flick-view\">\\n<div class=\"flick-container\">\\n<div class=\"flick-panel _PM_timesquare_list\" data-code=\"weather\">\\n<div class=\"type_weather\">\\n<a data-clk=\"squ_wea.con\" href=\"http://weather.naver.com/rgn/townWetr.nhn?naverRgnCd=09530101\" class=\"info_layer\">\\n<div class=\"thumb_lg ico_w02\"><span class=\"blind\">날씨 맑음</span></div>\\n<div class=\"info_temp\">\\n<div class=\"temp_current\" aria-label=\"현재기온\"><span class=\"tc_text\">4</span>°C</div>\\n<span class=\"temp_lowest\" aria-label=\"최저기온\"><span class=\"tl_text\">-3</span>°<i class=\"tl_slash\" aria-hidden=\"true\">/</i></span>\\n<span class=\"temp_highest\" aria-label=\"최고기온\"><span class=\"th_text\">6</span>°</span>\\n</div>\\n<div class=\"info_tmr\">\\n<em class=\"it_tit\">내일 오전</em>\\n<span class=\"info_wrap\">\\n<i class=\"thumb_sm ico_w01\"><span class=\"blind\">날씨 맑음</span></i>\\n<span class=\"it_temp\">-3°</span>\\n</span>\\n</div>\\n<div class=\"info_tmr\">\\n<em class=\"it_tit\">내일 오후</em>\\n<span class=\"info_wrap\">\\n<i class=\"thumb_sm ico_w05\"><span class=\"blind\">날씨 구름많음</span></i>\\n<span class=\"it_temp\">6°</span>\\n</span>\\n</div>\\n</a>\\n<div class=\"info_breaking\">\\n<a data-clk=\"squ_wea.tit\" href=\"http://weather.naver.com/\"><em class=\"ib_wt\">날씨</em></a>\\n<a data-clk=\"squ_wea.news\" href=\"https://search.naver.com/search.naver?where=nexearch&query=%EC%A0%84%EA%B5%AD%EB%82%A0%EC%94%A8&sm=top_clk.weather\"><span class=\"ib_text\">실시간 기상 정보 확인하기</span></a><i class=\"ib_vertical\" aria-hidden=\"true\">|</i><a data-clk=\"squ_wea.news\" href=\"https://search.naver.com/search.naver?where=nexearch&sm=top_hty&fbm=1&ie=utf8&query=%EC%A3%BC%EA%B0%84+%EC%98%88%EB%B3%B4\"><span class=\"ib_date\">주간예보</span></a>\\n</div>\\n</div>\\n</div>\\n</div>\\n</div>\\n</div>\\n</div>\\n\\n\\t\\n\\t</div>\\n\\t<!-- //타임스퀘어 -->\\n\\n\\t<!-- 광고 -->\\n\\t<div id=\"veta_branding\">\\n\\t<iframe id=\"da_iframe_rolling\" name=\"da_iframe_rolling\" src=\"https://nv.veta.naver.com/fxshow?su=SU10078&amp;nrefreshx=0\" data-veta-preview=\"main_rolling\" title=\"광고\" width=\"332\" height=\"150\" marginheight=\"0\" marginwidth=\"0\" scrolling=\"no\" frameborder=\"0\"></iframe>\\n\\t\\t<div class=\"veta_bdt\"></div><div class=\"veta_bdr\"></div><div class=\"veta_bdb\"></div><div class=\"veta_bdl\"></div>\\n\\t</div>\\n\\t<!-- //광고 -->\\n</div>\\n\\n\\t\\t\\t<!-- EMPTY -->\\n\\t\\t\\t<div class=\"column_bottom\">\\n\\t<!-- 주제형캐스트 -->\\n\\t<div id=\"themecast\" class=\"section_themecast\">\\n\\t\\t<h2 class=\"blind\">주제형 캐스트</h2>\\n\\t\\t<div id=\"PM_ID_themecastNavi\" class=\"themecast_category\">\\n\\t\\t\\t<div class=\"area_category\">\\n\\t\\t\\t\\t<h3 class=\"blind\">관심 주제 선택</h3>\\n\\t\\t\\t\\t<div class=\"ac_scroll\" role=\"tablist\">\\n\\t\\t\\t\\t\\t<div class=\"scroll-area\" role=\"presentation\">\\n\\t\\t\\t\\t\\t\\t<!-- style=\"width:xxxxPX\" -->\\n\\t\\t\\t\\t\\t\\t<div id=\"PM_ID_themelist\" class=\"rolling-container\" role=\"presentation\" style=\"width:587;overflow:hidden;\">\\n\\t\\t\\t\\t\\t\\t\\t<ul style=\"width:2000px\">\\n\\t\\t\\t\\t\\t\\t\\t\\t<li class=\"rolling-panel\" role=\"presentation\">\\n\\t<a href=\"#LIVINGHOME\" role=\"tab\" aria-selected=\"false\" data-id=\"LIVINGHOME\" data-nclick=\"lif\" data-clk=\"tct.lif\" class=\"PM_CL_themeItem ac_a tcc_livinghome\">리빙</a>\\n</li><li class=\"rolling-panel\" role=\"presentation\">\\n\\t<a href=\"#LIVING\" role=\"tab\" aria-selected=\"false\" data-id=\"LIVING\" data-nclick=\"fod\" data-clk=\"tct.fod\" class=\"PM_CL_themeItem ac_a tcc_living\">푸드</a>\\n</li><li class=\"rolling-panel\" role=\"presentation\">\\n\\t<a href=\"#SPORTS\" role=\"tab\" aria-selected=\"false\" data-id=\"SPORTS\" data-nclick=\"spo\" data-clk=\"tct.spo\" class=\"PM_CL_themeItem ac_a tcc_sports\">스포츠</a>\\n</li><li class=\"rolling-panel\" role=\"presentation\">\\n\\t<a href=\"#CARGAME\" role=\"tab\" aria-selected=\"false\" data-id=\"CARGAME\" data-nclick=\"aut\" data-clk=\"tct.aut\" class=\"PM_CL_themeItem ac_a tcc_cargame\">자동차</a>\\n</li><li class=\"rolling-panel\" role=\"presentation\">\\n\\t<a href=\"#BEAUTY\" role=\"tab\" aria-selected=\"false\" data-id=\"BEAUTY\" data-nclick=\"bty\" data-clk=\"tct.bty\" class=\"PM_CL_themeItem ac_a tcc_beauty\">패션뷰티</a>\\n</li><li class=\"rolling-panel\" role=\"presentation\">\\n\\t<a href=\"#MOMKIDS\" role=\"tab\" aria-selected=\"true\" data-id=\"MOMKIDS\" data-nclick=\"mom\" data-clk=\"tct.mom\" class=\"PM_CL_themeItem ac_a tcc_momkids\">부모i</a>\\n</li><li class=\"rolling-panel\" role=\"presentation\">\\n\\t<a href=\"#HEALTH\" role=\"tab\" aria-selected=\"false\" data-id=\"HEALTH\" data-nclick=\"hea\" data-clk=\"tct.hea\" class=\"PM_CL_themeItem ac_a tcc_health\">건강</a>\\n</li><li class=\"rolling-panel\" role=\"presentation\">\\n\\t<a href=\"#BBOOM\" role=\"tab\" aria-selected=\"false\" data-id=\"BBOOM\" data-nclick=\"web\" data-clk=\"tct.web\" class=\"PM_CL_themeItem ac_a tcc_bboom\">웹툰</a>\\n</li><li class=\"rolling-panel\" role=\"presentation\">\\n\\t<a href=\"#GAMEAPP\" role=\"tab\" aria-selected=\"false\" data-id=\"GAMEAPP\" data-nclick=\"gam\" data-clk=\"tct.gam\" class=\"PM_CL_themeItem ac_a tcc_gameapp\">게임</a>\\n</li><li class=\"rolling-panel\" role=\"presentation\">\\n\\t<a href=\"#VIDEO\" role=\"tab\" aria-selected=\"false\" data-id=\"VIDEO\" data-nclick=\"tvc\" data-clk=\"tct.tvc\" class=\"PM_CL_themeItem ac_a tcc_video\">TV연예</a>\\n</li><li class=\"rolling-panel\" role=\"presentation\">\\n\\t<a href=\"#MUSIC\" role=\"tab\" aria-selected=\"false\" data-id=\"MUSIC\" data-nclick=\"muc\" data-clk=\"tct.muc\" class=\"PM_CL_themeItem ac_a tcc_music\">뮤직</a>\\n</li><li class=\"rolling-panel\" role=\"presentation\">\\n\\t<a href=\"#MOVIE\" role=\"tab\" aria-selected=\"false\" data-id=\"MOVIE\" data-nclick=\"mov\" data-clk=\"tct.mov\" class=\"PM_CL_themeItem ac_a tcc_movie\">영화</a>\\n</li><li class=\"rolling-panel\" role=\"presentation\">\\n\\t<a href=\"#CULTURE\" role=\"tab\" aria-selected=\"false\" data-id=\"CULTURE\" data-nclick=\"bok\" data-clk=\"tct.bok\" class=\"PM_CL_themeItem ac_a tcc_culture\">책문화</a>\\n</li><li class=\"rolling-panel\" role=\"presentation\">\\n\\t<a href=\"#WITH\" role=\"tab\" aria-selected=\"false\" data-id=\"WITH\" data-nclick=\"pub\" data-clk=\"tct.pub\" class=\"PM_CL_themeItem ac_a tcc_with\">함께N</a>\\n</li><li class=\"rolling-panel\" role=\"presentation\">\\n\\t<a href=\"#TRAVEL\" role=\"tab\" aria-selected=\"false\" data-id=\"TRAVEL\" data-nclick=\"tra\" data-clk=\"tct.tra\" class=\"PM_CL_themeItem ac_a tcc_travel\">여행+</a>\\n</li><li class=\"rolling-panel\" role=\"presentation\">\\n\\t<a href=\"#DESIGN\" role=\"tab\" aria-selected=\"false\" data-id=\"DESIGN\" data-nclick=\"des\" data-clk=\"tct.des\" class=\"PM_CL_themeItem ac_a tcc_design\">디자인</a>\\n</li><li class=\"rolling-panel\" role=\"presentation\">\\n\\t<a href=\"#FINANCE\" role=\"tab\" aria-selected=\"false\" data-id=\"FINANCE\" data-nclick=\"fin\" data-clk=\"tct.fin\" class=\"PM_CL_themeItem ac_a tcc_finance\">경제M</a>\\n</li><li class=\"rolling-panel\" role=\"presentation\">\\n\\t<a href=\"#JOB\" role=\"tab\" aria-selected=\"false\" data-id=\"JOB\" data-nclick=\"job\" data-clk=\"tct.job\" class=\"PM_CL_themeItem ac_a tcc_job\">JOB&</a>\\n</li><li class=\"rolling-panel\" role=\"presentation\">\\n\\t<a href=\"#SCIENCE\" role=\"tab\" aria-selected=\"false\" data-id=\"SCIENCE\" data-nclick=\"sci\" data-clk=\"tct.sci\" class=\"PM_CL_themeItem ac_a tcc_science\">과학</a>\\n</li><li class=\"rolling-panel\" role=\"presentation\">\\n\\t<a href=\"#CHINA\" role=\"tab\" aria-selected=\"false\" data-id=\"CHINA\" data-nclick=\"chn\" data-clk=\"tct.chn\" class=\"PM_CL_themeItem ac_a tcc_china\">중국</a>\\n</li><li class=\"rolling-panel\" role=\"presentation\">\\n\\t<a href=\"#BUSINESS\" role=\"tab\" aria-selected=\"false\" data-id=\"BUSINESS\" data-nclick=\"bsn\" data-clk=\"tct.bsn\" class=\"PM_CL_themeItem ac_a tcc_business\">비즈니스</a>\\n</li><li class=\"rolling-panel\" role=\"presentation\">\\n\\t<a href=\"#FARM\" role=\"tab\" aria-selected=\"false\" data-id=\"FARM\" data-nclick=\"far\" data-clk=\"tct.far\" class=\"PM_CL_themeItem ac_a tcc_farm\">FARM</a>\\n</li><li class=\"rolling-panel\" role=\"presentation\">\\n\\t<a href=\"#SCHOOL\" role=\"tab\" aria-selected=\"false\" data-id=\"SCHOOL\" data-nclick=\"scl\" data-clk=\"tct.scl\" class=\"PM_CL_themeItem ac_a tcc_school\">스쿨잼</a>\\n</li><li class=\"rolling-panel\" role=\"presentation\">\\n\\t<a href=\"#SHOW\" role=\"tab\" aria-selected=\"false\" data-id=\"SHOW\" data-nclick=\"sow\" data-clk=\"tct.sow\" class=\"PM_CL_themeItem ac_a tcc_show\">공연전시</a>\\n</li><li class=\"rolling-panel\" role=\"presentation\">\\n\\t<a href=\"#LAW\" role=\"tab\" aria-selected=\"false\" data-id=\"LAW\" data-nclick=\"law\" data-clk=\"tct.law\" class=\"PM_CL_themeItem ac_a tcc_law\">법률</a>\\n</li><li class=\"rolling-panel\" role=\"presentation\">\\n\\t<a href=\"#ANIMAL\" role=\"tab\" aria-selected=\"false\" data-id=\"ANIMAL\" data-nclick=\"ani\" data-clk=\"tct.ani\" class=\"PM_CL_themeItem ac_a tcc_animal\">동물공감</a>\\n</li><li class=\"rolling-panel\" role=\"presentation\">\\n\\t<a href=\"#WEDDING\" role=\"tab\" aria-selected=\"false\" data-id=\"WEDDING\" data-nclick=\"wed\" data-clk=\"tct.wed\" class=\"PM_CL_themeItem ac_a tcc_wedding\">연애·결혼</a>\\n</li><li class=\"rolling-panel\" role=\"presentation\">\\n\\t<a href=\"#ITTECH\" role=\"tab\" aria-selected=\"false\" data-id=\"ITTECH\" data-nclick=\"tec\" data-clk=\"tct.tec\" class=\"PM_CL_themeItem ac_a tcc_ittech\">테크</a>\\n</li><li class=\"rolling-panel\" role=\"presentation\">\\n\\t<a href=\"#EMOTION\" role=\"tab\" aria-selected=\"false\" data-id=\"EMOTION\" data-nclick=\"emo\" data-clk=\"tct.emo\" class=\"PM_CL_themeItem ac_a tcc_emotion\">감성충전</a>\\n</li>\\n\\t\\t\\t\\t\\t\\t\\t</ul>\\n\\t\\t\\t\\t\\t\\t</div>\\n\\t\\t\\t\\t\\t</div>\\n\\t\\t\\t\\t</div>\\n\\t\\t\\t</div>\\n\\t\\t\\t<div class=\"area_catebtns\">\\n\\t\\t\\t\\t<a href=\"#\" class=\"ac_btn_prev PM_CL_btnThemePrev\" data-clk=\"tct.prev\" role=\"button\"><span class=\"blind\">이전 주제</span><span class=\"ac_bicon\"></span></a>\\n\\t\\t\\t\\t<a href=\"#\" class=\"ac_btn_next PM_CL_btnThemeNext\" data-clk=\"tct.next\" role=\"button\"><span class=\"blind\">다음 주제</span><span class=\"ac_bicon\"></span></a>\\n\\t\\t\\t\\t<a href=\"#\" class=\"ac_btn_cate PM_CL_btnThemeEdit\" data-clk=\"tct.menu\" role=\"button\"><span class=\"blind\">전체 주제 열기</span><span class=\"ac_bicon\"></span></a>\\n\\t\\t\\t\\t<div id=\"PM_ID_themeNaviLeft\" class=\"ac_bgl\" style=\"display:none\"></div>\\n\\t\\t\\t\\t<div id=\"PM_ID_themeNaviRight\" class=\"ac_bgr\" style=\"display:none\"></div>\\n\\t\\t\\t</div>\\n\\t\\t</div>\\n\\t\\t<div id=\"PM_ID_themeEdit\" class=\"area_themesetting\" aria-hidden=\"true\">\\n\\t<h3 class=\"blind\">관심 주제 설정</h3>\\n\\t<script id=\"PM_ID_themeEditItem\" type=\"text/template\">\\n\\t\\t<li class=\"at_item PM_CL_themeEditItem\" data-clk=\"tca*l.{=nclick}\">\\n\\t\\t\\t<div class=\"at_iw\" role=\"checkbox\" aria-checked=\"{if subscribed}true{/if}\" >\\n\\t\\t\\t\\t<span class=\"at_iradio\">\\n\\t\\t\\t\\t\\t<span data-id=\"{=code}\" class=\"PM_CL_themeItemCheck radio-mark{if subscribed} radio-checked{/if}\"></span>\\n\\t\\t\\t\\t\\t<input type=\"checkbox\" id=\"config_tcc_{=css}\" class=\"at_ipt\">\\n\\t\\t\\t\\t</span>\\n\\t\\t\\t\\t<label for=\"config_tcc_{=css}\">{=name}</label>\\n\\t\\t\\t</div>\\n\\t\\t</li>\\n\\t</script>\\n\\t<script id=\"PM_ID_themeSelectItem\" type=\"text/template\">\\n\\t\\t<li class=\"at_item\" role=\"presentation\" data-clk=\"tca.{=nclick}\"{if subscribed} data-nclick=\"{=nclick}\"{/if}>\\n\\t\\t\\t<a href=\"#{=code}\" data-id=\"{=code}\" role=\"tab\" aria-selected=\"{if subscribed}true{else}false{/if}\" class=\"PM_CL_themeItemSelect at_a tcc_{=css}\">\\n\\t\\t\\t\\t<span class=\"at_icon\"></span>{=name}\\n\\t\\t\\t\\t{if isNewPanel }<span class=\"at_ico_new\">NEW</span>{/if}\\n\\t\\t\\t</a>\\n\\t\\t</li>\\n\\t</script>\\n\\t<script id=\"PM_ID_themeNaviItem\" type=\"text/template\">\\n\\t\\t<li class=\"rolling-panel\" role=\"presentation\">\\n\\t\\t\\t<span href=\"#{=code}\" data-id=\"{=code}\" role=\"tab\" aria-selected=\"false\" class=\"ac_a tcc_{=css}\">{=name}</span>\\n\\t\\t</li>\\t\\n\\t</script>\\n\\t<script id=\"PM_ID_themeNaviEmptyItem\" type=\"text/template\">\\n\\t\\t<li class=\"rolling-panel{if first} ac_pointer {/if}\" role=\"presentation\">\\n\\t\\t\\t<span class=\"ac_empty\"></span>\\n\\t\\t</li>\\n\\t</script>\\n\\t<script id=\"PM_ID_themeSubscribePopup\" type=\"text/template\">\\n\\t\\t<div class=\"area_alert_confirm\" style=\"top:{=top}px;left:{=left}px\">\\n\\t\\t\\t<div class=\"aa_wrap\">\\n\\t\\t\\t\\t<p class=\"aa_txt\"><strong class=\"aa_st tcc_{=css}\">\\'{=name}\\'</strong>를 관심주제로 <br>설정하시겠습니까?</p>\\n\\t\\t\\t\\t<div class=\"aa_btns\">\\n\\t\\t\\t\\t\\t<a href=\"#\" data-id=\"{=code}\" data-nclick=\"{=nclick}\" role=\"button\" class=\"PM_CL_themeAddOk aa_btn_confirm\" data-clk=\"tca.likeok\">확인</a>\\n\\t\\t\\t\\t\\t<a href=\"#\" role=\"button\" class=\"PM_CL_themeAddCancel aa_btn_cancel\" data-clk=\"tca.likecancel\">취소</a>\\n\\t\\t\\t\\t</div>\\n\\t\\t\\t</div>\\n\\t\\t</div>\\n\\t</script>\\n\\t<script id=\"PM_ID_themeImportPopup\" type=\"text/template\">\\n\\t\\t<div class=\"area_alert_confirm\">\\n\\t\\t\\t<div class=\"aa_wrap\">\\n\\t\\t\\t<p class=\"aa_txt\"><strong class=\"aa_st\">모바일에서 설정한 주제</strong>를 <br>가져오시겠습니까?</p>\\n\\t\\t\\t<div class=\"aa_btns\">\\n\\t\\t\\t\\t<a href=\"#\" role=\"button\" class=\"PM_CL_themeImportOk aa_btn_confirm\" data-clk=\"tca.mobileok\">확인</a>\\n\\t\\t\\t\\t<a href=\"#\" role=\"button\" class=\"PM_CL_themeImportCancel aa_btn_cancel\" data-clk=\"tca.mobilecancel\">취소</a>\\n\\t\\t\\t\\t</div>\\n\\t\\t\\t</div>\\n\\t\\t</div>\\t\\n\\t</script>\\n\\t<ul id=\"PM_ID_themeEditItemList\" class=\"at_all\" role=\"tablist\">\\n\\t</ul>\\n\\t<a href=\"#\" class=\"at_btn_close PM_CL_btnThemeEdit\" role=\"button\" data-clk=\"tca.close\"><span class=\"blind\">전체 주제 목록 닫기</span><span class=\"at_bicon\"></span></a>\\n\\t<div id=\"PM_ID_btnBoxShortcut\" class=\"at_btns\">\\n\\t\\t<a href=\"#\" class=\"at_btn_setting PM_CL_btnThemeEditShow\" role=\"button\" data-clk=\"tca.like\"><span class=\"at_bicon\"></span>관심주제 설정</a>\\n\\t</div>\\t\\n\\t<div id=\"PM_ID_btnBoxEdit\" v class=\"at_btns\" style=\"display:none\">\\n\\t\\t<a href=\"#\" class=\"at_btn_cancel PM_CL_btnThemeEditCancel\" role=\"button\" data-clk=\"tca*l.cancel\">취소</a>\\n\\t\\t<a href=\"#\" class=\"at_btn_confirm PM_CL_btnThemeEditOk\" role=\"button\" data-clk=\"tca*l.ok\">확인</a>\\n\\t\\t<a href=\"#\" class=\"at_btn_reset PM_CL_btnThemeEditInit\" role=\"button\" data-clk=\"tca*l.reset\"><span class=\"at_bicon\"></span>초기화</a>\\n\\t\\t<a href=\"#\" class=\"at_btn_all PM_CL_btnThemeSelectAll\" role=\"button\" data-clk=\"\">전체선택</a>\\n\\t</div>\\n</div>\\n\\n\\t\\t<div id=\"PM_ID_themecastBody\" class=\"themecast_flick\">\\n\\t\\t\\t<div class=\"flick-container\">\\n\\t\\t\\t\\t<div class=\"flick-panel\">\\n\\t\\t\\t\\t\\t<div class=\"area_themecast id_momkids\">\\n\\n<!--EMPTY-->\\n<ul class=\"themecast_list\">\\n<li class=\"tl_title\" data-seq=\"261\">\\n<div class=\"tt_mw\">\\n<img src=\"https://s.pstatic.net/static/www/mobile/edit/2017/0608/mobile_171852583382.png\" width=\"166\" height=\"185\" alt=\"\" class=\"tt_m\">\\n</div>\\n<h3 class=\"tt_tit\">부모i</h3>\\n<div class=\"tt_bar\"></div>\\n<ul class=\"tt_links\">\\n<li class=\"tt_litem\"><a href=\"https://search.naver.com/search.naver?where=m&sm=top_scc&query=%EC%9E%84%EC%8B%A03%EA%B0%9C%EC%9B%94%EC%A6%9D%EC%83%81&ie=utf8\" class=\"tt_la\" data-clk=\"tcc_mom.link\" data-gdid=\"UAT_1293588\">임신 10개월</a></li>\\n<li class=\"tt_litem\"><a href=\"http://search.naver.com/search.naver?sm=tab_hty.top&where=nexearch&query=4%EC%84%B8+%EC%95%84%EC%9D%B4+%EB%B0%9C%EB%8B%AC&oquery=4%EC%84%B8+%EC%95%84%EC%9D%B4+%EB%B0%9C%EB%8B%AC&tqi=TzbqJdpVuE4sssoIjmRssssssCl-004579\" class=\"tt_la\" data-clk=\"tcc_mom.link\" data-gdid=\"UAT_1293589\">연령별 발달</a></li>\\n<li class=\"tt_litem\"><a href=\"http://tv.naver.com/momkids\" class=\"tt_la\" data-clk=\"tcc_mom.link\" data-gdid=\"UAT_1293590\">네이버 TV</a></li>\\n<li class=\"tt_litem\"><a href=\"http://post.naver.com/subject/list.nhn?navigationType=current&categoryNo=33&orderType=RECOMMEND&subjectType=CATEGORY&mainMenu=MOMKIDS\" class=\"tt_la\" data-clk=\"tcc_mom.link\" data-gdid=\"UAT_1293591\">육아 포스트</a></li>\\n<li class=\"tt_litem\"><a href=\"https://audioclip.naver.com/categories/6/channels\" class=\"tt_la\" data-clk=\"tcc_mom.link\" data-gdid=\"UAT_1293592\">육아 오디오클립</a></li>\\n<li class=\"tt_litem\"><a href=\"http://shoppingw.naver.com/kids/home\" class=\"tt_la\" data-clk=\"tcc_mom.link\" data-gdid=\"UAT_1293593\">키즈 윈도</a></li>\\n</ul>\\n</li><li class=\"tl_bigimage\" data-seq=\"400533\">\\n<a href=\"https://grafolio.naver.com/works/1130755\" class=\"tb_a\" data-clk=\"tcc_mom.two\" data-gdid=\"UAT_5197921\">\\n<div class=\"tb_mw\">\\n<img src=\"https://s.pstatic.net/static/www/mobile/edit/2020/0102/mobile_17220478371.jpg\" width=\"346\" height=\"185\" alt=\"\" class=\"tb_m\">\\n<span class=\"tb_bd\"></span>\\n</div>\\n<div class=\"tb_ow\">\\n<span class=\"tb_bg\"></span>\\n<span class=\"tb_tw\">\\n<span class=\"tb_d\">맘이랑</span>\\n<span class=\"tb_t\">집 보다 좋은 건 엄마야 | 한컷공감</span>\\n</span>\\n<span class=\"tb_align\"></span>\\n</div>\\n</a>\\n</li><li class=\"tl_bundle\" data-seq=\"400538\"\\ndata-title=\"인기 부모i ① 아이 혼낼 때, 눈 보라고 하지 마세요\"\\ndata-expsStartYmdt=\"2020-01-04 05:00\"\\ndata-expsEndYmdt=\"2020-01-06 04:59\"\\ndata-fixedSeq=\"100145\"\\ndata-fixedExpsStartYmdt=\"2020-01-04 05:00\"\\ndata-fixedExpsEndYmdt=\"2020-01-05 04:59\">\\n<ul class=\"tb_l\">\\n<li class=\"tb_text\">\\n<a href=\"https://blog.naver.com/bumodream/221753107339\" class=\"tbt_a\" data-clk=\"tcc_mom.list\" data-gdid=\"UAT_5197947\">인기 부모i ① 아이 혼낼 때, 눈 보라고 하지 마세요</a>\\n</li>\\n<li class=\"tb_text\">\\n<a href=\"https://blog.naver.com/sin0j/221719102174\" class=\"tbt_a\" data-clk=\"tcc_mom.list\" data-gdid=\"UAT_5197948\">② 국민창작으로 불리는 전집 5종 비교 분석표</a>\\n</li>\\n<li class=\"tb_text\">\\n<a href=\"https://blog.naver.com/knifechinman/221729913940\" class=\"tbt_a\" data-clk=\"tcc_mom.list\" data-gdid=\"UAT_5197949\">③ 블로그 하는 이유, 두 번째 육아휴직을 하면서</a>\\n</li>\\n</ul>\\n</li><li class=\"tl_default\"\\ndata-seq=\"400552\"\\ndata-title=\"\"난 나쁜 엄마야\"라는 죄책감에서 벗어나는 법\"\\ndata-expsStartYmdt=\"2020-01-04 05:00\"\\ndata-expsEndYmdt=\"2020-01-06 04:59\"\\ndata-fixedSeq=\"100328\"\\ndata-fixedExpsStartYmdt=\"2020-01-04 05:00\"\\ndata-fixedExpsEndYmdt=\"2020-01-05 04:59\">\\n<a href=\"https://audioclip.naver.com/channels/537/clips/35\" class=\"td_a\" data-clk=\"tcc_mom.contents\" data-gdid=\"UAT_5197993\">\\n<span class=\"td_mw\">\\n<img src=\"https://s.pstatic.net/static/www/mobile/edit/2019/1227/mobile_163425632673.jpg\" width=\"166\" height=\"108\" alt=\"\" class=\"td_m\">\\n<span class=\"td_bd\"></span>\\n<span class=\"td_ico_video\"><span class=\"blind\">ë\\x8f\\x99ì\\x98\\x81ì\\x83\\x81</span><span class=\"td_bg\"></span><span class=\"td_icon\"></span></span>\\n</span>\\n<span class=\"td_tw\">\\n<span class=\"td_t\">\"난 나쁜 엄마야\"라는 죄책감에서 벗어나는 법</span>\\n</span>\\n</a>\\n<span class=\"td_ow\">\\n<span class=\"td_o\">오디오클립</span>\\n<span class=\"td_bar\"></span>\\n<span class=\"td_o\">윤옥희의 육아..</span>\\n</span>\\n</li><script id=\"p_main_momkids_00_script\" type=\"text/template\" data-veta-type=\"empty\">\\n(function() {\\n    var isUnderIE9 = AgentDetect.IS_IE && AgentDetect.searchBrowserVersion() < 9.0;\\n\\n    if (isUnderIE9 === true) {\\n        String.prototype.trim = function () {\\n            return this.replace(/^[\\\\s\\\\uFEFF\\\\xA0]+|[\\\\s\\\\uFEFF\\\\xA0]+$/g, \"\");\\n        };\\n    }\\n\\tvar naver_corp_da = window.naver_corp_da || {};\\n\\tvar da_dom_id = \\'p_main_momkids_00\\'.trim();\\n\\tvar uId = (da_dom_id.length > 0) ? da_dom_id : (typeof nbp_ad !== \\'undefined\\') ? nbp_ad.mobilenetwork.ad_div_id : \\'adw_da\\';\\n\\tvar tarEl = NBP_CORP.$(uId);\\n\\t\\n\\tvar util = naver_corp_da.Util ? new naver_corp_da.Util() : new NBP_CORP.Nimp();\\n\\n\\tif(tarEl) {\\n\\t\\t/* ActiveView */\\n\\t\\tvar ac_end_date = \"20301231235959\";\\n\\t\\tvar ad_end_date = \"20301231235959\";\\n\\n\\t\\tvar scroll_target = (typeof da_scroll_target !== \\'undefined\\') ? da_scroll_target.targetEl : window;\\n\\t\\tvar orientation_change_time = 500;\\n\\n\\t\\tvar callback = function () {\\n\\t\\t\\tvar url = \"https://nv.veta.naver.com/fxview?eu=EU10019954&calp=-&oj=WoyLGncKe57HQd86aJeLwi8DebIgLRtq44xqD6fKghyJxVJHT2l8mnT2LxYbmEdNUK12YVyVBxY&ac=7560751&src=3184385&evtcd=V900&x_ti=944&tb=MOMKIDS_1&oid=&sid1=&sid2=&rk=beb058a994a09b21e314ca812f985cc7&eltts=1DFFB6hS2LSQsB2%2BmtDA0A%3D%3D&brs=Y&&eid=V900&x_ev=\";\\n\\t\\t\\tvar x_ev = \\'\\';\\n\\t\\t\\ttry {\\n\\t\\t\\t\\tvar target = NBP_CORP.$(uId);\\n\\t\\t\\t\\tx_ev = (target) ? ((parseInt(target.getBoundingClientRect().height || target.offsetHeight, 10) === 0) ? \\'000\\' : \\'111\\') : \\'000\\';\\n\\t\\t\\t} catch(e) {\\n\\t\\t\\t\\tx_ev = \\'000\\';\\n\\t\\t\\t} finally {\\n\\t\\t\\t\\turl += x_ev;\\n\\t\\t\\t\\tutil.log(url);\\n\\t\\t\\t}\\n\\t\\t};\\n\\n\\t\\tvar callbackForInValid = function () {};\\n\\n\\t\\tnaver_corp_da.activeViews[uId] = naver_corp_da.activeViews[uId] || null;\\n\\n\\t\\tif(naver_corp_da.activeViews[uId]) {\\n\\t\\t\\tnaver_corp_da.activeViews[uId].clearActiveView();\\n\\t\\t\\tnaver_corp_da.activeViews[uId] = null;\\n\\t\\t} \\n\\n\\t\\tnaver_corp_da.activeViews[uId] = new naver_corp_da.ActiveView({\\n\\t\\t\\tadDivId : uId,\\n\\t\\t\\tacEndDate : ac_end_date,\\n\\t\\t\\tadEndDate : ad_end_date,\\n\\t\\t\\tscrollTarget : scroll_target,\\n\\t\\t\\tactiveViewTime : 1000,\\n\\t\\t\\tactiveViewPercentage : 0.5,\\n\\t\\t\\torientationChangeTime : orientation_change_time,\\n\\t\\t\\tcallback : callback,\\n\\t\\t\\tcallbackForInValid : callbackForInValid\\n\\t\\t});\\n\\n\\t\\tnaver_corp_da.activeViews[uId].checkActiveView();\\n\\t}\\n})();\\n</script><li class=\"tl_default\"\\ndata-seq=\"400551\"\\ndata-title=\"\"고마워\", \"네가 최고야!\"를 영어로?!\"\\ndata-expsStartYmdt=\"2020-01-04 05:00\"\\ndata-expsEndYmdt=\"2020-01-06 04:59\"\\ndata-fixedSeq=\"100329\"\\ndata-fixedExpsStartYmdt=\"2020-01-04 05:00\"\\ndata-fixedExpsEndYmdt=\"2020-01-05 04:59\">\\n<a href=\"https://audioclip.naver.com/channels/1951/clips/20\" class=\"td_a\" data-clk=\"tcc_mom.contents\" data-gdid=\"UAT_5197992\">\\n<span class=\"td_mw\">\\n<img src=\"https://s.pstatic.net/static/www/mobile/edit/2019/1129/mobile_162411121352.jpg\" width=\"166\" height=\"108\" alt=\"\" class=\"td_m\">\\n<span class=\"td_bd\"></span>\\n<span class=\"td_ico_video\"><span class=\"blind\">ë\\x8f\\x99ì\\x98\\x81ì\\x83\\x81</span><span class=\"td_bg\"></span><span class=\"td_icon\"></span></span>\\n</span>\\n<span class=\"td_tw\">\\n<span class=\"td_t\">\"고마워\", \"네가 최고야!\"를 영어로?!</span>\\n</span>\\n</a>\\n<span class=\"td_ow\">\\n<span class=\"td_o\">오디오클립</span>\\n<span class=\"td_bar\"></span>\\n<span class=\"td_o\">달콤한 육아영어</span>\\n</span>\\n</li>\\n<li class=\"tl_default\"\\ndata-seq=\"400550\"\\ndata-title=\"우주에 외계인이 정말 살고 있을까?\"\\ndata-expsStartYmdt=\"2020-01-04 05:00\"\\ndata-expsEndYmdt=\"2020-01-06 04:59\"\\ndata-fixedSeq=\"100330\"\\ndata-fixedExpsStartYmdt=\"2020-01-04 05:00\"\\ndata-fixedExpsEndYmdt=\"2020-01-05 04:59\">\\n<a href=\"https://jr.naver.com/s/ellieandtour_play_vod_1/view?contentsNo=155441\" class=\"td_a\" data-clk=\"tcc_mom.contents\" data-gdid=\"UAT_5197991\">\\n<span class=\"td_mw\">\\n<img src=\"https://s.pstatic.net/static/www/mobile/edit/2020/0103/mobile_161539484221.jpg\" width=\"166\" height=\"108\" alt=\"\" class=\"td_m\">\\n<span class=\"td_bd\"></span>\\n<span class=\"td_ico_video\"><span class=\"blind\">ë\\x8f\\x99ì\\x98\\x81ì\\x83\\x81</span><span class=\"td_bg\"></span><span class=\"td_icon\"></span></span>\\n</span>\\n<span class=\"td_tw\">\\n<span class=\"td_t\">우주에 외계인이 정말 살고 있을까?</span>\\n</span>\\n</a>\\n<span class=\"td_ow\">\\n<span class=\"td_o\">쥬니버</span>\\n<span class=\"td_bar\"></span>\\n<span class=\"td_o\">엘리가 간다</span>\\n</span>\\n</li>\\n<li class=\"tl_default\"\\ndata-seq=\"400549\"\\ndata-title=\"플래시를 비추면 무엇이 보일까요?!\"\\ndata-expsStartYmdt=\"2020-01-04 05:00\"\\ndata-expsEndYmdt=\"2020-01-06 04:59\"\\ndata-fixedSeq=\"100331\"\\ndata-fixedExpsStartYmdt=\"2020-01-04 05:00\"\\ndata-fixedExpsEndYmdt=\"2020-01-05 04:59\">\\n<a href=\"https://jr.naver.com/s/seoeunstory_play_vod_1/view?contentsNo=155229\" class=\"td_a\" data-clk=\"tcc_mom.contents\" data-gdid=\"UAT_5197990\">\\n<span class=\"td_mw\">\\n<img src=\"https://s.pstatic.net/static/www/mobile/edit/2020/0103/mobile_161704364258.jpg\" width=\"166\" height=\"108\" alt=\"\" class=\"td_m\">\\n<span class=\"td_bd\"></span>\\n<span class=\"td_ico_video\"><span class=\"blind\">ë\\x8f\\x99ì\\x98\\x81ì\\x83\\x81</span><span class=\"td_bg\"></span><span class=\"td_icon\"></span></span>\\n</span>\\n<span class=\"td_tw\">\\n<span class=\"td_t\">플래시를 비추면 무엇이 보일까요?!</span>\\n</span>\\n</a>\\n<span class=\"td_ow\">\\n<span class=\"td_o\">쥬니버</span>\\n<span class=\"td_bar\"></span>\\n<span class=\"td_o\">서은이야기</span>\\n</span>\\n</li>\\n<li class=\"tl_default\"\\ndata-seq=\"400548\"\\ndata-title=\"공동 아빠 육아, 떼쓰기 신공에 대처하는 우리의 자세\"\\ndata-expsStartYmdt=\"2020-01-04 05:00\"\\ndata-expsEndYmdt=\"2020-01-06 04:59\"\\ndata-fixedSeq=\"100327\"\\ndata-fixedExpsStartYmdt=\"2020-01-04 05:00\"\\ndata-fixedExpsEndYmdt=\"2020-01-05 04:59\">\\n<a href=\"https://blog.naver.com/girinanist/221726911375\" class=\"td_a\" data-clk=\"tcc_mom.contents\" data-gdid=\"UAT_5197989\">\\n<span class=\"td_mw\">\\n<img src=\"https://s.pstatic.net/static/www/m/guide/dummy_1X1.jpg\" data-src=\"https://s.pstatic.net/static/www/mobile/edit/2020/0103/mobile_162432185353.jpg\" width=\"166\" height=\"108\" alt=\"\" class=\"td_m\">\\n<span class=\"td_bd\"></span>\\n</span>\\n<span class=\"td_tw\">\\n<span class=\"td_t\">공동 아빠 육아, 떼쓰기 신공에 대처하는 우리의 자세</span>\\n</span>\\n</a>\\n<span class=\"td_ow\">\\n<span class=\"td_o\">폭풍 공감 리얼 일기</span>\\n<span class=\"td_bar\"></span>\\n<span class=\"td_o\">마이쏭</span>\\n</span>\\n</li>\\n<li class=\"tl_default\"\\ndata-seq=\"400546\"\\ndata-title=\"나 떨고 있니? 둘째의 초등 입학, 걱정 반 설렘 반\"\\ndata-expsStartYmdt=\"2020-01-04 05:00\"\\ndata-expsEndYmdt=\"2020-01-06 04:59\"\\ndata-fixedSeq=\"100334\"\\ndata-fixedExpsStartYmdt=\"2020-01-04 05:00\"\\ndata-fixedExpsEndYmdt=\"2020-01-05 04:59\">\\n<a href=\"https://post.naver.com/viewer/postView.nhn?volumeNo=27187392&memberNo=37067023\" class=\"td_a\" data-clk=\"tcc_mom.contents\" data-gdid=\"UAT_5197987\">\\n<span class=\"td_mw\">\\n<img src=\"https://s.pstatic.net/static/www/m/guide/dummy_1X1.jpg\" data-src=\"https://s.pstatic.net/static/www/mobile/edit/2020/0103/mobile_16253072211.jpg\" width=\"166\" height=\"108\" alt=\"\" class=\"td_m\">\\n<span class=\"td_bd\"></span>\\n</span>\\n<span class=\"td_tw\">\\n<span class=\"td_t\">나 떨고 있니? 둘째의 초등 입학, 걱정 반 설렘 반</span>\\n</span>\\n</a>\\n<span class=\"td_ow\">\\n<span class=\"td_o\">폭풍 공감 리얼 일기</span>\\n<span class=\"td_bar\"></span>\\n<span class=\"td_o\">올리브..</span>\\n</span>\\n</li>\\n<li class=\"tl_default\"\\ndata-seq=\"400544\"\\ndata-title=\"아이가 엘리베이터 버튼 누르려 할 때 올바른 반응은?\"\\ndata-expsStartYmdt=\"2020-01-04 05:00\"\\ndata-expsEndYmdt=\"2020-01-06 04:59\"\\ndata-fixedSeq=\"100335\"\\ndata-fixedExpsStartYmdt=\"2020-01-04 05:00\"\\ndata-fixedExpsEndYmdt=\"2020-01-05 04:59\">\\n<a href=\"https://post.naver.com/viewer/postView.nhn?volumeNo=27052635&memberNo=799097\" class=\"td_a\" data-clk=\"tcc_mom.contents\" data-gdid=\"UAT_5197985\">\\n<span class=\"td_mw\">\\n<img src=\"https://s.pstatic.net/static/www/m/guide/dummy_1X1.jpg\" data-src=\"https://s.pstatic.net/static/www/mobile/edit/2020/0103/mobile_16263947495.jpg\" width=\"166\" height=\"108\" alt=\"\" class=\"td_m\">\\n<span class=\"td_bd\"></span>\\n</span>\\n<span class=\"td_tw\">\\n<span class=\"td_t\">아이가 엘리베이터 버튼 누르려 할 때 올바른 반응은?</span>\\n</span>\\n</a>\\n<span class=\"td_ow\">\\n<span class=\"td_o\">책육아 BEST</span>\\n<span class=\"td_bar\"></span>\\n<span class=\"td_o\">카시오페아</span>\\n</span>\\n</li>\\n<li class=\"tl_default\"\\ndata-seq=\"400541\"\\ndata-title=\"\\'멈칫\\' 훈련해보세요! 화를 못 참는 엄마, 왜 그럴까?\"\\ndata-expsStartYmdt=\"2020-01-04 05:00\"\\ndata-expsEndYmdt=\"2020-01-06 04:59\"\\ndata-fixedSeq=\"100333\"\\ndata-fixedExpsStartYmdt=\"2020-01-04 05:00\"\\ndata-fixedExpsEndYmdt=\"2020-01-05 04:59\">\\n<a href=\"https://post.naver.com/viewer/postView.nhn?volumeNo=27005939&memberNo=12124533\" class=\"td_a\" data-clk=\"tcc_mom.contents\" data-gdid=\"UAT_5197972\">\\n<span class=\"td_mw\">\\n<img src=\"https://s.pstatic.net/static/www/m/guide/dummy_1X1.jpg\" data-src=\"https://s.pstatic.net/static/www/mobile/edit/2020/0103/mobile_162744900676.jpg\" width=\"166\" height=\"108\" alt=\"\" class=\"td_m\">\\n<span class=\"td_bd\"></span>\\n</span>\\n<span class=\"td_tw\">\\n<span class=\"td_t\">\\'멈칫\\' 훈련해보세요! 화를 못 참는 엄마, 왜 그럴까?</span>\\n</span>\\n</a>\\n<span class=\"td_ow\">\\n<span class=\"td_o\">책육아 BEST</span>\\n<span class=\"td_bar\"></span>\\n<span class=\"td_o\">심플라이프</span>\\n</span>\\n</li>\\n<li class=\"tl_default\"\\ndata-seq=\"400556\"\\ndata-title=\"곧 두 돌 되는 아이 미워 죽겠는데, 어떡하면 좋죠?\"\\ndata-expsStartYmdt=\"2020-01-04 05:00\"\\ndata-expsEndYmdt=\"2020-01-06 04:59\"\\ndata-fixedSeq=\"100146\"\\ndata-fixedExpsStartYmdt=\"2020-01-04 05:00\"\\ndata-fixedExpsEndYmdt=\"2020-01-05 04:59\">\\n<a href=\"https://post.naver.com/viewer/postView.nhn?volumeNo=26919406&memberNo=22718804\" class=\"td_a\" data-clk=\"tcc_mom.contents\" data-gdid=\"UAT_5198000\">\\n<span class=\"td_mw\">\\n<img src=\"https://s.pstatic.net/static/www/m/guide/dummy_1X1.jpg\" data-src=\"https://s.pstatic.net/static/www/mobile/edit/2020/0102/mobile_172931257987.jpg\" width=\"166\" height=\"108\" alt=\"\" class=\"td_m\">\\n<span class=\"td_bd\"></span>\\n<span class=\"td_tag\"><span class=\"td_tagtxt\">2세</span><span class=\"td_bg\"></span></span>\\n</span>\\n<span class=\"td_tw\">\\n<span class=\"td_t\">곧 두 돌 되는 아이 미워 죽겠는데, 어떡하면 좋죠?</span>\\n</span>\\n</a>\\n<span class=\"td_ow\">\\n<span class=\"td_o\">연령별 육아 정보</span>\\n<span class=\"td_bar\"></span>\\n<span class=\"td_o\">베이비뉴스</span>\\n</span>\\n</li>\\n<li class=\"tl_default\"\\ndata-seq=\"400555\"\\ndata-title=\"자폐·언어·애착 장애, 조기에 발견해야 할 발달 문제\"\\ndata-expsStartYmdt=\"2020-01-04 05:00\"\\ndata-expsEndYmdt=\"2020-01-06 04:59\"\\ndata-fixedSeq=\"100147\"\\ndata-fixedExpsStartYmdt=\"2020-01-04 05:00\"\\ndata-fixedExpsEndYmdt=\"2020-01-05 04:59\">\\n<a href=\"https://post.naver.com/viewer/postView.nhn?volumeNo=26902192&memberNo=12161421\" class=\"td_a\" data-clk=\"tcc_mom.contents\" data-gdid=\"UAT_5197999\">\\n<span class=\"td_mw\">\\n<img src=\"https://s.pstatic.net/static/www/m/guide/dummy_1X1.jpg\" data-src=\"https://s.pstatic.net/static/www/mobile/edit/2020/0102/mobile_17342193663.jpg\" width=\"166\" height=\"108\" alt=\"\" class=\"td_m\">\\n<span class=\"td_bd\"></span>\\n<span class=\"td_tag\"><span class=\"td_tagtxt\">3세</span><span class=\"td_bg\"></span></span>\\n</span>\\n<span class=\"td_tw\">\\n<span class=\"td_t\">자폐·언어·애착 장애, 조기에 발견해야 할 발달 문제</span>\\n</span>\\n</a>\\n<span class=\"td_ow\">\\n<span class=\"td_o\">연령별 육아 정보</span>\\n<span class=\"td_bar\"></span>\\n<span class=\"td_o\">허그맘</span>\\n</span>\\n</li>\\n<li class=\"tl_default\"\\ndata-seq=\"400554\"\\ndata-title=\"5살 우리 아이, 영상을 많이 보는 편일까요?!\"\\ndata-expsStartYmdt=\"2020-01-04 05:00\"\\ndata-expsEndYmdt=\"2020-01-06 04:59\"\\ndata-fixedSeq=\"100148\"\\ndata-fixedExpsStartYmdt=\"2020-01-04 05:00\"\\ndata-fixedExpsEndYmdt=\"2020-01-05 04:59\">\\n<a href=\"https://post.naver.com/viewer/postView.nhn?volumeNo=26912774&memberNo=22348821\" class=\"td_a\" data-clk=\"tcc_mom.contents\" data-gdid=\"UAT_5197998\">\\n<span class=\"td_mw\">\\n<img src=\"https://s.pstatic.net/static/www/m/guide/dummy_1X1.jpg\" data-src=\"https://s.pstatic.net/static/www/mobile/edit/2020/0102/mobile_173533129566.jpg\" width=\"166\" height=\"108\" alt=\"\" class=\"td_m\">\\n<span class=\"td_bd\"></span>\\n<span class=\"td_tag\"><span class=\"td_tagtxt\">5세</span><span class=\"td_bg\"></span></span>\\n</span>\\n<span class=\"td_tw\">\\n<span class=\"td_t\">5살 우리 아이, 영상을 많이 보는 편일까요?!</span>\\n</span>\\n</a>\\n<span class=\"td_ow\">\\n<span class=\"td_o\">연령별 육아 정보</span>\\n<span class=\"td_bar\"></span>\\n<span class=\"td_o\">차이의놀이</span>\\n</span>\\n</li>\\n<li class=\"tl_default\"\\ndata-seq=\"400553\"\\ndata-title=\"유아 성교육 \"아이가 여자 성기가 보고 싶대요\"\"\\ndata-expsStartYmdt=\"2020-01-04 05:00\"\\ndata-expsEndYmdt=\"2020-01-06 04:59\"\\ndata-fixedSeq=\"100149\"\\ndata-fixedExpsStartYmdt=\"2020-01-04 05:00\"\\ndata-fixedExpsEndYmdt=\"2020-01-05 04:59\">\\n<a href=\"https://post.naver.com/viewer/postView.nhn?volumeNo=26870414&memberNo=9566646\" class=\"td_a\" data-clk=\"tcc_mom.contents\" data-gdid=\"UAT_5197997\">\\n<span class=\"td_mw\">\\n<img src=\"https://s.pstatic.net/static/www/m/guide/dummy_1X1.jpg\" data-src=\"https://s.pstatic.net/static/www/mobile/edit/2020/0102/mobile_173628785683.jpg\" width=\"166\" height=\"108\" alt=\"\" class=\"td_m\">\\n<span class=\"td_bd\"></span>\\n<span class=\"td_tag\"><span class=\"td_tagtxt\">7세</span><span class=\"td_bg\"></span></span>\\n</span>\\n<span class=\"td_tw\">\\n<span class=\"td_t\">유아 성교육 \"아이가 여자 성기가 보고 싶대요\"</span>\\n</span>\\n</a>\\n<span class=\"td_ow\">\\n<span class=\"td_o\">연령별 육아 정보</span>\\n<span class=\"td_bar\"></span>\\n<span class=\"td_o\">부모공감</span>\\n</span>\\n</li>\\n</ul>\\n</div>\\n\\t\\t\\t\\t</div>\\n\\t\\t\\t</div>\\n\\t\\t</div>\\n\\t</div>\\n\\t<!-- //주제형캐스트 -->\\n\\t<div id=\"shp_cst\" class=\"section_shoppingcast\">\\n\\t\\t<iframe src=\"https://castbox.shopping.naver.com/shopbox/main.nhn?\" id=\"cnsv_shbx\" title=\"쇼핑캐스트\" marginheight=\"0\" marginwidth=\"0\" scrolling=\"no\" frameborder=\"0\" width=\"330\" height=\"882\">쇼핑캐스트 : <a href=\"https://castbox.shopping.naver.com/shopbox/main.nhn?\">https://castbox.shopping.naver.com/shopbox/main.nhn?</a></iframe>\\n\\t</div>\\n</div>\\n\\n<div class=\"column_banner\">\\n\\t<div class=\"section_btmbn\">\\n\\t\\t<ul class=\"btmbanner_list\">\\n\\t\\t\\t<li class=\"bl_item\">\\n<a data-clk=\"mcb.left\" href=\"https://blog.naver.com/onstage0808/221755302380\" class=\"bl_a\" target=\"_blank\">\\n<div class=\"bl_mw\">\\n<img src=\"https://s.pstatic.net/static/www/mobile/edit/2020/0102/mobile_142835498693.jpg\" width=\"166\" height=\"88\" alt=\"온스테이지 2.0 코리안 집시 상자루 자유롭고 새로운 한국적인 현대 음악\" title=\"온스테이지 2.0 코리안 집시 상자루 자유롭고 새로운 한국적인 현대 음악\" class=\"bl_m\">\\n<span class=\"bl_bd\"></span>\\n</div>\\n<div class=\"bl_tw\">\\n<span class=\"bl_s\">온스테이지 2.0</span>\\n<strong class=\"bl_t\">코리안 집시 상자루</strong>\\n<span class=\"bl_d\">자유롭고 새로운<br/>한국적인 현대 음악</span>\\n</div>\\n</a>\\n</li>\\n\\n\\t\\t\\t\\n<li class=\"bl_item\">\\n<a data-clk=\"mcb.right\" href=\"https://blog.naver.com/naver_diary/221749716046\" class=\"bl_a\" target=\"_blank\">\\n<div class=\"bl_mw\">\\n<img src=\"https://s.pstatic.net/static/www/mobile/edit/2019/1227/mobile_160601558774.jpg\" width=\"166\" height=\"88\" alt=\"네이버 프로젝트 꽃 꽃을 피우다 #18 이제는 홍천의 좋은 술을 전국에 판매하는 법을 알죠\" title=\"네이버 프로젝트 꽃 꽃을 피우다 #18 이제는 홍천의 좋은 술을 전국에 판매하는 법을 알죠\" class=\"bl_m\">\\n<span class=\"bl_bd\"></span>\\n</div>\\n<div class=\"bl_tw\">\\n<span class=\"bl_s\">네이버 프로젝트 꽃</span>\\n<strong class=\"bl_t\">꽃을 피우다 #18</strong>\\n<span class=\"bl_d\">이제는 홍천의 좋은 술을<br/>전국에 판매하는 법을 알죠</span>\\n</div>\\n</a>\\n</li>\\n\\n\\t\\t</ul>\\n\\t</div>\\n\\n\\t<div class=\"section_rbn\">\\n\\n\\t\\t<!-- 광고 -->\\n\\t\\t<div id=\"veta_time2\">\\n\\t\\t\\t<iframe id=\"da_iframe_below\" name=\"da_iframe_below\" src=\"https://nv.veta.naver.com/fxshow?su=SU10082&amp;nrefreshx=0\" data-veta-preview=\"main_below\" width=\"332\" height=\"130\" marginheight=\"0\" marginwidth=\"0\" scrolling=\"no\" frameborder=\"0\" align=\"center\" title=\"광고\"></iframe>\\n\\t\\t\\t<div class=\"veta_bdt\"></div><div class=\"veta_bdr\"></div><div class=\"veta_bdb\"></div><div class=\"veta_bdl\"></div>\\n\\t\\t</div>\\n\\t\\t<!-- //광고 -->\\n\\n\\t</div>\\n</div>\\n\\n\\t\\t</div>\\n\\t\\t<div class=\"section_footer\" role=\"contentinfo\">\\n\\t<div class=\"notice\">\\n\\t\\t<div class=\"area_notice\">\\n\\t\\t\\t<h3 class=\"an_tit\"><a href=\"//www.naver.com/NOTICE\" class=\"an_ta\" data-clk=\"ntc.notice\">공지사항</a></h3>\\n\\t\\t\\t<!-- EMPTY -->\\n\\t\\t</div>\\n\\t\\t<div class=\"area_services\">\\n\\t\\t\\t<a href=\"more.html\" class=\"as_a\" data-clk=\"ntc.svcmap\">서비스 전체보기<span class=\"as_ico_all\"></span></a>\\n\\t\\t</div>\\n\\t</div>\\n\\n\\n\\t<div class=\"aside\">\\n\\t\\t<div class=\"area_flower\">\\n\\t\\t\\t<div class=\"af_tw\">\\n\\t\\t\\t\\t<h3 class=\"af_tit\">프로젝트 꽃</h3>\\n\\t\\t\\t\\t<a href=\"https://search.naver.com/search.naver?where=nexearch&sm=top_hty&fbm=1&ie=utf8&query=%ED%94%84%EB%A1%9C%EC%A0%9D%ED%8A%B8%EA%BD%83\" data-clk=\"prj.link\" class=\"af_a\">바로가기</a>\\n\\t\\t\\t</div>\\n\\t\\t\\t<div class=\"af_mw\">\\n\\t\\t\\t\\t<a href=\"https://search.naver.com/search.naver?where=nexearch&sm=top_hty&fbm=1&ie=utf8&query=%ED%94%84%EB%A1%9C%EC%A0%9D%ED%8A%B8%EA%BD%83\" data-clk=\"prj.link\"class=\"af_qr\"><span class=\"blind\">프로젝트 꽃</span></a>\\n\\t\\t\\t</div>\\n\\t\\t</div>\\n\\t\\t<div class=\"area_whale\">\\n<div class=\"aw_tw\">\\n<h3 class=\"aw_tit\">웨일 브라우저</h3>\\n<a href=\"http://whale.naver.com/\" data-clk=\"wbd.bt\" class=\"aw_a\">다운받기</a>\\n</div>\\n<div class=\"aw_mw\">\\n<a href=\"http://whale.naver.com/\" data-clk=\"wbd.bt\" class=\"aw_qr\"><span class=\"blind\">네이버웨일</span></a>\\n</div>\\n</div>\\n\\t\\t<div class=\"area_user\">\\n\\t\\t\\t<div class=\"au_wrap\">\\n\\t\\t\\t\\t<h3 class=\"au_tit\">Creators</h3>\\n\\t\\t\\t\\t<ul class=\"au_l\">\\n\\t\\t\\t\\t\\t<li class=\"au_item\"><a href=\"https://www.navercorp.com/service/creators\" data-clk=\"crt.creator\" class=\"au_a\">크리에이터</a></li>\\n\\t\\t\\t\\t\\t<li class=\"au_item\"><span class=\"au_bar\"></span><a href=\"https://www.navercorp.com/service/business\" data-clk=\"crt.smbusiness\" class=\"au_a\">스몰비즈니스</a></li>\\n\\t\\t\\t\\t</ul>\\n\\t\\t\\t</div>\\n\\t\\t\\t<div class=\"au_wrap\">\\n\\t\\t\\t\\t<h3 class=\"au_tit\">Partners</h3>\\n\\t\\t\\t\\t<ul class=\"au_l\">\\n\\t\\t\\t\\t\\t<li class=\"au_item\"><a href=\"https://business.naver.com/service.html\" data-clk=\"ptn.service\" class=\"au_a\">비즈니스 · 광고</a></li>\\n\\t\\t\\t\\t\\t<li class=\"au_item\"><span class=\"au_bar\"></span><a href=\"https://sell.storefarm.naver.com/#/home/about\" data-clk=\"ptn.store\"class=\"au_a\">스토어 개설</a></li>\\n\\t\\t\\t\\t\\t<li class=\"au_item\"><span class=\"au_bar\"></span><a href=\"https://smartplace.naver.com/\" data-clk=\"ptn.place\"class=\"au_a\">지역업체 등록</a></li>\\n\\t\\t\\t\\t</ul>\\n\\t\\t\\t</div>\\n\\t\\t\\t<div class=\"au_wrap\">\\n\\t\\t\\t\\t<h3 class=\"au_tit\">Developers</h3>\\n\\t\\t\\t\\t<ul class=\"au_l\">\\n\\t\\t\\t\\t\\t<li class=\"au_item\"><a href=\"https://developers.naver.com\" data-clk=\"dvl.center\" class=\"au_a au_sa\">네이버 개발자센터</a></li>\\n\\t\\t\\t\\t\\t<li class=\"au_item\"><span class=\"au_bar\"></span><a href=\"https://developers.naver.com/docs/common/openapiguide/#/apilist.md/\" data-clk=\"dvl.openapi\" class=\"au_a\">오픈 API</a></li>\\n\\t\\t\\t\\t\\t<li class=\"au_item\"><span class=\"au_bar\"></span><a href=\"https://naver.github.io/\" data-clk=\"dvl.opensource\" class=\"au_a\">오픈소스</a></li>\\n\\t\\t\\t\\t\\t<li class=\"au_item\"><span class=\"au_bar\"></span><a href=\"https://d2.naver.com/\" data-clk=\"dvl.d2\" class=\"au_a\">네이버 D2</a></li>\\n\\t\\t\\t\\t\\t<li class=\"au_item\"><span class=\"au_bar\"></span><a href=\"http://d2startup.com/\" data-clk=\"dvl.naverD2SF\" class=\"au_a\">네이버 D2SF</a></li>\\n\\t\\t\\t\\t\\t<li class=\"au_item\"><span class=\"au_bar\"></span><a href=\"https://www.naverlabs.com/\" data-clk=\"dvl.labs\" class=\"au_a\">네이버 랩스</a></li>\\n\\t\\t\\t\\t</ul>\\n\\t\\t\\t</div>\\n\\t\\t</div>\\n\\t</div>\\n\\n\\t<div class=\"footer\">\\n\\t\\t<div class=\"area_terms\">\\n\\t\\t\\t<h3 class=\"blind\">네이버 정책 및 약관</h3>\\n\\t\\t\\t<ul class=\"at_l\">\\n\\t\\t\\t\\t<li class=\"at_item\"><a href=\"https://www.navercorp.com/\" class=\"at_a\" data-clk=\"plc.intronhn\">회사소개</a></li>\\n\\t\\t\\t\\t<li class=\"at_item\"><span class=\"at_bar\"></span><a href=\"https://recruit.navercorp.com/naver/recruitMain\" class=\"at_a\" data-clk=\"plc.recruit\">인재채용</a></li>\\n\\t\\t\\t\\t<li class=\"at_item\"><span class=\"at_bar\"></span><a href=\"https://www.navercorp.com/naver/proposalGuide\" class=\"at_a\" data-clk=\"plc.contact\">제휴제안</a></li>\\n\\t\\t\\t\\t<li class=\"at_item\"><span class=\"at_bar\"></span><a href=\"/policy/service.html\" class=\"at_a\" data-clk=\"plc.service\">이용약관</a></li>\\n\\t\\t\\t\\t<li class=\"at_item\"><span class=\"at_bar\"></span><a href=\"/policy/privacy.html\" class=\"at_a\" data-clk=\"plc.privacy\"><strong class=\"at_st\">개인정보처리방침</strong></a></li>\\n\\t\\t\\t\\t<li class=\"at_item\"><span class=\"at_bar\"></span><a href=\"/policy/youthpolicy.html\" class=\"at_a\" data-clk=\"plc.youth\">청소년보호정책</a></li>\\n\\t\\t\\t\\t<li class=\"at_item\"><span class=\"at_bar\"></span><a href=\"/policy/spamcheck.html\" class=\"at_a\" data-clk=\"plc.policy\">네이버 정책</a></li>\\n\\t\\t\\t\\t<li class=\"at_item\"><span class=\"at_bar\"></span><a href=\"https://help.naver.com/\" class=\"at_a\" data-clk=\"plc.helpcenter\">고객센터</a></li>\\n\\t\\t\\t</ul>\\n\\t\\t\\t<address class=\"at_cr\">ⓒ <a href=\"https://www.navercorp.com/\" target=\"_blank\" class=\"at_ca\" data-clk=\"plc.nhn\">NAVER Corp.</a></address>\\n\\t\\t</div>\\n\\t</div>\\n</div>\\n\\n\\t</div>\\n\\t\\n\\t<script src=\"https://pm.pstatic.net/js/c/jindo_v190909.js\"></script>\\n\\t\\n\\t\\n\\t<script>\\n\\t\\tvar svr = \"<!--aweb210-->\";\\n\\t\\tvar svt = \"20200104212248\";\\n\\t\\tvar aPanelListAll;\\n\\t\\t\\n\\t\\tvar nmainJS = [\"https://pm.pstatic.net/js/c/nmain_v191217.js\"];\\n\\t\\t\\n\\t\\tvar sThemecastAdScriptUrl = \\'https://ssl.pstatic.net/tveta/libs/assets/js/pc/main/min/pc.veta.core.min.js?20180330\\';\\n\\t\\tnmainJS.push(sThemecastAdScriptUrl);\\n\\n\\t\\tfunction loadJS() {\\n\\n\\t\\t\\t\\n\\t\\t\\t\\tsetTimeout(function() { lcs_do(refreshLcs()); }, 0);\\n\\t\\t\\t\\n\\n\\t\\t\\tjindo.LazyLoading.load(nmainJS, function(){\\n\\n\\t\\t\\t\\ttry { naver.main.nelo.setEnable(true); } catch(e) { };\\n\\n\\t\\t\\t\\t//if ( svr === \"<!--cweb301.ntop-->\" ) {\\n\\t\\t\\t\\t//\\tJEagleEyeClient.setEnable(true);\\n\\t\\t\\t\\t//}\\n\\n\\t\\t\\t\\tif(typeof initPage != \\'undefined\\') {\\n    \\t\\t\\t\\tinitPage();\\n\\t\\t\\t\\t}\\t\\n\\n\\t\\t\\t\\ttry {\\n\\t\\t\\t\\t\\taPanelListAll = [{\"adMap\":null,\"code\":\"LIVINGHOME\",\"name\":\"리빙\",\"css\":\"livinghome\",\"nclick\":\"lif\",\"openDate\":null},{\"adMap\":null,\"code\":\"LIVING\",\"name\":\"푸드\",\"css\":\"living\",\"nclick\":\"fod\",\"openDate\":null},{\"adMap\":null,\"code\":\"SPORTS\",\"name\":\"스포츠\",\"css\":\"sports\",\"nclick\":\"spo\",\"openDate\":null},{\"adMap\":null,\"code\":\"CARGAME\",\"name\":\"자동차\",\"css\":\"cargame\",\"nclick\":\"aut\",\"openDate\":null},{\"adMap\":null,\"code\":\"BEAUTY\",\"name\":\"패션뷰티\",\"css\":\"beauty\",\"nclick\":\"bty\",\"openDate\":null},{\"adMap\":null,\"code\":\"MOMKIDS\",\"name\":\"부모i\",\"css\":\"momkids\",\"nclick\":\"mom\",\"openDate\":null},{\"adMap\":null,\"code\":\"HEALTH\",\"name\":\"건강\",\"css\":\"health\",\"nclick\":\"hea\",\"openDate\":null},{\"adMap\":null,\"code\":\"BBOOM\",\"name\":\"웹툰\",\"css\":\"bboom\",\"nclick\":\"web\",\"openDate\":null},{\"adMap\":null,\"code\":\"GAMEAPP\",\"name\":\"게임\",\"css\":\"gameapp\",\"nclick\":\"gam\",\"openDate\":null},{\"adMap\":null,\"code\":\"VIDEO\",\"name\":\"TV연예\",\"css\":\"video\",\"nclick\":\"tvc\",\"openDate\":null},{\"adMap\":null,\"code\":\"MUSIC\",\"name\":\"뮤직\",\"css\":\"music\",\"nclick\":\"muc\",\"openDate\":null},{\"adMap\":{\"id\":\"p_main_movie_00\",\"adPath\":\"%2Ffxshow%3Fsu%3DSU10199%26da_dom_id%3Dp_main_movie_00%26tb%3DMOVIE_1\"},\"code\":\"MOVIE\",\"name\":\"영화\",\"css\":\"movie\",\"nclick\":\"mov\",\"openDate\":null},{\"adMap\":null,\"code\":\"CULTURE\",\"name\":\"책문화\",\"css\":\"culture\",\"nclick\":\"bok\",\"openDate\":null},{\"adMap\":null,\"code\":\"WITH\",\"name\":\"함께N\",\"css\":\"with\",\"nclick\":\"pub\",\"openDate\":null},{\"adMap\":{\"id\":\"p_main_travel_00\",\"adPath\":\"%2Ffxshow%3Fsu%3DSU10198%26da_dom_id%3Dp_main_travel_00%26tb%3DTRAVEL_1\"},\"code\":\"TRAVEL\",\"name\":\"여행+\",\"css\":\"travel\",\"nclick\":\"tra\",\"openDate\":null},{\"adMap\":null,\"code\":\"DESIGN\",\"name\":\"디자인\",\"css\":\"design\",\"nclick\":\"des\",\"openDate\":null},{\"adMap\":null,\"code\":\"FINANCE\",\"name\":\"경제M\",\"css\":\"finance\",\"nclick\":\"fin\",\"openDate\":null},{\"adMap\":{\"id\":\"p_main_job_00\",\"adPath\":\"%2Ffxshow%3Fsu%3DSU10200%26da_dom_id%3Dp_main_job_00%26tb%3DJOB_1\"},\"code\":\"JOB\",\"name\":\"JOB&\",\"css\":\"job\",\"nclick\":\"job\",\"openDate\":null},{\"adMap\":null,\"code\":\"SCIENCE\",\"name\":\"과학\",\"css\":\"science\",\"nclick\":\"sci\",\"openDate\":null},{\"adMap\":null,\"code\":\"CHINA\",\"name\":\"중국\",\"css\":\"china\",\"nclick\":\"chn\",\"openDate\":null},{\"adMap\":{\"id\":\"p_main_business_00\",\"adPath\":\"%2Ffxshow%3Fsu%3DSU10204%26da_dom_id%3Dp_main_business_00%26tb%3DBUSINESS_1\"},\"code\":\"BUSINESS\",\"name\":\"비즈니스\",\"css\":\"business\",\"nclick\":\"bsn\",\"openDate\":null},{\"adMap\":null,\"code\":\"FARM\",\"name\":\"FARM\",\"css\":\"farm\",\"nclick\":\"far\",\"openDate\":null},{\"adMap\":{\"id\":\"p_main_school_01\",\"adPath\":\"%2Ffxshow%3Fsu%3DSU10210%26da_dom_id%3Dp_main_school_01%26tb%3DSCHOOL_1\"},\"code\":\"SCHOOL\",\"name\":\"스쿨잼\",\"css\":\"school\",\"nclick\":\"scl\",\"openDate\":null},{\"adMap\":null,\"code\":\"SHOW\",\"name\":\"공연전시\",\"css\":\"show\",\"nclick\":\"sow\",\"openDate\":\"20170622\"},{\"adMap\":null,\"code\":\"LAW\",\"name\":\"법률\",\"css\":\"law\",\"nclick\":\"law\",\"openDate\":\"20170803\"},{\"adMap\":null,\"code\":\"ANIMAL\",\"name\":\"동물공감\",\"css\":\"animal\",\"nclick\":\"ani\",\"openDate\":\"20170824\"},{\"adMap\":null,\"code\":\"WEDDING\",\"name\":\"연애·결혼\",\"css\":\"wedding\",\"nclick\":\"wed\",\"openDate\":\"20170831\"},{\"adMap\":null,\"code\":\"ITTECH\",\"name\":\"테크\",\"css\":\"ittech\",\"nclick\":\"tec\",\"openDate\":\"20170921\"},{\"adMap\":null,\"code\":\"EMOTION\",\"name\":\"감성충전\",\"css\":\"emotion\",\"nclick\":\"emo\",\"openDate\":\"20180322\"}]; \\n\\t\\t\\t\\t} catch(e) {\\n\\t\\t\\t\\t\\tJEagleEyeClient.sendError(\"invalid panel.json\");\\n\\t\\t\\t\\t}\\n\\t\\t\\t\\tnaver.main.PageRefresh.init();\\n\\n\\t\\t\\t\\tnaver.main.Panel.init(aPanelListAll);\\n\\n\\t\\t\\t\\tnaver.main.Log.init();\\n\\n\\t\\t\\t\\tnaver.main.ServiceNavi.init();\\n\\t\\t\\t\\tnaver.main.ThemecastNavi.init({\\n\\t\\t\\t\\t\\tbFlick: false,\\n\\t\\t\\t\\t\\tsAdList: \\'{\"header\":{\"msg\":\"success\",\"code\":0},\"body\":{\"adScriptList\":[{\"adScriptPCMain1\":{\"http\":\"https://ssl.pstatic.net/tveta/libs/assets/js/pc/main/min/pc.veta.core.min.js?20180330\",\"https\":\"https://ssl.pstatic.net/tveta/libs/assets/js/pc/main/min/pc.veta.core.min.js?20180330\"}}],\"adList\":[{\"menu\":\"ANIMAL\",\"childMenu\":\"\",\"adType\":\"singleDom\",\"multiDomAdUrl\":\"\",\"multiDomUnit\":\"\",\"infoList\":[{\"adposId\":\"1000124\",\"singleDomAdUrl\":\"https://nv.veta.naver.com/fxshow\",\"param\":{\"da_dom_id\":\"p_main_animal_00\",\"tb\":\"ANIMAL_1\",\"unit\":\"SU10261\",\"calp\":\"-\"},\"type\":{\"position\":\"rel\",\"positionIndex\":0,\"subject\":\"contents\"},\"dom\":null}]},{\"menu\":\"BEAUTY\",\"childMenu\":\"\",\"adType\":\"singleDom\",\"multiDomAdUrl\":\"\",\"multiDomUnit\":\"\",\"infoList\":[{\"adposId\":\"1000106\",\"singleDomAdUrl\":\"http://nv.veta.naver.com/fxshow\",\"param\":{\"da_dom_id\":\"p_main_beauty_00\",\"tb\":\"BEAUTY_1\",\"unit\":\"SU10249\",\"calp\":\"-\"},\"type\":{\"position\":\"rel\",\"positionIndex\":0,\"subject\":\"contents\"},\"dom\":null}]},{\"menu\":\"BUSINESS\",\"childMenu\":\"\",\"adType\":\"singleDom\",\"multiDomAdUrl\":\"\",\"multiDomUnit\":\"\",\"infoList\":[{\"adposId\":\"1000084\",\"singleDomAdUrl\":\"http://nv.veta.naver.com/fxshow\",\"param\":{\"da_dom_id\":\"p_main_business_00\",\"tb\":\"BUSINESS_1\",\"unit\":\"SU10204\",\"calp\":\"-\"},\"type\":{\"position\":\"rel\",\"positionIndex\":0,\"subject\":\"contents\"},\"dom\":null}]},{\"menu\":\"CARGAME\",\"childMenu\":\"\",\"adType\":\"singleDom\",\"multiDomAdUrl\":\"\",\"multiDomUnit\":\"\",\"infoList\":[{\"adposId\":\"1000102\",\"singleDomAdUrl\":\"http://nv.veta.naver.com/fxshow\",\"param\":{\"da_dom_id\":\"p_main_cargame_00\",\"tb\":\"CARGAME_1\",\"unit\":\"SU10253\",\"calp\":\"-\"},\"type\":{\"position\":\"rel\",\"positionIndex\":0,\"subject\":\"contents\"},\"dom\":null}]},{\"menu\":\"CHINA\",\"childMenu\":\"\",\"adType\":\"singleDom\",\"multiDomAdUrl\":\"\",\"multiDomUnit\":\"\",\"infoList\":[{\"adposId\":\"1000107\",\"singleDomAdUrl\":\"http://nv.veta.naver.com/fxshow\",\"param\":{\"da_dom_id\":\"p_main_china_00\",\"tb\":\"CHINA_1\",\"unit\":\"SU10206\",\"calp\":\"-\"},\"type\":{\"position\":\"rel\",\"positionIndex\":0,\"subject\":\"contents\"},\"dom\":null}]},{\"menu\":\"DESIGN\",\"childMenu\":\"\",\"adType\":\"singleDom\",\"multiDomAdUrl\":\"\",\"multiDomUnit\":\"\",\"infoList\":[{\"adposId\":\"1000090\",\"singleDomAdUrl\":\"http://nv.veta.naver.com/fxshow\",\"param\":{\"da_dom_id\":\"p_main_design_00\",\"tb\":\"DESIGN_1\",\"unit\":\"SU10205\",\"calp\":\"-\"},\"type\":{\"position\":\"rel\",\"positionIndex\":0,\"subject\":\"contents\"},\"dom\":null}]},{\"menu\":\"FARM\",\"childMenu\":\"\",\"adType\":\"singleDom\",\"multiDomAdUrl\":\"\",\"multiDomUnit\":\"\",\"infoList\":[{\"adposId\":\"1000101\",\"singleDomAdUrl\":\"http://nv.veta.naver.com/fxshow\",\"param\":{\"da_dom_id\":\"p_main_farm_00\",\"tb\":\"FARM_1\",\"unit\":\"SU10207\",\"calp\":\"-\"},\"type\":{\"position\":\"rel\",\"positionIndex\":0,\"subject\":\"contents\"},\"dom\":null}]},{\"menu\":\"FINANCE\",\"childMenu\":\"\",\"adType\":\"singleDom\",\"multiDomAdUrl\":\"\",\"multiDomUnit\":\"\",\"infoList\":[{\"adposId\":\"1000105\",\"singleDomAdUrl\":\"http://nv.veta.naver.com/fxshow\",\"param\":{\"da_dom_id\":\"p_main_finance_00\",\"tb\":\"FINANCE_1\",\"unit\":\"SU10250\",\"calp\":\"-\"},\"type\":{\"position\":\"rel\",\"positionIndex\":0,\"subject\":\"contents\"},\"dom\":null}]},{\"menu\":\"ITTECH\",\"childMenu\":\"\",\"adType\":\"singleDom\",\"multiDomAdUrl\":\"\",\"multiDomUnit\":\"\",\"infoList\":[{\"adposId\":\"1000113\",\"singleDomAdUrl\":\"https://nv.veta.naver.com/fxshow\",\"param\":{\"da_dom_id\":\"p_main_ittech_00\",\"tb\":\"ITTECH_1\",\"unit\":\"SU10260\",\"calp\":\"-\"},\"type\":{\"position\":\"rel\",\"positionIndex\":0,\"subject\":\"contents\"},\"dom\":null}]},{\"menu\":\"JOB\",\"childMenu\":\"\",\"adType\":\"singleDom\",\"multiDomAdUrl\":\"\",\"multiDomUnit\":\"\",\"infoList\":[{\"adposId\":\"1000088\",\"singleDomAdUrl\":\"http://nv.veta.naver.com/fxshow\",\"param\":{\"da_dom_id\":\"p_main_job_00\",\"tb\":\"JOB_1\",\"unit\":\"SU10200\",\"calp\":\"-\"},\"type\":{\"position\":\"rel\",\"positionIndex\":0,\"subject\":\"contents\"},\"dom\":null}]},{\"menu\":\"LAW\",\"childMenu\":\"\",\"adType\":\"singleDom\",\"multiDomAdUrl\":\"\",\"multiDomUnit\":\"\",\"infoList\":[{\"adposId\":\"1000100\",\"singleDomAdUrl\":\"http://nv.veta.naver.com/fxshow\",\"param\":{\"da_dom_id\":\"p_main_law_00\",\"tb\":\"LAW_1\",\"unit\":\"SU10255\",\"calp\":\"-\"},\"type\":{\"position\":\"rel\",\"positionIndex\":0,\"subject\":\"contents\"},\"dom\":null}]},{\"menu\":\"LIVING\",\"childMenu\":\"\",\"adType\":\"singleDom\",\"multiDomAdUrl\":\"\",\"multiDomUnit\":\"\",\"infoList\":[{\"adposId\":\"1000104\",\"singleDomAdUrl\":\"http://nv.veta.naver.com/fxshow\",\"param\":{\"da_dom_id\":\"p_main_living_00\",\"tb\":\"LIVING_1\",\"unit\":\"SU10251\",\"calp\":\"-\"},\"type\":{\"position\":\"rel\",\"positionIndex\":0,\"subject\":\"contents\"},\"dom\":null}]},{\"menu\":\"LIVINGHOME\",\"childMenu\":\"\",\"adType\":\"singleDom\",\"multiDomAdUrl\":\"\",\"multiDomUnit\":\"\",\"infoList\":[{\"adposId\":\"1000103\",\"singleDomAdUrl\":\"http://nv.veta.naver.com/fxshow\",\"param\":{\"da_dom_id\":\"p_main_livinghome_00\",\"tb\":\"LIVINGHOME_1\",\"unit\":\"SU10252\",\"calp\":\"-\"},\"type\":{\"position\":\"rel\",\"positionIndex\":0,\"subject\":\"contents\"},\"dom\":null}]},{\"menu\":\"MOMKIDS\",\"childMenu\":\"\",\"adType\":\"singleDom\",\"multiDomAdUrl\":\"\",\"multiDomUnit\":\"\",\"infoList\":[{\"adposId\":\"1000089\",\"singleDomAdUrl\":\"http://nv.veta.naver.com/fxshow\",\"param\":{\"da_dom_id\":\"p_main_momkids_00\",\"tb\":\"MOMKIDS_1\",\"unit\":\"SU10226\",\"calp\":\"-\"},\"type\":{\"position\":\"rel\",\"positionIndex\":0,\"subject\":\"contents\"},\"dom\":null}]},{\"menu\":\"MOVIE\",\"childMenu\":\"\",\"adType\":\"singleDom\",\"multiDomAdUrl\":\"\",\"multiDomUnit\":\"\",\"infoList\":[{\"adposId\":\"1000087\",\"singleDomAdUrl\":\"http://nv.veta.naver.com/fxshow\",\"param\":{\"da_dom_id\":\"p_main_movie_00\",\"tb\":\"MOVIE_1\",\"unit\":\"SU10199\",\"calp\":\"-\"},\"type\":{\"position\":\"rel\",\"positionIndex\":0,\"subject\":\"contents\"},\"dom\":null}]},{\"menu\":\"SCHOOL\",\"childMenu\":\"\",\"adType\":\"singleDom\",\"multiDomAdUrl\":\"\",\"multiDomUnit\":\"\",\"infoList\":[{\"adposId\":\"1000085\",\"singleDomAdUrl\":\"http://nv.veta.naver.com/fxshow\",\"param\":{\"da_dom_id\":\"p_main_school_01\",\"tb\":\"SCHOOL_1\",\"unit\":\"SU10210\",\"calp\":\"-\"},\"type\":{\"position\":\"rel\",\"positionIndex\":0,\"subject\":\"contents\"},\"dom\":null}]},{\"menu\":\"SHOW\",\"childMenu\":\"\",\"adType\":\"singleDom\",\"multiDomAdUrl\":\"\",\"multiDomUnit\":\"\",\"infoList\":[{\"adposId\":\"1000112\",\"singleDomAdUrl\":\"https://nv.veta.naver.com/fxshow\",\"param\":{\"da_dom_id\":\"p_main_show_00\",\"tb\":\"SHOW_1\",\"unit\":\"SU10262\",\"calp\":\"-\"},\"type\":{\"position\":\"rel\",\"positionIndex\":0,\"subject\":\"contents\"},\"dom\":null}]},{\"menu\":\"TRAVEL\",\"childMenu\":\"\",\"adType\":\"singleDom\",\"multiDomAdUrl\":\"\",\"multiDomUnit\":\"\",\"infoList\":[{\"adposId\":\"1000086\",\"singleDomAdUrl\":\"http://nv.veta.naver.com/fxshow\",\"param\":{\"da_dom_id\":\"p_main_travel_00\",\"tb\":\"TRAVEL_1\",\"unit\":\"SU10198\",\"calp\":\"-\"},\"type\":{\"position\":\"rel\",\"positionIndex\":0,\"subject\":\"contents\"},\"dom\":null}]},{\"menu\":\"WEDDING\",\"childMenu\":\"\",\"adType\":\"singleDom\",\"multiDomAdUrl\":\"\",\"multiDomUnit\":\"\",\"infoList\":[{\"adposId\":\"1000128\",\"singleDomAdUrl\":\"https://nv.veta.naver.com/fxshow\",\"param\":{\"da_dom_id\":\"p_main_wedding_00\",\"tb\":\"WEDDING_1\",\"unit\":\"SU10263\",\"calp\":\"-\"},\"type\":{\"position\":\"rel\",\"positionIndex\":0,\"subject\":\"contents\"},\"dom\":null}]}]}}\\'\\n\\t\\t\\t\\t});\\n\\t\\t\\t\\tnaver.main.CenterBanner.init();\\n\\t\\t\\t\\tnewSmartSearch();\\n\\t\\n\\t\\t\\t\\tnew naver.main.Newsstand({\\n\\t\\t\\t\\t\\trcode : \"09530101\",\\n        \\t\\t    newspaperURL : \"newspaper.naver.com\",\\n            \\t\\tnewsStandURL : \"newsstand.naver.com\",\\n\\t\\t            userInfoURL : \"userinfo.www.naver.com\",\\n    \\t\\t        newsCastInfo : \"\",\\n        \\t\\t    newsStandInfo : \"\",\\n            \\t\\theadlineList : {\"pid\" : [\"002\",\"003\",\"005\",\"006\",\"008\",\"009\",\"011\",\"013\",\"014\",\"015\",\"016\",\"018\",\"020\",\"021\",\"022\",\"023\",\"024\",\"025\",\"028\",\"029\",\"030\",\"031\",\"032\",\"038\",\"040\",\"042\",\"044\",\"047\",\"050\",\"052\",\"055\",\"056\",\"057\",\"073\",\"075\",\"076\",\"079\",\"081\",\"082\",\"087\",\"088\",\"089\",\"092\",\"094\",\"108\",\"109\",\"117\",\"120\",\"122\",\"123\",\"135\",\"138\",\"139\",\"140\",\"143\",\"144\",\"213\",\"214\",\"215\",\"241\",\"243\",\"277\",\"293\",\"296\",\"301\",\"308\",\"310\",\"311\",\"312\",\"314\",\"326\",\"327\",\"328\",\"329\",\"330\",\"331\",\"332\",\"333\",\"334\",\"335\",\"336\",\"337\",\"338\",\"339\",\"340\",\"344\",\"345\",\"346\",\"353\",\"354\",\"355\",\"356\",\"361\",\"362\",\"363\",\"364\",\"366\",\"368\",\"374\",\"376\",\"384\",\"385\",\"387\",\"388\",\"389\",\"390\",\"391\",\"396\",\"404\",\"410\",\"416\",\"417\",\"421\",\"422\",\"440\",\"447\",\"477\",\"529\",\"536\",\"539\",\"801\",\"802\",\"803\",\"804\",\"805\",\"806\",\"807\",\"808\",\"809\",\"810\",\"811\",\"812\",\"813\",\"814\",\"815\",\"816\",\"817\",\"818\",\"819\",\"820\",\"822\",\"823\",\"901\",\"902\",\"903\",\"904\",\"905\",\"906\",\"907\",\"908\",\"909\",\"910\",\"911\",\"912\",\"913\",\"914\",\"915\",\"916\",\"917\",\"920\",\"921\",\"922\",\"923\",\"924\",\"925\",\"926\",\"927\",\"928\",\"930\",\"932\",\"933\",\"934\",\"935\",\"936\",\"937\",\"938\",\"939\",\"940\",\"941\",\"942\",\"943\",\"944\",\"945\",\"946\",\"947\",\"948\",\"949\",\"950\",\"951\",\"952\",\"953\",\"954\",\"955\",\"956\",\"957\",\"958\",\"959\",\"960\",\"961\",\"962\",\"963\",\"964\",\"965\",\"966\",\"967\",\"968\",\"969\",\"970\",\"971\",\"972\",\"973\",\"974\",\"975\",\"976\",\"977\",\"978\",\"979\",\"980\",\"981\",\"982\",\"983\",\"984\",\"986\",\"987\",\"988\",\"989\",\"990\",\"991\",\"993\"], \"amigo\" : [], \"invalid\" : []},\\n\\t\\t\\t\\t\\tpressCategory : {\"ct1\":[{\"pid\":\"032\",\"name\":\"경향신문\",\"img\":\"https://s.pstatic.net/static/newsstand/up/2017/0424/nsd14372435.png\",\"newMainLogo\":\"https://s.pstatic.net/static/newsstand/2019/logo/032.png\",\"cate\":\"ct2\",\"amigo\":\"N\",\"viewer\":\"Y\",\"today\":\"N\",\"local\":null},{\"pid\":\"005\",\"name\":\"국민일보\",\"img\":\"https://s.pstatic.net/static/newsstand/up/2017/0424/nsd1438916.png\",\"newMainLogo\":\"https://s.pstatic.net/static/newsstand/2019/logo/005.png\",\"cate\":\"ct2\",\"amigo\":\"N\",\"viewer\":\"Y\",\"today\":\"N\",\"local\":null},{\"pid\":\"079\",\"name\":\"노컷뉴스\",\"img\":\"https://s.pstatic.net/static/newsstand/up/2017/0424/nsd143958887.png\",\"newMainLogo\":\"https://s.pstatic.net/static/newsstand/2019/logo/079.png\",\"cate\":\"ct2\",\"amigo\":\"N\",\"viewer\":\"Y\",\"today\":\"N\",\"local\":null},{\"pid\":\"327\",\"name\":\"뉴데일리\",\"img\":\"https://s.pstatic.net/static/newsstand/up/2017/0424/nsd144037935.png\",\"newMainLogo\":\"https://s.pstatic.net/static/newsstand/2019/logo/327.png\",\"cate\":\"ct2\",\"amigo\":\"N\",\"viewer\":\"Y\",\"today\":\"N\",\"local\":null},{\"pid\":\"930\",\"name\":\"뉴스타파\",\"img\":\"https://s.pstatic.net/static/newsstand/up/2017/0424/nsd144152433.png\",\"newMainLogo\":\"https://s.pstatic.net/static/newsstand/2019/logo/930.png\",\"cate\":\"ct2\",\"amigo\":\"N\",\"viewer\":\"Y\",\"today\":\"N\",\"local\":null},{\"pid\":\"003\",\"name\":\"뉴시스\",\"img\":\"https://s.pstatic.net/static/newsstand/up/2017/0424/nsd14449981.png\",\"newMainLogo\":\"https://s.pstatic.net/static/newsstand/2019/logo/003.png\",\"cate\":\"ct3\",\"amigo\":\"N\",\"viewer\":\"Y\",\"today\":\"N\",\"local\":null},{\"pid\":\"368\",\"name\":\"데일리안\",\"img\":\"https://s.pstatic.net/static/newsstand/up/2017/0424/nsd14463367.png\",\"newMainLogo\":\"https://s.pstatic.net/static/newsstand/2019/logo/368.png\",\"cate\":\"ct2\",\"amigo\":\"N\",\"viewer\":\"Y\",\"today\":\"N\",\"local\":null},{\"pid\":\"020\",\"name\":\"동아일보\",\"img\":\"https://s.pstatic.net/static/newsstand/up/2017/0424/nsd14479875.png\",\"newMainLogo\":\"https://s.pstatic.net/static/newsstand/2019/logo/020.png\",\"cate\":\"ct2\",\"amigo\":\"N\",\"viewer\":\"Y\",\"today\":\"N\",\"local\":null},{\"pid\":\"029\",\"name\":\"디지털타임스\",\"img\":\"https://s.pstatic.net/static/newsstand/up/2018/0719/nsd162516824.png\",\"newMainLogo\":\"https://s.pstatic.net/static/newsstand/2019/logo/029.png\",\"cate\":\"ct4\",\"amigo\":\"N\",\"viewer\":\"Y\",\"today\":\"N\",\"local\":null},{\"pid\":\"117\",\"name\":\"마이데일리\",\"img\":\"https://s.pstatic.net/static/newsstand/up/2017/0424/nsd144944309.png\",\"newMainLogo\":\"https://s.pstatic.net/static/newsstand/2019/logo/117.png\",\"cate\":\"ct6\",\"amigo\":\"N\",\"viewer\":\"Y\",\"today\":\"N\",\"local\":null},{\"pid\":\"009\",\"name\":\"매일경제\",\"img\":\"https://s.pstatic.net/static/newsstand/up/2017/0424/nsd145032565.png\",\"newMainLogo\":\"https://s.pstatic.net/static/newsstand/2019/logo/009.png\",\"cate\":\"ct2\",\"amigo\":\"N\",\"viewer\":\"Y\",\"today\":\"N\",\"local\":null},{\"pid\":\"008\",\"name\":\"머니투데이\",\"img\":\"https://s.pstatic.net/static/newsstand/up/2017/0424/nsd145214517.png\",\"newMainLogo\":\"https://s.pstatic.net/static/newsstand/2019/logo/008.png\",\"cate\":\"ct2\",\"amigo\":\"N\",\"viewer\":\"Y\",\"today\":\"N\",\"local\":null},{\"pid\":\"021\",\"name\":\"문화일보\",\"img\":\"https://s.pstatic.net/static/newsstand/up/2017/0424/nsd19245981.png\",\"newMainLogo\":\"https://s.pstatic.net/static/newsstand/2019/logo/021.png\",\"cate\":\"ct2\",\"amigo\":\"N\",\"viewer\":\"Y\",\"today\":\"N\",\"local\":null},{\"pid\":\"006\",\"name\":\"미디어오늘\",\"img\":\"https://s.pstatic.net/static/newsstand/up/2017/0424/nsd145346617.png\",\"newMainLogo\":\"https://s.pstatic.net/static/newsstand/2019/logo/006.png\",\"cate\":\"ct2\",\"amigo\":\"N\",\"viewer\":\"Y\",\"today\":\"N\",\"local\":null},{\"pid\":\"293\",\"name\":\"블로터\",\"img\":\"https://s.pstatic.net/static/newsstand/up/2018/0316/nsd175350622.png\",\"newMainLogo\":\"https://s.pstatic.net/static/newsstand/2019/logo/293.png\",\"cate\":\"ct4\",\"amigo\":\"N\",\"viewer\":\"Y\",\"today\":\"N\",\"local\":null},{\"pid\":\"011\",\"name\":\"서울경제\",\"img\":\"https://s.pstatic.net/static/newsstand/up/2017/0424/nsd145718601.png\",\"newMainLogo\":\"https://s.pstatic.net/static/newsstand/2019/logo/011.png\",\"cate\":\"ct2\",\"amigo\":\"N\",\"viewer\":\"Y\",\"today\":\"N\",\"local\":null},{\"pid\":\"081\",\"name\":\"서울신문\",\"img\":\"https://s.pstatic.net/static/newsstand/up/2017/0424/nsd145738195.png\",\"newMainLogo\":\"https://s.pstatic.net/static/newsstand/2019/logo/081.png\",\"cate\":\"ct2\",\"amigo\":\"N\",\"viewer\":\"Y\",\"today\":\"N\",\"local\":null},{\"pid\":\"022\",\"name\":\"세계일보\",\"img\":\"https://s.pstatic.net/static/newsstand/up/2017/0424/nsd145813557.png\",\"newMainLogo\":\"https://s.pstatic.net/static/newsstand/2019/logo/022.png\",\"cate\":\"ct2\",\"amigo\":\"N\",\"viewer\":\"Y\",\"today\":\"N\",\"local\":null},{\"pid\":\"314\",\"name\":\"스포츠동아\",\"img\":\"https://s.pstatic.net/static/newsstand/up/2017/0424/nsd145951763.png\",\"newMainLogo\":\"https://s.pstatic.net/static/newsstand/2019/logo/314.png\",\"cate\":\"ct6\",\"amigo\":\"N\",\"viewer\":\"Y\",\"today\":\"N\",\"local\":null},{\"pid\":\"073\",\"name\":\"스포츠서울\",\"img\":\"https://s.pstatic.net/static/newsstand/up/2017/0424/nsd15042554.png\",\"newMainLogo\":\"https://s.pstatic.net/static/newsstand/2019/logo/073.png\",\"cate\":\"ct6\",\"amigo\":\"N\",\"viewer\":\"Y\",\"today\":\"N\",\"local\":null},{\"pid\":\"076\",\"name\":\"스포츠조선\",\"img\":\"https://s.pstatic.net/static/newsstand/up/2017/0424/nsd183553864.png\",\"newMainLogo\":\"https://s.pstatic.net/static/newsstand/2019/logo/076.png\",\"cate\":\"ct6\",\"amigo\":\"N\",\"viewer\":\"Y\",\"today\":\"N\",\"local\":null},{\"pid\":\"139\",\"name\":\"스포탈코리아\",\"img\":\"https://s.pstatic.net/static/newsstand/up/2017/0424/nsd151840663.png\",\"newMainLogo\":\"https://s.pstatic.net/static/newsstand/2019/logo/139.png\",\"cate\":\"ct6\",\"amigo\":\"N\",\"viewer\":\"Y\",\"today\":\"N\",\"local\":null},{\"pid\":\"308\",\"name\":\"시사인\",\"img\":\"https://s.pstatic.net/static/newsstand/up/2017/0424/nsd151929775.png\",\"newMainLogo\":\"https://s.pstatic.net/static/newsstand/2019/logo/308.png\",\"cate\":\"ct7\",\"amigo\":\"N\",\"viewer\":\"Y\",\"today\":\"N\",\"local\":null},{\"pid\":\"277\",\"name\":\"아시아경제\",\"img\":\"https://s.pstatic.net/static/newsstand/up/2017/0424/nsd153432228.png\",\"newMainLogo\":\"https://s.pstatic.net/static/newsstand/2019/logo/277.png\",\"cate\":\"ct2\",\"amigo\":\"N\",\"viewer\":\"Y\",\"today\":\"N\",\"local\":null},{\"pid\":\"031\",\"name\":\"아이뉴스24\",\"img\":\"https://s.pstatic.net/static/newsstand/up/2017/0424/nsd153955864.png\",\"newMainLogo\":\"https://s.pstatic.net/static/newsstand/2019/logo/031.png\",\"cate\":\"ct2\",\"amigo\":\"N\",\"viewer\":\"Y\",\"today\":\"N\",\"local\":null},{\"pid\":\"422\",\"name\":\"연합뉴스TV\",\"img\":\"https://s.pstatic.net/static/newsstand/up/2017/0424/nsd154219877.png\",\"newMainLogo\":\"https://s.pstatic.net/static/newsstand/2019/logo/422.png\",\"cate\":\"ct3\",\"amigo\":\"N\",\"viewer\":\"Y\",\"today\":\"N\",\"local\":null},{\"pid\":\"047\",\"name\":\"오마이뉴스\",\"img\":\"https://s.pstatic.net/static/newsstand/up/2017/0424/nsd154314463.png\",\"newMainLogo\":\"https://s.pstatic.net/static/newsstand/2019/logo/047.png\",\"cate\":\"ct2\",\"amigo\":\"N\",\"viewer\":\"Y\",\"today\":\"N\",\"local\":null},{\"pid\":\"018\",\"name\":\"이데일리\",\"img\":\"https://s.pstatic.net/static/newsstand/up/2017/0424/nsd154426359.png\",\"newMainLogo\":\"https://s.pstatic.net/static/newsstand/2019/logo/018.png\",\"cate\":\"ct2\",\"amigo\":\"N\",\"viewer\":\"Y\",\"today\":\"N\",\"local\":null},{\"pid\":\"241\",\"name\":\"일간스포츠\",\"img\":\"https://s.pstatic.net/static/newsstand/up/2017/0424/nsd154619739.png\",\"newMainLogo\":\"https://s.pstatic.net/static/newsstand/2019/logo/241.png\",\"cate\":\"ct6\",\"amigo\":\"N\",\"viewer\":\"Y\",\"today\":\"N\",\"local\":null},{\"pid\":\"030\",\"name\":\"전자신문\",\"img\":\"https://s.pstatic.net/static/newsstand/up/2017/0424/nsd162528724.png\",\"newMainLogo\":\"https://s.pstatic.net/static/newsstand/2019/logo/030.png\",\"cate\":\"ct4\",\"amigo\":\"N\",\"viewer\":\"Y\",\"today\":\"N\",\"local\":null},{\"pid\":\"366\",\"name\":\"조선비즈\",\"img\":\"https://s.pstatic.net/static/newsstand/up/2017/0424/nsd162659528.png\",\"newMainLogo\":\"https://s.pstatic.net/static/newsstand/2019/logo/366.png\",\"cate\":\"ct2\",\"amigo\":\"N\",\"viewer\":\"Y\",\"today\":\"N\",\"local\":null},{\"pid\":\"023\",\"name\":\"조선일보\",\"img\":\"https://s.pstatic.net/static/newsstand/up/2017/0424/nsd162718792.png\",\"newMainLogo\":\"https://s.pstatic.net/static/newsstand/2019/logo/023.png\",\"cate\":\"ct2\",\"amigo\":\"N\",\"viewer\":\"Y\",\"today\":\"N\",\"local\":null},{\"pid\":\"330\",\"name\":\"중앙데일리\",\"img\":\"https://s.pstatic.net/static/newsstand/up/2018/0626/nsd103519292.png\",\"newMainLogo\":\"https://s.pstatic.net/static/newsstand/2019/logo/330.png\",\"cate\":\"ct5\",\"amigo\":\"N\",\"viewer\":\"Y\",\"today\":\"N\",\"local\":null},{\"pid\":\"025\",\"name\":\"중앙일보\",\"img\":\"https://s.pstatic.net/static/newsstand/up/2018/0807/nsd1484475.png\",\"newMainLogo\":\"https://s.pstatic.net/static/newsstand/up/2019/1029/nsd164628626.png\",\"cate\":\"ct2\",\"amigo\":\"N\",\"viewer\":\"Y\",\"today\":\"N\",\"local\":null},{\"pid\":\"092\",\"name\":\"지디넷코리아\",\"img\":\"https://s.pstatic.net/static/newsstand/up/2017/0424/nsd16425834.png\",\"newMainLogo\":\"https://s.pstatic.net/static/newsstand/2019/logo/092.png\",\"cate\":\"ct4\",\"amigo\":\"N\",\"viewer\":\"Y\",\"today\":\"N\",\"local\":null},{\"pid\":\"376\",\"name\":\"지지통신\",\"img\":\"https://s.pstatic.net/static/newsstand/up/2017/0424/nsd16432873.png\",\"newMainLogo\":\"https://s.pstatic.net/static/newsstand/2019/logo/376.png\",\"cate\":\"ct3\",\"amigo\":\"N\",\"viewer\":\"Y\",\"today\":\"N\",\"local\":null},{\"pid\":\"044\",\"name\":\"코리아헤럴드\",\"img\":\"https://s.pstatic.net/static/newsstand/up/2017/0424/nsd17341942.png\",\"newMainLogo\":\"https://s.pstatic.net/static/newsstand/2019/logo/044.png\",\"cate\":\"ct5\",\"amigo\":\"N\",\"viewer\":\"Y\",\"today\":\"N\",\"local\":null},{\"pid\":\"014\",\"name\":\"파이낸셜뉴스\",\"img\":\"https://s.pstatic.net/static/newsstand/up/2017/0424/nsd172557496.png\",\"newMainLogo\":\"https://s.pstatic.net/static/newsstand/2019/logo/014.png\",\"cate\":\"ct2\",\"amigo\":\"N\",\"viewer\":\"Y\",\"today\":\"N\",\"local\":null},{\"pid\":\"002\",\"name\":\"프레시안\",\"img\":\"https://s.pstatic.net/static/newsstand/up/2017/0424/nsd172615885.png\",\"newMainLogo\":\"https://s.pstatic.net/static/newsstand/2019/logo/002.png\",\"cate\":\"ct2\",\"amigo\":\"N\",\"viewer\":\"Y\",\"today\":\"N\",\"local\":null},{\"pid\":\"028\",\"name\":\"한겨레\",\"img\":\"https://s.pstatic.net/static/newsstand/up/2017/0424/nsd17263596.png\",\"newMainLogo\":\"https://s.pstatic.net/static/newsstand/2019/logo/028.png\",\"cate\":\"ct2\",\"amigo\":\"N\",\"viewer\":\"Y\",\"today\":\"N\",\"local\":null},{\"pid\":\"015\",\"name\":\"한국경제\",\"img\":\"https://s.pstatic.net/static/newsstand/up/2017/0424/nsd172736175.png\",\"newMainLogo\":\"https://s.pstatic.net/static/newsstand/2019/logo/015.png\",\"cate\":\"ct2\",\"amigo\":\"N\",\"viewer\":\"Y\",\"today\":\"N\",\"local\":null},{\"pid\":\"215\",\"name\":\"한국경제TV\",\"img\":\"https://s.pstatic.net/static/newsstand/up/2017/0424/nsd172755139.png\",\"newMainLogo\":\"https://s.pstatic.net/static/newsstand/2019/logo/215.png\",\"cate\":\"ct3\",\"amigo\":\"N\",\"viewer\":\"Y\",\"today\":\"N\",\"local\":null},{\"pid\":\"038\",\"name\":\"한국일보\",\"img\":\"https://s.pstatic.net/static/newsstand/up/2017/0424/nsd172837200.png\",\"newMainLogo\":\"https://s.pstatic.net/static/newsstand/2019/logo/038.png\",\"cate\":\"ct2\",\"amigo\":\"N\",\"viewer\":\"Y\",\"today\":\"N\",\"local\":null},{\"pid\":\"016\",\"name\":\"헤럴드경제\",\"img\":\"https://s.pstatic.net/static/newsstand/up/2017/0424/nsd172855569.png\",\"newMainLogo\":\"https://s.pstatic.net/static/newsstand/2019/logo/016.png\",\"cate\":\"ct2\",\"amigo\":\"N\",\"viewer\":\"Y\",\"today\":\"N\",\"local\":null},{\"pid\":\"904\",\"name\":\"JTBC\",\"img\":\"https://s.pstatic.net/static/newsstand/up/2017/0424/nsd173111263.png\",\"newMainLogo\":\"https://s.pstatic.net/static/newsstand/2019/logo/904.png\",\"cate\":\"ct3\",\"amigo\":\"N\",\"viewer\":\"Y\",\"today\":\"N\",\"local\":null},{\"pid\":\"056\",\"name\":\"KBS\",\"img\":\"https://s.pstatic.net/static/newsstand/up/2017/0424/nsd173124306.png\",\"newMainLogo\":\"https://s.pstatic.net/static/newsstand/2019/logo/056.png\",\"cate\":\"ct3\",\"amigo\":\"N\",\"viewer\":\"Y\",\"today\":\"N\",\"local\":null},{\"pid\":\"326\",\"name\":\"KBS World\",\"img\":\"https://s.pstatic.net/static/newsstand/up/2019/0903/nsd18352747.png\",\"newMainLogo\":\"https://s.pstatic.net/static/newsstand/2019/logo/326.png\",\"cate\":\"ct5\",\"amigo\":\"N\",\"viewer\":\"Y\",\"today\":\"N\",\"local\":null},{\"pid\":\"214\",\"name\":\"MBC\",\"img\":\"https://s.pstatic.net/static/newsstand/up/2017/0424/nsd17324940.png\",\"newMainLogo\":\"https://s.pstatic.net/static/newsstand/2019/logo/214.png\",\"cate\":\"ct3\",\"amigo\":\"N\",\"viewer\":\"Y\",\"today\":\"N\",\"local\":null},{\"pid\":\"057\",\"name\":\"MBN\",\"img\":\"https://s.pstatic.net/static/newsstand/up/2017/0424/nsd173223533.png\",\"newMainLogo\":\"https://s.pstatic.net/static/newsstand/2019/logo/057.png\",\"cate\":\"ct3\",\"amigo\":\"N\",\"viewer\":\"Y\",\"today\":\"N\",\"local\":null},{\"pid\":\"109\",\"name\":\"OSEN\",\"img\":\"https://s.pstatic.net/static/newsstand/up/2017/0424/nsd17338859.png\",\"newMainLogo\":\"https://s.pstatic.net/static/newsstand/2019/logo/109.png\",\"cate\":\"ct6\",\"amigo\":\"N\",\"viewer\":\"Y\",\"today\":\"N\",\"local\":null},{\"pid\":\"055\",\"name\":\"SBS\",\"img\":\"https://s.pstatic.net/static/newsstand/up/2017/0424/nsd173335676.png\",\"newMainLogo\":\"https://s.pstatic.net/static/newsstand/2019/logo/055.png\",\"cate\":\"ct3\",\"amigo\":\"N\",\"viewer\":\"Y\",\"today\":\"N\",\"local\":null},{\"pid\":\"052\",\"name\":\"YTN\",\"img\":\"https://s.pstatic.net/static/newsstand/up/2017/0424/nsd173559874.png\",\"newMainLogo\":\"https://s.pstatic.net/static/newsstand/2019/logo/052.png\",\"cate\":\"ct3\",\"amigo\":\"N\",\"viewer\":\"Y\",\"today\":\"N\",\"local\":null}],\"ct2\":[{\"pid\":\"960\",\"name\":\"건설경제신문\",\"img\":\"https://s.pstatic.net/static/newsstand/up/2017/1201/nsd161545206.png\",\"newMainLogo\":\"https://s.pstatic.net/static/newsstand/2019/logo/960.png\",\"cate\":\"ct2\",\"amigo\":\"N\",\"viewer\":\"Y\",\"today\":\"N\",\"local\":null},{\"pid\":\"032\",\"name\":\"경향신문\",\"img\":\"https://s.pstatic.net/static/newsstand/up/2017/0424/nsd14372435.png\",\"newMainLogo\":\"https://s.pstatic.net/static/newsstand/2019/logo/032.png\",\"cate\":\"ct2\",\"amigo\":\"N\",\"viewer\":\"Y\",\"today\":\"N\",\"local\":null},{\"pid\":\"005\",\"name\":\"국민일보\",\"img\":\"https://s.pstatic.net/static/newsstand/up/2017/0424/nsd1438916.png\",\"newMainLogo\":\"https://s.pstatic.net/static/newsstand/2019/logo/005.png\",\"cate\":\"ct2\",\"amigo\":\"N\",\"viewer\":\"Y\",\"today\":\"N\",\"local\":null},{\"pid\":\"944\",\"name\":\"나우뉴스\",\"img\":\"https://s.pstatic.net/static/newsstand/up/2017/0424/nsd14392079.png\",\"newMainLogo\":\"https://s.pstatic.net/static/newsstand/2019/logo/944.png\",\"cate\":\"ct2\",\"amigo\":\"N\",\"viewer\":\"Y\",\"today\":\"N\",\"local\":null},{\"pid\":\"079\",\"name\":\"노컷뉴스\",\"img\":\"https://s.pstatic.net/static/newsstand/up/2017/0424/nsd143958887.png\",\"newMainLogo\":\"https://s.pstatic.net/static/newsstand/2019/logo/079.png\",\"cate\":\"ct2\",\"amigo\":\"N\",\"viewer\":\"Y\",\"today\":\"N\",\"local\":null},{\"pid\":\"327\",\"name\":\"뉴데일리\",\"img\":\"https://s.pstatic.net/static/newsstand/up/2017/0424/nsd144037935.png\",\"newMainLogo\":\"https://s.pstatic.net/static/newsstand/2019/logo/327.png\",\"cate\":\"ct2\",\"amigo\":\"N\",\"viewer\":\"Y\",\"today\":\"N\",\"local\":null},{\"pid\":\"930\",\"name\":\"뉴스타파\",\"img\":\"https://s.pstatic.net/static/newsstand/up/2017/0424/nsd144152433.png\",\"newMainLogo\":\"https://s.pstatic.net/static/newsstand/2019/logo/930.png\",\"cate\":\"ct2\",\"amigo\":\"N\",\"viewer\":\"Y\",\"today\":\"N\",\"local\":null},{\"pid\":\"913\",\"name\":\"뉴스토마토\",\"img\":\"https://s.pstatic.net/static/newsstand/up/2017/0424/nsd14431117.png\",\"newMainLogo\":\"https://s.pstatic.net/static/newsstand/2019/logo/913.png\",\"cate\":\"ct2\",\"amigo\":\"N\",\"viewer\":\"Y\",\"today\":\"N\",\"local\":null},{\"pid\":\"914\",\"name\":\"뉴스핌\",\"img\":\"https://s.pstatic.net/static/newsstand/up/2017/0613/nsd173430698.png\",\"newMainLogo\":\"https://s.pstatic.net/static/newsstand/2019/logo/914.png\",\"cate\":\"ct2\",\"amigo\":\"N\",\"viewer\":\"Y\",\"today\":\"N\",\"local\":null},{\"pid\":\"536\",\"name\":\"더팩트\",\"img\":\"https://s.pstatic.net/static/newsstand/up/2017/0424/nsd144543120.png\",\"newMainLogo\":\"https://s.pstatic.net/static/newsstand/2019/logo/536.png\",\"cate\":\"ct2\",\"amigo\":\"N\",\"viewer\":\"Y\",\"today\":\"N\",\"local\":null},{\"pid\":\"804\",\"name\":\"데이터뉴스\",\"img\":\"https://s.pstatic.net/static/newsstand/up/2019/0311/nsd10146709.png\",\"newMainLogo\":\"https://s.pstatic.net/static/newsstand/2019/logo/804.png\",\"cate\":\"ct2\",\"amigo\":\"N\",\"viewer\":\"Y\",\"today\":\"N\",\"local\":null},{\"pid\":\"368\",\"name\":\"데일리안\",\"img\":\"https://s.pstatic.net/static/newsstand/up/2017/0424/nsd14463367.png\",\"newMainLogo\":\"https://s.pstatic.net/static/newsstand/2019/logo/368.png\",\"cate\":\"ct2\",\"amigo\":\"N\",\"viewer\":\"Y\",\"today\":\"N\",\"local\":null},{\"pid\":\"020\",\"name\":\"동아일보\",\"img\":\"https://s.pstatic.net/static/newsstand/up/2017/0424/nsd14479875.png\",\"newMainLogo\":\"https://s.pstatic.net/static/newsstand/2019/logo/020.png\",\"cate\":\"ct2\",\"amigo\":\"N\",\"viewer\":\"Y\",\"today\":\"N\",\"local\":null},{\"pid\":\"009\",\"name\":\"매일경제\",\"img\":\"https://s.pstatic.net/static/newsstand/up/2017/0424/nsd145032565.png\",\"newMainLogo\":\"https://s.pstatic.net/static/newsstand/2019/logo/009.png\",\"cate\":\"ct2\",\"amigo\":\"N\",\"viewer\":\"Y\",\"today\":\"N\",\"local\":null},{\"pid\":\"969\",\"name\":\"매일노동뉴스\",\"img\":\"https://s.pstatic.net/static/newsstand/up/2017/1201/nsd161443290.png\",\"newMainLogo\":\"https://s.pstatic.net/static/newsstand/2019/logo/969.png\",\"cate\":\"ct2\",\"amigo\":\"N\",\"viewer\":\"Y\",\"today\":\"N\",\"local\":null},{\"pid\":\"417\",\"name\":\"머니에스\",\"img\":\"https://s.pstatic.net/static/newsstand/up/2017/0424/nsd145150694.png\",\"newMainLogo\":\"https://s.pstatic.net/static/newsstand/2019/logo/417.png\",\"cate\":\"ct2\",\"amigo\":\"N\",\"viewer\":\"Y\",\"today\":\"N\",\"local\":null},{\"pid\":\"008\",\"name\":\"머니투데이\",\"img\":\"https://s.pstatic.net/static/newsstand/up/2017/0424/nsd145214517.png\",\"newMainLogo\":\"https://s.pstatic.net/static/newsstand/2019/logo/008.png\",\"cate\":\"ct2\",\"amigo\":\"N\",\"viewer\":\"Y\",\"today\":\"N\",\"local\":null},{\"pid\":\"961\",\"name\":\"메트로신문\",\"img\":\"https://s.pstatic.net/static/newsstand/up/2017/1201/nsd161618979.png\",\"newMainLogo\":\"https://s.pstatic.net/static/newsstand/2019/logo/961.png\",\"cate\":\"ct2\",\"amigo\":\"N\",\"viewer\":\"Y\",\"today\":\"N\",\"local\":null},{\"pid\":\"021\",\"name\":\"문화일보\",\"img\":\"https://s.pstatic.net/static/newsstand/up/2017/0424/nsd19245981.png\",\"newMainLogo\":\"https://s.pstatic.net/static/newsstand/2019/logo/021.png\",\"cate\":\"ct2\",\"amigo\":\"N\",\"viewer\":\"Y\",\"today\":\"N\",\"local\":null},{\"pid\":\"812\",\"name\":\"미디어SR\",\"img\":\"https://s.pstatic.net/static/newsstand/up/2019/0910/nsd105733141.png\",\"newMainLogo\":\"https://s.pstatic.net/static/newsstand/2019/logo/812.png\",\"cate\":\"ct2\",\"amigo\":\"N\",\"viewer\":\"Y\",\"today\":\"N\",\"local\":null},{\"pid\":\"006\",\"name\":\"미디어오늘\",\"img\":\"https://s.pstatic.net/static/newsstand/up/2017/0424/nsd145346617.png\",\"newMainLogo\":\"https://s.pstatic.net/static/newsstand/2019/logo/006.png\",\"cate\":\"ct2\",\"amigo\":\"N\",\"viewer\":\"Y\",\"today\":\"N\",\"local\":null},{\"pid\":\"809\",\"name\":\"미디어펜\",\"img\":\"https://s.pstatic.net/static/newsstand/up/2019/0520/nsd172316495.png\",\"newMainLogo\":\"https://s.pstatic.net/static/newsstand/2019/logo/809.png\",\"cate\":\"ct2\",\"amigo\":\"N\",\"viewer\":\"Y\",\"today\":\"N\",\"local\":null},{\"pid\":\"814\",\"name\":\"미주한국일보\",\"img\":\"https://s.pstatic.net/static/newsstand/up/2019/1004/nsd10420251.png\",\"newMainLogo\":\"https://s.pstatic.net/static/newsstand/up/2019/1022/nsd101452890.png\",\"cate\":\"ct2\",\"amigo\":\"N\",\"viewer\":\"Y\",\"today\":\"N\",\"local\":null},{\"pid\":\"939\",\"name\":\"브릿지경제\",\"img\":\"https://s.pstatic.net/static/newsstand/up/2017/0424/nsd145512265.png\",\"newMainLogo\":\"https://s.pstatic.net/static/newsstand/2019/logo/939.png\",\"cate\":\"ct2\",\"amigo\":\"N\",\"viewer\":\"Y\",\"today\":\"N\",\"local\":null},{\"pid\":\"943\",\"name\":\"비즈니스워치\",\"img\":\"https://s.pstatic.net/static/newsstand/up/2017/1102/nsd155540688.png\",\"newMainLogo\":\"https://s.pstatic.net/static/newsstand/2019/logo/943.png\",\"cate\":\"ct2\",\"amigo\":\"N\",\"viewer\":\"Y\",\"today\":\"N\",\"local\":null},{\"pid\":\"942\",\"name\":\"비즈니스포스트\",\"img\":\"https://s.pstatic.net/static/newsstand/up/2017/0424/nsd145630550.png\",\"newMainLogo\":\"https://s.pstatic.net/static/newsstand/2019/logo/942.png\",\"cate\":\"ct2\",\"amigo\":\"N\",\"viewer\":\"Y\",\"today\":\"N\",\"local\":null},{\"pid\":\"973\",\"name\":\"비즈한국\",\"img\":\"https://s.pstatic.net/static/newsstand/up/2017/1209/nsd14224593.png\",\"newMainLogo\":\"https://s.pstatic.net/static/newsstand/2019/logo/973.png\",\"cate\":\"ct2\",\"amigo\":\"N\",\"viewer\":\"Y\",\"today\":\"N\",\"local\":null},{\"pid\":\"011\",\"name\":\"서울경제\",\"img\":\"https://s.pstatic.net/static/newsstand/up/2017/0424/nsd145718601.png\",\"newMainLogo\":\"https://s.pstatic.net/static/newsstand/2019/logo/011.png\",\"cate\":\"ct2\",\"amigo\":\"N\",\"viewer\":\"Y\",\"today\":\"N\",\"local\":null},{\"pid\":\"081\",\"name\":\"서울신문\",\"img\":\"https://s.pstatic.net/static/newsstand/up/2017/0424/nsd145738195.png\",\"newMainLogo\":\"https://s.pstatic.net/static/newsstand/2019/logo/081.png\",\"cate\":\"ct2\",\"amigo\":\"N\",\"viewer\":\"Y\",\"today\":\"N\",\"local\":null},{\"pid\":\"022\",\"name\":\"세계일보\",\"img\":\"https://s.pstatic.net/static/newsstand/up/2017/0424/nsd145813557.png\",\"newMainLogo\":\"https://s.pstatic.net/static/newsstand/2019/logo/022.png\",\"cate\":\"ct2\",\"amigo\":\"N\",\"viewer\":\"Y\",\"today\":\"N\",\"local\":null},{\"pid\":\"970\",\"name\":\"소비자가만드는신문\",\"img\":\"https://s.pstatic.net/static/newsstand/up/2018/1016/nsd1687672.png\",\"newMainLogo\":\"https://s.pstatic.net/static/newsstand/2019/logo/970.png\",\"cate\":\"ct2\",\"amigo\":\"N\",\"viewer\":\"Y\",\"today\":\"N\",\"local\":null},{\"pid\":\"816\",\"name\":\"시사오늘\",\"img\":\"https://s.pstatic.net/static/newsstand/up/2019/0903/nsd20612534.png\",\"newMainLogo\":\"https://s.pstatic.net/static/newsstand/2019/logo/816.png\",\"cate\":\"ct2\",\"amigo\":\"N\",\"viewer\":\"Y\",\"today\":\"N\",\"local\":null},{\"pid\":\"957\",\"name\":\"시사위크\",\"img\":\"https://s.pstatic.net/static/newsstand/up/2017/1127/nsd8401364.png\",\"newMainLogo\":\"https://s.pstatic.net/static/newsstand/2019/logo/957.png\",\"cate\":\"ct2\",\"amigo\":\"N\",\"viewer\":\"Y\",\"today\":\"N\",\"local\":null},{\"pid\":\"975\",\"name\":\"시사저널이코노미\",\"img\":\"https://s.pstatic.net/static/newsstand/up/2017/1209/nsd1413096.png\",\"newMainLogo\":\"https://s.pstatic.net/static/newsstand/2019/logo/975.png\",\"cate\":\"ct2\",\"amigo\":\"N\",\"viewer\":\"Y\",\"today\":\"N\",\"local\":null},{\"pid\":\"810\",\"name\":\"신아일보\",\"img\":\"https://s.pstatic.net/static/newsstand/up/2019/0318/nsd15471273.png\",\"newMainLogo\":\"https://s.pstatic.net/static/newsstand/2019/logo/810.png\",\"cate\":\"ct2\",\"amigo\":\"N\",\"viewer\":\"Y\",\"today\":\"N\",\"local\":null},{\"pid\":\"277\",\"name\":\"아시아경제\",\"img\":\"https://s.pstatic.net/static/newsstand/up/2017/0424/nsd153432228.png\",\"newMainLogo\":\"https://s.pstatic.net/static/newsstand/2019/logo/277.png\",\"cate\":\"ct2\",\"amigo\":\"N\",\"viewer\":\"Y\",\"today\":\"N\",\"local\":null},{\"pid\":\"920\",\"name\":\"아시아투데이\",\"img\":\"https://s.pstatic.net/static/newsstand/up/2017/0424/nsd153458161.png\",\"newMainLogo\":\"https://s.pstatic.net/static/newsstand/2019/logo/920.png\",\"cate\":\"ct2\",\"amigo\":\"N\",\"viewer\":\"Y\",\"today\":\"N\",\"local\":null},{\"pid\":\"031\",\"name\":\"아이뉴스24\",\"img\":\"https://s.pstatic.net/static/newsstand/up/2017/0424/nsd153955864.png\",\"newMainLogo\":\"https://s.pstatic.net/static/newsstand/2019/logo/031.png\",\"cate\":\"ct2\",\"amigo\":\"N\",\"viewer\":\"Y\",\"today\":\"N\",\"local\":null},{\"pid\":\"921\",\"name\":\"아주경제\",\"img\":\"https://s.pstatic.net/static/newsstand/up/2019/0724/nsd115556218.png\",\"newMainLogo\":\"https://s.pstatic.net/static/newsstand/2019/logo/921.png\",\"cate\":\"ct2\",\"amigo\":\"N\",\"viewer\":\"Y\",\"today\":\"N\",\"local\":null},{\"pid\":\"963\",\"name\":\"에너지경제\",\"img\":\"https://s.pstatic.net/static/newsstand/up/2018/0118/nsd105113618.png\",\"newMainLogo\":\"https://s.pstatic.net/static/newsstand/2019/logo/963.png\",\"cate\":\"ct2\",\"amigo\":\"N\",\"viewer\":\"Y\",\"today\":\"N\",\"local\":null},{\"pid\":\"013\",\"name\":\"연합인포맥스\",\"img\":\"https://s.pstatic.net/static/newsstand/up/2017/0424/nsd154238686.png\",\"newMainLogo\":\"https://s.pstatic.net/static/newsstand/2019/logo/013.png\",\"cate\":\"ct2\",\"amigo\":\"N\",\"viewer\":\"Y\",\"today\":\"N\",\"local\":null},{\"pid\":\"047\",\"name\":\"오마이뉴스\",\"img\":\"https://s.pstatic.net/static/newsstand/up/2017/0424/nsd154314463.png\",\"newMainLogo\":\"https://s.pstatic.net/static/newsstand/2019/logo/047.png\",\"cate\":\"ct2\",\"amigo\":\"N\",\"viewer\":\"Y\",\"today\":\"N\",\"local\":null},{\"pid\":\"801\",\"name\":\"위키리크스한국\",\"img\":\"https://s.pstatic.net/static/newsstand/up/2019/0311/nsd10043701.png\",\"newMainLogo\":\"https://s.pstatic.net/static/newsstand/2019/logo/801.png\",\"cate\":\"ct2\",\"amigo\":\"N\",\"viewer\":\"Y\",\"today\":\"N\",\"local\":null},{\"pid\":\"539\",\"name\":\"위키트리\",\"img\":\"https://s.pstatic.net/static/newsstand/up/2017/0424/nsd15444343.png\",\"newMainLogo\":\"https://s.pstatic.net/static/newsstand/2019/logo/539.png\",\"cate\":\"ct2\",\"amigo\":\"N\",\"viewer\":\"Y\",\"today\":\"N\",\"local\":null},{\"pid\":\"964\",\"name\":\"이뉴스투데이\",\"img\":\"https://s.pstatic.net/static/newsstand/up/2017/1201/nsd16174237.png\",\"newMainLogo\":\"https://s.pstatic.net/static/newsstand/2019/logo/964.png\",\"cate\":\"ct2\",\"amigo\":\"N\",\"viewer\":\"Y\",\"today\":\"N\",\"local\":null},{\"pid\":\"018\",\"name\":\"이데일리\",\"img\":\"https://s.pstatic.net/static/newsstand/up/2017/0424/nsd154426359.png\",\"newMainLogo\":\"https://s.pstatic.net/static/newsstand/2019/logo/018.png\",\"cate\":\"ct2\",\"amigo\":\"N\",\"viewer\":\"Y\",\"today\":\"N\",\"local\":null},{\"pid\":\"243\",\"name\":\"이코노미스트\",\"img\":\"https://s.pstatic.net/static/newsstand/up/2017/0424/nsd15444742.png\",\"newMainLogo\":\"https://s.pstatic.net/static/newsstand/2019/logo/243.png\",\"cate\":\"ct2\",\"amigo\":\"N\",\"viewer\":\"Y\",\"today\":\"N\",\"local\":null},{\"pid\":\"922\",\"name\":\"이투데이\",\"img\":\"https://s.pstatic.net/static/newsstand/up/2018/1016/nsd16842870.png\",\"newMainLogo\":\"https://s.pstatic.net/static/newsstand/2019/logo/922.png\",\"cate\":\"ct2\",\"amigo\":\"N\",\"viewer\":\"Y\",\"today\":\"N\",\"local\":null},{\"pid\":\"803\",\"name\":\"인더스트리뉴스\",\"img\":\"https://s.pstatic.net/static/newsstand/up/2019/0313/nsd71954506.png\",\"newMainLogo\":\"https://s.pstatic.net/static/newsstand/2019/logo/803.png\",\"cate\":\"ct2\",\"amigo\":\"N\",\"viewer\":\"Y\",\"today\":\"N\",\"local\":null},{\"pid\":\"923\",\"name\":\"인민망\",\"img\":\"https://s.pstatic.net/static/newsstand/up/2017/0424/nsd154522345.png\",\"newMainLogo\":\"https://s.pstatic.net/static/newsstand/2019/logo/923.png\",\"cate\":\"ct2\",\"amigo\":\"N\",\"viewer\":\"Y\",\"today\":\"N\",\"local\":null},{\"pid\":\"971\",\"name\":\"일요시사\",\"img\":\"https://s.pstatic.net/static/newsstand/up/2019/0318/nsd154758272.png\",\"newMainLogo\":\"https://s.pstatic.net/static/newsstand/2019/logo/971.png\",\"cate\":\"ct2\",\"amigo\":\"N\",\"viewer\":\"Y\",\"today\":\"N\",\"local\":null},{\"pid\":\"925\",\"name\":\"일요신문\",\"img\":\"https://s.pstatic.net/static/newsstand/up/2017/0424/nsd192546763.png\",\"newMainLogo\":\"https://s.pstatic.net/static/newsstand/2019/logo/925.png\",\"cate\":\"ct2\",\"amigo\":\"N\",\"viewer\":\"Y\",\"today\":\"N\",\"local\":null},{\"pid\":\"366\",\"name\":\"조선비즈\",\"img\":\"https://s.pstatic.net/static/newsstand/up/2017/0424/nsd162659528.png\",\"newMainLogo\":\"https://s.pstatic.net/static/newsstand/2019/logo/366.png\",\"cate\":\"ct2\",\"amigo\":\"N\",\"viewer\":\"Y\",\"today\":\"N\",\"local\":null},{\"pid\":\"023\",\"name\":\"조선일보\",\"img\":\"https://s.pstatic.net/static/newsstand/up/2017/0424/nsd162718792.png\",\"newMainLogo\":\"https://s.pstatic.net/static/newsstand/2019/logo/023.png\",\"cate\":\"ct2\",\"amigo\":\"N\",\"viewer\":\"Y\",\"today\":\"N\",\"local\":null},{\"pid\":\"123\",\"name\":\"조세일보\",\"img\":\"https://s.pstatic.net/static/newsstand/up/2017/0424/nsd162739461.png\",\"newMainLogo\":\"https://s.pstatic.net/static/newsstand/2019/logo/123.png\",\"cate\":\"ct2\",\"amigo\":\"N\",\"viewer\":\"Y\",\"today\":\"N\",\"local\":null},{\"pid\":\"353\",\"name\":\"중앙SUNDAY\",\"img\":\"https://s.pstatic.net/static/newsstand/up/2019/0319/nsd152835299.png\",\"newMainLogo\":\"https://s.pstatic.net/static/newsstand/2019/logo/353.png\",\"cate\":\"ct2\",\"amigo\":\"N\",\"viewer\":\"Y\",\"today\":\"N\",\"local\":null},{\"pid\":\"025\",\"name\":\"중앙일보\",\"img\":\"https://s.pstatic.net/static/newsstand/up/2018/0807/nsd1484475.png\",\"newMainLogo\":\"https://s.pstatic.net/static/newsstand/up/2019/1029/nsd164628626.png\",\"cate\":\"ct2\",\"amigo\":\"N\",\"viewer\":\"Y\",\"today\":\"N\",\"local\":null},{\"pid\":\"941\",\"name\":\"초이스경제\",\"img\":\"https://s.pstatic.net/static/newsstand/up/2017/0424/nsd164431529.png\",\"newMainLogo\":\"https://s.pstatic.net/static/newsstand/2019/logo/941.png\",\"cate\":\"ct2\",\"amigo\":\"N\",\"viewer\":\"Y\",\"today\":\"N\",\"local\":null},{\"pid\":\"143\",\"name\":\"쿠키뉴스\",\"img\":\"https://s.pstatic.net/static/newsstand/up/2017/0424/nsd172415111.png\",\"newMainLogo\":\"https://s.pstatic.net/static/newsstand/2019/logo/143.png\",\"cate\":\"ct2\",\"amigo\":\"N\",\"viewer\":\"Y\",\"today\":\"N\",\"local\":null},{\"pid\":\"014\",\"name\":\"파이낸셜뉴스\",\"img\":\"https://s.pstatic.net/static/newsstand/up/2017/0424/nsd172557496.png\",\"newMainLogo\":\"https://s.pstatic.net/static/newsstand/2019/logo/014.png\",\"cate\":\"ct2\",\"amigo\":\"N\",\"viewer\":\"Y\",\"today\":\"N\",\"local\":null},{\"pid\":\"822\",\"name\":\"프라임경제\",\"img\":\"https://s.pstatic.net/static/newsstand/up/2019/1016/nsd111438608.png\",\"newMainLogo\":\"https://s.pstatic.net/static/newsstand/up/2019/1021/nsd19383221.png\",\"cate\":\"ct2\",\"amigo\":\"N\",\"viewer\":\"Y\",\"today\":\"N\",\"local\":null},{\"pid\":\"002\",\"name\":\"프레시안\",\"img\":\"https://s.pstatic.net/static/newsstand/up/2017/0424/nsd172615885.png\",\"newMainLogo\":\"https://s.pstatic.net/static/newsstand/2019/logo/002.png\",\"cate\":\"ct2\",\"amigo\":\"N\",\"viewer\":\"Y\",\"today\":\"N\",\"local\":null},{\"pid\":\"028\",\"name\":\"한겨레\",\"img\":\"https://s.pstatic.net/static/newsstand/up/2017/0424/nsd17263596.png\",\"newMainLogo\":\"https://s.pstatic.net/static/newsstand/2019/logo/028.png\",\"cate\":\"ct2\",\"amigo\":\"N\",\"viewer\":\"Y\",\"today\":\"N\",\"local\":null},{\"pid\":\"015\",\"name\":\"한국경제\",\"img\":\"https://s.pstatic.net/static/newsstand/up/2017/0424/nsd172736175.png\",\"newMainLogo\":\"https://s.pstatic.net/static/newsstand/2019/logo/015.png\",\"cate\":\"ct2\",\"amigo\":\"N\",\"viewer\":\"Y\",\"today\":\"N\",\"local\":null},{\"pid\":\"968\",\"name\":\"한국금융신문\",\"img\":\"https://s.pstatic.net/static/newsstand/up/2017/1201/nsd161235556.png\",\"newMainLogo\":\"https://s.pstatic.net/static/newsstand/2019/logo/968.png\",\"cate\":\"ct2\",\"amigo\":\"N\",\"viewer\":\"Y\",\"today\":\"N\",\"local\":null},{\"pid\":\"038\",\"name\":\"한국일보\",\"img\":\"https://s.pstatic.net/static/newsstand/up/2017/0424/nsd172837200.png\",\"newMainLogo\":\"https://s.pstatic.net/static/newsstand/2019/logo/038.png\",\"cate\":\"ct2\",\"amigo\":\"N\",\"viewer\":\"Y\",\"today\":\"N\",\"local\":null},{\"pid\":\"993\",\"name\":\"허프포스트코리아\",\"img\":\"https://s.pstatic.net/static/newsstand/up/2018/1210/nsd162234841.png\",\"newMainLogo\":\"https://s.pstatic.net/static/newsstand/2019/logo/993.png\",\"cate\":\"ct2\",\"amigo\":\"N\",\"viewer\":\"Y\",\"today\":\"N\",\"local\":null},{\"pid\":\"016\",\"name\":\"헤럴드경제\",\"img\":\"https://s.pstatic.net/static/newsstand/up/2017/0424/nsd172855569.png\",\"newMainLogo\":\"https://s.pstatic.net/static/newsstand/2019/logo/016.png\",\"cate\":\"ct2\",\"amigo\":\"N\",\"viewer\":\"Y\",\"today\":\"N\",\"local\":null},{\"pid\":\"974\",\"name\":\"BBS NEWS\",\"img\":\"https://s.pstatic.net/static/newsstand/up/2017/1209/nsd14324918.png\",\"newMainLogo\":\"https://s.pstatic.net/static/newsstand/2019/logo/974.png\",\"cate\":\"ct2\",\"amigo\":\"N\",\"viewer\":\"Y\",\"today\":\"N\",\"local\":null},{\"pid\":\"932\",\"name\":\"CEO스코어데일리\",\"img\":\"https://s.pstatic.net/static/newsstand/up/2018/0627/nsd124328796.png\",\"newMainLogo\":\"https://s.pstatic.net/static/newsstand/2019/logo/932.png\",\"cate\":\"ct2\",\"amigo\":\"N\",\"viewer\":\"Y\",\"today\":\"N\",\"local\":null},{\"pid\":\"954\",\"name\":\"CNB뉴스\",\"img\":\"https://s.pstatic.net/static/newsstand/up/2017/1122/nsd113655834.png\",\"newMainLogo\":\"https://s.pstatic.net/static/newsstand/2019/logo/954.png\",\"cate\":\"ct2\",\"amigo\":\"N\",\"viewer\":\"Y\",\"today\":\"N\",\"local\":null},{\"pid\":\"120\",\"name\":\"EBN\",\"img\":\"https://s.pstatic.net/static/newsstand/up/2017/1017/nsd173540697.png\",\"newMainLogo\":\"https://s.pstatic.net/static/newsstand/2019/logo/120.png\",\"cate\":\"ct2\",\"amigo\":\"N\",\"viewer\":\"Y\",\"today\":\"N\",\"local\":null},{\"pid\":\"959\",\"name\":\"M이코노미뉴스\",\"img\":\"https://s.pstatic.net/static/newsstand/up/2017/1201/nsd161518383.png\",\"newMainLogo\":\"https://s.pstatic.net/static/newsstand/2019/logo/959.png\",\"cate\":\"ct2\",\"amigo\":\"N\",\"viewer\":\"Y\",\"today\":\"N\",\"local\":null},{\"pid\":\"972\",\"name\":\"PD저널\",\"img\":\"https://s.pstatic.net/static/newsstand/up/2017/1207/nsd13738461.png\",\"newMainLogo\":\"https://s.pstatic.net/static/newsstand/2019/logo/972.png\",\"cate\":\"ct2\",\"amigo\":\"N\",\"viewer\":\"Y\",\"today\":\"N\",\"local\":null},{\"pid\":\"823\",\"name\":\"UPI뉴스\",\"img\":\"https://s.pstatic.net/static/newsstand/up/2019/1016/nsd112124284.png\",\"newMainLogo\":\"https://s.pstatic.net/static/newsstand/up/2019/1021/nsd193745521.png\",\"cate\":\"ct2\",\"amigo\":\"N\",\"viewer\":\"Y\",\"today\":\"N\",\"local\":null}],\"ct3\":[{\"pid\":\"421\",\"name\":\"뉴스1\",\"img\":\"https://s.pstatic.net/static/newsstand/up/2017/0424/nsd14405515.png\",\"newMainLogo\":\"https://s.pstatic.net/static/newsstand/2019/logo/421.png\",\"cate\":\"ct3\",\"amigo\":\"N\",\"viewer\":\"Y\",\"today\":\"N\",\"local\":null},{\"pid\":\"003\",\"name\":\"뉴시스\",\"img\":\"https://s.pstatic.net/static/newsstand/up/2017/0424/nsd14449981.png\",\"newMainLogo\":\"https://s.pstatic.net/static/newsstand/2019/logo/003.png\",\"cate\":\"ct3\",\"amigo\":\"N\",\"viewer\":\"Y\",\"today\":\"N\",\"local\":null},{\"pid\":\"916\",\"name\":\"머니투데이방송\",\"img\":\"https://s.pstatic.net/static/newsstand/up/2017/0424/nsd145249746.png\",\"newMainLogo\":\"https://s.pstatic.net/static/newsstand/2019/logo/916.png\",\"cate\":\"ct3\",\"amigo\":\"N\",\"viewer\":\"Y\",\"today\":\"N\",\"local\":null},{\"pid\":\"934\",\"name\":\"아리랑TV\",\"img\":\"https://s.pstatic.net/static/newsstand/up/2017/0424/nsd153357809.png\",\"newMainLogo\":\"https://s.pstatic.net/static/newsstand/2019/logo/934.png\",\"cate\":\"ct3\",\"amigo\":\"N\",\"viewer\":\"Y\",\"today\":\"N\",\"local\":null},{\"pid\":\"422\",\"name\":\"연합뉴스TV\",\"img\":\"https://s.pstatic.net/static/newsstand/up/2017/0424/nsd154219877.png\",\"newMainLogo\":\"https://s.pstatic.net/static/newsstand/2019/logo/422.png\",\"cate\":\"ct3\",\"amigo\":\"N\",\"viewer\":\"Y\",\"today\":\"N\",\"local\":null},{\"pid\":\"376\",\"name\":\"지지통신\",\"img\":\"https://s.pstatic.net/static/newsstand/up/2017/0424/nsd16432873.png\",\"newMainLogo\":\"https://s.pstatic.net/static/newsstand/2019/logo/376.png\",\"cate\":\"ct3\",\"amigo\":\"N\",\"viewer\":\"Y\",\"today\":\"N\",\"local\":null},{\"pid\":\"903\",\"name\":\"채널에이\",\"img\":\"https://s.pstatic.net/static/newsstand/up/2017/0424/nsd164352456.png\",\"newMainLogo\":\"https://s.pstatic.net/static/newsstand/2019/logo/903.png\",\"cate\":\"ct3\",\"amigo\":\"N\",\"viewer\":\"Y\",\"today\":\"N\",\"local\":null},{\"pid\":\"215\",\"name\":\"한국경제TV\",\"img\":\"https://s.pstatic.net/static/newsstand/up/2017/0424/nsd172755139.png\",\"newMainLogo\":\"https://s.pstatic.net/static/newsstand/2019/logo/215.png\",\"cate\":\"ct3\",\"amigo\":\"N\",\"viewer\":\"Y\",\"today\":\"N\",\"local\":null},{\"pid\":\"933\",\"name\":\"CNN\",\"img\":\"https://s.pstatic.net/static/newsstand/up/2017/0424/nsd173010586.png\",\"newMainLogo\":\"https://s.pstatic.net/static/newsstand/2019/logo/933.png\",\"cate\":\"ct3\",\"amigo\":\"N\",\"viewer\":\"Y\",\"today\":\"N\",\"local\":null},{\"pid\":\"344\",\"name\":\"EBS\",\"img\":\"https://s.pstatic.net/static/newsstand/up/2017/0424/nsd173043431.png\",\"newMainLogo\":\"https://s.pstatic.net/static/newsstand/2019/logo/344.png\",\"cate\":\"ct3\",\"amigo\":\"N\",\"viewer\":\"Y\",\"today\":\"N\",\"local\":null},{\"pid\":\"904\",\"name\":\"JTBC\",\"img\":\"https://s.pstatic.net/static/newsstand/up/2017/0424/nsd173111263.png\",\"newMainLogo\":\"https://s.pstatic.net/static/newsstand/2019/logo/904.png\",\"cate\":\"ct3\",\"amigo\":\"N\",\"viewer\":\"Y\",\"today\":\"N\",\"local\":null},{\"pid\":\"980\",\"name\":\"KBC광주방송\",\"img\":\"https://s.pstatic.net/static/newsstand/up/2018/0126/nsd114019464.png\",\"newMainLogo\":\"https://s.pstatic.net/static/newsstand/2019/logo/980.png\",\"cate\":\"ct3\",\"amigo\":\"N\",\"viewer\":\"Y\",\"today\":\"N\",\"local\":null},{\"pid\":\"056\",\"name\":\"KBS\",\"img\":\"https://s.pstatic.net/static/newsstand/up/2017/0424/nsd173124306.png\",\"newMainLogo\":\"https://s.pstatic.net/static/newsstand/2019/logo/056.png\",\"cate\":\"ct3\",\"amigo\":\"N\",\"viewer\":\"Y\",\"today\":\"N\",\"local\":null},{\"pid\":\"906\",\"name\":\"KNN\",\"img\":\"https://s.pstatic.net/static/newsstand/up/2017/0424/nsd173151831.png\",\"newMainLogo\":\"https://s.pstatic.net/static/newsstand/2019/logo/906.png\",\"cate\":\"ct3\",\"amigo\":\"N\",\"viewer\":\"Y\",\"today\":\"N\",\"local\":null},{\"pid\":\"214\",\"name\":\"MBC\",\"img\":\"https://s.pstatic.net/static/newsstand/up/2017/0424/nsd17324940.png\",\"newMainLogo\":\"https://s.pstatic.net/static/newsstand/2019/logo/214.png\",\"cate\":\"ct3\",\"amigo\":\"N\",\"viewer\":\"Y\",\"today\":\"N\",\"local\":null},{\"pid\":\"057\",\"name\":\"MBN\",\"img\":\"https://s.pstatic.net/static/newsstand/up/2017/0424/nsd173223533.png\",\"newMainLogo\":\"https://s.pstatic.net/static/newsstand/2019/logo/057.png\",\"cate\":\"ct3\",\"amigo\":\"N\",\"viewer\":\"Y\",\"today\":\"N\",\"local\":null},{\"pid\":\"340\",\"name\":\"OBS\",\"img\":\"https://s.pstatic.net/static/newsstand/up/2017/0424/nsd173252323.png\",\"newMainLogo\":\"https://s.pstatic.net/static/newsstand/2019/logo/340.png\",\"cate\":\"ct3\",\"amigo\":\"N\",\"viewer\":\"Y\",\"today\":\"N\",\"local\":null},{\"pid\":\"055\",\"name\":\"SBS\",\"img\":\"https://s.pstatic.net/static/newsstand/up/2017/0424/nsd173335676.png\",\"newMainLogo\":\"https://s.pstatic.net/static/newsstand/2019/logo/055.png\",\"cate\":\"ct3\",\"amigo\":\"N\",\"viewer\":\"Y\",\"today\":\"N\",\"local\":null},{\"pid\":\"374\",\"name\":\"SBSCNBC\",\"img\":\"https://s.pstatic.net/static/newsstand/up/2017/0424/nsd173348251.png\",\"newMainLogo\":\"https://s.pstatic.net/static/newsstand/2019/logo/374.png\",\"cate\":\"ct3\",\"amigo\":\"N\",\"viewer\":\"Y\",\"today\":\"N\",\"local\":null},{\"pid\":\"989\",\"name\":\"TBC대구방송\",\"img\":\"https://s.pstatic.net/static/newsstand/up/2018/1004/nsd113150397.png\",\"newMainLogo\":\"https://s.pstatic.net/static/newsstand/2019/logo/989.png\",\"cate\":\"ct3\",\"amigo\":\"N\",\"viewer\":\"Y\",\"today\":\"N\",\"local\":null},{\"pid\":\"902\",\"name\":\"TV조선\",\"img\":\"https://s.pstatic.net/static/newsstand/up/2018/0904/nsd153923387.png\",\"newMainLogo\":\"https://s.pstatic.net/static/newsstand/2019/logo/902.png\",\"cate\":\"ct3\",\"amigo\":\"N\",\"viewer\":\"Y\",\"today\":\"N\",\"local\":null},{\"pid\":\"052\",\"name\":\"YTN\",\"img\":\"https://s.pstatic.net/static/newsstand/up/2017/0424/nsd173559874.png\",\"newMainLogo\":\"https://s.pstatic.net/static/newsstand/2019/logo/052.png\",\"cate\":\"ct3\",\"amigo\":\"N\",\"viewer\":\"Y\",\"today\":\"N\",\"local\":null},{\"pid\":\"945\",\"name\":\"YTN사이언스\",\"img\":\"https://s.pstatic.net/static/newsstand/up/2017/0424/nsd173618176.png\",\"newMainLogo\":\"https://s.pstatic.net/static/newsstand/2019/logo/945.png\",\"cate\":\"ct3\",\"amigo\":\"N\",\"viewer\":\"Y\",\"today\":\"N\",\"local\":null},{\"pid\":\"981\",\"name\":\"tbs교통방송\",\"img\":\"https://s.pstatic.net/static/newsstand/up/2018/0201/nsd19842442.png\",\"newMainLogo\":\"https://s.pstatic.net/static/newsstand/2019/logo/981.png\",\"cate\":\"ct3\",\"amigo\":\"N\",\"viewer\":\"Y\",\"today\":\"N\",\"local\":null}],\"ct4\":[{\"pid\":\"910\",\"name\":\"넥스트데일리\",\"img\":\"https://s.pstatic.net/static/newsstand/up/2017/0424/nsd143938201.png\",\"newMainLogo\":\"https://s.pstatic.net/static/newsstand/2019/logo/910.png\",\"cate\":\"ct4\",\"amigo\":\"N\",\"viewer\":\"Y\",\"today\":\"N\",\"local\":null},{\"pid\":\"138\",\"name\":\"디지털데일리\",\"img\":\"https://s.pstatic.net/static/newsstand/up/2017/0424/nsd14481127.png\",\"newMainLogo\":\"https://s.pstatic.net/static/newsstand/2019/logo/138.png\",\"cate\":\"ct4\",\"amigo\":\"N\",\"viewer\":\"Y\",\"today\":\"N\",\"local\":null},{\"pid\":\"029\",\"name\":\"디지털타임스\",\"img\":\"https://s.pstatic.net/static/newsstand/up/2018/0719/nsd162516824.png\",\"newMainLogo\":\"https://s.pstatic.net/static/newsstand/2019/logo/029.png\",\"cate\":\"ct4\",\"amigo\":\"N\",\"viewer\":\"Y\",\"today\":\"N\",\"local\":null},{\"pid\":\"953\",\"name\":\"디지털투데이\",\"img\":\"https://s.pstatic.net/static/newsstand/up/2019/0816/nsd163814828.png\",\"newMainLogo\":\"https://s.pstatic.net/static/newsstand/2019/logo/953.png\",\"cate\":\"ct4\",\"amigo\":\"N\",\"viewer\":\"Y\",\"today\":\"N\",\"local\":null},{\"pid\":\"952\",\"name\":\"보안뉴스\",\"img\":\"https://s.pstatic.net/static/newsstand/up/2017/1122/nsd113617499.png\",\"newMainLogo\":\"https://s.pstatic.net/static/newsstand/2019/logo/952.png\",\"cate\":\"ct4\",\"amigo\":\"N\",\"viewer\":\"Y\",\"today\":\"N\",\"local\":null},{\"pid\":\"293\",\"name\":\"블로터\",\"img\":\"https://s.pstatic.net/static/newsstand/up/2018/0316/nsd175350622.png\",\"newMainLogo\":\"https://s.pstatic.net/static/newsstand/2019/logo/293.png\",\"cate\":\"ct4\",\"amigo\":\"N\",\"viewer\":\"Y\",\"today\":\"N\",\"local\":null},{\"pid\":\"030\",\"name\":\"전자신문\",\"img\":\"https://s.pstatic.net/static/newsstand/up/2017/0424/nsd162528724.png\",\"newMainLogo\":\"https://s.pstatic.net/static/newsstand/2019/logo/030.png\",\"cate\":\"ct4\",\"amigo\":\"N\",\"viewer\":\"Y\",\"today\":\"N\",\"local\":null},{\"pid\":\"092\",\"name\":\"지디넷코리아\",\"img\":\"https://s.pstatic.net/static/newsstand/up/2017/0424/nsd16425834.png\",\"newMainLogo\":\"https://s.pstatic.net/static/newsstand/2019/logo/092.png\",\"cate\":\"ct4\",\"amigo\":\"N\",\"viewer\":\"Y\",\"today\":\"N\",\"local\":null},{\"pid\":\"977\",\"name\":\"헬로디디\",\"img\":\"https://s.pstatic.net/static/newsstand/up/2017/1214/nsd112148521.png\",\"newMainLogo\":\"https://s.pstatic.net/static/newsstand/2019/logo/977.png\",\"cate\":\"ct4\",\"amigo\":\"N\",\"viewer\":\"Y\",\"today\":\"N\",\"local\":null},{\"pid\":\"818\",\"name\":\"IT동아\",\"img\":\"https://s.pstatic.net/static/newsstand/up/2019/0905/nsd193141467.png\",\"newMainLogo\":\"https://s.pstatic.net/static/newsstand/2019/logo/818.png\",\"cate\":\"ct4\",\"amigo\":\"N\",\"viewer\":\"Y\",\"today\":\"N\",\"local\":null},{\"pid\":\"917\",\"name\":\"IT조선\",\"img\":\"https://s.pstatic.net/static/newsstand/up/2017/0424/nsd173057968.png\",\"newMainLogo\":\"https://s.pstatic.net/static/newsstand/2019/logo/917.png\",\"cate\":\"ct4\",\"amigo\":\"N\",\"viewer\":\"Y\",\"today\":\"N\",\"local\":null}],\"ct5\":[{\"pid\":\"330\",\"name\":\"중앙데일리\",\"img\":\"https://s.pstatic.net/static/newsstand/up/2018/0626/nsd103519292.png\",\"newMainLogo\":\"https://s.pstatic.net/static/newsstand/2019/logo/330.png\",\"cate\":\"ct5\",\"amigo\":\"N\",\"viewer\":\"Y\",\"today\":\"N\",\"local\":null},{\"pid\":\"040\",\"name\":\"코리아타임스\",\"img\":\"https://s.pstatic.net/static/newsstand/up/2019/0910/nsd10543744.png\",\"newMainLogo\":\"https://s.pstatic.net/static/newsstand/2019/logo/040.png\",\"cate\":\"ct5\",\"amigo\":\"N\",\"viewer\":\"Y\",\"today\":\"N\",\"local\":null},{\"pid\":\"044\",\"name\":\"코리아헤럴드\",\"img\":\"https://s.pstatic.net/static/newsstand/up/2017/0424/nsd17341942.png\",\"newMainLogo\":\"https://s.pstatic.net/static/newsstand/2019/logo/044.png\",\"cate\":\"ct5\",\"amigo\":\"N\",\"viewer\":\"Y\",\"today\":\"N\",\"local\":null},{\"pid\":\"326\",\"name\":\"KBS World\",\"img\":\"https://s.pstatic.net/static/newsstand/up/2019/0903/nsd18352747.png\",\"newMainLogo\":\"https://s.pstatic.net/static/newsstand/2019/logo/326.png\",\"cate\":\"ct5\",\"amigo\":\"N\",\"viewer\":\"Y\",\"today\":\"N\",\"local\":null},{\"pid\":\"946\",\"name\":\"YONHAPNEWS\",\"img\":\"https://s.pstatic.net/static/newsstand/up/2017/0424/nsd173542219.png\",\"newMainLogo\":\"https://s.pstatic.net/static/newsstand/2019/logo/946.png\",\"cate\":\"ct5\",\"amigo\":\"N\",\"viewer\":\"Y\",\"today\":\"N\",\"local\":null}],\"ct6\":[{\"pid\":\"447\",\"name\":\"뉴스엔\",\"img\":\"https://s.pstatic.net/static/newsstand/up/2017/0424/nsd144110729.png\",\"newMainLogo\":\"https://s.pstatic.net/static/newsstand/2019/logo/447.png\",\"cate\":\"ct6\",\"amigo\":\"N\",\"viewer\":\"Y\",\"today\":\"N\",\"local\":null},{\"pid\":\"117\",\"name\":\"마이데일리\",\"img\":\"https://s.pstatic.net/static/newsstand/up/2017/0424/nsd144944309.png\",\"newMainLogo\":\"https://s.pstatic.net/static/newsstand/2019/logo/117.png\",\"cate\":\"ct6\",\"amigo\":\"N\",\"viewer\":\"Y\",\"today\":\"N\",\"local\":null},{\"pid\":\"108\",\"name\":\"스타뉴스\",\"img\":\"https://s.pstatic.net/static/newsstand/up/2017/0424/nsd14592836.png\",\"newMainLogo\":\"https://s.pstatic.net/static/newsstand/2019/logo/108.png\",\"cate\":\"ct6\",\"amigo\":\"N\",\"viewer\":\"Y\",\"today\":\"N\",\"local\":null},{\"pid\":\"802\",\"name\":\"스포츠Q\",\"img\":\"https://s.pstatic.net/static/newsstand/up/2019/0313/nsd71851694.png\",\"newMainLogo\":\"https://s.pstatic.net/static/newsstand/2019/logo/802.png\",\"cate\":\"ct6\",\"amigo\":\"N\",\"viewer\":\"Y\",\"today\":\"N\",\"local\":null},{\"pid\":\"144\",\"name\":\"스포츠경향\",\"img\":\"https://s.pstatic.net/static/newsstand/up/2017/0424/nsd14593063.png\",\"newMainLogo\":\"https://s.pstatic.net/static/newsstand/2019/logo/144.png\",\"cate\":\"ct6\",\"amigo\":\"N\",\"viewer\":\"Y\",\"today\":\"N\",\"local\":null},{\"pid\":\"314\",\"name\":\"스포츠동아\",\"img\":\"https://s.pstatic.net/static/newsstand/up/2017/0424/nsd145951763.png\",\"newMainLogo\":\"https://s.pstatic.net/static/newsstand/2019/logo/314.png\",\"cate\":\"ct6\",\"amigo\":\"N\",\"viewer\":\"Y\",\"today\":\"N\",\"local\":null},{\"pid\":\"073\",\"name\":\"스포츠서울\",\"img\":\"https://s.pstatic.net/static/newsstand/up/2017/0424/nsd15042554.png\",\"newMainLogo\":\"https://s.pstatic.net/static/newsstand/2019/logo/073.png\",\"cate\":\"ct6\",\"amigo\":\"N\",\"viewer\":\"Y\",\"today\":\"N\",\"local\":null},{\"pid\":\"396\",\"name\":\"스포츠월드\",\"img\":\"https://s.pstatic.net/static/newsstand/up/2017/0424/nsd1521496.png\",\"newMainLogo\":\"https://s.pstatic.net/static/newsstand/2019/logo/396.png\",\"cate\":\"ct6\",\"amigo\":\"N\",\"viewer\":\"Y\",\"today\":\"N\",\"local\":null},{\"pid\":\"076\",\"name\":\"스포츠조선\",\"img\":\"https://s.pstatic.net/static/newsstand/up/2017/0424/nsd183553864.png\",\"newMainLogo\":\"https://s.pstatic.net/static/newsstand/2019/logo/076.png\",\"cate\":\"ct6\",\"amigo\":\"N\",\"viewer\":\"Y\",\"today\":\"N\",\"local\":null},{\"pid\":\"940\",\"name\":\"스포츠투데이\",\"img\":\"https://s.pstatic.net/static/newsstand/up/2017/0424/nsd183628961.png\",\"newMainLogo\":\"https://s.pstatic.net/static/newsstand/2019/logo/940.png\",\"cate\":\"ct6\",\"amigo\":\"N\",\"viewer\":\"Y\",\"today\":\"N\",\"local\":null},{\"pid\":\"962\",\"name\":\"스포츠한국\",\"img\":\"https://s.pstatic.net/static/newsstand/up/2017/1201/nsd161647719.png\",\"newMainLogo\":\"https://s.pstatic.net/static/newsstand/2019/logo/962.png\",\"cate\":\"ct6\",\"amigo\":\"N\",\"viewer\":\"Y\",\"today\":\"N\",\"local\":null},{\"pid\":\"139\",\"name\":\"스포탈코리아\",\"img\":\"https://s.pstatic.net/static/newsstand/up/2017/0424/nsd151840663.png\",\"newMainLogo\":\"https://s.pstatic.net/static/newsstand/2019/logo/139.png\",\"cate\":\"ct6\",\"amigo\":\"N\",\"viewer\":\"Y\",\"today\":\"N\",\"local\":null},{\"pid\":\"477\",\"name\":\"스포티비뉴스\",\"img\":\"https://s.pstatic.net/static/newsstand/up/2017/1221/nsd134325318.png\",\"newMainLogo\":\"https://s.pstatic.net/static/newsstand/2019/logo/477.png\",\"cate\":\"ct6\",\"amigo\":\"N\",\"viewer\":\"Y\",\"today\":\"N\",\"local\":null},{\"pid\":\"311\",\"name\":\"엑스포츠뉴스\",\"img\":\"https://s.pstatic.net/static/newsstand/up/2017/0424/nsd154117.png\",\"newMainLogo\":\"https://s.pstatic.net/static/newsstand/2019/logo/311.png\",\"cate\":\"ct6\",\"amigo\":\"N\",\"viewer\":\"Y\",\"today\":\"N\",\"local\":null},{\"pid\":\"529\",\"name\":\"엠스플뉴스\",\"img\":\"https://s.pstatic.net/static/newsstand/up/2018/1122/nsd113027714.png\",\"newMainLogo\":\"https://s.pstatic.net/static/newsstand/2019/logo/529.png\",\"cate\":\"ct6\",\"amigo\":\"N\",\"viewer\":\"Y\",\"today\":\"N\",\"local\":null},{\"pid\":\"241\",\"name\":\"일간스포츠\",\"img\":\"https://s.pstatic.net/static/newsstand/up/2017/0424/nsd154619739.png\",\"newMainLogo\":\"https://s.pstatic.net/static/newsstand/2019/logo/241.png\",\"cate\":\"ct6\",\"amigo\":\"N\",\"viewer\":\"Y\",\"today\":\"N\",\"local\":null},{\"pid\":\"947\",\"name\":\"조이뉴스24\",\"img\":\"https://s.pstatic.net/static/newsstand/up/2017/0424/nsd162759461.png\",\"newMainLogo\":\"https://s.pstatic.net/static/newsstand/2019/logo/947.png\",\"cate\":\"ct6\",\"amigo\":\"N\",\"viewer\":\"Y\",\"today\":\"N\",\"local\":null},{\"pid\":\"312\",\"name\":\"텐아시아\",\"img\":\"https://s.pstatic.net/static/newsstand/up/2017/0424/nsd172519405.png\",\"newMainLogo\":\"https://s.pstatic.net/static/newsstand/2019/logo/312.png\",\"cate\":\"ct6\",\"amigo\":\"N\",\"viewer\":\"Y\",\"today\":\"N\",\"local\":null},{\"pid\":\"440\",\"name\":\"티브이데일리\",\"img\":\"https://s.pstatic.net/static/newsstand/up/2017/0424/nsd172538465.png\",\"newMainLogo\":\"https://s.pstatic.net/static/newsstand/2019/logo/440.png\",\"cate\":\"ct6\",\"amigo\":\"N\",\"viewer\":\"Y\",\"today\":\"N\",\"local\":null},{\"pid\":\"410\",\"name\":\"MK스포츠\",\"img\":\"https://s.pstatic.net/static/newsstand/up/2017/0424/nsd173237747.png\",\"newMainLogo\":\"https://s.pstatic.net/static/newsstand/2019/logo/410.png\",\"cate\":\"ct6\",\"amigo\":\"N\",\"viewer\":\"Y\",\"today\":\"N\",\"local\":null},{\"pid\":\"109\",\"name\":\"OSEN\",\"img\":\"https://s.pstatic.net/static/newsstand/up/2017/0424/nsd17338859.png\",\"newMainLogo\":\"https://s.pstatic.net/static/newsstand/2019/logo/109.png\",\"cate\":\"ct6\",\"amigo\":\"N\",\"viewer\":\"Y\",\"today\":\"N\",\"local\":null},{\"pid\":\"416\",\"name\":\"SBS연예스포츠\",\"img\":\"https://s.pstatic.net/static/newsstand/up/2017/0424/nsd173430905.png\",\"newMainLogo\":\"https://s.pstatic.net/static/newsstand/2019/logo/416.png\",\"cate\":\"ct6\",\"amigo\":\"N\",\"viewer\":\"Y\",\"today\":\"N\",\"local\":null},{\"pid\":\"213\",\"name\":\"TV리포트\",\"img\":\"https://s.pstatic.net/static/newsstand/up/2017/0424/nsd173446621.png\",\"newMainLogo\":\"https://s.pstatic.net/static/newsstand/2019/logo/213.png\",\"cate\":\"ct6\",\"amigo\":\"N\",\"viewer\":\"Y\",\"today\":\"N\",\"local\":null},{\"pid\":\"404\",\"name\":\"enews24\",\"img\":\"https://s.pstatic.net/static/newsstand/up/2017/0424/nsd173715121.png\",\"newMainLogo\":\"https://s.pstatic.net/static/newsstand/2019/logo/404.png\",\"cate\":\"ct6\",\"amigo\":\"N\",\"viewer\":\"Y\",\"today\":\"N\",\"local\":null}],\"ct7\":[{\"pid\":\"356\",\"name\":\"게임메카\",\"img\":\"https://s.pstatic.net/static/newsstand/up/2017/0424/nsd143454437.png\",\"newMainLogo\":\"https://s.pstatic.net/static/newsstand/2019/logo/356.png\",\"cate\":\"ct7\",\"amigo\":\"N\",\"viewer\":\"Y\",\"today\":\"N\",\"local\":null},{\"pid\":\"363\",\"name\":\"과학동아\",\"img\":\"https://s.pstatic.net/static/newsstand/up/2017/0424/nsd143721586.png\",\"newMainLogo\":\"https://s.pstatic.net/static/newsstand/2019/logo/363.png\",\"cate\":\"ct7\",\"amigo\":\"N\",\"viewer\":\"Y\",\"today\":\"N\",\"local\":null},{\"pid\":\"908\",\"name\":\"국방일보\",\"img\":\"https://s.pstatic.net/static/newsstand/up/2017/0424/nsd143827635.png\",\"newMainLogo\":\"https://s.pstatic.net/static/newsstand/2019/logo/908.png\",\"cate\":\"ct7\",\"amigo\":\"N\",\"viewer\":\"Y\",\"today\":\"N\",\"local\":null},{\"pid\":\"938\",\"name\":\"그린포스트코리아\",\"img\":\"https://s.pstatic.net/static/newsstand/up/2017/1106/nsd95428551.png\",\"newMainLogo\":\"https://s.pstatic.net/static/newsstand/2019/logo/938.png\",\"cate\":\"ct7\",\"amigo\":\"N\",\"viewer\":\"Y\",\"today\":\"N\",\"local\":null},{\"pid\":\"984\",\"name\":\"낚시춘추\",\"img\":\"https://s.pstatic.net/static/newsstand/up/2018/0312/nsd11361752.png\",\"newMainLogo\":\"https://s.pstatic.net/static/newsstand/2019/logo/984.png\",\"cate\":\"ct7\",\"amigo\":\"N\",\"viewer\":\"Y\",\"today\":\"N\",\"local\":null},{\"pid\":\"911\",\"name\":\"농민신문\",\"img\":\"https://s.pstatic.net/static/newsstand/up/2017/0424/nsd144020188.png\",\"newMainLogo\":\"https://s.pstatic.net/static/newsstand/2019/logo/911.png\",\"cate\":\"ct7\",\"amigo\":\"N\",\"viewer\":\"Y\",\"today\":\"N\",\"local\":null},{\"pid\":\"912\",\"name\":\"뉴스컬처\",\"img\":\"https://s.pstatic.net/static/newsstand/up/2018/0525/nsd141715196.png\",\"newMainLogo\":\"https://s.pstatic.net/static/newsstand/2019/logo/912.png\",\"cate\":\"ct7\",\"amigo\":\"N\",\"viewer\":\"Y\",\"today\":\"N\",\"local\":null},{\"pid\":\"905\",\"name\":\"더스쿠프\",\"img\":\"https://s.pstatic.net/static/newsstand/up/2018/0626/nsd103415937.png\",\"newMainLogo\":\"https://s.pstatic.net/static/newsstand/2019/logo/905.png\",\"cate\":\"ct7\",\"amigo\":\"N\",\"viewer\":\"Y\",\"today\":\"N\",\"local\":null},{\"pid\":\"991\",\"name\":\"데일리NK\",\"img\":\"https://s.pstatic.net/static/newsstand/up/2018/1008/nsd101815434.png\",\"newMainLogo\":\"https://s.pstatic.net/static/newsstand/2019/logo/991.png\",\"cate\":\"ct7\",\"amigo\":\"N\",\"viewer\":\"Y\",\"today\":\"N\",\"local\":null},{\"pid\":\"042\",\"name\":\"데일리한국\",\"img\":\"https://s.pstatic.net/static/newsstand/up/2017/0424/nsd144629578.png\",\"newMainLogo\":\"https://s.pstatic.net/static/newsstand/2019/logo/042.png\",\"cate\":\"ct7\",\"amigo\":\"N\",\"viewer\":\"Y\",\"today\":\"N\",\"local\":null},{\"pid\":\"955\",\"name\":\"독서신문\",\"img\":\"https://s.pstatic.net/static/newsstand/up/2019/0207/nsd141354748.png\",\"newMainLogo\":\"https://s.pstatic.net/static/newsstand/2019/logo/955.png\",\"cate\":\"ct7\",\"amigo\":\"N\",\"viewer\":\"Y\",\"today\":\"N\",\"local\":null},{\"pid\":\"345\",\"name\":\"디자인정글\",\"img\":\"https://s.pstatic.net/static/newsstand/up/2017/0424/nsd144732945.png\",\"newMainLogo\":\"https://s.pstatic.net/static/newsstand/2019/logo/345.png\",\"cate\":\"ct7\",\"amigo\":\"N\",\"viewer\":\"Y\",\"today\":\"N\",\"local\":null},{\"pid\":\"915\",\"name\":\"르몽드 디플로마티크\",\"img\":\"https://s.pstatic.net/static/newsstand/up/2017/0424/nsd1449112.png\",\"newMainLogo\":\"https://s.pstatic.net/static/newsstand/2019/logo/915.png\",\"cate\":\"ct7\",\"amigo\":\"N\",\"viewer\":\"Y\",\"today\":\"N\",\"local\":null},{\"pid\":\"024\",\"name\":\"매경이코노미\",\"img\":\"https://s.pstatic.net/static/newsstand/up/2017/0424/nsd145011543.png\",\"newMainLogo\":\"https://s.pstatic.net/static/newsstand/2019/logo/024.png\",\"cate\":\"ct7\",\"amigo\":\"N\",\"viewer\":\"Y\",\"today\":\"N\",\"local\":null},{\"pid\":\"075\",\"name\":\"맥스무비\",\"img\":\"https://s.pstatic.net/static/newsstand/up/2017/0424/nsd183033195.png\",\"newMainLogo\":\"https://s.pstatic.net/static/newsstand/2019/logo/075.png\",\"cate\":\"ct7\",\"amigo\":\"N\",\"viewer\":\"Y\",\"today\":\"N\",\"local\":null},{\"pid\":\"819\",\"name\":\"바이라인네트워크\",\"img\":\"https://s.pstatic.net/static/newsstand/up/2019/1016/nsd111714514.png\",\"newMainLogo\":\"https://s.pstatic.net/static/newsstand/up/2019/1022/nsd101556364.png\",\"cate\":\"ct7\",\"amigo\":\"N\",\"viewer\":\"Y\",\"today\":\"N\",\"local\":null},{\"pid\":\"815\",\"name\":\"법률방송뉴스\",\"img\":\"https://s.pstatic.net/static/newsstand/up/2019/1004/nsd104227508.png\",\"newMainLogo\":\"https://s.pstatic.net/static/newsstand/2019/logo/815.png\",\"cate\":\"ct7\",\"amigo\":\"N\",\"viewer\":\"Y\",\"today\":\"N\",\"local\":null},{\"pid\":\"122\",\"name\":\"법률신문\",\"img\":\"https://s.pstatic.net/static/newsstand/up/2017/0424/nsd145431309.png\",\"newMainLogo\":\"https://s.pstatic.net/static/newsstand/2019/logo/122.png\",\"cate\":\"ct7\",\"amigo\":\"N\",\"viewer\":\"Y\",\"today\":\"N\",\"local\":null},{\"pid\":\"958\",\"name\":\"베리타스알파\",\"img\":\"https://s.pstatic.net/static/newsstand/up/2017/1201/nsd161315555.png\",\"newMainLogo\":\"https://s.pstatic.net/static/newsstand/2019/logo/958.png\",\"cate\":\"ct7\",\"amigo\":\"N\",\"viewer\":\"Y\",\"today\":\"N\",\"local\":null},{\"pid\":\"355\",\"name\":\"사이언스타임즈\",\"img\":\"https://s.pstatic.net/static/newsstand/up/2017/0424/nsd145657590.png\",\"newMainLogo\":\"https://s.pstatic.net/static/newsstand/2019/logo/355.png\",\"cate\":\"ct7\",\"amigo\":\"N\",\"viewer\":\"Y\",\"today\":\"N\",\"local\":null},{\"pid\":\"808\",\"name\":\"산업일보\",\"img\":\"https://s.pstatic.net/static/newsstand/up/2019/0314/nsd11030667.png\",\"newMainLogo\":\"https://s.pstatic.net/static/newsstand/2019/logo/808.png\",\"cate\":\"ct7\",\"amigo\":\"N\",\"viewer\":\"Y\",\"today\":\"N\",\"local\":null},{\"pid\":\"329\",\"name\":\"소년한국일보\",\"img\":\"https://s.pstatic.net/static/newsstand/up/2017/0424/nsd14583498.png\",\"newMainLogo\":\"https://s.pstatic.net/static/newsstand/2019/logo/329.png\",\"cate\":\"ct7\",\"amigo\":\"N\",\"viewer\":\"Y\",\"today\":\"N\",\"local\":null},{\"pid\":\"308\",\"name\":\"시사인\",\"img\":\"https://s.pstatic.net/static/newsstand/up/2017/0424/nsd151929775.png\",\"newMainLogo\":\"https://s.pstatic.net/static/newsstand/2019/logo/308.png\",\"cate\":\"ct7\",\"amigo\":\"N\",\"viewer\":\"Y\",\"today\":\"N\",\"local\":null},{\"pid\":\"135\",\"name\":\"시사저널\",\"img\":\"https://s.pstatic.net/static/newsstand/up/2017/0424/nsd153228485.png\",\"newMainLogo\":\"https://s.pstatic.net/static/newsstand/2019/logo/135.png\",\"cate\":\"ct7\",\"amigo\":\"N\",\"viewer\":\"Y\",\"today\":\"N\",\"local\":null},{\"pid\":\"140\",\"name\":\"씨네21\",\"img\":\"https://s.pstatic.net/static/newsstand/up/2017/0424/nsd153251814.png\",\"newMainLogo\":\"https://s.pstatic.net/static/newsstand/2019/logo/140.png\",\"cate\":\"ct7\",\"amigo\":\"N\",\"viewer\":\"Y\",\"today\":\"N\",\"local\":null},{\"pid\":\"979\",\"name\":\"약사공론\",\"img\":\"https://s.pstatic.net/static/newsstand/up/2018/0212/nsd161550299.png\",\"newMainLogo\":\"https://s.pstatic.net/static/newsstand/2019/logo/979.png\",\"cate\":\"ct7\",\"amigo\":\"N\",\"viewer\":\"Y\",\"today\":\"N\",\"local\":null},{\"pid\":\"328\",\"name\":\"에이블뉴스\",\"img\":\"https://s.pstatic.net/static/newsstand/up/2017/0424/nsd154040656.png\",\"newMainLogo\":\"https://s.pstatic.net/static/newsstand/2019/logo/328.png\",\"cate\":\"ct7\",\"amigo\":\"N\",\"viewer\":\"Y\",\"today\":\"N\",\"local\":null},{\"pid\":\"354\",\"name\":\"엘르\",\"img\":\"https://s.pstatic.net/static/newsstand/up/2017/0424/nsd154119884.png\",\"newMainLogo\":\"https://s.pstatic.net/static/newsstand/2019/logo/354.png\",\"cate\":\"ct7\",\"amigo\":\"N\",\"viewer\":\"Y\",\"today\":\"N\",\"local\":null},{\"pid\":\"310\",\"name\":\"여성신문\",\"img\":\"https://s.pstatic.net/static/newsstand/up/2017/0424/nsd154151666.png\",\"newMainLogo\":\"https://s.pstatic.net/static/newsstand/2019/logo/310.png\",\"cate\":\"ct7\",\"amigo\":\"N\",\"viewer\":\"Y\",\"today\":\"N\",\"local\":null},{\"pid\":\"094\",\"name\":\"월간 산\",\"img\":\"https://s.pstatic.net/static/newsstand/up/2019/0906/nsd162456924.png\",\"newMainLogo\":\"https://s.pstatic.net/static/newsstand/2019/logo/094.png\",\"cate\":\"ct7\",\"amigo\":\"N\",\"viewer\":\"Y\",\"today\":\"N\",\"local\":null},{\"pid\":\"820\",\"name\":\"월간노동법률\",\"img\":\"https://s.pstatic.net/static/newsstand/up/2019/0927/nsd18549730.png\",\"newMainLogo\":\"https://s.pstatic.net/static/newsstand/up/2019/1022/nsd10159561.png\",\"cate\":\"ct7\",\"amigo\":\"N\",\"viewer\":\"Y\",\"today\":\"N\",\"local\":null},{\"pid\":\"950\",\"name\":\"월간중앙\",\"img\":\"https://s.pstatic.net/static/newsstand/up/2017/1122/nsd113515807.png\",\"newMainLogo\":\"https://s.pstatic.net/static/newsstand/2019/logo/950.png\",\"cate\":\"ct7\",\"amigo\":\"N\",\"viewer\":\"Y\",\"today\":\"N\",\"local\":null},{\"pid\":\"988\",\"name\":\"이웃집과학자\",\"img\":\"https://s.pstatic.net/static/newsstand/up/2018/0906/nsd1125619.png\",\"newMainLogo\":\"https://s.pstatic.net/static/newsstand/2019/logo/988.png\",\"cate\":\"ct7\",\"amigo\":\"N\",\"viewer\":\"Y\",\"today\":\"N\",\"local\":null},{\"pid\":\"982\",\"name\":\"이코노미조선\",\"img\":\"https://s.pstatic.net/static/newsstand/up/2018/0226/nsd13574834.png\",\"newMainLogo\":\"https://s.pstatic.net/static/newsstand/2019/logo/982.png\",\"cate\":\"ct7\",\"amigo\":\"N\",\"viewer\":\"Y\",\"today\":\"N\",\"local\":null},{\"pid\":\"813\",\"name\":\"이코노믹리뷰\",\"img\":\"https://s.pstatic.net/static/newsstand/up/2019/0903/nsd20656791.png\",\"newMainLogo\":\"https://s.pstatic.net/static/newsstand/2019/logo/813.png\",\"cate\":\"ct7\",\"amigo\":\"N\",\"viewer\":\"Y\",\"today\":\"N\",\"local\":null},{\"pid\":\"924\",\"name\":\"인벤\",\"img\":\"https://s.pstatic.net/static/newsstand/up/2017/0424/nsd154539705.png\",\"newMainLogo\":\"https://s.pstatic.net/static/newsstand/2019/logo/924.png\",\"cate\":\"ct7\",\"amigo\":\"N\",\"viewer\":\"Y\",\"today\":\"N\",\"local\":null},{\"pid\":\"807\",\"name\":\"인사이트코리아\",\"img\":\"https://s.pstatic.net/static/newsstand/up/2019/0311/nsd10115926.png\",\"newMainLogo\":\"https://s.pstatic.net/static/newsstand/2019/logo/807.png\",\"cate\":\"ct7\",\"amigo\":\"N\",\"viewer\":\"Y\",\"today\":\"N\",\"local\":null},{\"pid\":\"362\",\"name\":\"자동차생활\",\"img\":\"https://s.pstatic.net/static/newsstand/up/2017/0424/nsd162354371.png\",\"newMainLogo\":\"https://s.pstatic.net/static/newsstand/2019/logo/362.png\",\"cate\":\"ct7\",\"amigo\":\"N\",\"viewer\":\"Y\",\"today\":\"N\",\"local\":null},{\"pid\":\"965\",\"name\":\"전기신문\",\"img\":\"https://s.pstatic.net/static/newsstand/up/2017/1201/nsd161818802.png\",\"newMainLogo\":\"https://s.pstatic.net/static/newsstand/2019/logo/965.png\",\"cate\":\"ct7\",\"amigo\":\"N\",\"viewer\":\"Y\",\"today\":\"N\",\"local\":null},{\"pid\":\"966\",\"name\":\"정신의학신문\",\"img\":\"https://s.pstatic.net/static/newsstand/up/2017/1201/nsd161847464.png\",\"newMainLogo\":\"https://s.pstatic.net/static/newsstand/2019/logo/966.png\",\"cate\":\"ct7\",\"amigo\":\"N\",\"viewer\":\"Y\",\"today\":\"N\",\"local\":null},{\"pid\":\"990\",\"name\":\"주간조선\",\"img\":\"https://s.pstatic.net/static/newsstand/up/2018/0913/nsd104554287.png\",\"newMainLogo\":\"https://s.pstatic.net/static/newsstand/2019/logo/990.png\",\"cate\":\"ct7\",\"amigo\":\"N\",\"viewer\":\"Y\",\"today\":\"N\",\"local\":null},{\"pid\":\"361\",\"name\":\"채널예스\",\"img\":\"https://s.pstatic.net/static/newsstand/up/2017/0424/nsd164412540.png\",\"newMainLogo\":\"https://s.pstatic.net/static/newsstand/2019/logo/361.png\",\"cate\":\"ct7\",\"amigo\":\"N\",\"viewer\":\"Y\",\"today\":\"N\",\"local\":null},{\"pid\":\"956\",\"name\":\"철강금속신문\",\"img\":\"https://s.pstatic.net/static/newsstand/up/2018/0406/nsd201637238.png\",\"newMainLogo\":\"https://s.pstatic.net/static/newsstand/2019/logo/956.png\",\"cate\":\"ct7\",\"amigo\":\"N\",\"viewer\":\"Y\",\"today\":\"N\",\"local\":null},{\"pid\":\"805\",\"name\":\"캠퍼스잡앤조이\",\"img\":\"https://s.pstatic.net/static/newsstand/up/2019/1014/nsd1016562.png\",\"newMainLogo\":\"https://s.pstatic.net/static/newsstand/up/2019/1022/nsd101526780.png\",\"cate\":\"ct7\",\"amigo\":\"N\",\"viewer\":\"Y\",\"today\":\"N\",\"local\":null},{\"pid\":\"928\",\"name\":\"컴퓨터월드\",\"img\":\"https://s.pstatic.net/static/newsstand/up/2017/0424/nsd17150763.png\",\"newMainLogo\":\"https://s.pstatic.net/static/newsstand/2019/logo/928.png\",\"cate\":\"ct7\",\"amigo\":\"N\",\"viewer\":\"Y\",\"today\":\"N\",\"local\":null},{\"pid\":\"967\",\"name\":\"코리아쉬핑가제트\",\"img\":\"https://s.pstatic.net/static/newsstand/up/2017/1201/nsd162046351.png\",\"newMainLogo\":\"https://s.pstatic.net/static/newsstand/2019/logo/967.png\",\"cate\":\"ct7\",\"amigo\":\"N\",\"viewer\":\"Y\",\"today\":\"N\",\"local\":null},{\"pid\":\"296\",\"name\":\"코메디닷컴\",\"img\":\"https://s.pstatic.net/static/newsstand/up/2017/0424/nsd172354656.png\",\"newMainLogo\":\"https://s.pstatic.net/static/newsstand/2019/logo/296.png\",\"cate\":\"ct7\",\"amigo\":\"N\",\"viewer\":\"Y\",\"today\":\"N\",\"local\":null},{\"pid\":\"986\",\"name\":\"투데이신문\",\"img\":\"https://s.pstatic.net/static/newsstand/up/2018/0903/nsd92617272.png\",\"newMainLogo\":\"https://s.pstatic.net/static/newsstand/2019/logo/986.png\",\"cate\":\"ct7\",\"amigo\":\"N\",\"viewer\":\"Y\",\"today\":\"N\",\"local\":null},{\"pid\":\"951\",\"name\":\"포브스코리아\",\"img\":\"https://s.pstatic.net/static/newsstand/up/2017/1122/nsd113546163.png\",\"newMainLogo\":\"https://s.pstatic.net/static/newsstand/2019/logo/951.png\",\"cate\":\"ct7\",\"amigo\":\"N\",\"viewer\":\"Y\",\"today\":\"N\",\"local\":null},{\"pid\":\"948\",\"name\":\"한겨레21\",\"img\":\"https://s.pstatic.net/static/newsstand/up/2017/0424/nsd172654646.png\",\"newMainLogo\":\"https://s.pstatic.net/static/newsstand/2019/logo/948.png\",\"cate\":\"ct7\",\"amigo\":\"N\",\"viewer\":\"Y\",\"today\":\"N\",\"local\":null},{\"pid\":\"050\",\"name\":\"한경비즈니스\",\"img\":\"https://s.pstatic.net/static/newsstand/up/2017/0424/nsd172712628.png\",\"newMainLogo\":\"https://s.pstatic.net/static/newsstand/2019/logo/050.png\",\"cate\":\"ct7\",\"amigo\":\"N\",\"viewer\":\"Y\",\"today\":\"N\",\"local\":null},{\"pid\":\"811\",\"name\":\"한국농어촌방송\",\"img\":\"https://s.pstatic.net/static/newsstand/up/2019/0927/nsd175830950.png\",\"newMainLogo\":\"https://s.pstatic.net/static/newsstand/up/2019/1022/nsd101541833.png\",\"cate\":\"ct7\",\"amigo\":\"N\",\"viewer\":\"Y\",\"today\":\"N\",\"local\":null},{\"pid\":\"384\",\"name\":\"한국대학신문\",\"img\":\"https://s.pstatic.net/static/newsstand/up/2017/0424/nsd172816434.png\",\"newMainLogo\":\"https://s.pstatic.net/static/newsstand/2019/logo/384.png\",\"cate\":\"ct7\",\"amigo\":\"N\",\"viewer\":\"Y\",\"today\":\"N\",\"local\":null},{\"pid\":\"346\",\"name\":\"헬스조선\",\"img\":\"https://s.pstatic.net/static/newsstand/up/2017/0424/nsd172911723.png\",\"newMainLogo\":\"https://s.pstatic.net/static/newsstand/2019/logo/346.png\",\"cate\":\"ct7\",\"amigo\":\"N\",\"viewer\":\"Y\",\"today\":\"N\",\"local\":null},{\"pid\":\"806\",\"name\":\"MONEY\",\"img\":\"https://s.pstatic.net/static/newsstand/up/2019/0319/nsd13114644.png\",\"newMainLogo\":\"https://s.pstatic.net/static/newsstand/2019/logo/806.png\",\"cate\":\"ct7\",\"amigo\":\"N\",\"viewer\":\"Y\",\"today\":\"N\",\"local\":null},{\"pid\":\"364\",\"name\":\"PC사랑\",\"img\":\"https://s.pstatic.net/static/newsstand/up/2017/0424/nsd173322105.png\",\"newMainLogo\":\"https://s.pstatic.net/static/newsstand/2019/logo/364.png\",\"cate\":\"ct7\",\"amigo\":\"N\",\"viewer\":\"Y\",\"today\":\"N\",\"local\":null},{\"pid\":\"949\",\"name\":\"TheAsiaN\",\"img\":\"https://s.pstatic.net/static/newsstand/up/2017/0424/nsd173523100.png\",\"newMainLogo\":\"https://s.pstatic.net/static/newsstand/2019/logo/949.png\",\"cate\":\"ct7\",\"amigo\":\"N\",\"viewer\":\"Y\",\"today\":\"N\",\"local\":null}],\"ct8\":[{\"pid\":\"335\",\"name\":\"강원도민일보\",\"img\":\"https://s.pstatic.net/static/newsstand/up/2017/0424/nsd14341394.png\",\"newMainLogo\":\"https://s.pstatic.net/static/newsstand/2019/logo/335.png\",\"cate\":\"ct8\",\"amigo\":\"N\",\"viewer\":\"Y\",\"today\":\"N\",\"local\":[{\"name\":\"강원\",\"code\":\"01\"}]},{\"pid\":\"087\",\"name\":\"강원일보\",\"img\":\"https://s.pstatic.net/static/newsstand/up/2017/0424/nsd143434899.png\",\"newMainLogo\":\"https://s.pstatic.net/static/newsstand/2019/logo/087.png\",\"cate\":\"ct8\",\"amigo\":\"N\",\"viewer\":\"Y\",\"today\":\"N\",\"local\":[{\"name\":\"강원\",\"code\":\"01\"}]},{\"pid\":\"339\",\"name\":\"경기일보\",\"img\":\"https://s.pstatic.net/static/newsstand/up/2017/0424/nsd143511509.png\",\"newMainLogo\":\"https://s.pstatic.net/static/newsstand/2019/logo/339.png\",\"cate\":\"ct8\",\"amigo\":\"N\",\"viewer\":\"Y\",\"today\":\"N\",\"local\":[{\"name\":\"경기\",\"code\":\"02\"},{\"name\":\"인천\",\"code\":\"11\"}]},{\"pid\":\"333\",\"name\":\"경남신문\",\"img\":\"https://s.pstatic.net/static/newsstand/up/2017/0424/nsd143531816.png\",\"newMainLogo\":\"https://s.pstatic.net/static/newsstand/2019/logo/333.png\",\"cate\":\"ct8\",\"amigo\":\"N\",\"viewer\":\"Y\",\"today\":\"N\",\"local\":[{\"name\":\"경남\",\"code\":\"03\"},{\"name\":\"부산\",\"code\":\"08\"},{\"name\":\"울산\",\"code\":\"10\"}]},{\"pid\":\"978\",\"name\":\"경북도민일보\",\"img\":\"https://s.pstatic.net/static/newsstand/up/2017/1214/nsd111929299.png\",\"newMainLogo\":\"https://s.pstatic.net/static/newsstand/2019/logo/978.png\",\"cate\":\"ct8\",\"amigo\":\"N\",\"viewer\":\"Y\",\"today\":\"N\",\"local\":[{\"name\":\"경북\",\"code\":\"04\"},{\"name\":\"대구\",\"code\":\"06\"}]},{\"pid\":\"907\",\"name\":\"경북매일신문\",\"img\":\"https://s.pstatic.net/static/newsstand/up/2017/0424/nsd143555345.png\",\"newMainLogo\":\"https://s.pstatic.net/static/newsstand/2019/logo/907.png\",\"cate\":\"ct8\",\"amigo\":\"N\",\"viewer\":\"Y\",\"today\":\"N\",\"local\":[{\"name\":\"경북\",\"code\":\"04\"},{\"name\":\"대구\",\"code\":\"06\"}]},{\"pid\":\"337\",\"name\":\"경북일보\",\"img\":\"https://s.pstatic.net/static/newsstand/up/2017/0424/nsd143612100.png\",\"newMainLogo\":\"https://s.pstatic.net/static/newsstand/2019/logo/337.png\",\"cate\":\"ct8\",\"amigo\":\"N\",\"viewer\":\"Y\",\"today\":\"N\",\"local\":[{\"name\":\"경북\",\"code\":\"04\"},{\"name\":\"대구\",\"code\":\"06\"},{\"name\":\"울산\",\"code\":\"10\"}]},{\"pid\":\"935\",\"name\":\"경상일보\",\"img\":\"https://s.pstatic.net/static/newsstand/up/2017/0424/nsd143628241.png\",\"newMainLogo\":\"https://s.pstatic.net/static/newsstand/2019/logo/935.png\",\"cate\":\"ct8\",\"amigo\":\"N\",\"viewer\":\"Y\",\"today\":\"N\",\"local\":[{\"name\":\"울산\",\"code\":\"10\"}]},{\"pid\":\"338\",\"name\":\"경인일보\",\"img\":\"https://s.pstatic.net/static/newsstand/up/2017/0424/nsd143645415.png\",\"newMainLogo\":\"https://s.pstatic.net/static/newsstand/2019/logo/338.png\",\"cate\":\"ct8\",\"amigo\":\"N\",\"viewer\":\"Y\",\"today\":\"N\",\"local\":[{\"name\":\"경기\",\"code\":\"02\"},{\"name\":\"인천\",\"code\":\"11\"}]},{\"pid\":\"301\",\"name\":\"광주드림\",\"img\":\"https://s.pstatic.net/static/newsstand/up/2017/1201/nsd17629468.png\",\"newMainLogo\":\"https://s.pstatic.net/static/newsstand/2019/logo/301.png\",\"cate\":\"ct8\",\"amigo\":\"N\",\"viewer\":\"Y\",\"today\":\"N\",\"local\":[{\"name\":\"광주\",\"code\":\"05\"}]},{\"pid\":\"332\",\"name\":\"국제신문\",\"img\":\"https://s.pstatic.net/static/newsstand/up/2017/0424/nsd143844997.png\",\"newMainLogo\":\"https://s.pstatic.net/static/newsstand/2019/logo/332.png\",\"cate\":\"ct8\",\"amigo\":\"N\",\"viewer\":\"Y\",\"today\":\"N\",\"local\":[{\"name\":\"경남\",\"code\":\"03\"},{\"name\":\"부산\",\"code\":\"08\"},{\"name\":\"울산\",\"code\":\"10\"}]},{\"pid\":\"909\",\"name\":\"기호일보\",\"img\":\"https://s.pstatic.net/static/newsstand/up/2017/0424/nsd14392544.png\",\"newMainLogo\":\"https://s.pstatic.net/static/newsstand/2019/logo/909.png\",\"cate\":\"ct8\",\"amigo\":\"N\",\"viewer\":\"Y\",\"today\":\"N\",\"local\":[{\"name\":\"경기\",\"code\":\"02\"},{\"name\":\"인천\",\"code\":\"11\"}]},{\"pid\":\"936\",\"name\":\"대구일보\",\"img\":\"https://s.pstatic.net/static/newsstand/up/2017/0424/nsd144433908.png\",\"newMainLogo\":\"https://s.pstatic.net/static/newsstand/2019/logo/936.png\",\"cate\":\"ct8\",\"amigo\":\"N\",\"viewer\":\"Y\",\"today\":\"N\",\"local\":[{\"name\":\"경북\",\"code\":\"04\"},{\"name\":\"대구\",\"code\":\"06\"}]},{\"pid\":\"089\",\"name\":\"대전일보\",\"img\":\"https://s.pstatic.net/static/newsstand/up/2017/0424/nsd144457151.png\",\"newMainLogo\":\"https://s.pstatic.net/static/newsstand/2019/logo/089.png\",\"cate\":\"ct8\",\"amigo\":\"N\",\"viewer\":\"Y\",\"today\":\"N\",\"local\":[{\"name\":\"대전\",\"code\":\"07\"},{\"name\":\"충남\",\"code\":\"15\"},{\"name\":\"충북\",\"code\":\"16\"},{\"name\":\"세종\",\"code\":\"17\"}]},{\"pid\":\"088\",\"name\":\"매일신문\",\"img\":\"https://s.pstatic.net/static/newsstand/up/2017/0424/nsd14505572.png\",\"newMainLogo\":\"https://s.pstatic.net/static/newsstand/2019/logo/088.png\",\"cate\":\"ct8\",\"amigo\":\"N\",\"viewer\":\"Y\",\"today\":\"N\",\"local\":[{\"name\":\"경북\",\"code\":\"04\"},{\"name\":\"대구\",\"code\":\"06\"}]},{\"pid\":\"976\",\"name\":\"무등일보\",\"img\":\"https://s.pstatic.net/static/newsstand/up/2017/1221/nsd13422489.png\",\"newMainLogo\":\"https://s.pstatic.net/static/newsstand/2019/logo/976.png\",\"cate\":\"ct8\",\"amigo\":\"N\",\"viewer\":\"Y\",\"today\":\"N\",\"local\":[{\"name\":\"광주\",\"code\":\"05\"},{\"name\":\"전남\",\"code\":\"12\"}]},{\"pid\":\"817\",\"name\":\"미디어제주\",\"img\":\"https://s.pstatic.net/static/newsstand/up/2019/0906/nsd162759670.png\",\"newMainLogo\":\"https://s.pstatic.net/static/newsstand/2019/logo/817.png\",\"cate\":\"ct8\",\"amigo\":\"N\",\"viewer\":\"Y\",\"today\":\"N\",\"local\":null},{\"pid\":\"082\",\"name\":\"부산일보\",\"img\":\"https://s.pstatic.net/static/newsstand/up/2017/0424/nsd145450220.png\",\"newMainLogo\":\"https://s.pstatic.net/static/newsstand/2019/logo/082.png\",\"cate\":\"ct8\",\"amigo\":\"N\",\"viewer\":\"Y\",\"today\":\"N\",\"local\":[{\"name\":\"경남\",\"code\":\"03\"},{\"name\":\"부산\",\"code\":\"08\"},{\"name\":\"울산\",\"code\":\"10\"}]},{\"pid\":\"385\",\"name\":\"영남일보\",\"img\":\"https://s.pstatic.net/static/newsstand/up/2017/0424/nsd154255890.png\",\"newMainLogo\":\"https://s.pstatic.net/static/newsstand/2019/logo/385.png\",\"cate\":\"ct8\",\"amigo\":\"N\",\"viewer\":\"Y\",\"today\":\"N\",\"local\":[{\"name\":\"경북\",\"code\":\"04\"},{\"name\":\"대구\",\"code\":\"06\"}]},{\"pid\":\"387\",\"name\":\"인천일보\",\"img\":\"https://s.pstatic.net/static/newsstand/up/2017/0424/nsd154558680.png\",\"newMainLogo\":\"https://s.pstatic.net/static/newsstand/2019/logo/387.png\",\"cate\":\"ct8\",\"amigo\":\"N\",\"viewer\":\"Y\",\"today\":\"N\",\"local\":[{\"name\":\"경기\",\"code\":\"02\"},{\"name\":\"인천\",\"code\":\"11\"}]},{\"pid\":\"388\",\"name\":\"전남일보\",\"img\":\"https://s.pstatic.net/static/newsstand/up/2019/0207/nsd141413617.png\",\"newMainLogo\":\"https://s.pstatic.net/static/newsstand/2019/logo/388.png\",\"cate\":\"ct8\",\"amigo\":\"N\",\"viewer\":\"Y\",\"today\":\"N\",\"local\":[{\"name\":\"광주\",\"code\":\"05\"},{\"name\":\"전남\",\"code\":\"12\"}]},{\"pid\":\"937\",\"name\":\"전북도민일보\",\"img\":\"https://s.pstatic.net/static/newsstand/up/2017/0424/nsd16244628.png\",\"newMainLogo\":\"https://s.pstatic.net/static/newsstand/2019/logo/937.png\",\"cate\":\"ct8\",\"amigo\":\"N\",\"viewer\":\"Y\",\"today\":\"N\",\"local\":[{\"name\":\"전북\",\"code\":\"13\"}]},{\"pid\":\"336\",\"name\":\"전북일보\",\"img\":\"https://s.pstatic.net/static/newsstand/up/2017/0424/nsd16256807.png\",\"newMainLogo\":\"https://s.pstatic.net/static/newsstand/2019/logo/336.png\",\"cate\":\"ct8\",\"amigo\":\"N\",\"viewer\":\"Y\",\"today\":\"N\",\"local\":[{\"name\":\"전북\",\"code\":\"13\"}]},{\"pid\":\"901\",\"name\":\"제민일보\",\"img\":\"https://s.pstatic.net/static/newsstand/up/2017/0424/nsd16254923.png\",\"newMainLogo\":\"https://s.pstatic.net/static/newsstand/2019/logo/901.png\",\"cate\":\"ct8\",\"amigo\":\"N\",\"viewer\":\"Y\",\"today\":\"N\",\"local\":[{\"name\":\"제주\",\"code\":\"14\"}]},{\"pid\":\"389\",\"name\":\"제주도민일보\",\"img\":\"https://s.pstatic.net/static/newsstand/up/2017/0424/nsd1626960.png\",\"newMainLogo\":\"https://s.pstatic.net/static/newsstand/2019/logo/389.png\",\"cate\":\"ct8\",\"amigo\":\"N\",\"viewer\":\"Y\",\"today\":\"N\",\"local\":[{\"name\":\"제주\",\"code\":\"14\"}]},{\"pid\":\"334\",\"name\":\"제주의소리\",\"img\":\"https://s.pstatic.net/static/newsstand/up/2017/0424/nsd162631114.png\",\"newMainLogo\":\"https://s.pstatic.net/static/newsstand/2019/logo/334.png\",\"cate\":\"ct8\",\"amigo\":\"N\",\"viewer\":\"Y\",\"today\":\"N\",\"local\":[{\"name\":\"제주\",\"code\":\"14\"}]},{\"pid\":\"390\",\"name\":\"중도일보\",\"img\":\"https://s.pstatic.net/static/newsstand/up/2017/0424/nsd162822857.png\",\"newMainLogo\":\"https://s.pstatic.net/static/newsstand/2019/logo/390.png\",\"cate\":\"ct8\",\"amigo\":\"N\",\"viewer\":\"Y\",\"today\":\"N\",\"local\":[{\"name\":\"대전\",\"code\":\"07\"},{\"name\":\"충남\",\"code\":\"15\"}]},{\"pid\":\"983\",\"name\":\"중부매일신문\",\"img\":\"https://s.pstatic.net/static/newsstand/up/2018/0212/nsd162058391.png\",\"newMainLogo\":\"https://s.pstatic.net/static/newsstand/2019/logo/983.png\",\"cate\":\"ct8\",\"amigo\":\"N\",\"viewer\":\"Y\",\"today\":\"N\",\"local\":[{\"name\":\"대전\",\"code\":\"07\"},{\"name\":\"충남\",\"code\":\"15\"},{\"name\":\"충북\",\"code\":\"16\"},{\"name\":\"세종\",\"code\":\"17\"}]},{\"pid\":\"926\",\"name\":\"중부일보\",\"img\":\"https://s.pstatic.net/static/newsstand/up/2017/0424/nsd162931439.png\",\"newMainLogo\":\"https://s.pstatic.net/static/newsstand/2019/logo/926.png\",\"cate\":\"ct8\",\"amigo\":\"N\",\"viewer\":\"Y\",\"today\":\"N\",\"local\":[{\"name\":\"경기\",\"code\":\"02\"},{\"name\":\"인천\",\"code\":\"11\"}]},{\"pid\":\"927\",\"name\":\"충북일보\",\"img\":\"https://s.pstatic.net/static/newsstand/up/2017/0424/nsd164449667.png\",\"newMainLogo\":\"https://s.pstatic.net/static/newsstand/2019/logo/927.png\",\"cate\":\"ct8\",\"amigo\":\"N\",\"viewer\":\"Y\",\"today\":\"N\",\"local\":[{\"name\":\"충북\",\"code\":\"16\"},{\"name\":\"세종\",\"code\":\"17\"}]},{\"pid\":\"391\",\"name\":\"충청일보\",\"img\":\"https://s.pstatic.net/static/newsstand/up/2017/0424/nsd17115481.png\",\"newMainLogo\":\"https://s.pstatic.net/static/newsstand/2019/logo/391.png\",\"cate\":\"ct8\",\"amigo\":\"N\",\"viewer\":\"Y\",\"today\":\"N\",\"local\":[{\"name\":\"대전\",\"code\":\"07\"},{\"name\":\"충남\",\"code\":\"15\"},{\"name\":\"충북\",\"code\":\"16\"},{\"name\":\"세종\",\"code\":\"17\"}]},{\"pid\":\"331\",\"name\":\"충청투데이\",\"img\":\"https://s.pstatic.net/static/newsstand/up/2017/0424/nsd17133978.png\",\"newMainLogo\":\"https://s.pstatic.net/static/newsstand/2019/logo/331.png\",\"cate\":\"ct8\",\"amigo\":\"N\",\"viewer\":\"Y\",\"today\":\"N\",\"local\":[{\"name\":\"대전\",\"code\":\"07\"},{\"name\":\"충남\",\"code\":\"15\"},{\"name\":\"충북\",\"code\":\"16\"},{\"name\":\"세종\",\"code\":\"17\"}]},{\"pid\":\"987\",\"name\":\"한라일보\",\"img\":\"https://s.pstatic.net/static/newsstand/up/2018/0917/nsd1045519.png\",\"newMainLogo\":\"https://s.pstatic.net/static/newsstand/2019/logo/987.png\",\"cate\":\"ct8\",\"amigo\":\"N\",\"viewer\":\"Y\",\"today\":\"N\",\"local\":null}]},\\n\\t\\t\\t\\t\\tisSupportedFlicking : false\\n    \\t\\t    });\\n\\n\\t\\t\\t\\tnew naver.main.Timesquare({\\n    \\t    \\t    aOrderedPanel : [{\"code\":\"weather\",\"name\":\"날씨\"},{\"code\":\"news\",\"name\":\"뉴스\"},{\"code\":\"conversation\",\"name\":\"회화\"},{\"code\":\"lifetools\",\"name\":\"생활도구\"}],\\n        \\t    \\tisSupportedFlicking : false\\n\\t\\t        });\\n\\n\\t\\t\\t\\tnew naver.main.RealtimeKeyword();\\n\\t\\t\\t\\tif ( !($Agent().navigator().ie && $Agent().navigator().version <= 8) ) {\\t\\n\\t\\t\\t\\t\\tnaver_adbd.Manager().activate();\\n\\t\\t\\t\\t}\\n\\n\\t\\t\\t\\tnaver.main.SchoolFixed.init(\"(none)\");\\n\\t\\t\\t\\tnaver.main.bestseller.init();\\n\\t\\t\\t\\tnaver.main.PromotionTopBanner.init();\\n\\n\\t\\t\\t\\tsetTimeout(function() {\\n\\t\\t\\t\\t\\tif (iframeLazyLoad) {\\n\\t\\t\\t\\t\\t\\t$Element(\"da_iframe_time\").attr(\"src\", urlDaIframeTime);\\n\\t\\t\\t\\t\\t\\tvar welMinime = $Element(\"minime\");\\n\\t\\t\\t\\t\\t\\tif (welMinime) {\\n\\t\\t\\t\\t\\t\\t\\twelMinime.attr(\"src\", urlMinime);\\n\\t\\t\\t\\t\\t\\t}\\n\\t\\t\\t\\t\\t\\t$Element(\"da_iframe_rolling\").attr(\"src\", urlDaIframeRolling);\\n\\t\\t\\t\\t\\t\\t$Element(\"cnsv_shbx\").attr(\"src\", urlCnsvShbx);\\n\\t\\t\\t\\t\\t\\t$Element(\"da_iframe_below\").attr(\"src\", urlDaIframeBelow);\\n\\t\\t\\t\\t\\t}\\n\\t\\t\\t\\t\\t//console.log(performance.timing.loadEventEnd - performance.timing.navigationStart);\\n\\t\\t\\t\\t}, 0);\\n\\n\\t\\t\\t});\\n\\t\\t}\\n\\n\\t\\tif (window.addEventListener) { \\n\\t\\t\\twindow.addEventListener(\"load\", function() { loadJS(); }, true);\\n\\t\\t} else if (window.attachEvent) { \\n\\t\\t\\twindow.attachEvent(\"onload\", loadJS);\\n\\t\\t} else {\\n\\t\\t\\twindow.onload = loadJS;\\n\\t\\t}\\n\\t\\t\\n\\t</script>\\n</body>\\n</html>\\n'"
      ]
     },
     "execution_count": 117,
     "metadata": {},
     "output_type": "execute_result"
    }
   ],
   "source": [
    "import requests\n",
    "resp = requests.get('http://naver.com')\n",
    "resp.text # 네이버 도메인의 html 요청"
   ]
  },
  {
   "cell_type": "markdown",
   "metadata": {},
   "source": [
    "### import\n",
    "   - import를 사용하여 해당 모듈 전체를 import"
   ]
  },
  {
   "cell_type": "code",
   "execution_count": 123,
   "metadata": {},
   "outputs": [
    {
     "data": {
      "text/plain": [
       "1.0"
      ]
     },
     "execution_count": 123,
     "metadata": {},
     "output_type": "execute_result"
    }
   ],
   "source": [
    "import math\n",
    "math.pi\n",
    "math.cos(0)"
   ]
  },
  {
   "cell_type": "markdown",
   "metadata": {},
   "source": [
    "### from import\n",
    "   - 해당 모듈에서 특정한 타입만 import"
   ]
  },
  {
   "cell_type": "code",
   "execution_count": 127,
   "metadata": {},
   "outputs": [
    {
     "name": "stdout",
     "output_type": "stream",
     "text": [
      "1.0\n",
      "3.141592653589793\n"
     ]
    }
   ],
   "source": [
    "from math import pi\n",
    "from math import cos\n",
    "print(cos(0))\n",
    "print(pi)"
   ]
  },
  {
   "cell_type": "markdown",
   "metadata": {},
   "source": [
    "### \\* import\n",
    "   - 해당 모듈내에 정의된 모든 것을 import\n",
    "   - 일반적으로 사용이 권장되지 않음"
   ]
  },
  {
   "cell_type": "code",
   "execution_count": 133,
   "metadata": {},
   "outputs": [
    {
     "name": "stdout",
     "output_type": "stream",
     "text": [
      "0.0\n",
      "2.718281828459045\n"
     ]
    }
   ],
   "source": [
    "from math import *\n",
    "\n",
    "print(sin(0))\n",
    "print(e)"
   ]
  },
  {
   "cell_type": "markdown",
   "metadata": {},
   "source": [
    "### as\n",
    "   - 모듈 import 시, alias(별명) 지정가능"
   ]
  },
  {
   "cell_type": "code",
   "execution_count": 135,
   "metadata": {
    "scrolled": true
   },
   "outputs": [
    {
     "name": "stdout",
     "output_type": "stream",
     "text": [
      "20.085536923187668\n",
      "20.085536923187668\n"
     ]
    }
   ],
   "source": [
    "import math as m\n",
    "print(math.exp(3))\n",
    "print(m.exp(3))"
   ]
  },
  {
   "cell_type": "markdown",
   "metadata": {},
   "source": [
    "## class란?\n",
    "   - 실세계의 것을 모델링하여 속성(attribute)와 동작(method)를 갖는 데이터 타입\n",
    "   - python에서의 string, int, list, dict... 모두가 다 클래스로 존재\n",
    "   - 예를 들어 학생이라는 클래스를 만든다면, 학생을 나타내는 속성과 학생이 행하는 행동을 함께 정의 할 수 있음\n",
    "   - 따라서, 다루고자 하는 데이터(변수)와 데이터를 다루는 연산(함수)를 하나로 캡슐화(encapsulation)하여 클래스로 표현\n",
    "   - 모델링에서 중요시 하는 속성에 따라 클래스의 속성과 행동이 각각 달라짐"
   ]
  },
  {
   "cell_type": "markdown",
   "metadata": {},
   "source": [
    "## Object란?\n",
    "   - 클래스로 생성되어 구체화된 객체(인스턴스)\n",
    "   - 파이썬의 모든 것(int, str, list, etc...)은 객체(인스턴스)\n",
    "   - 실제로 class가 인스턴스화 되어 메모리에 상주하는 상태를 의미\n",
    "   - class가 빵틀이라면, object는 실제로 빵틀로 찍어낸 빵이라고 비유가능"
   ]
  },
  {
   "cell_type": "markdown",
   "metadata": {},
   "source": [
    "### class 선언하기\n",
    "    - 객체를 생성하기 위해선 객체의 모체가 되는 class를 미리 선언해야 함"
   ]
  },
  {
   "cell_type": "code",
   "execution_count": 137,
   "metadata": {},
   "outputs": [],
   "source": [
    "class Person:\n",
    "    pass # 빈 구현을 허용\n"
   ]
  },
  {
   "cell_type": "code",
   "execution_count": 142,
   "metadata": {},
   "outputs": [
    {
     "name": "stdout",
     "output_type": "stream",
     "text": [
      "<class '__main__.Person'>\n",
      "<class 'list'>\n"
     ]
    }
   ],
   "source": [
    "bob = Person()\n",
    "cathy = Person()\n",
    "a = list()\n",
    "print(type(bob))\n",
    "print(type(a))"
   ]
  },
  {
   "cell_type": "markdown",
   "metadata": {},
   "source": [
    "### __init__(self)\n",
    "   - 생성자, 클래스 인스턴스가 생성될 때 호출됨\n",
    "   - self인자는 항상 첫번째에 오면 자기 자신을 가리킴\n",
    "   - 이름이 꼭 self일 필요는 없지만, 관례적으로 self로 사용\n",
    "   - 생성자에서는 해당 클래스가 다루는 데이터를 정의\n",
    "       - 이 데이터를 멤버 변수(member variable)또는 속성(attribute)라고 함\n",
    "       "
   ]
  },
  {
   "cell_type": "code",
   "execution_count": 145,
   "metadata": {},
   "outputs": [
    {
     "name": "stdout",
     "output_type": "stream",
     "text": [
      "<__main__.Person object at 0x0000014105FAB048> is generated\n",
      "Kate 10\n",
      "robin 12\n"
     ]
    }
   ],
   "source": [
    "class Person:\n",
    "    def __init__(self):\n",
    "        print(self,'is generated')\n",
    "        self.name = 'Kate'\n",
    "        self.age = 10\n",
    "        \n",
    "p1 = Person()\n",
    "print(p1.name, p1.age)\n",
    "p1.name ='robin'\n",
    "p1.age= 12\n",
    "print(p1.name, p1.age)"
   ]
  },
  {
   "cell_type": "code",
   "execution_count": 151,
   "metadata": {},
   "outputs": [
    {
     "name": "stdout",
     "output_type": "stream",
     "text": [
      "bob 은 잡니다\n"
     ]
    }
   ],
   "source": [
    "class Person:\n",
    "    def __init__(self, name, age):\n",
    "       # print(self,'is generated')\n",
    "        self.name = name\n",
    "        self.age = age\n",
    "    def sleep(self):\n",
    "        print(self.name,'은 잡니다')\n",
    "\n",
    "p1 = Person('bob',12)\n",
    "p1.sleep()"
   ]
  },
  {
   "cell_type": "markdown",
   "metadata": {},
   "source": [
    "### self\n",
    "   - 파이썬의 method는 항상 첫번째 인자로 self를 전달\n",
    "   - self는 현재 해당 메쏘드가 호출되는 객체 자신을 가리킴\n",
    "   - C++/C#, Java의 this에 해당\n",
    "   - 역시, 이름이 self일 필요는 없으나, 위치는 항상 맨 처음의 parameter이며 관례적으로 self로 사용"
   ]
  },
  {
   "cell_type": "markdown",
   "metadata": {},
   "source": [
    "### method 정의\n",
    "   - 멤버함수라고도 하며, 해당 클래스의 object에서만 호출가능\n",
    "   - 메쏘드는 객체 레벨에서 호출되며, 해당 객체의 속성에 대한 연산을 행함\n",
    "   - {obj}.{method}()형태로 호출됨"
   ]
  },
  {
   "cell_type": "code",
   "execution_count": 157,
   "metadata": {},
   "outputs": [
    {
     "name": "stdout",
     "output_type": "stream",
     "text": [
      "헌재값은 :  1\n"
     ]
    }
   ],
   "source": [
    "class Counter:\n",
    "    def __init__(self):\n",
    "        self.num = 0\n",
    "    \n",
    "    def printCurrentValue(self):\n",
    "        print('헌재값은 : ', self.num)\n",
    "        \n",
    "    def reset(self):\n",
    "        self.num=0\n",
    "    \n",
    "    def increment(self):\n",
    "        self.num+=1\n",
    "\n",
    "c1 = Counter()\n",
    "c1.increment()\n",
    "c1.printCurrentValue()"
   ]
  },
  {
   "cell_type": "markdown",
   "metadata": {},
   "source": [
    "### method type\n",
    "   - instance method - 객체로 호출\n",
    "       - 메쏘드는 객체 레벨로 호출되기 때문에, 해당 메쏘드를 호출한 객체에만 영향을 미침\n",
    "   - calss method(static method) - class로 호출\n",
    "       - 클래스 메쏘드의 경우, 클래스 레벨로 호출되기 때문에, 클래스 멤버 변수만 변경 가능"
   ]
  },
  {
   "cell_type": "code",
   "execution_count": 159,
   "metadata": {},
   "outputs": [
    {
     "data": {
      "text/plain": [
       "30"
      ]
     },
     "execution_count": 159,
     "metadata": {},
     "output_type": "execute_result"
    }
   ],
   "source": [
    "class Math:\n",
    "    @staticmethod\n",
    "    def add(a,b):\n",
    "        return a+b\n",
    "    \n",
    "    @staticmethod\n",
    "    def multiply(a,b):\n",
    "        return a*b\n",
    "m = Math()\n",
    "m.add(10,20)\n"
   ]
  },
  {
   "cell_type": "markdown",
   "metadata": {},
   "source": [
    "## Class Inheritance (상속)\n",
    "   - 기존에 정의해둔 클래스의 기능을 그대로 물려받을 수 있다.\n",
    "   - 기존 클래스에 기능 일부를 추가하거나, 변경하여 새로운 클래스를 정의한다\n",
    "   - 코드를 재사용할 수 있게된다.\n",
    "   - 상속 받고자 하는 대상인 기존 클래스는 (Parent, Super, Base class)라고 부른다.\n",
    "   - 상속 받는 새로운 클래스는(Child, Sub, Derived class 라고 부른다)\n",
    "   - 의미적으로 is-a관계를 갖는다"
   ]
  },
  {
   "cell_type": "code",
   "execution_count": 166,
   "metadata": {},
   "outputs": [
    {
     "name": "stdout",
     "output_type": "stream",
     "text": [
      "승원은 고기을 먹습니다\n",
      "승원은 40분동안 잡니다\n",
      "승원은 20분동안 일을 합니다\n",
      "robin은 생선을 먹습니다\n",
      "robin은 20분동안 잡니다\n",
      "robin은 10분동안 잡니다\n"
     ]
    }
   ],
   "source": [
    "class Person:\n",
    "    def __init__(self, name, age):\n",
    "        self.name = name\n",
    "        self.age = age\n",
    "    \n",
    "    def eat(self,food):\n",
    "        print('{}은 {}을 먹습니다'.format(self.name,food))\n",
    "    \n",
    "    def sleep(self, minute):\n",
    "        print('{}은 {}분동안 잡니다'.format(self.name, minute))\n",
    "    \n",
    "    def work(self,minute):\n",
    "        print('{}은 {}분동안 일을 합니다'.format(self.name, minute))\n",
    "\n",
    "class Student(Person):\n",
    "    pass\n",
    "    \n",
    "class Employee(Person):\n",
    "    pass\n",
    "\n",
    "bob = Person('승원',23)\n",
    "bob.eat('고기')\n",
    "bob.sleep(40)\n",
    "bob.work(20)\n",
    "\n",
    "robin = Student('robin',21)\n",
    "robin.eat('생선')\n",
    "robin.sleep(20)\n",
    "robin.sleep(10)"
   ]
  },
  {
   "cell_type": "markdown",
   "metadata": {},
   "source": [
    "### method override\n",
    "   - 부모 클래스의 method를 재정의(override)\n",
    "   - 하위 클래스(자식 클래스)의 인스턴스로 호출시, 재정의된 메소드가 호출됨"
   ]
  },
  {
   "cell_type": "code",
   "execution_count": 170,
   "metadata": {},
   "outputs": [
    {
     "name": "stdout",
     "output_type": "stream",
     "text": [
      "bob은 10분동안 준비를 합니다\n",
      "bob은 10분동안 공부를 합니다\n",
      "bob은 킹겹살을 먹습니다\n"
     ]
    }
   ],
   "source": [
    "class Person:\n",
    "    def __init__(self, name, age):\n",
    "        self.name = name\n",
    "        self.age = age\n",
    "    \n",
    "    def eat(self,food):\n",
    "        print('{}은 {}을 먹습니다'.format(self.name,food))\n",
    "    \n",
    "    def sleep(self, minute):\n",
    "        print('{}은 {}분동안 잡니다'.format(self.name, minute))\n",
    "    \n",
    "    def work(self,minute):\n",
    "        print('{}은 {}분동안 준비를 합니다'.format(self.name, minute))\n",
    "\n",
    "class Student(Person):\n",
    "    def work(self, minute):\n",
    "        super().work(minute)\n",
    "        print('{}은 {}분동안 공부를 합니다'.format(self.name,minute))\n",
    "\n",
    "bob = Student('bob', 12)\n",
    "bob.work(10)\n",
    "bob.eat('킹겹살')"
   ]
  },
  {
   "cell_type": "markdown",
   "metadata": {},
   "source": [
    "### super\n",
    "   - 하위클래스(자식 클래스)에서 부모클래스의 method를 호출할 때 사용"
   ]
  },
  {
   "cell_type": "markdown",
   "metadata": {},
   "source": [
    "### special method\n",
    "   - \\__로 시작 \\__로 끝나는 특수 함수\n",
    "   - 해당 메쏘드들을 구현하면, 커스텀 객체에 여러가지 파이썬 내장 함수나 연산자를 적용 가능\n",
    "   - https://docs.python.org/3/reference/datamodel.html\n",
    "   - https://docs.python.org/3/reference/datamodel.html#object.__add__\n"
   ]
  },
  {
   "cell_type": "code",
   "execution_count": 189,
   "metadata": {
    "scrolled": true
   },
   "outputs": [
    {
     "name": "stdout",
     "output_type": "stream",
     "text": [
      "(2,5)\n",
      "29\n",
      "2\n",
      "5\n",
      "(6,6)\n",
      "(-2,4)\n",
      "(-4,8)\n"
     ]
    }
   ],
   "source": [
    "# Point\n",
    "# 2차원 좌표평면 각 점 (x,y)\n",
    "# 연산\n",
    "# 두점의 덧셈, 뺄셈\n",
    "# 한점과 숫자의 곱셈\n",
    "# 그 점의 길이(0,0) 부터의 거리\n",
    "# x,y 값 가져오기\n",
    "# 출력하기\n",
    "\n",
    "class Point:\n",
    "    def __init__(self, x, y):\n",
    "        self.x = x\n",
    "        self.y = y\n",
    "   \n",
    "    def __str__(self):\n",
    "        return ('({},{})'.format(self.x, self.y))\n",
    "    \n",
    "    def __add__(self, pt):\n",
    "        new_x = self.x + pt.x\n",
    "        new_y = self.y + pt.y\n",
    "        return Point(new_x,new_y)\n",
    "    \n",
    "    def __sub__(self, pt):\n",
    "        new_x = self.x - pt.x\n",
    "        new_y = self.y - pt.y\n",
    "        return Point(new_x,new_y)\n",
    "    \n",
    "    def __mul__(self, factor):\n",
    "        return Point(self.x*factor ,self.y*factor)\n",
    "    \n",
    "    def __len__(self):\n",
    "        return self.x**2 + self.y**2\n",
    "    \n",
    "    def __getitem__(self,index):\n",
    "        if(index ==0):\n",
    "            return self.x\n",
    "        elif index == 1:\n",
    "            return self.y\n",
    "        else:\n",
    "            return None\n",
    "    \n",
    "p1 = Point(2,5)\n",
    "p2 = Point(4,1)\n",
    "#p3 = p1.add(p2)\n",
    "p3 = p1 + p2\n",
    "p4 = p1 - p2\n",
    "\n",
    "\n",
    "\n",
    "print(p1)\n",
    "print(len(p1))\n",
    "# p1[0] -> x\n",
    "# p1[1] -> y\n",
    "print(p1[0])\n",
    "print(p1[1])\n",
    "\n",
    "print(p3)\n",
    "\n",
    "print(p4)\n",
    "\n",
    "p5 = p4 * 2 \n",
    "print(p5)"
   ]
  },
  {
   "cell_type": "markdown",
   "metadata": {},
   "source": [
    "### 연습문제\n",
    "   - 복소수 클래스를 정의 해보자\n",
    "   - 덧셈, 뺄셈, 곱셈 연산자 지원\n",
    "   - 길이 (복소수의 크기) 지원\n",
    "   - 복소수 출력 '1+4i'와 같이 표현\n",
    "   - 비교 연산 ==, != 지원\n",
    "   \n",
    "   - > =, <=, <, > 연산 지원\n",
    "   - 절대값 지원"
   ]
  },
  {
   "cell_type": "code",
   "execution_count": 13,
   "metadata": {},
   "outputs": [
    {
     "name": "stdout",
     "output_type": "stream",
     "text": [
      "1 + 4i\n",
      "True\n",
      "False\n",
      "8 + 24i\n",
      "-22 + 14i\n",
      "-1 - 2i\n"
     ]
    }
   ],
   "source": [
    "class Complex:\n",
    "    def __init__(self, real, imag):\n",
    "        self.real = real\n",
    "        self.imag = imag\n",
    "        return\n",
    "    def __add__(self, x):\n",
    "        return Complex(self.real + x.real, self.imag + x.imag)\n",
    "    def __sub__(self, x):\n",
    "        return Complex(self.real - x.real, self.imag - x.imag)\n",
    "    def __mul__(self, x):\n",
    "        if type(x) == int:\n",
    "            return Complex(self.real*x, self.imag*x)\n",
    "        elif type(x) == Complex:\n",
    "            a = self.real*x.real - self.imag*x.imag\n",
    "            b = self.real*x.imag + self.imag * x.real\n",
    "            return Complex(a,b)\n",
    "        else:\n",
    "            return None\n",
    "        \n",
    "    def __len__(self):\n",
    "        return self.real**2 + self.imag**2\n",
    "    \n",
    "    def __str__(self):\n",
    "        if self.imag >= 0:\n",
    "            return '{} + {}i'.format(self.real, self.imag) \n",
    "        else: \n",
    "            return '{} - {}i'.format(self.real, abs(self.imag))\n",
    "      \n",
    "    def __lt__(self, x): # <\n",
    "        return len(self) < len(x)\n",
    "    def __le__(self, x): # <=\n",
    "        return len(self) <= len(x)\n",
    "    def __eq__(self, x): # ==\n",
    "        return self.real == x.real and self.imag == x.imag\n",
    "    def __ne__(self, x): # !=\n",
    "        return self.real != x.real or self.imag != x.imag\n",
    "    def __gt__(self, x): # > \n",
    "        return len(self) > len(x)\n",
    "    def __ge__(self, x): # >=\n",
    "        return len(self) >= len(x)\n",
    "\n",
    "com1 = Complex(1, 4)\n",
    "com2 = Complex(2, 6)\n",
    "print(com1)\n",
    "print(com1 <= com2)\n",
    "print(com1 >= com2)\n",
    "print(com2 *4)\n",
    "print(com1 * com2)\n",
    "print(com1 - com2)"
   ]
  },
  {
   "cell_type": "markdown",
   "metadata": {},
   "source": [
    "## 정규표현식\n",
    "   - regular expression\n",
    "   - 특정한 패텬과 일치하는 문자열를 '검색', '치환', '제거'하는  기능을 지원\n",
    "   - 정규표현식의 도움없이 패턴을 찾는 작업(Rule 기반)은 불완전하거나, 작업의 cost가 높음\n",
    "   - e.g) 이메일 형식 판별, 전화번호 형식 판별, 숫자로만 이루어진 문자열 등"
   ]
  },
  {
   "cell_type": "markdown",
   "metadata": {},
   "source": [
    "- raw string\n",
    "    - 문자열 앞에 r이 붙으면 해당 문자열이 구성된 그대로 문자열로 반환"
   ]
  },
  {
   "cell_type": "code",
   "execution_count": null,
   "metadata": {},
   "outputs": [],
   "source": [
    "a = 'abcdef\\n' # excapce 문자열\n",
    "print(a)\n",
    "\n",
    "b = r'abcdef\\n'\n",
    "print(b)"
   ]
  },
  {
   "cell_type": "markdown",
   "metadata": {},
   "source": [
    "### 기본 패턴\n",
    "   - a, X, 9 등등 문자 하나하나의 character들은 정확히 해당 문자와 일치\n",
    "       - e.g)패턴 test는 test 문자열과 일치\n",
    "       - 대소문자의 경우 기본적으로 구별하나, 구별하지 않도록 설정 가능\n",
    "   - 몇몇 문자들에 대해서는 예외가 존재하는데, 이들은 특별한 의미로 사용됨\n",
    "       - ,\\^ $ * + ? {} [] \\ | ()\n",
    "   - .(마침표) - 어떤 한개의 character와 일치 (newline(엔터) 제외)\n",
    "   - \\w - 문자 character와 일치 [a-zA-Z0-9]\n",
    "   - \\s - 공백문자와 일치\n",
    "   - \\t, \\n, \\r - tab, newline, return\n",
    "   - \\d - 숫자 character와 일치 [0-9]\n",
    "   - ^ = 시작, \\$ = 끝 각각 문자열의 시작과 끝을 의미\n",
    "   - \\\\가 붙으면 스페셜한 의미가 없어짐. 예를들어 \\\\.는 .자체를 의미 \\\\\\는 \\를 의미\n",
    "   - 자세한 내용은 링크 참조 https://docs.python.org/3/library/re.html\n",
    "   "
   ]
  },
  {
   "cell_type": "markdown",
   "metadata": {},
   "source": [
    "### search method\n",
    "   - 첫번째로 패턴을 찾으면 match 객체를 반환\n",
    "   - 패턴을 찾지 못하면 None 반환\n",
    "   "
   ]
  },
  {
   "cell_type": "code",
   "execution_count": 133,
   "metadata": {},
   "outputs": [
    {
     "name": "stdout",
     "output_type": "stream",
     "text": [
      "3\n",
      "6\n",
      "<class 'str'>\n",
      "abc\n"
     ]
    }
   ],
   "source": [
    "import re\n",
    "m =  re.search(r'abc','123abcdef') # 정규표현식 패턴, 찾을 대상인 문자열\n",
    "print(m.start())\n",
    "print(m.end())\n",
    "print(type(m.group()))\n",
    "print(m.group())\n"
   ]
  },
  {
   "cell_type": "code",
   "execution_count": 30,
   "metadata": {},
   "outputs": [
    {
     "data": {
      "text/plain": [
       "<re.Match object; span=(0, 4), match='112a'>"
      ]
     },
     "execution_count": 30,
     "metadata": {},
     "output_type": "execute_result"
    }
   ],
   "source": [
    "m = re.search(r'\\d\\d\\d\\w','112abcdef119') #search 가정 먼저 뜨는거 반환\n",
    "m"
   ]
  },
  {
   "cell_type": "code",
   "execution_count": 29,
   "metadata": {
    "scrolled": true
   },
   "outputs": [
    {
     "data": {
      "text/plain": [
       "<re.Match object; span=(2, 6), match='$%AB'>"
      ]
     },
     "execution_count": 29,
     "metadata": {},
     "output_type": "execute_result"
    }
   ],
   "source": [
    "m = re.search(r'..\\w\\w', '@#$%ABCDEF')\n",
    "m"
   ]
  },
  {
   "cell_type": "markdown",
   "metadata": {},
   "source": [
    "### metacharacters (메타 캐릭터)\n",
    "\n",
    "#### []문자들의 범위를 나타내기 위해 사용\n",
    "   - [] 내부의 메타 개릭터는 캐릭터 자체를 나타냄\n",
    "   - e.g)\n",
    "   - [abck]:a or b or c or k\n",
    "   - [abc.^]: a or b or c or . or ^\n",
    "   - [a-d]: -와 함께 사용되면 해당 문자 사이의 범위에 속하는 문자 중 하나\n",
    "   - [0-9]: 모든 숫자\n",
    "   - [a-z]: 모든 소문자\n",
    "   - [A-Z]: 모든 대문자\n",
    "   - [a-zA-Z0-9]: 모든 알파벳 문자 및 숫자\n",
    "   - [^0-9]: ^가 맨 앞에 사용 되는 경우 해당 문자 패턴이 아닌 것과 매칭"
   ]
  },
  {
   "cell_type": "code",
   "execution_count": 139,
   "metadata": {},
   "outputs": [
    {
     "name": "stdout",
     "output_type": "stream",
     "text": [
      "<re.Match object; span=(0, 3), match='cat'>\n",
      "None\n",
      "<class 'NoneType'>\n"
     ]
    }
   ],
   "source": [
    "print(re.search(r'[cmb]at','cat'))\n",
    "print(re.search(r'[cmb]at','aat'))\n",
    "m = re.search(r'[cmb]at','aat')\n",
    "print(type(m))"
   ]
  },
  {
   "cell_type": "code",
   "execution_count": 38,
   "metadata": {},
   "outputs": [
    {
     "name": "stdout",
     "output_type": "stream",
     "text": [
      "<re.Match object; span=(0, 7), match='2hahaha'>\n",
      "None\n"
     ]
    }
   ],
   "source": [
    "print(re.search(r'[0-9]hahaha','2hahaha'))\n",
    "print(re.search(r'[0-4]hahaha','7hahaha'))"
   ]
  },
  {
   "cell_type": "code",
   "execution_count": 41,
   "metadata": {},
   "outputs": [
    {
     "name": "stdout",
     "output_type": "stream",
     "text": [
      "<re.Match object; span=(0, 5), match='caron'>\n",
      "<re.Match object; span=(0, 5), match='^aron'>\n",
      "None\n"
     ]
    }
   ],
   "source": [
    "print(re.search(r'[abc.^]aron','caron'))\n",
    "print(re.search(r'[abc.^]aron','^aron'))\n",
    "print(re.search(r'[abc.^]aron','9aron'))"
   ]
  },
  {
   "cell_type": "code",
   "execution_count": 46,
   "metadata": {},
   "outputs": [
    {
     "name": "stdout",
     "output_type": "stream",
     "text": [
      "None\n",
      "<re.Match object; span=(0, 5), match='1aron'>\n",
      "None\n"
     ]
    }
   ],
   "source": [
    "print(re.search(r'[^abc.^]aron','12caron'))\n",
    "print(re.search(r'[^abc.^]aron','1aron'))\n",
    "print(re.search(r'[^abc.^]aron','^aron'))"
   ]
  },
  {
   "cell_type": "markdown",
   "metadata": {},
   "source": [
    "1. 다른 문자와 함께 사용되어 특수한 의미를 지님\n",
    "    - \\d: 숫자를 [0-9]와 동일\n",
    "    - \\D: 숫자가 아닌 문자 [^0-9]와 동일\n",
    "    - \\s: 공백 문자(띄어쓰기, 탭, 엔터 등)\n",
    "    - \\S: 공백이 아닌 문자\n",
    "    - \\w: 알파벳대소문자, 숫자 [0-9a-zA-Z]와 동일\n",
    "    - \\W: non alpa-numeric 문자 [^0-9a-zA-Z]와 동일\n",
    "2. 메타 캐릭터가 캐릭터 자체를 표현하도록 할 경우 사용\n",
    "    - \\\\., \\\\\\"
   ]
  },
  {
   "cell_type": "code",
   "execution_count": 52,
   "metadata": {},
   "outputs": [
    {
     "name": "stdout",
     "output_type": "stream",
     "text": [
      "None\n",
      "<re.Match object; span=(5, 9), match=' and'>\n"
     ]
    }
   ],
   "source": [
    "print(re.search(r'\\Sand','apple and banana'))\n",
    "print(re.search(r'\\sand','apple and banana'))"
   ]
  },
  {
   "cell_type": "code",
   "execution_count": 55,
   "metadata": {},
   "outputs": [
    {
     "name": "stdout",
     "output_type": "stream",
     "text": [
      "None\n",
      "<re.Match object; span=(5, 9), match=' and'>\n"
     ]
    }
   ],
   "source": [
    "print(re.search(r'\\.and','apple and banana'))\n",
    "print(re.search(r'.and','apple and banana'))"
   ]
  },
  {
   "cell_type": "markdown",
   "metadata": {},
   "source": [
    "### 반복패턴\n",
    "- 패턴 뒤에 위치하는 *, +, ?는 해당 패턴이 반복적으로 존재하는 검사\n",
    "    - '+' -> 1번 이상의 패턴이 발생\n",
    "    - '*: -> 0번 이상의 패턴이 발생\n",
    "    - '?' -> 0 혹은 1번의 패턴이 발생\n",
    "- 반복을 패턴의 경우 greedy하게 검색 함, 즉 가능한 많은 부분이 매칭되도록 함\n",
    "    - e.g) a[bcd]*b 패턴을 abcbdccb에서 검색하는 경우, 즉 (a b)사이에 b,c,d가 반복 횟수\n",
    "        - ab(0회), abcb(2회), abcbdccb(6회) 전부 가능 하지만 최대한 많은 부분이 매칭된 abcbdccb가 검색된 패턴"
   ]
  },
  {
   "cell_type": "code",
   "execution_count": 56,
   "metadata": {},
   "outputs": [
    {
     "data": {
      "text/plain": [
       "<re.Match object; span=(0, 8), match='abcbdccb'>"
      ]
     },
     "execution_count": 56,
     "metadata": {},
     "output_type": "execute_result"
    }
   ],
   "source": [
    "re.search(r'a[bcd]*b','abcbdccb')"
   ]
  },
  {
   "cell_type": "code",
   "execution_count": 57,
   "metadata": {},
   "outputs": [
    {
     "data": {
      "text/plain": [
       "<re.Match object; span=(0, 6), match='banana'>"
      ]
     },
     "execution_count": 57,
     "metadata": {},
     "output_type": "execute_result"
    }
   ],
   "source": [
    "re.search(r'b\\w+a','banana')"
   ]
  },
  {
   "cell_type": "code",
   "execution_count": 59,
   "metadata": {},
   "outputs": [
    {
     "data": {
      "text/plain": [
       "<re.Match object; span=(1, 3), match='ii'>"
      ]
     },
     "execution_count": 59,
     "metadata": {},
     "output_type": "execute_result"
    }
   ],
   "source": [
    "re.search(r'i+','piigiii') #가장 빨리 찾은거"
   ]
  },
  {
   "cell_type": "code",
   "execution_count": 64,
   "metadata": {},
   "outputs": [
    {
     "data": {
      "text/plain": [
       "<re.Match object; span=(0, 4), match='piig'>"
      ]
     },
     "execution_count": 64,
     "metadata": {},
     "output_type": "execute_result"
    }
   ],
   "source": [
    "re.search(r'pi*g','piigiii') "
   ]
  },
  {
   "cell_type": "code",
   "execution_count": 65,
   "metadata": {},
   "outputs": [
    {
     "data": {
      "text/plain": [
       "<re.Match object; span=(0, 4), match='piig'>"
      ]
     },
     "execution_count": 65,
     "metadata": {},
     "output_type": "execute_result"
    }
   ],
   "source": [
    "re.search(r'pi+g', 'piig')"
   ]
  },
  {
   "cell_type": "code",
   "execution_count": 70,
   "metadata": {},
   "outputs": [
    {
     "data": {
      "text/plain": [
       "<re.Match object; span=(0, 2), match='pg'>"
      ]
     },
     "execution_count": 70,
     "metadata": {},
     "output_type": "execute_result"
    }
   ],
   "source": [
    "re.search(r'pi*g', 'pg') #pg"
   ]
  },
  {
   "cell_type": "code",
   "execution_count": 67,
   "metadata": {},
   "outputs": [],
   "source": [
    "re.search(r'pi+g', 'pg') # None"
   ]
  },
  {
   "cell_type": "code",
   "execution_count": 72,
   "metadata": {},
   "outputs": [
    {
     "data": {
      "text/plain": [
       "<re.Match object; span=(0, 5), match='https'>"
      ]
     },
     "execution_count": 72,
     "metadata": {},
     "output_type": "execute_result"
    }
   ],
   "source": [
    "re.search(r'https?','https://www.naver.com') # s가 한번 있거나 없거나"
   ]
  },
  {
   "cell_type": "code",
   "execution_count": 73,
   "metadata": {},
   "outputs": [
    {
     "data": {
      "text/plain": [
       "<re.Match object; span=(0, 4), match='http'>"
      ]
     },
     "execution_count": 73,
     "metadata": {},
     "output_type": "execute_result"
    }
   ],
   "source": [
    "re.search(r'https?','http://www.naver.com') # s가 한번 있거나 없거나"
   ]
  },
  {
   "cell_type": "markdown",
   "metadata": {},
   "source": [
    "### ^, *, *$\n",
    "   - ()을 사용하여 그루핑\n",
    "   - 매칭 결과를 각 그룹별로 분리 가능\n",
    "   - 패턴 명시 할 떄, 각 그룹을 괄호() 안에 넣어 분리하여 사용"
   ]
  },
  {
   "cell_type": "code",
   "execution_count": 75,
   "metadata": {
    "scrolled": true
   },
   "outputs": [
    {
     "data": {
      "text/plain": [
       "<re.Match object; span=(2, 6), match='bana'>"
      ]
     },
     "execution_count": 75,
     "metadata": {},
     "output_type": "execute_result"
    }
   ],
   "source": [
    "re.search(r'b\\w+a', 'cabana') # 아무문자 하나 이상"
   ]
  },
  {
   "cell_type": "code",
   "execution_count": 76,
   "metadata": {
    "scrolled": true
   },
   "outputs": [],
   "source": [
    "re.search(r'^b\\w+a', 'cabana') # 맨 앞에서부터 일치하는지 결과 None"
   ]
  },
  {
   "cell_type": "code",
   "execution_count": 77,
   "metadata": {
    "scrolled": true
   },
   "outputs": [
    {
     "data": {
      "text/plain": [
       "<re.Match object; span=(0, 4), match='bana'>"
      ]
     },
     "execution_count": 77,
     "metadata": {},
     "output_type": "execute_result"
    }
   ],
   "source": [
    "re.search(r'^b\\w+a', 'bana') # 맨 앞에서부터 일치하는지"
   ]
  },
  {
   "cell_type": "code",
   "execution_count": 78,
   "metadata": {
    "scrolled": true
   },
   "outputs": [],
   "source": [
    "re.search(r'b\\w+a$', 'bana1') # 맨 뒤에서부터 일치하는지 결과 None"
   ]
  },
  {
   "cell_type": "code",
   "execution_count": 79,
   "metadata": {
    "scrolled": true
   },
   "outputs": [
    {
     "data": {
      "text/plain": [
       "<re.Match object; span=(3, 7), match='bana'>"
      ]
     },
     "execution_count": 79,
     "metadata": {},
     "output_type": "execute_result"
    }
   ],
   "source": [
    "re.search(r'b\\w+a$', '123bana') # 맨 뒤에서부터 일치하는지 결과 "
   ]
  },
  {
   "cell_type": "markdown",
   "metadata": {},
   "source": [
    "### grouping\n",
    "   - ()을 사용하여 그루핑\n",
    "   - 매칭 결과를 각 그룹별로 분리 가능\n",
    "   - 패턴 명시 할 때, 각 그룹을 괄호()안에 넣어 분리하여 사용"
   ]
  },
  {
   "cell_type": "code",
   "execution_count": 85,
   "metadata": {
    "scrolled": true
   },
   "outputs": [
    {
     "name": "stdout",
     "output_type": "stream",
     "text": [
      "<re.Match object; span=(0, 14), match='test@gmail.com'>\n",
      "test\n",
      "gmail.com\n",
      "test@gmail.com\n"
     ]
    }
   ],
   "source": [
    "m = re.search(r'(\\w+)@(.+)', 'test@gmail.com') \n",
    "#어떤 알파벳 하나 이상, 아무 문자 하나 이상\n",
    "print(m)\n",
    "print(m.group(1))\n",
    "print(m.group(2))\n",
    "print(m.group(0))"
   ]
  },
  {
   "cell_type": "markdown",
   "metadata": {},
   "source": [
    "### {}\n",
    "   - *, + ? 을 사용하여 반복적인 패턴을 찾는 것이 가능하나, 반복의 횟수 제한은 불가\n",
    "   - 패턴뒤에 위치하는 중괄호{}에 숫자를 명시하면 해당 숫자 만큼의 반복인 경우에만 매칭\n",
    "   - {4} - 4번 반복\n",
    "   - {3,4} - 3~4번 반복"
   ]
  },
  {
   "cell_type": "code",
   "execution_count": 93,
   "metadata": {},
   "outputs": [
    {
     "name": "stdout",
     "output_type": "stream",
     "text": [
      "<re.Match object; span=(0, 6), match='piiiig'>\n",
      "None\n",
      "<re.Match object; span=(0, 5), match='piiig'>\n",
      "None\n",
      "<re.Match object; span=(0, 7), match='piiiiig'>\n"
     ]
    }
   ],
   "source": [
    "print(re.search('pi+g','piiiig'))\n",
    "print(re.search('pi{3}g','piig'))\n",
    "print(re.search('pi{3}g','piiig')) # 3번만 반복\n",
    "print(re.search('pi{3,5}g','piiiiiiig')) \n",
    "print(re.search('pi{3,5}g','piiiiig')) # 3~5 but greedy"
   ]
  },
  {
   "cell_type": "markdown",
   "metadata": {},
   "source": [
    "### 미니멈 매칭(non-greedy way)\n",
    "   - 기본적으로 *, +, ?를 사용하면 greedy(맥시멈 매칭)하게 동작함\n",
    "   - *?, +?을 이용하여 해당 기능을 구현"
   ]
  },
  {
   "cell_type": "code",
   "execution_count": 95,
   "metadata": {
    "scrolled": true
   },
   "outputs": [
    {
     "data": {
      "text/plain": [
       "<re.Match object; span=(0, 17), match='<html>haha<\\\\html>'>"
      ]
     },
     "execution_count": 95,
     "metadata": {},
     "output_type": "execute_result"
    }
   ],
   "source": [
    "re.search(r'<.+>', '<html>haha<\\html>')"
   ]
  },
  {
   "cell_type": "code",
   "execution_count": 96,
   "metadata": {
    "scrolled": false
   },
   "outputs": [
    {
     "data": {
      "text/plain": [
       "<re.Match object; span=(0, 6), match='<html>'>"
      ]
     },
     "execution_count": 96,
     "metadata": {},
     "output_type": "execute_result"
    }
   ],
   "source": [
    "re.search(r'<.+?>', '<html>haha<\\html>')"
   ]
  },
  {
   "cell_type": "markdown",
   "metadata": {},
   "source": [
    "### {}?\n",
    "   - {m,n}의 경우 m번에서 n번 반복하나 greedy하게 동작\n",
    "   - {m,n}?로 사용하면 non-greedy하게 동작, 즉, 최소 m번만 매칭하면 만족"
   ]
  },
  {
   "cell_type": "code",
   "execution_count": 97,
   "metadata": {
    "scrolled": true
   },
   "outputs": [
    {
     "data": {
      "text/plain": [
       "<re.Match object; span=(0, 5), match='aaaaa'>"
      ]
     },
     "execution_count": 97,
     "metadata": {},
     "output_type": "execute_result"
    }
   ],
   "source": [
    "re.search(r'a{3,5}','aaaaa')"
   ]
  },
  {
   "cell_type": "code",
   "execution_count": null,
   "metadata": {},
   "outputs": [],
   "source": [
    "re.search(r'a{3,5}?','aaaaa')"
   ]
  },
  {
   "cell_type": "markdown",
   "metadata": {},
   "source": [
    "### match\n",
    "   - search와 유사하나, 주어진 문자열의 시작부터 비교하여 패턴이 있는지 확인\n",
    "   - 시작부터 해당 패턴이 존재하지 않다면 None 반환"
   ]
  },
  {
   "cell_type": "code",
   "execution_count": 100,
   "metadata": {},
   "outputs": [],
   "source": [
    "re.match(r'\\d\\d\\d', 'my number is 123') # None"
   ]
  },
  {
   "cell_type": "code",
   "execution_count": 101,
   "metadata": {
    "scrolled": true
   },
   "outputs": [
    {
     "data": {
      "text/plain": [
       "<re.Match object; span=(0, 3), match='123'>"
      ]
     },
     "execution_count": 101,
     "metadata": {},
     "output_type": "execute_result"
    }
   ],
   "source": [
    "re.match(r'\\d\\d\\d', '123 is my number') # 동일"
   ]
  },
  {
   "cell_type": "code",
   "execution_count": 102,
   "metadata": {
    "scrolled": true
   },
   "outputs": [
    {
     "data": {
      "text/plain": [
       "<re.Match object; span=(0, 3), match='123'>"
      ]
     },
     "execution_count": 102,
     "metadata": {},
     "output_type": "execute_result"
    }
   ],
   "source": [
    "re.search(r'^\\d\\d\\d', '123 is my number') #동일"
   ]
  },
  {
   "cell_type": "markdown",
   "metadata": {},
   "source": [
    "### findall\n",
    "   - search가 최초로 매칭되는 패턴만 반환한다면, findall은 매칭되는 전체의 패턴을 반환\n",
    "   - 매칭되는 모든 결과를 리스트 형태로 반환"
   ]
  },
  {
   "cell_type": "code",
   "execution_count": 106,
   "metadata": {},
   "outputs": [
    {
     "data": {
      "text/plain": [
       "['--@gmail.com', 'test2@gmail.com']"
      ]
     },
     "execution_count": 106,
     "metadata": {},
     "output_type": "execute_result"
    }
   ],
   "source": [
    "re.findall(r'[\\w-]+@[\\w.]+','--@gmail.com hoho test2@gmail.com')"
   ]
  },
  {
   "cell_type": "markdown",
   "metadata": {},
   "source": [
    "### sub\n",
    "   - 주어진 문자열에서 일치하는 모든 패턴을 replace\n",
    "   - 그 결과를 문자열로 다시 반환함\n",
    "   - 두번째 인자는 특정 문자열이 될 수 있고, 함수가 될 수 도 있음\n",
    "   - count가 0인 경우는 전체를, 1이상이면 해당 숫자만큼 치환됨"
   ]
  },
  {
   "cell_type": "code",
   "execution_count": 108,
   "metadata": {},
   "outputs": [
    {
     "data": {
      "text/plain": [
       "'great hoho test2@gmail.com'"
      ]
     },
     "execution_count": 108,
     "metadata": {},
     "output_type": "execute_result"
    }
   ],
   "source": [
    "re.sub(r'[\\w-]+@[\\w.]+','great','--@gmail.com hoho test2@gmail.com')"
   ]
  },
  {
   "cell_type": "code",
   "execution_count": 111,
   "metadata": {},
   "outputs": [
    {
     "data": {
      "text/plain": [
       "'great hoho test2@gmail.com'"
      ]
     },
     "execution_count": 111,
     "metadata": {},
     "output_type": "execute_result"
    }
   ],
   "source": [
    "re.sub(r'[\\w-]+@[\\w.]+','great','--@gmail.com hoho test2@gmail.com',count =1)"
   ]
  },
  {
   "cell_type": "markdown",
   "metadata": {},
   "source": [
    "### compile\n",
    "   - 동일한 정규표현식을 매번 다시 쓰기 번거로움을 해결\n",
    "   - compile로 해당표현식을 re.RegexObject 객체로 저장하여 사용가능"
   ]
  },
  {
   "cell_type": "code",
   "execution_count": 114,
   "metadata": {},
   "outputs": [
    {
     "data": {
      "text/plain": [
       "['test@gmail.com']"
      ]
     },
     "execution_count": 114,
     "metadata": {},
     "output_type": "execute_result"
    }
   ],
   "source": [
    "email_reg = re.compile(r'[\\w-]+@[\\w.]+')\n",
    "email_reg.search('test@gmail.com')\n",
    "email_reg.findall('test@gmail.com')"
   ]
  },
  {
   "cell_type": "markdown",
   "metadata": {},
   "source": [
    "## 연습문제\n",
    "   - 아래 뉴스에서 이메일 주소를 추출해 보세요\n",
    "   - 다음중 올바른 (http, https) 웹페이지만 찾으시오"
   ]
  },
  {
   "cell_type": "code",
   "execution_count": 141,
   "metadata": {},
   "outputs": [
    {
     "name": "stdout",
     "output_type": "stream",
     "text": [
      "(로스앤젤레스=연합뉴스) 옥철 특파원 = 팀 쿡 애플 최고경영자(CEO)가 16일(현지시간) 실리콘밸리 앞마당 격인 미국 서부 명문 스탠퍼드대학 학위수여식에서 테크기업들을 향해 쓴소리를 쏟아냈다.쿡은 이날 연설에서 실리콘밸리 테크기업들은 자신들이 만든 혼란에 대한 책임을 질 필요가 있다고 경고했다.근래 IT 업계의 가장 큰 이슈인 개인정보 침해, 사생활 보호 문제를 콕 집어 라이벌인 구글, 페이스북 등 IT 공룡을 겨냥한 발언이라는 해석이 나왔다.쿡은 \"최근 실리콘밸리 산업은 고귀한 혁신과는 점점 더 거리가 멀어지는 것으로 알려져 있다. 책임을 받아들이지 않고도 신뢰를 얻을 수 있다는 그런 믿음 말이다\"라고 꼬집었다.개인정보 유출 사건으로 미 의회 청문회에 줄줄이 불려 나간 경쟁사 CEO들을 향해 일침을 가한 것으로 보인다.그는 또 실리콘밸리에서 희대의 사기극을 연출한 바이오벤처 스타트업 테라노스(Theranos)를 직격했다.쿡은 \"피 한 방울로 거짓된 기적을 만들 수 있다고 믿었느냐\"면서 \"이런 식으로 혼돈의 공장을 만든다면 그 책임에서 절대 벗어날 수 없다\"라고 비난했다.테라노스는 손가락 끝을 찔러 극미량의 혈액 샘플만 있으면 각종 의학정보 분석은 물론 거의 모든 질병 진단이 가능한 바이오헬스 기술을 개발했다고 속여 월가 큰손들로부터 거액의 투자를 유치했다가 해당 기술이 사기인 것으로 드러나 청산한 기업이다.쿡은 애플의 경우 프라이버시(사생활) 보호에 초점을 맞춘 새로운 제품 기능들로 경쟁사들에 맞서고 있다며 자사의 데이터 보호 정책을 은근히 홍보하기도 했다.oakchul@yna.co.kr\n",
      "<re.Match object; span=(774, 791), match='oakchul@yna.co.kr'>\n"
     ]
    }
   ],
   "source": [
    "import requests\n",
    "import re\n",
    "from bs4 import BeautifulSoup\n",
    "# 위의 두 모듈이 없는 경우에는 pip install requests bs4 실행\n",
    "def getNewsContent(url):\n",
    "    response = requests.get(url)\n",
    "    content = response.text\n",
    "    \n",
    "    soup = BeautifulSoup(content, 'html5lib')\n",
    "    \n",
    "    div = soup.find('div', attrs = {'id' : 'harmonyContainer'})\n",
    "    \n",
    "    content = ''\n",
    "    \n",
    "    for paragraph in div.find_all('p'):\n",
    "        content += paragraph.get_text()\n",
    "    return content\n",
    "\n",
    "news = getNewsContent('https://news.v.daum.net/v/20190617073049838')\n",
    "print(news)\n",
    "m = re.search('[\\w]+@[\\w.]+\\w',news)\n",
    "print(m)"
   ]
  },
  {
   "cell_type": "code",
   "execution_count": 148,
   "metadata": {},
   "outputs": [
    {
     "name": "stdout",
     "output_type": "stream",
     "text": [
      "['http://www.test.com', 'https://www.test.com', 'http://www.test.co.kr', 'http://www.google.com']\n",
      "[True, True, True, False, False, False, True, False]\n"
     ]
    }
   ],
   "source": [
    "webs = ['http://www.test.com',\n",
    "        'https://www.test.com',\n",
    "        'http://www.test.co.kr',\n",
    "        'ftp://www.test.com',\n",
    "        'http:://www.test.com',\n",
    "        'htp://www.test.com',\n",
    "        'http://www.google.com',\n",
    "        'https://www.homepage.com.']\n",
    "correctUrl =[]\n",
    "for url in webs:\n",
    "    m = re.search(r'https?://[\\w.]+\\w+$', url) # 맨 마지막부터 일치\n",
    "    if(m != None):\n",
    "        correctUrl.append(m.group())\n",
    "print(correctUrl)\n",
    "\n",
    "print(list(map(lambda url:re.search(r'https?://[\\w.]+\\w+$', url)!=None,webs)))"
   ]
  }
 ],
 "metadata": {
  "kernelspec": {
   "display_name": "Python 3",
   "language": "python",
   "name": "python3"
  },
  "language_info": {
   "codemirror_mode": {
    "name": "ipython",
    "version": 3
   },
   "file_extension": ".py",
   "mimetype": "text/x-python",
   "name": "python",
   "nbconvert_exporter": "python",
   "pygments_lexer": "ipython3",
   "version": "3.7.4"
  }
 },
 "nbformat": 4,
 "nbformat_minor": 2
}
